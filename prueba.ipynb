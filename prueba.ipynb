{
 "cells": [
  {
   "cell_type": "markdown",
   "id": "dd0bad8c",
   "metadata": {},
   "source": [
    "# Prueba Tecnica\n",
    "\n",
    "    Para poder realizar cada uno de los numerales deberas buscar una relacion entre las 2 tablas para consolidarlas en una sola. Posterior a esto podras empezar con la solucion de los puntos\n",
    "\n",
    "    Nota:  \n",
    "    - El punto A y B los debes solucionar tanto en Sql como python. El punto C lo podras realizar con el lenguaje de tu preferencia\n",
    "    - para obtener las bases de datos solo deberas ejecutar el bloque de codigo llamado 'DATA' en caso de un error puedes pedir ayuda"
   ]
  },
  {
   "cell_type": "code",
   "execution_count": 1,
   "id": "2cb9c0db-9a0d-4c58-8e40-f50831995f24",
   "metadata": {},
   "outputs": [],
   "source": [
    "import pandas as pd\n",
    "import numpy as np\n",
    "from os import path\n",
    "import pandasql as ps\n",
    "import seaborn as sns\n",
    "import matplotlib.pyplot as plt\n",
    "import empiricaldist\n",
    "import janitor\n",
    "import scipy.stats\n",
    "import seaborn as sns\n",
    "import sklearn.metrics\n",
    "import statsmodels.api as sm\n",
    "import statsmodels.formula.api as smf\n",
    "import statsmodels.stats as ss\n",
    "import session_info"
   ]
  },
  {
   "cell_type": "markdown",
   "id": "6d171056",
   "metadata": {},
   "source": [
    "# Data"
   ]
  },
  {
   "cell_type": "code",
   "execution_count": 2,
   "id": "4c83a4a1",
   "metadata": {},
   "outputs": [],
   "source": [
    "\n",
    "'''\n",
    "    Barrios: Información de los barrios (nombre y código)\n",
    "    clientes: Información transaccional del cliente \n",
    "    \n",
    "'''\n",
    "\n",
    "df_barrios = pd.read_csv(path.join('Bases_insumo','barrios.csv'))\n",
    "df_clientes = pd.read_csv(path.join('Bases_insumo','clientes.csv'))\n",
    "df_dispositivos = pd.read_csv(path.join('Bases_insumo','dispositivos.csv'))\n",
    "df_dispositivos.rename({'codigo':'cod_dispositivo'}, axis = 1, inplace= True)\n",
    "\n",
    "df_join = df_barrios.merge(df_dispositivos, left_on ='codigo', \n",
    "                          right_on = 'id_barrio', how = 'inner').merge(df_clientes, on = 'cod_dispositivo', how = 'inner')\n"
   ]
  },
  {
   "cell_type": "code",
   "execution_count": 3,
   "id": "474cfea8",
   "metadata": {},
   "outputs": [
    {
     "data": {
      "text/html": [
       "<div>\n",
       "<style scoped>\n",
       "    .dataframe tbody tr th:only-of-type {\n",
       "        vertical-align: middle;\n",
       "    }\n",
       "\n",
       "    .dataframe tbody tr th {\n",
       "        vertical-align: top;\n",
       "    }\n",
       "\n",
       "    .dataframe thead th {\n",
       "        text-align: right;\n",
       "    }\n",
       "</style>\n",
       "<table border=\"1\" class=\"dataframe\">\n",
       "  <thead>\n",
       "    <tr style=\"text-align: right;\">\n",
       "      <th></th>\n",
       "      <th>codigo</th>\n",
       "      <th>nombre</th>\n",
       "      <th>tipo</th>\n",
       "      <th>cod_dispositivo</th>\n",
       "      <th>latitud</th>\n",
       "      <th>longitud</th>\n",
       "      <th>id_barrio</th>\n",
       "      <th>num_doc</th>\n",
       "      <th>tipo_doc</th>\n",
       "      <th>canal</th>\n",
       "      <th>num_trx</th>\n",
       "      <th>mnt_total_trx</th>\n",
       "    </tr>\n",
       "  </thead>\n",
       "  <tbody>\n",
       "    <tr>\n",
       "      <th>0</th>\n",
       "      <td>737998257</td>\n",
       "      <td>La Campina</td>\n",
       "      <td>POS</td>\n",
       "      <td>12202503</td>\n",
       "      <td>3.479572</td>\n",
       "      <td>-76.525582</td>\n",
       "      <td>737998257</td>\n",
       "      <td>-2393994463924208659</td>\n",
       "      <td>1</td>\n",
       "      <td>POS</td>\n",
       "      <td>2</td>\n",
       "      <td>12202503.0</td>\n",
       "    </tr>\n",
       "    <tr>\n",
       "      <th>1</th>\n",
       "      <td>737998257</td>\n",
       "      <td>La Campina</td>\n",
       "      <td>POS</td>\n",
       "      <td>10521045</td>\n",
       "      <td>3.480517</td>\n",
       "      <td>-76.525275</td>\n",
       "      <td>737998257</td>\n",
       "      <td>-5675531380015678594</td>\n",
       "      <td>1</td>\n",
       "      <td>POS</td>\n",
       "      <td>1</td>\n",
       "      <td>5260522.5</td>\n",
       "    </tr>\n",
       "    <tr>\n",
       "      <th>2</th>\n",
       "      <td>737998257</td>\n",
       "      <td>La Campina</td>\n",
       "      <td>POS</td>\n",
       "      <td>10521045</td>\n",
       "      <td>3.480517</td>\n",
       "      <td>-76.525275</td>\n",
       "      <td>737998257</td>\n",
       "      <td>-5066077049535851626</td>\n",
       "      <td>1</td>\n",
       "      <td>POS</td>\n",
       "      <td>1</td>\n",
       "      <td>5260522.5</td>\n",
       "    </tr>\n",
       "    <tr>\n",
       "      <th>3</th>\n",
       "      <td>737998257</td>\n",
       "      <td>La Campina</td>\n",
       "      <td>POS</td>\n",
       "      <td>13238282</td>\n",
       "      <td>3.479491</td>\n",
       "      <td>-76.525818</td>\n",
       "      <td>737998257</td>\n",
       "      <td>-5791329717693361241</td>\n",
       "      <td>1</td>\n",
       "      <td>POS</td>\n",
       "      <td>1</td>\n",
       "      <td>6619141.0</td>\n",
       "    </tr>\n",
       "    <tr>\n",
       "      <th>4</th>\n",
       "      <td>737998257</td>\n",
       "      <td>La Campina</td>\n",
       "      <td>POS</td>\n",
       "      <td>12567517</td>\n",
       "      <td>3.480958</td>\n",
       "      <td>-76.525153</td>\n",
       "      <td>737998257</td>\n",
       "      <td>-397966594878551344</td>\n",
       "      <td>1</td>\n",
       "      <td>POS</td>\n",
       "      <td>1</td>\n",
       "      <td>6283758.5</td>\n",
       "    </tr>\n",
       "  </tbody>\n",
       "</table>\n",
       "</div>"
      ],
      "text/plain": [
       "      codigo      nombre tipo  cod_dispositivo   latitud   longitud  \\\n",
       "0  737998257  La Campina  POS         12202503  3.479572 -76.525582   \n",
       "1  737998257  La Campina  POS         10521045  3.480517 -76.525275   \n",
       "2  737998257  La Campina  POS         10521045  3.480517 -76.525275   \n",
       "3  737998257  La Campina  POS         13238282  3.479491 -76.525818   \n",
       "4  737998257  La Campina  POS         12567517  3.480958 -76.525153   \n",
       "\n",
       "   id_barrio              num_doc  tipo_doc canal  num_trx  mnt_total_trx  \n",
       "0  737998257 -2393994463924208659         1   POS        2     12202503.0  \n",
       "1  737998257 -5675531380015678594         1   POS        1      5260522.5  \n",
       "2  737998257 -5066077049535851626         1   POS        1      5260522.5  \n",
       "3  737998257 -5791329717693361241         1   POS        1      6619141.0  \n",
       "4  737998257  -397966594878551344         1   POS        1      6283758.5  "
      ]
     },
     "execution_count": 3,
     "metadata": {},
     "output_type": "execute_result"
    }
   ],
   "source": [
    "df_join.head()"
   ]
  },
  {
   "cell_type": "markdown",
   "id": "49913285",
   "metadata": {},
   "source": [
    "# Punto a\n",
    "\n",
    "* Generar el listado de clientes con transacciones en 5 o más barrios."
   ]
  },
  {
   "cell_type": "code",
   "execution_count": 4,
   "id": "6da33fbc-d7b9-4176-a632-9dab797dd017",
   "metadata": {},
   "outputs": [],
   "source": [
    "#Solución en sql\n",
    "\n",
    "query = '''\n",
    "    SELECT DISTINCT num_doc, sum(num_trx) as cant_transacciones, count(DISTINCT(id_barrio)) as cant_barrios\n",
    "    FROM df_join\n",
    "    GROUP BY num_doc\n",
    "    HAVING cant_barrios > 5\n",
    "    ORDER BY cant_barrios DESC;\n",
    "'''"
   ]
  },
  {
   "cell_type": "code",
   "execution_count": 5,
   "id": "737d8cea-0f64-4f80-a2fc-79339456273c",
   "metadata": {},
   "outputs": [
    {
     "data": {
      "text/html": [
       "<div>\n",
       "<style scoped>\n",
       "    .dataframe tbody tr th:only-of-type {\n",
       "        vertical-align: middle;\n",
       "    }\n",
       "\n",
       "    .dataframe tbody tr th {\n",
       "        vertical-align: top;\n",
       "    }\n",
       "\n",
       "    .dataframe thead th {\n",
       "        text-align: right;\n",
       "    }\n",
       "</style>\n",
       "<table border=\"1\" class=\"dataframe\">\n",
       "  <thead>\n",
       "    <tr style=\"text-align: right;\">\n",
       "      <th></th>\n",
       "      <th>num_doc</th>\n",
       "      <th>cant_transacciones</th>\n",
       "      <th>cant_barrios</th>\n",
       "    </tr>\n",
       "  </thead>\n",
       "  <tbody>\n",
       "    <tr>\n",
       "      <th>0</th>\n",
       "      <td>-6943732889918790302</td>\n",
       "      <td>546</td>\n",
       "      <td>83</td>\n",
       "    </tr>\n",
       "    <tr>\n",
       "      <th>1</th>\n",
       "      <td>-6318594648243260200</td>\n",
       "      <td>307</td>\n",
       "      <td>77</td>\n",
       "    </tr>\n",
       "    <tr>\n",
       "      <th>2</th>\n",
       "      <td>3949050160426632961</td>\n",
       "      <td>393</td>\n",
       "      <td>75</td>\n",
       "    </tr>\n",
       "    <tr>\n",
       "      <th>3</th>\n",
       "      <td>956540030589798895</td>\n",
       "      <td>311</td>\n",
       "      <td>74</td>\n",
       "    </tr>\n",
       "    <tr>\n",
       "      <th>4</th>\n",
       "      <td>3785376175516210347</td>\n",
       "      <td>372</td>\n",
       "      <td>63</td>\n",
       "    </tr>\n",
       "    <tr>\n",
       "      <th>...</th>\n",
       "      <td>...</td>\n",
       "      <td>...</td>\n",
       "      <td>...</td>\n",
       "    </tr>\n",
       "    <tr>\n",
       "      <th>2995</th>\n",
       "      <td>-8970554719011755860</td>\n",
       "      <td>59</td>\n",
       "      <td>6</td>\n",
       "    </tr>\n",
       "    <tr>\n",
       "      <th>2996</th>\n",
       "      <td>-9016704368719499354</td>\n",
       "      <td>8</td>\n",
       "      <td>6</td>\n",
       "    </tr>\n",
       "    <tr>\n",
       "      <th>2997</th>\n",
       "      <td>-9044712566978972844</td>\n",
       "      <td>75</td>\n",
       "      <td>6</td>\n",
       "    </tr>\n",
       "    <tr>\n",
       "      <th>2998</th>\n",
       "      <td>-9099385232054024088</td>\n",
       "      <td>27</td>\n",
       "      <td>6</td>\n",
       "    </tr>\n",
       "    <tr>\n",
       "      <th>2999</th>\n",
       "      <td>-9202442483227019464</td>\n",
       "      <td>8</td>\n",
       "      <td>6</td>\n",
       "    </tr>\n",
       "  </tbody>\n",
       "</table>\n",
       "<p>3000 rows × 3 columns</p>\n",
       "</div>"
      ],
      "text/plain": [
       "                  num_doc  cant_transacciones  cant_barrios\n",
       "0    -6943732889918790302                 546            83\n",
       "1    -6318594648243260200                 307            77\n",
       "2     3949050160426632961                 393            75\n",
       "3      956540030589798895                 311            74\n",
       "4     3785376175516210347                 372            63\n",
       "...                   ...                 ...           ...\n",
       "2995 -8970554719011755860                  59             6\n",
       "2996 -9016704368719499354                   8             6\n",
       "2997 -9044712566978972844                  75             6\n",
       "2998 -9099385232054024088                  27             6\n",
       "2999 -9202442483227019464                   8             6\n",
       "\n",
       "[3000 rows x 3 columns]"
      ]
     },
     "execution_count": 5,
     "metadata": {},
     "output_type": "execute_result"
    }
   ],
   "source": [
    "ps.sqldf(query, locals())"
   ]
  },
  {
   "cell_type": "code",
   "execution_count": 6,
   "id": "ea26f8a8-2a41-45d9-998b-82adbcab403b",
   "metadata": {},
   "outputs": [],
   "source": [
    "query_nombre_barrios = '''\n",
    "    SELECT DISTINCT nombre\n",
    "    FROM df_join\n",
    "'''"
   ]
  },
  {
   "cell_type": "code",
   "execution_count": 7,
   "id": "2df48c2d-e634-4233-981f-e64205ca4db0",
   "metadata": {},
   "outputs": [
    {
     "data": {
      "text/html": [
       "<div>\n",
       "<style scoped>\n",
       "    .dataframe tbody tr th:only-of-type {\n",
       "        vertical-align: middle;\n",
       "    }\n",
       "\n",
       "    .dataframe tbody tr th {\n",
       "        vertical-align: top;\n",
       "    }\n",
       "\n",
       "    .dataframe thead th {\n",
       "        text-align: right;\n",
       "    }\n",
       "</style>\n",
       "<table border=\"1\" class=\"dataframe\">\n",
       "  <thead>\n",
       "    <tr style=\"text-align: right;\">\n",
       "      <th></th>\n",
       "      <th>nombre</th>\n",
       "    </tr>\n",
       "    <tr>\n",
       "      <th>num_doc</th>\n",
       "      <th></th>\n",
       "    </tr>\n",
       "  </thead>\n",
       "  <tbody>\n",
       "    <tr>\n",
       "      <th>-9218698523982046880</th>\n",
       "      <td>8</td>\n",
       "    </tr>\n",
       "    <tr>\n",
       "      <th>-9210147727599394517</th>\n",
       "      <td>7</td>\n",
       "    </tr>\n",
       "    <tr>\n",
       "      <th>-9202442483227019464</th>\n",
       "      <td>6</td>\n",
       "    </tr>\n",
       "    <tr>\n",
       "      <th>-9202223027335988936</th>\n",
       "      <td>7</td>\n",
       "    </tr>\n",
       "    <tr>\n",
       "      <th>-9186693395875698210</th>\n",
       "      <td>18</td>\n",
       "    </tr>\n",
       "  </tbody>\n",
       "</table>\n",
       "</div>"
      ],
      "text/plain": [
       "                      nombre\n",
       "num_doc                     \n",
       "-9218698523982046880       8\n",
       "-9210147727599394517       7\n",
       "-9202442483227019464       6\n",
       "-9202223027335988936       7\n",
       "-9186693395875698210      18"
      ]
     },
     "execution_count": 7,
     "metadata": {},
     "output_type": "execute_result"
    }
   ],
   "source": [
    "conteo = df_join.groupby('num_doc')['nombre'].nunique()\n",
    "conteo\n",
    "\n",
    "docs_usuarios_5barrios = pd.DataFrame(conteo[conteo > 5])\n",
    "\n",
    "docs_usuarios_5barrios.head()"
   ]
  },
  {
   "cell_type": "code",
   "execution_count": 8,
   "id": "af42cbc8-7119-470f-ad81-ef976bb8ab5b",
   "metadata": {},
   "outputs": [],
   "source": [
    "#Mejorando Query en Pandas - post-Prueba presencial\n",
    "\n",
    "#df_join.groupby(['num_doc', 'nombre'])['num_trx'].count().to_frame()\n",
    "\n",
    "#df_join.groupby(['num_doc', 'nombre'])['num_trx'].aggregate(['count', 'sum'])"
   ]
  },
  {
   "cell_type": "code",
   "execution_count": 9,
   "id": "e8cd3555-2edc-4980-be8a-b2539554aae0",
   "metadata": {},
   "outputs": [
    {
     "data": {
      "text/plain": [
       "Index(['codigo', 'nombre', 'tipo', 'cod_dispositivo', 'latitud', 'longitud',\n",
       "       'id_barrio', 'num_doc', 'tipo_doc', 'canal', 'num_trx',\n",
       "       'mnt_total_trx'],\n",
       "      dtype='object')"
      ]
     },
     "execution_count": 9,
     "metadata": {},
     "output_type": "execute_result"
    }
   ],
   "source": [
    "df_join.columns"
   ]
  },
  {
   "cell_type": "code",
   "execution_count": 10,
   "id": "bb2a3a05-1073-4d5b-9002-d8854c0ef999",
   "metadata": {},
   "outputs": [],
   "source": [
    "#Solución en pandas\n",
    "\n"
   ]
  },
  {
   "cell_type": "markdown",
   "id": "6107818a",
   "metadata": {},
   "source": [
    "# Punto b\n",
    "\n",
    "* ¿Cuáles son los 6 barrios donde la mayor cantidad de clientes únicos realizan transacciones en\n",
    "dispositivos tipo PAC? La respuesta debe incluir la cantidad de clientes únicos asociados a estos\n",
    "barrios.\n"
   ]
  },
  {
   "cell_type": "code",
   "execution_count": 11,
   "id": "0fe577ec-36e6-4ff2-b70a-c744d70b6f0b",
   "metadata": {},
   "outputs": [],
   "source": [
    "query_3 = '''\n",
    "    SELECT nombre, count(distinct(num_doc)) as clientes_unicos\n",
    "    FROM df_join\n",
    "    GROUP BY nombre\n",
    "    ORDER BY clientes_unicos DESC\n",
    "    LIMIT 6;\n",
    "'''"
   ]
  },
  {
   "cell_type": "code",
   "execution_count": 12,
   "id": "beff2d6f-14c7-46b7-bd57-8a0fa558543f",
   "metadata": {},
   "outputs": [
    {
     "data": {
      "text/html": [
       "<div>\n",
       "<style scoped>\n",
       "    .dataframe tbody tr th:only-of-type {\n",
       "        vertical-align: middle;\n",
       "    }\n",
       "\n",
       "    .dataframe tbody tr th {\n",
       "        vertical-align: top;\n",
       "    }\n",
       "\n",
       "    .dataframe thead th {\n",
       "        text-align: right;\n",
       "    }\n",
       "</style>\n",
       "<table border=\"1\" class=\"dataframe\">\n",
       "  <thead>\n",
       "    <tr style=\"text-align: right;\">\n",
       "      <th></th>\n",
       "      <th>nombre</th>\n",
       "      <th>clientes_unicos</th>\n",
       "    </tr>\n",
       "  </thead>\n",
       "  <tbody>\n",
       "    <tr>\n",
       "      <th>0</th>\n",
       "      <td>San Pedro</td>\n",
       "      <td>2516</td>\n",
       "    </tr>\n",
       "    <tr>\n",
       "      <th>1</th>\n",
       "      <td>San Vicente</td>\n",
       "      <td>1888</td>\n",
       "    </tr>\n",
       "    <tr>\n",
       "      <th>2</th>\n",
       "      <td>Urbanización San Juaquín</td>\n",
       "      <td>1756</td>\n",
       "    </tr>\n",
       "    <tr>\n",
       "      <th>3</th>\n",
       "      <td>Santa Mónica Residencial</td>\n",
       "      <td>1561</td>\n",
       "    </tr>\n",
       "    <tr>\n",
       "      <th>4</th>\n",
       "      <td>Chipichape</td>\n",
       "      <td>1555</td>\n",
       "    </tr>\n",
       "    <tr>\n",
       "      <th>5</th>\n",
       "      <td>Unidad Residencial Santiago de Cali</td>\n",
       "      <td>1547</td>\n",
       "    </tr>\n",
       "  </tbody>\n",
       "</table>\n",
       "</div>"
      ],
      "text/plain": [
       "                                nombre  clientes_unicos\n",
       "0                            San Pedro             2516\n",
       "1                          San Vicente             1888\n",
       "2             Urbanización San Juaquín             1756\n",
       "3             Santa Mónica Residencial             1561\n",
       "4                           Chipichape             1555\n",
       "5  Unidad Residencial Santiago de Cali             1547"
      ]
     },
     "execution_count": 12,
     "metadata": {},
     "output_type": "execute_result"
    }
   ],
   "source": [
    "ps.sqldf(query_3, locals())"
   ]
  },
  {
   "cell_type": "code",
   "execution_count": 13,
   "id": "0527c341-8c8e-41e1-94f7-5f17924ab081",
   "metadata": {},
   "outputs": [
    {
     "data": {
      "text/html": [
       "<div>\n",
       "<style scoped>\n",
       "    .dataframe tbody tr th:only-of-type {\n",
       "        vertical-align: middle;\n",
       "    }\n",
       "\n",
       "    .dataframe tbody tr th {\n",
       "        vertical-align: top;\n",
       "    }\n",
       "\n",
       "    .dataframe thead th {\n",
       "        text-align: right;\n",
       "    }\n",
       "</style>\n",
       "<table border=\"1\" class=\"dataframe\">\n",
       "  <thead>\n",
       "    <tr style=\"text-align: right;\">\n",
       "      <th></th>\n",
       "      <th>num_doc</th>\n",
       "    </tr>\n",
       "    <tr>\n",
       "      <th>nombre</th>\n",
       "      <th></th>\n",
       "    </tr>\n",
       "  </thead>\n",
       "  <tbody>\n",
       "    <tr>\n",
       "      <th>San Pedro</th>\n",
       "      <td>2516</td>\n",
       "    </tr>\n",
       "    <tr>\n",
       "      <th>San Vicente</th>\n",
       "      <td>1888</td>\n",
       "    </tr>\n",
       "    <tr>\n",
       "      <th>Urbanización San Juaquín</th>\n",
       "      <td>1756</td>\n",
       "    </tr>\n",
       "    <tr>\n",
       "      <th>Santa Mónica Residencial</th>\n",
       "      <td>1561</td>\n",
       "    </tr>\n",
       "    <tr>\n",
       "      <th>Chipichape</th>\n",
       "      <td>1555</td>\n",
       "    </tr>\n",
       "    <tr>\n",
       "      <th>...</th>\n",
       "      <td>...</td>\n",
       "    </tr>\n",
       "    <tr>\n",
       "      <th>El Dorado</th>\n",
       "      <td>6</td>\n",
       "    </tr>\n",
       "    <tr>\n",
       "      <th>Unidad Residencial Bueno Madrid</th>\n",
       "      <td>6</td>\n",
       "    </tr>\n",
       "    <tr>\n",
       "      <th>Alto de los Chorros</th>\n",
       "      <td>6</td>\n",
       "    </tr>\n",
       "    <tr>\n",
       "      <th>Arboledas</th>\n",
       "      <td>6</td>\n",
       "    </tr>\n",
       "    <tr>\n",
       "      <th>12 de Octubre</th>\n",
       "      <td>6</td>\n",
       "    </tr>\n",
       "  </tbody>\n",
       "</table>\n",
       "<p>231 rows × 1 columns</p>\n",
       "</div>"
      ],
      "text/plain": [
       "                                 num_doc\n",
       "nombre                                  \n",
       "San Pedro                           2516\n",
       "San Vicente                         1888\n",
       "Urbanización San Juaquín            1756\n",
       "Santa Mónica Residencial            1561\n",
       "Chipichape                          1555\n",
       "...                                  ...\n",
       "El Dorado                              6\n",
       "Unidad Residencial Bueno Madrid        6\n",
       "Alto de los Chorros                    6\n",
       "Arboledas                              6\n",
       "12 de Octubre                          6\n",
       "\n",
       "[231 rows x 1 columns]"
      ]
     },
     "execution_count": 13,
     "metadata": {},
     "output_type": "execute_result"
    }
   ],
   "source": [
    "cant_clientes_barrios = df_join.groupby('nombre')['num_doc'].nunique()\n",
    "df_cant_clientes_barrios = pd.DataFrame(cant_clientes_barrios)\n",
    "cond = df_cant_clientes_barrios.loc[:,'num_doc'] > 5\n",
    "df_cant_clientes_barrios.loc[cond, :].sort_values(by = 'num_doc', ascending = False)"
   ]
  },
  {
   "cell_type": "markdown",
   "id": "80ddf155",
   "metadata": {},
   "source": [
    "# Punto c\n",
    "\n",
    "Realizar analisis exploratorio de los datos y conclusiones. \n",
    "\n",
    "NOTA: Se debe agregar la documentación y trazabilidad del proceso realizado (Codigos y gráficas con las que se hicieron los análisis)"
   ]
  },
  {
   "cell_type": "markdown",
   "id": "9991438f-2ff6-4ff2-af84-b309b9218210",
   "metadata": {},
   "source": [
    "# **Análisis Exploratorio**"
   ]
  },
  {
   "cell_type": "markdown",
   "id": "6de0cf55-7421-4410-ba94-b67c6448773b",
   "metadata": {},
   "source": [
    "## **1. Preprocesamiento de Datos**"
   ]
  },
  {
   "cell_type": "markdown",
   "id": "5e46d4d7-8e90-438d-97dc-31c564b1f3b4",
   "metadata": {},
   "source": [
    "Conociendo el conjunto de datos:"
   ]
  },
  {
   "cell_type": "code",
   "execution_count": 14,
   "id": "19dacce8-452b-4a08-9c6e-83cb3950ab6f",
   "metadata": {},
   "outputs": [
    {
     "data": {
      "text/html": [
       "<div>\n",
       "<style scoped>\n",
       "    .dataframe tbody tr th:only-of-type {\n",
       "        vertical-align: middle;\n",
       "    }\n",
       "\n",
       "    .dataframe tbody tr th {\n",
       "        vertical-align: top;\n",
       "    }\n",
       "\n",
       "    .dataframe thead th {\n",
       "        text-align: right;\n",
       "    }\n",
       "</style>\n",
       "<table border=\"1\" class=\"dataframe\">\n",
       "  <thead>\n",
       "    <tr style=\"text-align: right;\">\n",
       "      <th></th>\n",
       "      <th>codigo</th>\n",
       "      <th>nombre</th>\n",
       "      <th>tipo</th>\n",
       "      <th>cod_dispositivo</th>\n",
       "      <th>latitud</th>\n",
       "      <th>longitud</th>\n",
       "      <th>id_barrio</th>\n",
       "      <th>num_doc</th>\n",
       "      <th>tipo_doc</th>\n",
       "      <th>canal</th>\n",
       "      <th>num_trx</th>\n",
       "      <th>mnt_total_trx</th>\n",
       "    </tr>\n",
       "  </thead>\n",
       "  <tbody>\n",
       "    <tr>\n",
       "      <th>0</th>\n",
       "      <td>737998257</td>\n",
       "      <td>La Campina</td>\n",
       "      <td>POS</td>\n",
       "      <td>12202503</td>\n",
       "      <td>3.479572</td>\n",
       "      <td>-76.525582</td>\n",
       "      <td>737998257</td>\n",
       "      <td>-2393994463924208659</td>\n",
       "      <td>1</td>\n",
       "      <td>POS</td>\n",
       "      <td>2</td>\n",
       "      <td>12202503.0</td>\n",
       "    </tr>\n",
       "    <tr>\n",
       "      <th>1</th>\n",
       "      <td>737998257</td>\n",
       "      <td>La Campina</td>\n",
       "      <td>POS</td>\n",
       "      <td>10521045</td>\n",
       "      <td>3.480517</td>\n",
       "      <td>-76.525275</td>\n",
       "      <td>737998257</td>\n",
       "      <td>-5675531380015678594</td>\n",
       "      <td>1</td>\n",
       "      <td>POS</td>\n",
       "      <td>1</td>\n",
       "      <td>5260522.5</td>\n",
       "    </tr>\n",
       "    <tr>\n",
       "      <th>2</th>\n",
       "      <td>737998257</td>\n",
       "      <td>La Campina</td>\n",
       "      <td>POS</td>\n",
       "      <td>10521045</td>\n",
       "      <td>3.480517</td>\n",
       "      <td>-76.525275</td>\n",
       "      <td>737998257</td>\n",
       "      <td>-5066077049535851626</td>\n",
       "      <td>1</td>\n",
       "      <td>POS</td>\n",
       "      <td>1</td>\n",
       "      <td>5260522.5</td>\n",
       "    </tr>\n",
       "    <tr>\n",
       "      <th>3</th>\n",
       "      <td>737998257</td>\n",
       "      <td>La Campina</td>\n",
       "      <td>POS</td>\n",
       "      <td>13238282</td>\n",
       "      <td>3.479491</td>\n",
       "      <td>-76.525818</td>\n",
       "      <td>737998257</td>\n",
       "      <td>-5791329717693361241</td>\n",
       "      <td>1</td>\n",
       "      <td>POS</td>\n",
       "      <td>1</td>\n",
       "      <td>6619141.0</td>\n",
       "    </tr>\n",
       "    <tr>\n",
       "      <th>4</th>\n",
       "      <td>737998257</td>\n",
       "      <td>La Campina</td>\n",
       "      <td>POS</td>\n",
       "      <td>12567517</td>\n",
       "      <td>3.480958</td>\n",
       "      <td>-76.525153</td>\n",
       "      <td>737998257</td>\n",
       "      <td>-397966594878551344</td>\n",
       "      <td>1</td>\n",
       "      <td>POS</td>\n",
       "      <td>1</td>\n",
       "      <td>6283758.5</td>\n",
       "    </tr>\n",
       "  </tbody>\n",
       "</table>\n",
       "</div>"
      ],
      "text/plain": [
       "      codigo      nombre tipo  cod_dispositivo   latitud   longitud  \\\n",
       "0  737998257  La Campina  POS         12202503  3.479572 -76.525582   \n",
       "1  737998257  La Campina  POS         10521045  3.480517 -76.525275   \n",
       "2  737998257  La Campina  POS         10521045  3.480517 -76.525275   \n",
       "3  737998257  La Campina  POS         13238282  3.479491 -76.525818   \n",
       "4  737998257  La Campina  POS         12567517  3.480958 -76.525153   \n",
       "\n",
       "   id_barrio              num_doc  tipo_doc canal  num_trx  mnt_total_trx  \n",
       "0  737998257 -2393994463924208659         1   POS        2     12202503.0  \n",
       "1  737998257 -5675531380015678594         1   POS        1      5260522.5  \n",
       "2  737998257 -5066077049535851626         1   POS        1      5260522.5  \n",
       "3  737998257 -5791329717693361241         1   POS        1      6619141.0  \n",
       "4  737998257  -397966594878551344         1   POS        1      6283758.5  "
      ]
     },
     "execution_count": 14,
     "metadata": {},
     "output_type": "execute_result"
    }
   ],
   "source": [
    "df_join.head()"
   ]
  },
  {
   "cell_type": "code",
   "execution_count": 15,
   "id": "003dfa69-b00d-4fb5-97d6-f2f51da0d712",
   "metadata": {},
   "outputs": [
    {
     "data": {
      "text/plain": [
       "codigo               int64\n",
       "nombre              object\n",
       "tipo                object\n",
       "cod_dispositivo      int64\n",
       "latitud            float64\n",
       "longitud           float64\n",
       "id_barrio            int64\n",
       "num_doc              int64\n",
       "tipo_doc             int64\n",
       "canal               object\n",
       "num_trx              int64\n",
       "mnt_total_trx      float64\n",
       "dtype: object"
      ]
     },
     "execution_count": 15,
     "metadata": {},
     "output_type": "execute_result"
    }
   ],
   "source": [
    "df_join.dtypes"
   ]
  },
  {
   "cell_type": "markdown",
   "id": "3ff06baa-0c77-47c5-b5e3-c1782ee3c15e",
   "metadata": {},
   "source": [
    "A simple vista podemos observar que el conjunto de datos contiene el registro de transacciones realizadas en diferentes puntos de servicio de distintos barrios y los montos de las mismas.\n",
    "\n",
    "En aras de un análisis más completo que nos permita comprender mejor el conjunto de datos surgen varios interrogantes:\n",
    "\n",
    "*¿A qué ciudad pertenecen los barrios que aparecen en el conjunto de datos? ¿cuál es su nivel socioeconómico?*\n",
    "\n",
    "La primera parte del análisis estará centrada en levantar la información faltante, limpiar y preparar los datos para el análisis."
   ]
  },
  {
   "cell_type": "markdown",
   "id": "ebfb00ac-5edc-43a4-a5de-437fef922fbe",
   "metadata": {},
   "source": [
    "**1.1 Conociendo la ciudad de los datos.**\n",
    "\n",
    "Para este punto, partiremos de las coordenadas que contiene el dataset."
   ]
  },
  {
   "cell_type": "code",
   "execution_count": 16,
   "id": "2df2443c-b4e1-42eb-b652-98137ad62456",
   "metadata": {},
   "outputs": [
    {
     "name": "stdout",
     "output_type": "stream",
     "text": [
      "Requirement already satisfied: reverse_geocoder in /home/miguelsosa/anaconda3/lib/python3.9/site-packages (1.5.1)\n",
      "Requirement already satisfied: numpy>=1.11.0 in /home/miguelsosa/anaconda3/lib/python3.9/site-packages (from reverse_geocoder) (1.21.5)\n",
      "Requirement already satisfied: scipy>=0.17.1 in /home/miguelsosa/anaconda3/lib/python3.9/site-packages (from reverse_geocoder) (1.9.1)\n",
      "Note: you may need to restart the kernel to use updated packages.\n"
     ]
    }
   ],
   "source": [
    "pip install reverse_geocoder"
   ]
  },
  {
   "cell_type": "code",
   "execution_count": 17,
   "id": "2a5a935a-78fb-4fca-bd1e-50583a80f3cf",
   "metadata": {},
   "outputs": [],
   "source": [
    "import reverse_geocoder as rg"
   ]
  },
  {
   "cell_type": "code",
   "execution_count": 18,
   "id": "aa9743a4-6641-4ab9-bf21-872df50fb8ed",
   "metadata": {},
   "outputs": [
    {
     "name": "stdout",
     "output_type": "stream",
     "text": [
      "Loading formatted geocoded file...\n"
     ]
    },
    {
     "data": {
      "text/plain": [
       "[{'lat': '3.43722',\n",
       "  'lon': '-76.5225',\n",
       "  'name': 'Cali',\n",
       "  'admin1': 'Valle del Cauca',\n",
       "  'admin2': '',\n",
       "  'cc': 'CO'}]"
      ]
     },
     "execution_count": 18,
     "metadata": {},
     "output_type": "execute_result"
    }
   ],
   "source": [
    "coordinate = (3.403659, -76.530091)\n",
    "rg.search(coordinate) #La función rg.search devuelve un diccionario con la información de las coordenadas proporcionadas "
   ]
  },
  {
   "cell_type": "markdown",
   "id": "bb225e0c-97aa-430a-bfa4-ecc65514226b",
   "metadata": {},
   "source": [
    "Dado que la función se aplica a Tuplas, es necesario crear una columna en el dataframe con una tupla que contenga la latitud y la longitud:"
   ]
  },
  {
   "cell_type": "code",
   "execution_count": 19,
   "id": "c957ed5d-8812-4aa4-a2bb-92caa4047564",
   "metadata": {},
   "outputs": [],
   "source": [
    "def obtener_ubicacion(latitud, longitud): \n",
    "    return (latitud, longitud)"
   ]
  },
  {
   "cell_type": "code",
   "execution_count": 20,
   "id": "631f2fe0-a8d2-4ff0-8f81-52fbaea7bf64",
   "metadata": {},
   "outputs": [],
   "source": [
    "df_join['ubicacion'] = df_join.apply(lambda df: obtener_ubicacion(df['latitud'], df['longitud']), axis = 1)"
   ]
  },
  {
   "cell_type": "markdown",
   "id": "06d0cb64-750b-45f1-89bd-e05c4ac5ad31",
   "metadata": {},
   "source": [
    "Teniendo en cuenta que la función *rg.search()* devuelve una lista que contiene un diccionario con diferentes datos de acuerdo a la ubicación, es necesario crear una función que retorne únicamente el valor de la clave *'name'* para posteriormente aplicarla a los datos."
   ]
  },
  {
   "cell_type": "code",
   "execution_count": 21,
   "id": "89cb4f04-a164-4037-8542-216072303c77",
   "metadata": {},
   "outputs": [],
   "source": [
    "def obtener_ciudad(ubicacion):\n",
    "    return rg.search(ubicacion)[0]['name']"
   ]
  },
  {
   "cell_type": "code",
   "execution_count": 22,
   "id": "19538128-578a-424d-8430-ccb215bd51ac",
   "metadata": {},
   "outputs": [],
   "source": [
    "#df_join['ciudad'] = df_join.apply(lambda df: obtener_ciudad(df['ubicacion']), axis = 1)"
   ]
  },
  {
   "cell_type": "markdown",
   "id": "0a4aff3f-30c3-4dfe-a9db-83d752eda781",
   "metadata": {},
   "source": [
    " Aplicarlo al dataframe principal tiene un costo de memoria muy alto, por lo cual es necesario realizar unos pasos adicionales:"
   ]
  },
  {
   "cell_type": "markdown",
   "id": "41287e2a-d8e5-483e-95a2-16fc5890af52",
   "metadata": {},
   "source": [
    "**-** Definimos un subdataframe con la información de los barrios y su ubicación"
   ]
  },
  {
   "cell_type": "code",
   "execution_count": 23,
   "id": "3b2cc515-587d-4c46-86e7-908c71693533",
   "metadata": {},
   "outputs": [],
   "source": [
    "df_barrios_ubic = (\n",
    "    df_join[['nombre', 'ubicacion']] #Subdataframe con el nombre y la ubicación del barrio\n",
    "    .groupby('nombre', as_index = False) #Agrupo por nombre de barrio \n",
    "    .first() #Tomo solo la primera ubicación (todas arrojarían la misma ciudad)\n",
    ")"
   ]
  },
  {
   "cell_type": "markdown",
   "id": "a404df5a-1e07-470a-8c25-278407d74343",
   "metadata": {},
   "source": [
    "Ahora el costo de memoria de aplicar la función *obtener_ciudad* es menor:"
   ]
  },
  {
   "cell_type": "code",
   "execution_count": 24,
   "id": "5e1db8e8-13a3-4218-b5d9-d9a4076ba10c",
   "metadata": {},
   "outputs": [
    {
     "data": {
      "text/html": [
       "<div>\n",
       "<style scoped>\n",
       "    .dataframe tbody tr th:only-of-type {\n",
       "        vertical-align: middle;\n",
       "    }\n",
       "\n",
       "    .dataframe tbody tr th {\n",
       "        vertical-align: top;\n",
       "    }\n",
       "\n",
       "    .dataframe thead th {\n",
       "        text-align: right;\n",
       "    }\n",
       "</style>\n",
       "<table border=\"1\" class=\"dataframe\">\n",
       "  <thead>\n",
       "    <tr style=\"text-align: right;\">\n",
       "      <th></th>\n",
       "      <th>nombre</th>\n",
       "      <th>ubicacion</th>\n",
       "      <th>ciudad</th>\n",
       "    </tr>\n",
       "  </thead>\n",
       "  <tbody>\n",
       "    <tr>\n",
       "      <th>0</th>\n",
       "      <td>12 de Octubre</td>\n",
       "      <td>(3.427925, -76.501541)</td>\n",
       "      <td>Cali</td>\n",
       "    </tr>\n",
       "    <tr>\n",
       "      <th>1</th>\n",
       "      <td>20 de Julio</td>\n",
       "      <td>(3.43627671667, -76.5128989173)</td>\n",
       "      <td>Cali</td>\n",
       "    </tr>\n",
       "    <tr>\n",
       "      <th>2</th>\n",
       "      <td>3 de Julio</td>\n",
       "      <td>(3.430406808, -76.5390441)</td>\n",
       "      <td>Cali</td>\n",
       "    </tr>\n",
       "    <tr>\n",
       "      <th>3</th>\n",
       "      <td>Acueducto San Antonio</td>\n",
       "      <td>(3.446740019, -76.54089095)</td>\n",
       "      <td>Cali</td>\n",
       "    </tr>\n",
       "    <tr>\n",
       "      <th>4</th>\n",
       "      <td>Aguablanca</td>\n",
       "      <td>(3.431530347, -76.51957472)</td>\n",
       "      <td>Cali</td>\n",
       "    </tr>\n",
       "  </tbody>\n",
       "</table>\n",
       "</div>"
      ],
      "text/plain": [
       "                  nombre                        ubicacion ciudad\n",
       "0          12 de Octubre           (3.427925, -76.501541)   Cali\n",
       "1            20 de Julio  (3.43627671667, -76.5128989173)   Cali\n",
       "2             3 de Julio       (3.430406808, -76.5390441)   Cali\n",
       "3  Acueducto San Antonio      (3.446740019, -76.54089095)   Cali\n",
       "4             Aguablanca      (3.431530347, -76.51957472)   Cali"
      ]
     },
     "execution_count": 24,
     "metadata": {},
     "output_type": "execute_result"
    }
   ],
   "source": [
    "df_barrios_ubic['ciudad'] = (df_barrios_ubic\n",
    "                             .apply(\n",
    "                                 lambda df: obtener_ciudad(df['ubicacion']), #Aplico la función al Dataframe\n",
    "                                 axis = 1  #Indico que debe iterar a través de la columna\n",
    "                             )\n",
    ")\n",
    "\n",
    "df_barrios_ubic.head()"
   ]
  },
  {
   "cell_type": "code",
   "execution_count": 25,
   "id": "f854323a-c61d-4e9a-b08e-1a5b346676ae",
   "metadata": {},
   "outputs": [
    {
     "data": {
      "text/plain": [
       "Cali       276\n",
       "Jamundi      1\n",
       "Name: ciudad, dtype: int64"
      ]
     },
     "execution_count": 25,
     "metadata": {},
     "output_type": "execute_result"
    }
   ],
   "source": [
    "(\n",
    "    df_barrios_ubic\n",
    "    .ciudad\n",
    "    .value_counts()\n",
    ")"
   ]
  },
  {
   "cell_type": "code",
   "execution_count": 26,
   "id": "9ef7b5ae-b4f1-4b24-bade-6cd0b017b2be",
   "metadata": {},
   "outputs": [
    {
     "data": {
      "text/html": [
       "<div>\n",
       "<style scoped>\n",
       "    .dataframe tbody tr th:only-of-type {\n",
       "        vertical-align: middle;\n",
       "    }\n",
       "\n",
       "    .dataframe tbody tr th {\n",
       "        vertical-align: top;\n",
       "    }\n",
       "\n",
       "    .dataframe thead th {\n",
       "        text-align: right;\n",
       "    }\n",
       "</style>\n",
       "<table border=\"1\" class=\"dataframe\">\n",
       "  <thead>\n",
       "    <tr style=\"text-align: right;\">\n",
       "      <th></th>\n",
       "      <th>nombre</th>\n",
       "      <th>ubicacion</th>\n",
       "      <th>ciudad</th>\n",
       "    </tr>\n",
       "  </thead>\n",
       "  <tbody>\n",
       "    <tr>\n",
       "      <th>187</th>\n",
       "      <td>Parcelaciones Pance</td>\n",
       "      <td>(3.34869394999, -76.5305870537)</td>\n",
       "      <td>Jamundi</td>\n",
       "    </tr>\n",
       "  </tbody>\n",
       "</table>\n",
       "</div>"
      ],
      "text/plain": [
       "                  nombre                        ubicacion   ciudad\n",
       "187  Parcelaciones Pance  (3.34869394999, -76.5305870537)  Jamundi"
      ]
     },
     "execution_count": 26,
     "metadata": {},
     "output_type": "execute_result"
    }
   ],
   "source": [
    "df_barrios_ubic.query('ciudad == \"Jamundi\"')"
   ]
  },
  {
   "cell_type": "markdown",
   "id": "bbdc406f-ae57-4eef-b2e4-d732ef94b94d",
   "metadata": {},
   "source": [
    "Al verificar en la web, las Parcelaciones de Pance están ubicadas en la ciudad de Cali, por lo que procedemos a corregir el dato y a confirmar que todo el conjunto de datos está centrado en la actividad de los puntos de servicio de la ciudad de Cali, información importante para el análisis."
   ]
  },
  {
   "cell_type": "code",
   "execution_count": 27,
   "id": "9904bbb6-5d1d-44c6-b180-57c059308ddc",
   "metadata": {},
   "outputs": [],
   "source": [
    "cond = df_barrios_ubic.loc[:,'ciudad'] == 'Jamundi'"
   ]
  },
  {
   "cell_type": "code",
   "execution_count": 28,
   "id": "60a66830-479c-4f93-b203-c8afe5f2b0a2",
   "metadata": {},
   "outputs": [],
   "source": [
    "df_barrios_ubic.loc[cond, 'ciudad'] = 'Cali'"
   ]
  },
  {
   "cell_type": "code",
   "execution_count": 29,
   "id": "01359cb3-2717-4318-99cb-6e18552dc29b",
   "metadata": {},
   "outputs": [
    {
     "data": {
      "text/plain": [
       "Cali    277\n",
       "Name: ciudad, dtype: int64"
      ]
     },
     "execution_count": 29,
     "metadata": {},
     "output_type": "execute_result"
    }
   ],
   "source": [
    "(\n",
    "    df_barrios_ubic\n",
    "    .ciudad\n",
    "    .value_counts()\n",
    ")"
   ]
  },
  {
   "cell_type": "markdown",
   "id": "478ca669-bf2f-46f1-966c-e49f34b2ae91",
   "metadata": {},
   "source": [
    "Teniendo en cuenta que solo tenemos datos de una ciudad y, en aras de optimizar el gasto de memoria, para este ejercicio sería inoficioso hacer el merge de la ciudad con el conjunto de datos principal, por lo que omitiremos este paso."
   ]
  },
  {
   "cell_type": "markdown",
   "id": "14da6ff9-14f5-4f6a-9bad-1f8e4ca6f837",
   "metadata": {},
   "source": [
    "**1.2. Conociendo la segmentación socioeconómica del conjunto de datos** "
   ]
  },
  {
   "cell_type": "markdown",
   "id": "4294bd18-2d0a-4c3a-8e89-d855b1c8066c",
   "metadata": {},
   "source": [
    "Teniendo en cuenta que conocemos el barrio y la ciudad presentes en el conjunto de datos, puede ser de suma importancia conocer la segmentación socio-económica.\n",
    "\n",
    "Para ello, utilizaré datos sobre *Estratificación socioeconómica según estrato, en Cali* descargados del portal [datos.gov.co](https://www.datos.gov.co/widgets/pfix-sugc)"
   ]
  },
  {
   "cell_type": "code",
   "execution_count": 30,
   "id": "a7d5ec63-f77b-4e88-996b-4071064227dc",
   "metadata": {},
   "outputs": [
    {
     "data": {
      "text/html": [
       "<div>\n",
       "<style scoped>\n",
       "    .dataframe tbody tr th:only-of-type {\n",
       "        vertical-align: middle;\n",
       "    }\n",
       "\n",
       "    .dataframe tbody tr th {\n",
       "        vertical-align: top;\n",
       "    }\n",
       "\n",
       "    .dataframe thead th {\n",
       "        text-align: right;\n",
       "    }\n",
       "</style>\n",
       "<table border=\"1\" class=\"dataframe\">\n",
       "  <thead>\n",
       "    <tr style=\"text-align: right;\">\n",
       "      <th></th>\n",
       "      <th>Código único</th>\n",
       "      <th>Barrio</th>\n",
       "      <th>Lados de manzana por estrato 1</th>\n",
       "      <th>Lados de manzana por estrato 2</th>\n",
       "      <th>Lados de manzana por estrato 3</th>\n",
       "      <th>Lados de manzana por estrato 4</th>\n",
       "      <th>Lados de manzana por estrato 5</th>\n",
       "      <th>Lados de manzana por estrato 6</th>\n",
       "      <th>Sin vivienda</th>\n",
       "      <th>Estrato moda</th>\n",
       "    </tr>\n",
       "  </thead>\n",
       "  <tbody>\n",
       "    <tr>\n",
       "      <th>0</th>\n",
       "      <td>101</td>\n",
       "      <td>Terrón Colorado</td>\n",
       "      <td>84</td>\n",
       "      <td>309</td>\n",
       "      <td>-</td>\n",
       "      <td>-</td>\n",
       "      <td>-</td>\n",
       "      <td>2</td>\n",
       "      <td>43</td>\n",
       "      <td>2</td>\n",
       "    </tr>\n",
       "    <tr>\n",
       "      <th>1</th>\n",
       "      <td>102</td>\n",
       "      <td>Vista Hermosa</td>\n",
       "      <td>199</td>\n",
       "      <td>18</td>\n",
       "      <td>-</td>\n",
       "      <td>-</td>\n",
       "      <td>-</td>\n",
       "      <td>-</td>\n",
       "      <td>30</td>\n",
       "      <td>1</td>\n",
       "    </tr>\n",
       "    <tr>\n",
       "      <th>2</th>\n",
       "      <td>196</td>\n",
       "      <td>Patio Bonito</td>\n",
       "      <td>161</td>\n",
       "      <td>-</td>\n",
       "      <td>-</td>\n",
       "      <td>-</td>\n",
       "      <td>-</td>\n",
       "      <td>-</td>\n",
       "      <td>37</td>\n",
       "      <td>1</td>\n",
       "    </tr>\n",
       "    <tr>\n",
       "      <th>3</th>\n",
       "      <td>199</td>\n",
       "      <td>Aguacatal</td>\n",
       "      <td>209</td>\n",
       "      <td>23</td>\n",
       "      <td>4</td>\n",
       "      <td>5</td>\n",
       "      <td>1</td>\n",
       "      <td>4</td>\n",
       "      <td>59</td>\n",
       "      <td>1</td>\n",
       "    </tr>\n",
       "    <tr>\n",
       "      <th>4</th>\n",
       "      <td>201</td>\n",
       "      <td>Santa Rita</td>\n",
       "      <td>-</td>\n",
       "      <td>-</td>\n",
       "      <td>-</td>\n",
       "      <td>2</td>\n",
       "      <td>6</td>\n",
       "      <td>30</td>\n",
       "      <td>3</td>\n",
       "      <td>6</td>\n",
       "    </tr>\n",
       "  </tbody>\n",
       "</table>\n",
       "</div>"
      ],
      "text/plain": [
       "  Código único           Barrio Lados de manzana por estrato 1  \\\n",
       "0          101  Terrón Colorado                             84   \n",
       "1          102    Vista Hermosa                            199   \n",
       "2          196     Patio Bonito                            161   \n",
       "3          199        Aguacatal                            209   \n",
       "4          201       Santa Rita                              -   \n",
       "\n",
       "  Lados de manzana por estrato 2 Lados de manzana por estrato 3  \\\n",
       "0                            309                              -   \n",
       "1                             18                              -   \n",
       "2                              -                              -   \n",
       "3                             23                              4   \n",
       "4                              -                              -   \n",
       "\n",
       "  Lados de manzana por estrato 4 Lados de manzana por estrato 5  \\\n",
       "0                              -                              -   \n",
       "1                              -                              -   \n",
       "2                              -                              -   \n",
       "3                              5                              1   \n",
       "4                              2                              6   \n",
       "\n",
       "  Lados de manzana por estrato 6 Sin vivienda Estrato moda  \n",
       "0                              2           43            2  \n",
       "1                              -           30            1  \n",
       "2                              -           37            1  \n",
       "3                              4           59            1  \n",
       "4                             30            3            6  "
      ]
     },
     "execution_count": 30,
     "metadata": {},
     "output_type": "execute_result"
    }
   ],
   "source": [
    "estratificacion_cali = pd.read_csv('estratificacion_cali.csv')\n",
    "estratificacion_cali.head()"
   ]
  },
  {
   "cell_type": "markdown",
   "id": "4b705e5b-021e-4e22-bac5-903101c5fc03",
   "metadata": {},
   "source": [
    "Teniendo en cuenta que hay diferentes estratos sociales en un barrio de acuerdo a los sectores del mismo, utilizaremos como definitivo el *Estrato moda*, es decir, el valor que más se repite."
   ]
  },
  {
   "cell_type": "code",
   "execution_count": 31,
   "id": "0a98af79-83e7-453b-8e21-5ff79e40f87f",
   "metadata": {},
   "outputs": [
    {
     "data": {
      "text/plain": [
       "Index(['Código único', 'Barrio', 'Lados de manzana por estrato 1',\n",
       "       'Lados de manzana por estrato 2', 'Lados de manzana por estrato 3',\n",
       "       'Lados de manzana por estrato 4', 'Lados de manzana por estrato 5',\n",
       "       'Lados de manzana por estrato 6', 'Sin vivienda', 'Estrato moda'],\n",
       "      dtype='object')"
      ]
     },
     "execution_count": 31,
     "metadata": {},
     "output_type": "execute_result"
    }
   ],
   "source": [
    "estratificacion_cali.columns"
   ]
  },
  {
   "cell_type": "code",
   "execution_count": 32,
   "id": "b8a89cbd-e584-4e3e-b54d-432236fc91a9",
   "metadata": {},
   "outputs": [],
   "source": [
    "#Depuramos datos innecesarios\n",
    "\n",
    "estratificacion_cali = estratificacion_cali[['Barrio', 'Estrato moda']]"
   ]
  },
  {
   "cell_type": "code",
   "execution_count": 33,
   "id": "c1015331-8610-4091-8549-c076b2ecd147",
   "metadata": {},
   "outputs": [],
   "source": [
    "#Renombramos las columnas\n",
    "\n",
    "estratificacion_cali.columns = ['nombre', 'estrato']"
   ]
  },
  {
   "cell_type": "code",
   "execution_count": 34,
   "id": "6fd76ae6-fb80-4827-83cb-1b5ea643ffb6",
   "metadata": {},
   "outputs": [
    {
     "data": {
      "text/html": [
       "<div>\n",
       "<style scoped>\n",
       "    .dataframe tbody tr th:only-of-type {\n",
       "        vertical-align: middle;\n",
       "    }\n",
       "\n",
       "    .dataframe tbody tr th {\n",
       "        vertical-align: top;\n",
       "    }\n",
       "\n",
       "    .dataframe thead th {\n",
       "        text-align: right;\n",
       "    }\n",
       "</style>\n",
       "<table border=\"1\" class=\"dataframe\">\n",
       "  <thead>\n",
       "    <tr style=\"text-align: right;\">\n",
       "      <th></th>\n",
       "      <th>nombre</th>\n",
       "      <th>estrato</th>\n",
       "    </tr>\n",
       "  </thead>\n",
       "  <tbody>\n",
       "    <tr>\n",
       "      <th>0</th>\n",
       "      <td>Terrón Colorado</td>\n",
       "      <td>2</td>\n",
       "    </tr>\n",
       "    <tr>\n",
       "      <th>1</th>\n",
       "      <td>Vista Hermosa</td>\n",
       "      <td>1</td>\n",
       "    </tr>\n",
       "    <tr>\n",
       "      <th>2</th>\n",
       "      <td>Patio Bonito</td>\n",
       "      <td>1</td>\n",
       "    </tr>\n",
       "    <tr>\n",
       "      <th>3</th>\n",
       "      <td>Aguacatal</td>\n",
       "      <td>1</td>\n",
       "    </tr>\n",
       "    <tr>\n",
       "      <th>4</th>\n",
       "      <td>Santa Rita</td>\n",
       "      <td>6</td>\n",
       "    </tr>\n",
       "  </tbody>\n",
       "</table>\n",
       "</div>"
      ],
      "text/plain": [
       "            nombre estrato\n",
       "0  Terrón Colorado       2\n",
       "1    Vista Hermosa       1\n",
       "2     Patio Bonito       1\n",
       "3        Aguacatal       1\n",
       "4       Santa Rita       6"
      ]
     },
     "execution_count": 34,
     "metadata": {},
     "output_type": "execute_result"
    }
   ],
   "source": [
    "estratificacion_cali.head()"
   ]
  },
  {
   "cell_type": "markdown",
   "id": "2a616d43-d61e-4f24-b41c-0945a332eee7",
   "metadata": {},
   "source": [
    "Realizamos el merge con el conjunto de datos principales:"
   ]
  },
  {
   "cell_type": "code",
   "execution_count": 35,
   "id": "b38902ec-08a6-40bc-9b76-bc10d30abe1f",
   "metadata": {},
   "outputs": [
    {
     "data": {
      "text/html": [
       "<div>\n",
       "<style scoped>\n",
       "    .dataframe tbody tr th:only-of-type {\n",
       "        vertical-align: middle;\n",
       "    }\n",
       "\n",
       "    .dataframe tbody tr th {\n",
       "        vertical-align: top;\n",
       "    }\n",
       "\n",
       "    .dataframe thead th {\n",
       "        text-align: right;\n",
       "    }\n",
       "</style>\n",
       "<table border=\"1\" class=\"dataframe\">\n",
       "  <thead>\n",
       "    <tr style=\"text-align: right;\">\n",
       "      <th></th>\n",
       "      <th>codigo</th>\n",
       "      <th>nombre</th>\n",
       "      <th>tipo</th>\n",
       "      <th>cod_dispositivo</th>\n",
       "      <th>latitud</th>\n",
       "      <th>longitud</th>\n",
       "      <th>id_barrio</th>\n",
       "      <th>num_doc</th>\n",
       "      <th>tipo_doc</th>\n",
       "      <th>canal</th>\n",
       "      <th>num_trx</th>\n",
       "      <th>mnt_total_trx</th>\n",
       "      <th>ubicacion</th>\n",
       "      <th>estrato</th>\n",
       "    </tr>\n",
       "  </thead>\n",
       "  <tbody>\n",
       "    <tr>\n",
       "      <th>0</th>\n",
       "      <td>737998257</td>\n",
       "      <td>La Campina</td>\n",
       "      <td>POS</td>\n",
       "      <td>12202503</td>\n",
       "      <td>3.479572</td>\n",
       "      <td>-76.525582</td>\n",
       "      <td>737998257</td>\n",
       "      <td>-2393994463924208659</td>\n",
       "      <td>1</td>\n",
       "      <td>POS</td>\n",
       "      <td>2</td>\n",
       "      <td>12202503.0</td>\n",
       "      <td>(3.479572082, -76.52558242)</td>\n",
       "      <td>NaN</td>\n",
       "    </tr>\n",
       "    <tr>\n",
       "      <th>1</th>\n",
       "      <td>737998257</td>\n",
       "      <td>La Campina</td>\n",
       "      <td>POS</td>\n",
       "      <td>10521045</td>\n",
       "      <td>3.480517</td>\n",
       "      <td>-76.525275</td>\n",
       "      <td>737998257</td>\n",
       "      <td>-5675531380015678594</td>\n",
       "      <td>1</td>\n",
       "      <td>POS</td>\n",
       "      <td>1</td>\n",
       "      <td>5260522.5</td>\n",
       "      <td>(3.480516553, -76.52527472)</td>\n",
       "      <td>NaN</td>\n",
       "    </tr>\n",
       "    <tr>\n",
       "      <th>2</th>\n",
       "      <td>737998257</td>\n",
       "      <td>La Campina</td>\n",
       "      <td>POS</td>\n",
       "      <td>10521045</td>\n",
       "      <td>3.480517</td>\n",
       "      <td>-76.525275</td>\n",
       "      <td>737998257</td>\n",
       "      <td>-5066077049535851626</td>\n",
       "      <td>1</td>\n",
       "      <td>POS</td>\n",
       "      <td>1</td>\n",
       "      <td>5260522.5</td>\n",
       "      <td>(3.480516553, -76.52527472)</td>\n",
       "      <td>NaN</td>\n",
       "    </tr>\n",
       "    <tr>\n",
       "      <th>3</th>\n",
       "      <td>737998257</td>\n",
       "      <td>La Campina</td>\n",
       "      <td>POS</td>\n",
       "      <td>13238282</td>\n",
       "      <td>3.479491</td>\n",
       "      <td>-76.525818</td>\n",
       "      <td>737998257</td>\n",
       "      <td>-5791329717693361241</td>\n",
       "      <td>1</td>\n",
       "      <td>POS</td>\n",
       "      <td>1</td>\n",
       "      <td>6619141.0</td>\n",
       "      <td>(3.47949063002, -76.5258184734)</td>\n",
       "      <td>NaN</td>\n",
       "    </tr>\n",
       "    <tr>\n",
       "      <th>4</th>\n",
       "      <td>737998257</td>\n",
       "      <td>La Campina</td>\n",
       "      <td>POS</td>\n",
       "      <td>12567517</td>\n",
       "      <td>3.480958</td>\n",
       "      <td>-76.525153</td>\n",
       "      <td>737998257</td>\n",
       "      <td>-397966594878551344</td>\n",
       "      <td>1</td>\n",
       "      <td>POS</td>\n",
       "      <td>1</td>\n",
       "      <td>6283758.5</td>\n",
       "      <td>(3.480957671, -76.52515269)</td>\n",
       "      <td>NaN</td>\n",
       "    </tr>\n",
       "  </tbody>\n",
       "</table>\n",
       "</div>"
      ],
      "text/plain": [
       "      codigo      nombre tipo  cod_dispositivo   latitud   longitud  \\\n",
       "0  737998257  La Campina  POS         12202503  3.479572 -76.525582   \n",
       "1  737998257  La Campina  POS         10521045  3.480517 -76.525275   \n",
       "2  737998257  La Campina  POS         10521045  3.480517 -76.525275   \n",
       "3  737998257  La Campina  POS         13238282  3.479491 -76.525818   \n",
       "4  737998257  La Campina  POS         12567517  3.480958 -76.525153   \n",
       "\n",
       "   id_barrio              num_doc  tipo_doc canal  num_trx  mnt_total_trx  \\\n",
       "0  737998257 -2393994463924208659         1   POS        2     12202503.0   \n",
       "1  737998257 -5675531380015678594         1   POS        1      5260522.5   \n",
       "2  737998257 -5066077049535851626         1   POS        1      5260522.5   \n",
       "3  737998257 -5791329717693361241         1   POS        1      6619141.0   \n",
       "4  737998257  -397966594878551344         1   POS        1      6283758.5   \n",
       "\n",
       "                         ubicacion estrato  \n",
       "0      (3.479572082, -76.52558242)     NaN  \n",
       "1      (3.480516553, -76.52527472)     NaN  \n",
       "2      (3.480516553, -76.52527472)     NaN  \n",
       "3  (3.47949063002, -76.5258184734)     NaN  \n",
       "4      (3.480957671, -76.52515269)     NaN  "
      ]
     },
     "execution_count": 35,
     "metadata": {},
     "output_type": "execute_result"
    }
   ],
   "source": [
    "df_join_merged = pd.merge(df_join, estratificacion_cali, on = 'nombre', how = 'left')\n",
    "df_join_merged.head()"
   ]
  },
  {
   "cell_type": "code",
   "execution_count": 36,
   "id": "6c2e74b3-5116-478e-b211-afdca2056cf8",
   "metadata": {},
   "outputs": [
    {
     "data": {
      "text/html": [
       "<div>\n",
       "<style scoped>\n",
       "    .dataframe tbody tr th:only-of-type {\n",
       "        vertical-align: middle;\n",
       "    }\n",
       "\n",
       "    .dataframe tbody tr th {\n",
       "        vertical-align: top;\n",
       "    }\n",
       "\n",
       "    .dataframe thead th {\n",
       "        text-align: right;\n",
       "    }\n",
       "</style>\n",
       "<table border=\"1\" class=\"dataframe\">\n",
       "  <thead>\n",
       "    <tr style=\"text-align: right;\">\n",
       "      <th></th>\n",
       "      <th>codigo</th>\n",
       "      <th>nombre</th>\n",
       "      <th>tipo</th>\n",
       "      <th>cod_dispositivo</th>\n",
       "      <th>latitud</th>\n",
       "      <th>longitud</th>\n",
       "      <th>id_barrio</th>\n",
       "      <th>num_doc</th>\n",
       "      <th>tipo_doc</th>\n",
       "      <th>canal</th>\n",
       "      <th>num_trx</th>\n",
       "      <th>mnt_total_trx</th>\n",
       "      <th>ubicacion</th>\n",
       "      <th>estrato</th>\n",
       "    </tr>\n",
       "  </thead>\n",
       "  <tbody>\n",
       "    <tr>\n",
       "      <th>33753</th>\n",
       "      <td>738001442</td>\n",
       "      <td>Camino Real-Joaquín Borrero</td>\n",
       "      <td>DISPENSADOR</td>\n",
       "      <td>3941</td>\n",
       "      <td>3.405763</td>\n",
       "      <td>-76.546740</td>\n",
       "      <td>738001442</td>\n",
       "      <td>1552970090928921643</td>\n",
       "      <td>1</td>\n",
       "      <td>DISPENSADOR</td>\n",
       "      <td>8</td>\n",
       "      <td>15764.0</td>\n",
       "      <td>(3.40576317, -76.5467398)</td>\n",
       "      <td>NaN</td>\n",
       "    </tr>\n",
       "    <tr>\n",
       "      <th>20903</th>\n",
       "      <td>737998878</td>\n",
       "      <td>Los Alcázares</td>\n",
       "      <td>SAI</td>\n",
       "      <td>741</td>\n",
       "      <td>3.488660</td>\n",
       "      <td>-76.493628</td>\n",
       "      <td>737998878</td>\n",
       "      <td>-6347999926113682865</td>\n",
       "      <td>1</td>\n",
       "      <td>SAI</td>\n",
       "      <td>1</td>\n",
       "      <td>370.5</td>\n",
       "      <td>(3.4886596, -76.49362755)</td>\n",
       "      <td>NaN</td>\n",
       "    </tr>\n",
       "    <tr>\n",
       "      <th>9822</th>\n",
       "      <td>737998111</td>\n",
       "      <td>Los Cambulos</td>\n",
       "      <td>POS</td>\n",
       "      <td>10539245</td>\n",
       "      <td>3.417753</td>\n",
       "      <td>-76.543172</td>\n",
       "      <td>737998111</td>\n",
       "      <td>-6832499867546324281</td>\n",
       "      <td>1</td>\n",
       "      <td>POS</td>\n",
       "      <td>1</td>\n",
       "      <td>5269622.5</td>\n",
       "      <td>(3.417752523, -76.5431717444)</td>\n",
       "      <td>4</td>\n",
       "    </tr>\n",
       "    <tr>\n",
       "      <th>84187</th>\n",
       "      <td>737998832</td>\n",
       "      <td>San Pedro</td>\n",
       "      <td>DISPENSADOR</td>\n",
       "      <td>8062</td>\n",
       "      <td>3.450632</td>\n",
       "      <td>-76.532643</td>\n",
       "      <td>737998832</td>\n",
       "      <td>4185331734794380880</td>\n",
       "      <td>1</td>\n",
       "      <td>DISPENSADOR</td>\n",
       "      <td>2</td>\n",
       "      <td>8062.0</td>\n",
       "      <td>(3.45063236, -76.5326427)</td>\n",
       "      <td>3</td>\n",
       "    </tr>\n",
       "    <tr>\n",
       "      <th>16858</th>\n",
       "      <td>737998124</td>\n",
       "      <td>Urbanización Militar</td>\n",
       "      <td>CB</td>\n",
       "      <td>1121218308</td>\n",
       "      <td>3.413183</td>\n",
       "      <td>-76.540790</td>\n",
       "      <td>737998124</td>\n",
       "      <td>-2883431308708528945</td>\n",
       "      <td>1</td>\n",
       "      <td>CB</td>\n",
       "      <td>1</td>\n",
       "      <td>560609154.0</td>\n",
       "      <td>(3.413183, -76.54079)</td>\n",
       "      <td>4</td>\n",
       "    </tr>\n",
       "    <tr>\n",
       "      <th>43937</th>\n",
       "      <td>738000407</td>\n",
       "      <td>Urbanización San Juaquín</td>\n",
       "      <td>POS</td>\n",
       "      <td>14647986</td>\n",
       "      <td>3.370791</td>\n",
       "      <td>-76.527673</td>\n",
       "      <td>738000407</td>\n",
       "      <td>2008903591411719782</td>\n",
       "      <td>1</td>\n",
       "      <td>POS</td>\n",
       "      <td>1</td>\n",
       "      <td>7323993.0</td>\n",
       "      <td>(3.37079134873, -76.5276728642)</td>\n",
       "      <td>NaN</td>\n",
       "    </tr>\n",
       "    <tr>\n",
       "      <th>1368</th>\n",
       "      <td>737999419</td>\n",
       "      <td>El Sena</td>\n",
       "      <td>CB</td>\n",
       "      <td>1104416653</td>\n",
       "      <td>3.465460</td>\n",
       "      <td>-76.502220</td>\n",
       "      <td>737999419</td>\n",
       "      <td>-3764607503426246973</td>\n",
       "      <td>1</td>\n",
       "      <td>CB</td>\n",
       "      <td>1</td>\n",
       "      <td>552208326.5</td>\n",
       "      <td>(3.46546, -76.50222)</td>\n",
       "      <td>3</td>\n",
       "    </tr>\n",
       "    <tr>\n",
       "      <th>58295</th>\n",
       "      <td>738000366</td>\n",
       "      <td>Mayapan-Las Vegas</td>\n",
       "      <td>POS</td>\n",
       "      <td>13318233</td>\n",
       "      <td>3.384755</td>\n",
       "      <td>-76.538617</td>\n",
       "      <td>738000366</td>\n",
       "      <td>-956014853569187620</td>\n",
       "      <td>1</td>\n",
       "      <td>POS</td>\n",
       "      <td>1</td>\n",
       "      <td>6659116.5</td>\n",
       "      <td>(3.38475477958, -76.5386171599)</td>\n",
       "      <td>NaN</td>\n",
       "    </tr>\n",
       "    <tr>\n",
       "      <th>88953</th>\n",
       "      <td>737998805</td>\n",
       "      <td>Santander</td>\n",
       "      <td>DISPENSADOR</td>\n",
       "      <td>1186</td>\n",
       "      <td>3.464265</td>\n",
       "      <td>-76.513861</td>\n",
       "      <td>737998805</td>\n",
       "      <td>8081065870773686340</td>\n",
       "      <td>1</td>\n",
       "      <td>DISPENSADOR</td>\n",
       "      <td>2</td>\n",
       "      <td>1186.0</td>\n",
       "      <td>(3.46426472, -76.51386122)</td>\n",
       "      <td>2</td>\n",
       "    </tr>\n",
       "    <tr>\n",
       "      <th>79243</th>\n",
       "      <td>738000377</td>\n",
       "      <td>Unicentro Cali</td>\n",
       "      <td>DISPENSADOR</td>\n",
       "      <td>5762</td>\n",
       "      <td>3.373327</td>\n",
       "      <td>-76.540710</td>\n",
       "      <td>738000377</td>\n",
       "      <td>-5472336761407990650</td>\n",
       "      <td>1</td>\n",
       "      <td>DISPENSADOR</td>\n",
       "      <td>2</td>\n",
       "      <td>5762.0</td>\n",
       "      <td>(3.37332731, -76.54071024)</td>\n",
       "      <td>5</td>\n",
       "    </tr>\n",
       "  </tbody>\n",
       "</table>\n",
       "</div>"
      ],
      "text/plain": [
       "          codigo                       nombre         tipo  cod_dispositivo  \\\n",
       "33753  738001442  Camino Real-Joaquín Borrero  DISPENSADOR             3941   \n",
       "20903  737998878                Los Alcázares          SAI              741   \n",
       "9822   737998111                 Los Cambulos          POS         10539245   \n",
       "84187  737998832                    San Pedro  DISPENSADOR             8062   \n",
       "16858  737998124         Urbanización Militar           CB       1121218308   \n",
       "43937  738000407     Urbanización San Juaquín          POS         14647986   \n",
       "1368   737999419                      El Sena           CB       1104416653   \n",
       "58295  738000366            Mayapan-Las Vegas          POS         13318233   \n",
       "88953  737998805                    Santander  DISPENSADOR             1186   \n",
       "79243  738000377               Unicentro Cali  DISPENSADOR             5762   \n",
       "\n",
       "        latitud   longitud  id_barrio              num_doc  tipo_doc  \\\n",
       "33753  3.405763 -76.546740  738001442  1552970090928921643         1   \n",
       "20903  3.488660 -76.493628  737998878 -6347999926113682865         1   \n",
       "9822   3.417753 -76.543172  737998111 -6832499867546324281         1   \n",
       "84187  3.450632 -76.532643  737998832  4185331734794380880         1   \n",
       "16858  3.413183 -76.540790  737998124 -2883431308708528945         1   \n",
       "43937  3.370791 -76.527673  738000407  2008903591411719782         1   \n",
       "1368   3.465460 -76.502220  737999419 -3764607503426246973         1   \n",
       "58295  3.384755 -76.538617  738000366  -956014853569187620         1   \n",
       "88953  3.464265 -76.513861  737998805  8081065870773686340         1   \n",
       "79243  3.373327 -76.540710  738000377 -5472336761407990650         1   \n",
       "\n",
       "             canal  num_trx  mnt_total_trx                        ubicacion  \\\n",
       "33753  DISPENSADOR        8        15764.0        (3.40576317, -76.5467398)   \n",
       "20903          SAI        1          370.5        (3.4886596, -76.49362755)   \n",
       "9822           POS        1      5269622.5    (3.417752523, -76.5431717444)   \n",
       "84187  DISPENSADOR        2         8062.0        (3.45063236, -76.5326427)   \n",
       "16858           CB        1    560609154.0            (3.413183, -76.54079)   \n",
       "43937          POS        1      7323993.0  (3.37079134873, -76.5276728642)   \n",
       "1368            CB        1    552208326.5             (3.46546, -76.50222)   \n",
       "58295          POS        1      6659116.5  (3.38475477958, -76.5386171599)   \n",
       "88953  DISPENSADOR        2         1186.0       (3.46426472, -76.51386122)   \n",
       "79243  DISPENSADOR        2         5762.0       (3.37332731, -76.54071024)   \n",
       "\n",
       "      estrato  \n",
       "33753     NaN  \n",
       "20903     NaN  \n",
       "9822        4  \n",
       "84187       3  \n",
       "16858       4  \n",
       "43937     NaN  \n",
       "1368        3  \n",
       "58295     NaN  \n",
       "88953       2  \n",
       "79243       5  "
      ]
     },
     "execution_count": 36,
     "metadata": {},
     "output_type": "execute_result"
    }
   ],
   "source": [
    "df_join_merged.sample(10)"
   ]
  },
  {
   "cell_type": "markdown",
   "id": "01cdfdcb-06ef-47d2-bcd4-bde18487fe33",
   "metadata": {},
   "source": [
    "Analizando valores nulos."
   ]
  },
  {
   "cell_type": "code",
   "execution_count": 37,
   "id": "a91e882f-c347-4322-b9eb-c477c0233e69",
   "metadata": {},
   "outputs": [
    {
     "data": {
      "text/plain": [
       "codigo             False\n",
       "nombre             False\n",
       "tipo               False\n",
       "cod_dispositivo    False\n",
       "latitud            False\n",
       "longitud           False\n",
       "id_barrio          False\n",
       "num_doc            False\n",
       "tipo_doc           False\n",
       "canal              False\n",
       "num_trx            False\n",
       "mnt_total_trx      False\n",
       "ubicacion          False\n",
       "estrato             True\n",
       "dtype: bool"
      ]
     },
     "execution_count": 37,
     "metadata": {},
     "output_type": "execute_result"
    }
   ],
   "source": [
    "(\n",
    "    df_join_merged\n",
    "    .isnull()\n",
    "    .any()\n",
    ")"
   ]
  },
  {
   "cell_type": "code",
   "execution_count": 38,
   "id": "0af13e58-8746-4c7d-ba6b-e55ef2f825e4",
   "metadata": {},
   "outputs": [
    {
     "data": {
      "text/plain": [
       "<seaborn.axisgrid.FacetGrid at 0x7ff111a6af70>"
      ]
     },
     "execution_count": 38,
     "metadata": {},
     "output_type": "execute_result"
    },
    {
     "data": {
      "image/png": "[encoded data removed]",
      "text/plain": [
       "<Figure size 584.875x500 with 1 Axes>"
      ]
     },
     "metadata": {},
     "output_type": "display_data"
    }
   ],
   "source": [
    "#Proporción de los valores nulos\n",
    "\n",
    "(\n",
    "    df_join_merged\n",
    "    .isnull()\n",
    "    .melt()\n",
    "    .pipe(\n",
    "        lambda df: sns.displot(\n",
    "            data = df,\n",
    "            y = 'variable',\n",
    "            hue = 'value',\n",
    "            multiple = 'fill'\n",
    "        )\n",
    "    )\n",
    ")"
   ]
  },
  {
   "cell_type": "code",
   "execution_count": 39,
   "id": "3b2181ce-0b64-4838-a21a-4f81c3707992",
   "metadata": {},
   "outputs": [
    {
     "data": {
      "text/plain": [
       "codigo                 0\n",
       "nombre                 0\n",
       "tipo                   0\n",
       "cod_dispositivo        0\n",
       "latitud                0\n",
       "longitud               0\n",
       "id_barrio              0\n",
       "num_doc                0\n",
       "tipo_doc               0\n",
       "canal                  0\n",
       "num_trx                0\n",
       "mnt_total_trx          0\n",
       "ubicacion              0\n",
       "estrato            23832\n",
       "dtype: int64"
      ]
     },
     "execution_count": 39,
     "metadata": {},
     "output_type": "execute_result"
    }
   ],
   "source": [
    "(\n",
    "    df_join_merged\n",
    "    .isnull()\n",
    "    .sum()\n",
    ")"
   ]
  },
  {
   "cell_type": "code",
   "execution_count": 40,
   "id": "34d23f0a-8982-4787-bd00-569a4d08188b",
   "metadata": {
    "tags": []
   },
   "outputs": [
    {
     "data": {
      "text/plain": [
       "0.2518972624458303"
      ]
     },
     "execution_count": 40,
     "metadata": {},
     "output_type": "execute_result"
    }
   ],
   "source": [
    "23832 / df_join_merged.shape[0]"
   ]
  },
  {
   "cell_type": "markdown",
   "id": "d05aaab8-c29e-472b-a756-04a2a3136cc6",
   "metadata": {},
   "source": [
    "Teniendo en cuenta que los valores representan un 25.19% de los datos, es necesario encontrar los valores faltantes, pues eliminarlos sería perder gran parte de la muestra."
   ]
  },
  {
   "cell_type": "code",
   "execution_count": 41,
   "id": "f931add0-281a-4d6a-9b45-68ed403b1a08",
   "metadata": {},
   "outputs": [],
   "source": [
    "mask = df_join_merged.loc[:,'estrato'].isnull()"
   ]
  },
  {
   "cell_type": "code",
   "execution_count": 42,
   "id": "3bd4cab5-55cc-4824-aab1-0273ccf08aff",
   "metadata": {},
   "outputs": [
    {
     "data": {
      "text/plain": [
       "array(['La Campina', 'El Trebol', 'Jorge Eliecer Gaitan',\n",
       "       'Altos de Santa Isabel La Morelia', 'Rafael Uribe',\n",
       "       'Alfonso Barberena', 'Paseo de los Almendros', 'Los Parques',\n",
       "       'Departamental', 'Olaya Herrera', 'Bretana', 'Atanasio Girardota',\n",
       "       'Unidad Residencial Santiago de Cali', 'La Rivera',\n",
       "       'Alirio Mora Beltrán', 'Manuel María Buenventura',\n",
       "       'U Dep Galindo Plaza Toros', 'León XII', 'Lleras Restrepo II',\n",
       "       'Santa Bárbara', 'Los Portales-Nuevo Rey', 'Los Alcázares',\n",
       "       'Canaveralejo-Seguros Patria', 'Quintas de Don Simón',\n",
       "       'Guillermo León Valencia', 'Los Andes B-La Riviera',\n",
       "       'San Francisco-Berlín', 'Juanambu', 'Parque de la Caña',\n",
       "       '12 de Octubre', 'Siloe', 'Petecuy II', 'Canaverales Los Samanes',\n",
       "       'San Luis II', 'Cuarto de Legua-Guadalupe', 'Los Comuneros I',\n",
       "       'Ciudad Los Á\\x81lamos', 'San Luis', 'Camino Real-Joaquín Borrero',\n",
       "       'Acueducto San Antonio', 'El Á\\x81ngel del Hogar',\n",
       "       'U Dep Panamericana Ant Hipódromo', 'Villa Blanca',\n",
       "       'José Holguin Garces', 'Pampalinda', 'San Carlos',\n",
       "       'Marco Fidel Suarez', 'Unidad Residencial Bueno Madrid',\n",
       "       'Nueva Granada', 'Manuela Beltrán', 'Alfonso López I',\n",
       "       'Urbanización La Nueva Base', 'Los Comuneros II',\n",
       "       'Urbanización San Juaquín', 'Ville Grande', 'Caldas',\n",
       "       'Nueva Floresta del Ict', 'Los Rubles',\n",
       "       'Villa del Prado-El Guabito', 'Bajos Ciudad Córdoba',\n",
       "       'Alférez Real', 'Mayapan-Las Vegas', 'José M. Córdoba',\n",
       "       'San Cristobal', 'Camino Real-Los Fundadores',\n",
       "       'José Manuel Marroquin II', 'Ciudadela Paso Ancho',\n",
       "       'Cataya-El Gran Limonar', 'José Manuel Marroquin I',\n",
       "       'Unidad Residencial El Coliseo', 'El Paraíso', 'Santa Anita',\n",
       "       'Santa Mónica Residencial', 'Ciudad Talanga',\n",
       "       'La Ciudadela Confandi', 'Á\\x81rea Libre-Parque del Amor',\n",
       "       'Cristobal Colón', 'Promociones Populares',\n",
       "       'Francisco Eladio Ramírez', 'Alto de los Chorros', 'Alto Jordán',\n",
       "       'Esmeralda', 'Junin', 'Ciudad Córdoba', 'Paseo del Comercio',\n",
       "       'Brisas de los Á\\x81lamos', 'Boyacá', 'Alfonso López II',\n",
       "       'Alfonso López III', 'Ciudadela del Río'], dtype=object)"
      ]
     },
     "execution_count": 42,
     "metadata": {},
     "output_type": "execute_result"
    }
   ],
   "source": [
    "df_join_merged.loc[mask, 'nombre'].unique()"
   ]
  },
  {
   "cell_type": "markdown",
   "id": "92ea603d-6150-489d-a95b-442f803abb19",
   "metadata": {},
   "source": [
    "Una hipótesis acerca de la cantidad de valores nulos es que muchos de estos no entran en el merge por asuntos de tildes, mayúsculas, ñ's o, incluso, guiones, por lo que procederé a repetir el ejercicio estandarizando primero los nombres en ambas tablas."
   ]
  },
  {
   "cell_type": "code",
   "execution_count": 43,
   "id": "e586dbc5-8fbe-444b-8077-d229b05e0783",
   "metadata": {},
   "outputs": [],
   "source": [
    "def quitar_tildes(palabra):\n",
    "    '''\n",
    "    La función toma una palabra y la devuelve sin tildes y en formato título\n",
    "    '''\n",
    "    palabra = palabra.lower()\n",
    "    vocales = [['á', 'a'], ['é', 'e'], ['í', 'i'], ['ó', 'o'], ['ú', 'u'], ['-', ' '], ['ñ', 'n']]\n",
    "    for i,j in vocales:\n",
    "        palabra = palabra.replace(i, j)\n",
    "    return palabra.title()"
   ]
  },
  {
   "cell_type": "code",
   "execution_count": 44,
   "id": "43805d91-37fc-42d3-ae99-c2047fbe13e6",
   "metadata": {
    "tags": []
   },
   "outputs": [
    {
     "data": {
      "text/html": [
       "<div>\n",
       "<style scoped>\n",
       "    .dataframe tbody tr th:only-of-type {\n",
       "        vertical-align: middle;\n",
       "    }\n",
       "\n",
       "    .dataframe tbody tr th {\n",
       "        vertical-align: top;\n",
       "    }\n",
       "\n",
       "    .dataframe thead th {\n",
       "        text-align: right;\n",
       "    }\n",
       "</style>\n",
       "<table border=\"1\" class=\"dataframe\">\n",
       "  <thead>\n",
       "    <tr style=\"text-align: right;\">\n",
       "      <th></th>\n",
       "      <th>codigo</th>\n",
       "      <th>nombre</th>\n",
       "      <th>tipo</th>\n",
       "      <th>cod_dispositivo</th>\n",
       "      <th>latitud</th>\n",
       "      <th>longitud</th>\n",
       "      <th>id_barrio</th>\n",
       "      <th>num_doc</th>\n",
       "      <th>tipo_doc</th>\n",
       "      <th>canal</th>\n",
       "      <th>num_trx</th>\n",
       "      <th>mnt_total_trx</th>\n",
       "      <th>ubicacion</th>\n",
       "    </tr>\n",
       "  </thead>\n",
       "  <tbody>\n",
       "    <tr>\n",
       "      <th>45679</th>\n",
       "      <td>737999414</td>\n",
       "      <td>San Fernando Nuevo</td>\n",
       "      <td>DISPENSADOR</td>\n",
       "      <td>2899</td>\n",
       "      <td>3.425894</td>\n",
       "      <td>-76.545913</td>\n",
       "      <td>737999414</td>\n",
       "      <td>-5595617085048382579</td>\n",
       "      <td>1</td>\n",
       "      <td>DISPENSADOR</td>\n",
       "      <td>1</td>\n",
       "      <td>1449.5</td>\n",
       "      <td>(3.42589406, -76.54591282)</td>\n",
       "    </tr>\n",
       "    <tr>\n",
       "      <th>43454</th>\n",
       "      <td>738000407</td>\n",
       "      <td>Urbanizacion San Juaquin</td>\n",
       "      <td>POS</td>\n",
       "      <td>10932812</td>\n",
       "      <td>3.370904</td>\n",
       "      <td>-76.528167</td>\n",
       "      <td>738000407</td>\n",
       "      <td>-8512265410796523669</td>\n",
       "      <td>1</td>\n",
       "      <td>POS</td>\n",
       "      <td>1</td>\n",
       "      <td>5466406.0</td>\n",
       "      <td>(3.370904367, -76.52816668)</td>\n",
       "    </tr>\n",
       "    <tr>\n",
       "      <th>12595</th>\n",
       "      <td>737998832</td>\n",
       "      <td>San Pedro</td>\n",
       "      <td>DISPENSADOR</td>\n",
       "      <td>745</td>\n",
       "      <td>3.451204</td>\n",
       "      <td>-76.532942</td>\n",
       "      <td>737998832</td>\n",
       "      <td>4762564248839630886</td>\n",
       "      <td>2</td>\n",
       "      <td>SAI</td>\n",
       "      <td>1</td>\n",
       "      <td>372.5</td>\n",
       "      <td>(3.45120421, -76.5329424)</td>\n",
       "    </tr>\n",
       "    <tr>\n",
       "      <th>80957</th>\n",
       "      <td>737998832</td>\n",
       "      <td>San Pedro</td>\n",
       "      <td>SAI</td>\n",
       "      <td>60</td>\n",
       "      <td>3.450632</td>\n",
       "      <td>-76.532643</td>\n",
       "      <td>737998832</td>\n",
       "      <td>-3684496260878906259</td>\n",
       "      <td>1</td>\n",
       "      <td>SAI</td>\n",
       "      <td>2</td>\n",
       "      <td>60.0</td>\n",
       "      <td>(3.45063236, -76.5326427)</td>\n",
       "    </tr>\n",
       "    <tr>\n",
       "      <th>8990</th>\n",
       "      <td>737999422</td>\n",
       "      <td>Paseo De Los Almendros</td>\n",
       "      <td>POS</td>\n",
       "      <td>13245329</td>\n",
       "      <td>3.472500</td>\n",
       "      <td>-76.493151</td>\n",
       "      <td>737999422</td>\n",
       "      <td>1750401868043185683</td>\n",
       "      <td>1</td>\n",
       "      <td>POS</td>\n",
       "      <td>1</td>\n",
       "      <td>6622664.5</td>\n",
       "      <td>(3.47249961951, -76.4931507782)</td>\n",
       "    </tr>\n",
       "    <tr>\n",
       "      <th>65881</th>\n",
       "      <td>737998251</td>\n",
       "      <td>San Vicente</td>\n",
       "      <td>POS</td>\n",
       "      <td>11857968</td>\n",
       "      <td>3.472829</td>\n",
       "      <td>-76.526125</td>\n",
       "      <td>737998251</td>\n",
       "      <td>3789542455820989022</td>\n",
       "      <td>2</td>\n",
       "      <td>POS</td>\n",
       "      <td>1</td>\n",
       "      <td>5928984.0</td>\n",
       "      <td>(3.472828676, -76.52612536)</td>\n",
       "    </tr>\n",
       "    <tr>\n",
       "      <th>2804</th>\n",
       "      <td>737999419</td>\n",
       "      <td>El Sena</td>\n",
       "      <td>DISPENSADOR</td>\n",
       "      <td>4612</td>\n",
       "      <td>3.465189</td>\n",
       "      <td>-76.501004</td>\n",
       "      <td>737999419</td>\n",
       "      <td>8125695988097917675</td>\n",
       "      <td>1</td>\n",
       "      <td>DISPENSADOR</td>\n",
       "      <td>1</td>\n",
       "      <td>2306.0</td>\n",
       "      <td>(3.46518894, -76.50100445)</td>\n",
       "    </tr>\n",
       "    <tr>\n",
       "      <th>11923</th>\n",
       "      <td>737998832</td>\n",
       "      <td>San Pedro</td>\n",
       "      <td>DISPENSADOR</td>\n",
       "      <td>745</td>\n",
       "      <td>3.451204</td>\n",
       "      <td>-76.532942</td>\n",
       "      <td>737998832</td>\n",
       "      <td>-3448117784227959588</td>\n",
       "      <td>1</td>\n",
       "      <td>SAI</td>\n",
       "      <td>1</td>\n",
       "      <td>372.5</td>\n",
       "      <td>(3.45120421, -76.5329424)</td>\n",
       "    </tr>\n",
       "    <tr>\n",
       "      <th>19698</th>\n",
       "      <td>738001428</td>\n",
       "      <td>U Dep Galindo Plaza Toros</td>\n",
       "      <td>DISPENSADOR</td>\n",
       "      <td>4086</td>\n",
       "      <td>3.413885</td>\n",
       "      <td>-76.548591</td>\n",
       "      <td>738001428</td>\n",
       "      <td>3826332529944999018</td>\n",
       "      <td>1</td>\n",
       "      <td>DISPENSADOR</td>\n",
       "      <td>1</td>\n",
       "      <td>2043.0</td>\n",
       "      <td>(3.41388522, -76.54859099)</td>\n",
       "    </tr>\n",
       "    <tr>\n",
       "      <th>70242</th>\n",
       "      <td>737998194</td>\n",
       "      <td>Santa Monica Residencial</td>\n",
       "      <td>POS</td>\n",
       "      <td>15390560</td>\n",
       "      <td>3.466201</td>\n",
       "      <td>-76.530223</td>\n",
       "      <td>737998194</td>\n",
       "      <td>2214959352829479337</td>\n",
       "      <td>1</td>\n",
       "      <td>POS</td>\n",
       "      <td>1</td>\n",
       "      <td>7695280.0</td>\n",
       "      <td>(3.46620068378, -76.5302232411)</td>\n",
       "    </tr>\n",
       "  </tbody>\n",
       "</table>\n",
       "</div>"
      ],
      "text/plain": [
       "          codigo                     nombre         tipo  cod_dispositivo  \\\n",
       "45679  737999414         San Fernando Nuevo  DISPENSADOR             2899   \n",
       "43454  738000407   Urbanizacion San Juaquin          POS         10932812   \n",
       "12595  737998832                  San Pedro  DISPENSADOR              745   \n",
       "80957  737998832                  San Pedro          SAI               60   \n",
       "8990   737999422     Paseo De Los Almendros          POS         13245329   \n",
       "65881  737998251                San Vicente          POS         11857968   \n",
       "2804   737999419                    El Sena  DISPENSADOR             4612   \n",
       "11923  737998832                  San Pedro  DISPENSADOR              745   \n",
       "19698  738001428  U Dep Galindo Plaza Toros  DISPENSADOR             4086   \n",
       "70242  737998194   Santa Monica Residencial          POS         15390560   \n",
       "\n",
       "        latitud   longitud  id_barrio              num_doc  tipo_doc  \\\n",
       "45679  3.425894 -76.545913  737999414 -5595617085048382579         1   \n",
       "43454  3.370904 -76.528167  738000407 -8512265410796523669         1   \n",
       "12595  3.451204 -76.532942  737998832  4762564248839630886         2   \n",
       "80957  3.450632 -76.532643  737998832 -3684496260878906259         1   \n",
       "8990   3.472500 -76.493151  737999422  1750401868043185683         1   \n",
       "65881  3.472829 -76.526125  737998251  3789542455820989022         2   \n",
       "2804   3.465189 -76.501004  737999419  8125695988097917675         1   \n",
       "11923  3.451204 -76.532942  737998832 -3448117784227959588         1   \n",
       "19698  3.413885 -76.548591  738001428  3826332529944999018         1   \n",
       "70242  3.466201 -76.530223  737998194  2214959352829479337         1   \n",
       "\n",
       "             canal  num_trx  mnt_total_trx                        ubicacion  \n",
       "45679  DISPENSADOR        1         1449.5       (3.42589406, -76.54591282)  \n",
       "43454          POS        1      5466406.0      (3.370904367, -76.52816668)  \n",
       "12595          SAI        1          372.5        (3.45120421, -76.5329424)  \n",
       "80957          SAI        2           60.0        (3.45063236, -76.5326427)  \n",
       "8990           POS        1      6622664.5  (3.47249961951, -76.4931507782)  \n",
       "65881          POS        1      5928984.0      (3.472828676, -76.52612536)  \n",
       "2804   DISPENSADOR        1         2306.0       (3.46518894, -76.50100445)  \n",
       "11923          SAI        1          372.5        (3.45120421, -76.5329424)  \n",
       "19698  DISPENSADOR        1         2043.0       (3.41388522, -76.54859099)  \n",
       "70242          POS        1      7695280.0  (3.46620068378, -76.5302232411)  "
      ]
     },
     "execution_count": 44,
     "metadata": {},
     "output_type": "execute_result"
    }
   ],
   "source": [
    "df_join['nombre'] = df_join['nombre'].apply(quitar_tildes)\n",
    "df_join.sample(10)"
   ]
  },
  {
   "cell_type": "code",
   "execution_count": 45,
   "id": "d81ca19d-cccd-4668-bdb5-f3befdbf8f9c",
   "metadata": {
    "tags": []
   },
   "outputs": [],
   "source": [
    "estratificacion_cali['nombre'] = estratificacion_cali['nombre'].apply(quitar_tildes)"
   ]
  },
  {
   "cell_type": "code",
   "execution_count": 46,
   "id": "9e047398-d6d9-4879-9005-059537510c50",
   "metadata": {
    "tags": []
   },
   "outputs": [
    {
     "data": {
      "text/html": [
       "<div>\n",
       "<style scoped>\n",
       "    .dataframe tbody tr th:only-of-type {\n",
       "        vertical-align: middle;\n",
       "    }\n",
       "\n",
       "    .dataframe tbody tr th {\n",
       "        vertical-align: top;\n",
       "    }\n",
       "\n",
       "    .dataframe thead th {\n",
       "        text-align: right;\n",
       "    }\n",
       "</style>\n",
       "<table border=\"1\" class=\"dataframe\">\n",
       "  <thead>\n",
       "    <tr style=\"text-align: right;\">\n",
       "      <th></th>\n",
       "      <th>nombre</th>\n",
       "      <th>estrato</th>\n",
       "    </tr>\n",
       "  </thead>\n",
       "  <tbody>\n",
       "    <tr>\n",
       "      <th>110</th>\n",
       "      <td>La Floresta</td>\n",
       "      <td>3</td>\n",
       "    </tr>\n",
       "    <tr>\n",
       "      <th>49</th>\n",
       "      <td>Salomia</td>\n",
       "      <td>3</td>\n",
       "    </tr>\n",
       "    <tr>\n",
       "      <th>199</th>\n",
       "      <td>Charco Azul</td>\n",
       "      <td>1</td>\n",
       "    </tr>\n",
       "    <tr>\n",
       "      <th>56</th>\n",
       "      <td>Marco Fidel Suarez</td>\n",
       "      <td>2</td>\n",
       "    </tr>\n",
       "    <tr>\n",
       "      <th>193</th>\n",
       "      <td>Omar Torrijos</td>\n",
       "      <td>2</td>\n",
       "    </tr>\n",
       "    <tr>\n",
       "      <th>66</th>\n",
       "      <td>El Sena</td>\n",
       "      <td>3</td>\n",
       "    </tr>\n",
       "    <tr>\n",
       "      <th>133</th>\n",
       "      <td>El Dorado</td>\n",
       "      <td>3</td>\n",
       "    </tr>\n",
       "    <tr>\n",
       "      <th>355</th>\n",
       "      <td>Comuna 9</td>\n",
       "      <td>3</td>\n",
       "    </tr>\n",
       "    <tr>\n",
       "      <th>292</th>\n",
       "      <td>Urbanizacion Militar</td>\n",
       "      <td>4</td>\n",
       "    </tr>\n",
       "    <tr>\n",
       "      <th>362</th>\n",
       "      <td>Comuna 16</td>\n",
       "      <td>2</td>\n",
       "    </tr>\n",
       "  </tbody>\n",
       "</table>\n",
       "</div>"
      ],
      "text/plain": [
       "                   nombre estrato\n",
       "110           La Floresta       3\n",
       "49                Salomia       3\n",
       "199           Charco Azul       1\n",
       "56     Marco Fidel Suarez       2\n",
       "193         Omar Torrijos       2\n",
       "66                El Sena       3\n",
       "133             El Dorado       3\n",
       "355              Comuna 9       3\n",
       "292  Urbanizacion Militar       4\n",
       "362             Comuna 16       2"
      ]
     },
     "execution_count": 46,
     "metadata": {},
     "output_type": "execute_result"
    }
   ],
   "source": [
    "estratificacion_cali.sample(10)"
   ]
  },
  {
   "cell_type": "code",
   "execution_count": 47,
   "id": "92f52d5e-14b2-4fb4-be88-44286d3563ed",
   "metadata": {},
   "outputs": [],
   "source": [
    "df_join_merged_v2 = pd.merge(df_join, estratificacion_cali, on = 'nombre', how = 'left')"
   ]
  },
  {
   "cell_type": "code",
   "execution_count": 48,
   "id": "1f578256-d541-44d3-a36e-929191349656",
   "metadata": {},
   "outputs": [
    {
     "data": {
      "text/plain": [
       "<seaborn.axisgrid.FacetGrid at 0x7ff1120bba60>"
      ]
     },
     "execution_count": 48,
     "metadata": {},
     "output_type": "execute_result"
    },
    {
     "data": {
      "image/png": "[encoded data removed]",
      "text/plain": [
       "<Figure size 584.875x500 with 1 Axes>"
      ]
     },
     "metadata": {},
     "output_type": "display_data"
    }
   ],
   "source": [
    "(\n",
    "    df_join_merged_v2\n",
    "    .isnull()\n",
    "    .melt()\n",
    "    .pipe(\n",
    "        lambda df: sns.displot(\n",
    "            data = df,\n",
    "            y = 'variable',\n",
    "            hue = 'value',\n",
    "            multiple = 'fill'\n",
    "        )\n",
    "    )\n",
    ")"
   ]
  },
  {
   "cell_type": "code",
   "execution_count": 49,
   "id": "d82347f9-e781-4826-af2b-95614b744b77",
   "metadata": {},
   "outputs": [
    {
     "data": {
      "text/plain": [
       "codigo                 0\n",
       "nombre                 0\n",
       "tipo                   0\n",
       "cod_dispositivo        0\n",
       "latitud                0\n",
       "longitud               0\n",
       "id_barrio              0\n",
       "num_doc                0\n",
       "tipo_doc               0\n",
       "canal                  0\n",
       "num_trx                0\n",
       "mnt_total_trx          0\n",
       "ubicacion              0\n",
       "estrato            20101\n",
       "dtype: int64"
      ]
     },
     "execution_count": 49,
     "metadata": {},
     "output_type": "execute_result"
    }
   ],
   "source": [
    "(\n",
    "    df_join_merged_v2\n",
    "    .isnull()\n",
    "    .sum()\n",
    ")"
   ]
  },
  {
   "cell_type": "markdown",
   "id": "4966b297-cfb0-43f5-a933-27bd349092f8",
   "metadata": {},
   "source": [
    "Al pasar los subdataframes por la función de estandarización de los nombres, se encontraron 3.700 datos (aprox.). Es necesario seguir limpiando hasta encontrar casi la totalidad de estos."
   ]
  },
  {
   "cell_type": "code",
   "execution_count": 50,
   "id": "b9fc7c81-9d60-4705-b327-db4f87b84109",
   "metadata": {},
   "outputs": [],
   "source": [
    "mask_2 = df_join_merged_v2.loc[:,'estrato'].isnull()"
   ]
  },
  {
   "cell_type": "code",
   "execution_count": 51,
   "id": "009996f7-7028-4de5-b7b5-784c960368e4",
   "metadata": {},
   "outputs": [],
   "source": [
    "barrios_faltantes = list(df_join_merged_v2.loc[mask_2, :]['nombre'].unique())"
   ]
  },
  {
   "cell_type": "code",
   "execution_count": 52,
   "id": "c62f273e-f87f-405a-bdc7-5b53cae624be",
   "metadata": {},
   "outputs": [],
   "source": [
    "barrios_faltantes.sort()"
   ]
  },
  {
   "cell_type": "code",
   "execution_count": 53,
   "id": "b36fecb9-9303-411f-a1f8-7f8f5deac3ce",
   "metadata": {
    "tags": []
   },
   "outputs": [
    {
     "data": {
      "text/plain": [
       "['12 De Octubre',\n",
       " 'Acueducto San Antonio',\n",
       " 'Alfonso Barberena',\n",
       " 'Alfonso Lopez I',\n",
       " 'Alfonso Lopez Ii',\n",
       " 'Alfonso Lopez Iii',\n",
       " 'Alto Jordan',\n",
       " 'Altos De Santa Isabel La Morelia',\n",
       " 'Atanasio Girardota',\n",
       " 'A\\x81Rea Libre Parque Del Amor',\n",
       " 'Bajos Ciudad Cordoba',\n",
       " 'Boyaca',\n",
       " 'Brisas De Los A\\x81Lamos',\n",
       " 'Caldas',\n",
       " 'Camino Real Joaquin Borrero',\n",
       " 'Camino Real Los Fundadores',\n",
       " 'Canaveralejo Seguros Patria',\n",
       " 'Canaverales Los Samanes',\n",
       " 'Cataya El Gran Limonar',\n",
       " 'Ciudad Los A\\x81Lamos',\n",
       " 'Ciudad Talanga',\n",
       " 'Ciudadela Del Rio',\n",
       " 'Ciudadela Paso Ancho',\n",
       " 'Cuarto De Legua Guadalupe',\n",
       " 'Departamental',\n",
       " 'El A\\x81Ngel Del Hogar',\n",
       " 'Esmeralda',\n",
       " 'Guillermo Leon Valencia',\n",
       " 'Jose M. Cordoba',\n",
       " 'Jose Manuel Marroquin I',\n",
       " 'Jose Manuel Marroquin Ii',\n",
       " 'La Ciudadela Confandi',\n",
       " 'La Rivera',\n",
       " 'Leon Xii',\n",
       " 'Lleras Restrepo Ii',\n",
       " 'Los Andes B La Riviera',\n",
       " 'Los Comuneros I',\n",
       " 'Los Comuneros Ii',\n",
       " 'Los Parques',\n",
       " 'Los Portales Nuevo Rey',\n",
       " 'Los Rubles',\n",
       " 'Manuel Maria Buenventura',\n",
       " 'Mayapan Las Vegas',\n",
       " 'Nueva Floresta Del Ict',\n",
       " 'Nueva Granada',\n",
       " 'Olaya Herrera',\n",
       " 'Pampalinda',\n",
       " 'Paseo Del Comercio',\n",
       " 'Petecuy Ii',\n",
       " 'Promociones Populares',\n",
       " 'Quintas De Don Simon',\n",
       " 'Rafael Uribe',\n",
       " 'San Carlos',\n",
       " 'San Francisco Berlin',\n",
       " 'Santa Anita',\n",
       " 'Santa Monica Residencial',\n",
       " 'U Dep Galindo Plaza Toros',\n",
       " 'U Dep Panamericana Ant Hipodromo',\n",
       " 'Unidad Residencial Bueno Madrid',\n",
       " 'Unidad Residencial El Coliseo',\n",
       " 'Unidad Residencial Santiago De Cali',\n",
       " 'Urbanizacion La Nueva Base',\n",
       " 'Urbanizacion San Juaquin',\n",
       " 'Villa Blanca',\n",
       " 'Villa Del Prado El Guabito',\n",
       " 'Ville Grande']"
      ]
     },
     "execution_count": 53,
     "metadata": {},
     "output_type": "execute_result"
    }
   ],
   "source": [
    "barrios_faltantes"
   ]
  },
  {
   "cell_type": "markdown",
   "id": "e88219cb-1fce-4f01-9764-d5d17ef20d01",
   "metadata": {},
   "source": [
    "Los datos faltantes se pueden deber a diferencias en la sintaxis entre los nombres de los barrios en el conjunto de datos principal y los nombres en el conjunto de datos de la estratificación descargados del portal gubernamental del Valle del Cauca. Por tal motivo, se procede a verificar y estandarizar de forma manual."
   ]
  },
  {
   "cell_type": "code",
   "execution_count": 54,
   "id": "e9d57fed-0e2e-4389-8537-75b60b8299ef",
   "metadata": {},
   "outputs": [],
   "source": [
    "cond_parq_am = df_join.loc[:,'nombre'] == 'A\\x81Rea Libre Parque Del Amor'"
   ]
  },
  {
   "cell_type": "code",
   "execution_count": 55,
   "id": "9a96929e-a8b6-4fa9-ad46-e8a74e191f67",
   "metadata": {},
   "outputs": [],
   "source": [
    "df_join.loc[cond_parq_am, 'nombre'] = 'Area en desarrollo Parque del Amor'"
   ]
  },
  {
   "cell_type": "code",
   "execution_count": 56,
   "id": "cf05fa2f-b9eb-4f50-806a-f9c9507cdef3",
   "metadata": {},
   "outputs": [],
   "source": [
    "cond_ciud_cord = df_join.loc[:,'nombre'] == 'Bajos Ciudad Cordoba'"
   ]
  },
  {
   "cell_type": "code",
   "execution_count": 57,
   "id": "de788373-b998-4c7a-8c81-24b0a921ff66",
   "metadata": {},
   "outputs": [],
   "source": [
    "df_join.loc[cond_ciud_cord, 'nombre'] = 'Ciudad Cordoba'"
   ]
  },
  {
   "cell_type": "code",
   "execution_count": 58,
   "id": "e75f28aa-7b2f-4f5a-a05c-f5c4f7144eb7",
   "metadata": {},
   "outputs": [],
   "source": [
    "cond_bris_al = df_join.loc[:,'nombre'] == 'Brisas De Los A\\x81Lamos'"
   ]
  },
  {
   "cell_type": "code",
   "execution_count": 59,
   "id": "ab735f3c-9c91-463f-b66e-1778f0bd164f",
   "metadata": {},
   "outputs": [],
   "source": [
    "df_join.loc[cond_bris_al, 'nombre'] = 'Brisas de Los Alamos'"
   ]
  },
  {
   "cell_type": "code",
   "execution_count": 60,
   "id": "b2acd797-12b9-4f38-bc05-29c514481c1c",
   "metadata": {},
   "outputs": [],
   "source": [
    "cond_ciud_al = df_join.loc[:,'nombre'] == 'Ciudad Los A\\x81Lamos'"
   ]
  },
  {
   "cell_type": "code",
   "execution_count": 61,
   "id": "a6fadcb5-290f-4797-8984-a04797b3dda8",
   "metadata": {},
   "outputs": [],
   "source": [
    "df_join.loc[cond_ciud_al, 'nombre'] = 'Ciudad Los Alamos'"
   ]
  },
  {
   "cell_type": "code",
   "execution_count": 62,
   "id": "33bfbed2-a65f-4638-8d0d-61b054d14911",
   "metadata": {},
   "outputs": [],
   "source": [
    "cond_ang_hog = df_join.loc[:,'nombre'] == 'El A\\x81Ngel Del Hogar'"
   ]
  },
  {
   "cell_type": "code",
   "execution_count": 63,
   "id": "bf89d0f1-08a4-41a2-a7a6-dd0c0bab1228",
   "metadata": {
    "tags": []
   },
   "outputs": [],
   "source": [
    "df_join.loc[cond_ang_hog, 'nombre'] = 'El Angel del Hogar'"
   ]
  },
  {
   "cell_type": "code",
   "execution_count": 64,
   "id": "3c28ba2f-78be-46c9-a1c6-6687a90ea154",
   "metadata": {},
   "outputs": [],
   "source": [
    "cond_valle_g = df_join.loc[:,'nombre'] == 'Ville Grande'"
   ]
  },
  {
   "cell_type": "code",
   "execution_count": 65,
   "id": "926e8149-22d5-4797-9517-4e0aab88383f",
   "metadata": {},
   "outputs": [],
   "source": [
    "df_join.loc[cond_valle_g, 'nombre'] = 'Valle Grande'"
   ]
  },
  {
   "cell_type": "code",
   "execution_count": 66,
   "id": "8f2979dc-be4b-4eeb-ac8d-c026cf2b6c68",
   "metadata": {},
   "outputs": [
    {
     "data": {
      "text/html": [
       "<div>\n",
       "<style scoped>\n",
       "    .dataframe tbody tr th:only-of-type {\n",
       "        vertical-align: middle;\n",
       "    }\n",
       "\n",
       "    .dataframe tbody tr th {\n",
       "        vertical-align: top;\n",
       "    }\n",
       "\n",
       "    .dataframe thead th {\n",
       "        text-align: right;\n",
       "    }\n",
       "</style>\n",
       "<table border=\"1\" class=\"dataframe\">\n",
       "  <thead>\n",
       "    <tr style=\"text-align: right;\">\n",
       "      <th></th>\n",
       "      <th>nombre</th>\n",
       "      <th>estrato</th>\n",
       "    </tr>\n",
       "  </thead>\n",
       "  <tbody>\n",
       "    <tr>\n",
       "      <th>0</th>\n",
       "      <td>12 De Octubre</td>\n",
       "      <td>3</td>\n",
       "    </tr>\n",
       "    <tr>\n",
       "      <th>1</th>\n",
       "      <td>20 de Julio</td>\n",
       "      <td>3</td>\n",
       "    </tr>\n",
       "    <tr>\n",
       "      <th>2</th>\n",
       "      <td>3 de Julio</td>\n",
       "      <td>4</td>\n",
       "    </tr>\n",
       "    <tr>\n",
       "      <th>3</th>\n",
       "      <td>Aguablanca</td>\n",
       "      <td>3</td>\n",
       "    </tr>\n",
       "    <tr>\n",
       "      <th>4</th>\n",
       "      <td>Aguacatal</td>\n",
       "      <td>1</td>\n",
       "    </tr>\n",
       "  </tbody>\n",
       "</table>\n",
       "</div>"
      ],
      "text/plain": [
       "          nombre estrato\n",
       "0  12 De Octubre       3\n",
       "1    20 de Julio       3\n",
       "2     3 de Julio       4\n",
       "3     Aguablanca       3\n",
       "4      Aguacatal       1"
      ]
     },
     "execution_count": 66,
     "metadata": {},
     "output_type": "execute_result"
    }
   ],
   "source": [
    "est_cali_clean = pd.read_csv('estratificacion_cali_clean.csv')\n",
    "est_cali_clean = est_cali_clean[['Barrio', 'Estrato moda']]\n",
    "est_cali_clean.columns = ['nombre', 'estrato']\n",
    "est_cali_clean.head()"
   ]
  },
  {
   "cell_type": "code",
   "execution_count": 67,
   "id": "92fa366d-e424-4303-96ca-dd080b91a264",
   "metadata": {},
   "outputs": [],
   "source": [
    "df_join['nombre'] = df_join['nombre'].apply(quitar_tildes)\n",
    "est_cali_clean['nombre'] = est_cali_clean['nombre'].apply(quitar_tildes)"
   ]
  },
  {
   "cell_type": "code",
   "execution_count": 68,
   "id": "60d8c068-eff6-4b4d-ac73-10283dcdf538",
   "metadata": {},
   "outputs": [],
   "source": [
    "df_join_merged_v3 = pd.merge(df_join, est_cali_clean, on = 'nombre', how = 'left')"
   ]
  },
  {
   "cell_type": "code",
   "execution_count": 69,
   "id": "b538f20a-608d-49e2-9750-a345c7fa2034",
   "metadata": {},
   "outputs": [
    {
     "data": {
      "text/plain": [
       "<seaborn.axisgrid.FacetGrid at 0x7ff111c6bca0>"
      ]
     },
     "execution_count": 69,
     "metadata": {},
     "output_type": "execute_result"
    },
    {
     "data": {
      "image/png": "[encoded data removed]",
      "text/plain": [
       "<Figure size 584.875x500 with 1 Axes>"
      ]
     },
     "metadata": {},
     "output_type": "display_data"
    }
   ],
   "source": [
    "(\n",
    "    df_join_merged_v3\n",
    "    .isnull()\n",
    "    .melt()\n",
    "    .pipe(\n",
    "        lambda df: sns.displot(\n",
    "            data = df,\n",
    "            y = 'variable',\n",
    "            hue = 'value',\n",
    "            multiple = 'fill'\n",
    "        )\n",
    "    )\n",
    ")"
   ]
  },
  {
   "cell_type": "code",
   "execution_count": 70,
   "id": "2ac3f609-0278-46ee-9dd0-3b79d1bd6d29",
   "metadata": {},
   "outputs": [
    {
     "data": {
      "text/plain": [
       "codigo             0\n",
       "nombre             0\n",
       "tipo               0\n",
       "cod_dispositivo    0\n",
       "latitud            0\n",
       "longitud           0\n",
       "id_barrio          0\n",
       "num_doc            0\n",
       "tipo_doc           0\n",
       "canal              0\n",
       "num_trx            0\n",
       "mnt_total_trx      0\n",
       "ubicacion          0\n",
       "estrato            5\n",
       "dtype: int64"
      ]
     },
     "execution_count": 70,
     "metadata": {},
     "output_type": "execute_result"
    }
   ],
   "source": [
    "(\n",
    "    df_join_merged_v3\n",
    "    .isnull()\n",
    "    .sum()\n",
    ")"
   ]
  },
  {
   "cell_type": "code",
   "execution_count": 71,
   "id": "e2b56243-21a1-40e5-97bb-07f8d038cfcd",
   "metadata": {},
   "outputs": [
    {
     "data": {
      "text/plain": [
       "array(['U Dep Panamericana Ant Hipodromo'], dtype=object)"
      ]
     },
     "execution_count": 71,
     "metadata": {},
     "output_type": "execute_result"
    }
   ],
   "source": [
    "mask_4 = df_join_merged_v3.loc[:,'estrato'].isnull()\n",
    "\n",
    "df_join_merged_v3.loc[mask_4, 'nombre'].unique()"
   ]
  },
  {
   "cell_type": "code",
   "execution_count": 72,
   "id": "6ec74eeb-f80b-4f74-aebb-953e851a567f",
   "metadata": {
    "tags": []
   },
   "outputs": [],
   "source": [
    "df_join_merged_v3 = (\n",
    "    df_join_merged_v3\n",
    "    .dropna(\n",
    "        subset = ['estrato']\n",
    "    )\n",
    ")\n"
   ]
  },
  {
   "cell_type": "code",
   "execution_count": 73,
   "id": "e3498245-091e-4727-ad41-a20825c6f5a5",
   "metadata": {},
   "outputs": [
    {
     "data": {
      "text/plain": [
       "codigo             0\n",
       "nombre             0\n",
       "tipo               0\n",
       "cod_dispositivo    0\n",
       "latitud            0\n",
       "longitud           0\n",
       "id_barrio          0\n",
       "num_doc            0\n",
       "tipo_doc           0\n",
       "canal              0\n",
       "num_trx            0\n",
       "mnt_total_trx      0\n",
       "ubicacion          0\n",
       "estrato            0\n",
       "dtype: int64"
      ]
     },
     "execution_count": 73,
     "metadata": {},
     "output_type": "execute_result"
    }
   ],
   "source": [
    "(\n",
    "    df_join_merged_v3\n",
    "    .isnull()\n",
    "    .sum()\n",
    ")"
   ]
  },
  {
   "cell_type": "markdown",
   "id": "9a9dd24a-8c77-4b9e-821b-e427b7a612a8",
   "metadata": {},
   "source": [
    "Finalmente tenemos el dataset estratificado y sin valores nulos, lo que permitirá llevar a cabo el análisis."
   ]
  },
  {
   "cell_type": "markdown",
   "id": "d0304ae5-d766-416a-bc19-4bfc6c54b120",
   "metadata": {},
   "source": [
    "**1.3. Depuración de variables**"
   ]
  },
  {
   "cell_type": "markdown",
   "id": "9eaedf98-1ae1-418d-b0cb-a899f71bfa86",
   "metadata": {},
   "source": [
    "Teniendo en cuenta que algunas variables pueden ser redundantes para el análisis, es importante llevar a cabo una depuración del conjunto de datos."
   ]
  },
  {
   "cell_type": "code",
   "execution_count": 74,
   "id": "4f7806a3-b351-4738-8542-46edbec0421c",
   "metadata": {},
   "outputs": [
    {
     "data": {
      "text/plain": [
       "6012"
      ]
     },
     "execution_count": 74,
     "metadata": {},
     "output_type": "execute_result"
    }
   ],
   "source": [
    "df_join_merged_v3.cod_dispositivo.nunique()"
   ]
  },
  {
   "cell_type": "markdown",
   "id": "43ba6e6b-1933-4e02-94d3-e7f17fae3be9",
   "metadata": {},
   "source": [
    "El código de dispositivo puede ser útil para identificar los dispositivos con mayor actividad."
   ]
  },
  {
   "cell_type": "markdown",
   "id": "334967ac-1b35-4efb-a979-052eaa36cc78",
   "metadata": {},
   "source": [
    "Las columnas *tipo y canal* pueden brindar información relevante respecto a los tipos de transacciones y el canal mediante el cual se realizaron. No obstante, parecen tener información duplicada y, de ser así, podemos prescindir de una de las dos variables. Miremos:"
   ]
  },
  {
   "cell_type": "code",
   "execution_count": 75,
   "id": "443de673-c5e1-4aad-9daa-c219223db55e",
   "metadata": {},
   "outputs": [
    {
     "data": {
      "text/plain": [
       "array(['POS', 'CB', 'DISPENSADOR', 'SAI', 'MF', 'PAC'], dtype=object)"
      ]
     },
     "execution_count": 75,
     "metadata": {},
     "output_type": "execute_result"
    }
   ],
   "source": [
    "df_join_merged_v3.canal.unique()"
   ]
  },
  {
   "cell_type": "code",
   "execution_count": 76,
   "id": "67b3e135-5a95-4fff-98ad-a678413df269",
   "metadata": {},
   "outputs": [
    {
     "data": {
      "text/plain": [
       "array(['POS', 'CB', 'DISPENSADOR', 'SAI', 'MF', 'PAC'], dtype=object)"
      ]
     },
     "execution_count": 76,
     "metadata": {},
     "output_type": "execute_result"
    }
   ],
   "source": [
    "df_join_merged_v3.tipo.unique()"
   ]
  },
  {
   "cell_type": "code",
   "execution_count": 77,
   "id": "22567429-9655-43a2-9351-2def77acaa13",
   "metadata": {},
   "outputs": [
    {
     "data": {
      "text/plain": [
       "1.245705846469965"
      ]
     },
     "execution_count": 77,
     "metadata": {},
     "output_type": "execute_result"
    }
   ],
   "source": [
    "(df_join_merged_v3.query('tipo != canal').shape[0] / df_join_merged_v3.query('tipo == canal').shape[0]) * 100"
   ]
  },
  {
   "cell_type": "markdown",
   "id": "ed6e3089-15a2-4edc-b835-d22a2e3a5665",
   "metadata": {},
   "source": [
    "Si bien en una primera instancia parecía información duplicada, vemos que hay registros donde el tipo y el canal difieren,\n",
    "exactamente 1164, los cuales representan un 1.24% de los datos."
   ]
  },
  {
   "cell_type": "code",
   "execution_count": 78,
   "id": "4d77ea9b-2c95-417c-8ae9-5870432caf82",
   "metadata": {},
   "outputs": [
    {
     "data": {
      "text/plain": [
       "array(['SAI', 'DISPENSADOR'], dtype=object)"
      ]
     },
     "execution_count": 78,
     "metadata": {},
     "output_type": "execute_result"
    }
   ],
   "source": [
    "df_join_merged_v3.query('tipo != canal').tipo.unique()"
   ]
  },
  {
   "cell_type": "code",
   "execution_count": 79,
   "id": "9ba38214-1609-4521-b3f1-508c2701a519",
   "metadata": {},
   "outputs": [
    {
     "data": {
      "text/plain": [
       "array(['DISPENSADOR', 'SAI'], dtype=object)"
      ]
     },
     "execution_count": 79,
     "metadata": {},
     "output_type": "execute_result"
    }
   ],
   "source": [
    "df_join_merged_v3.query('tipo != canal').canal.unique()"
   ]
  },
  {
   "cell_type": "code",
   "execution_count": 80,
   "id": "540516f7-8079-403e-a9b4-7fcdd67374ee",
   "metadata": {},
   "outputs": [
    {
     "data": {
      "text/plain": [
       "array(['SAI'], dtype=object)"
      ]
     },
     "execution_count": 80,
     "metadata": {},
     "output_type": "execute_result"
    }
   ],
   "source": [
    "df_join_merged_v3.query('tipo != canal & tipo == \"DISPENSADOR\"').canal.unique()"
   ]
  },
  {
   "cell_type": "code",
   "execution_count": 81,
   "id": "cc746fe6-25f5-41da-b673-a065a6bd9717",
   "metadata": {},
   "outputs": [
    {
     "data": {
      "text/plain": [
       "array(['DISPENSADOR'], dtype=object)"
      ]
     },
     "execution_count": 81,
     "metadata": {},
     "output_type": "execute_result"
    }
   ],
   "source": [
    "df_join_merged_v3.query('tipo != canal & tipo == \"SAI\"').canal.unique()"
   ]
  },
  {
   "cell_type": "markdown",
   "id": "8ab3d891-c751-496f-9ca5-3782ba29c380",
   "metadata": {},
   "source": [
    "Podemos observar que en los casos donde el tipo y el canal difieren, cuando el tipo es Dispensador el canal es SAI y viceversa, por lo que podríamos inferir que son canales complementarios y prescindir de una de las columnas."
   ]
  },
  {
   "cell_type": "code",
   "execution_count": 82,
   "id": "aae1b582-6a26-4d06-a9c0-5d0ccc552f47",
   "metadata": {},
   "outputs": [
    {
     "data": {
      "text/plain": [
       "array([1, 2, 4, 3, 9])"
      ]
     },
     "execution_count": 82,
     "metadata": {},
     "output_type": "execute_result"
    }
   ],
   "source": [
    "df_join_merged_v3.tipo_doc.unique()"
   ]
  },
  {
   "cell_type": "code",
   "execution_count": 83,
   "id": "d22b6a30-6617-43af-888e-4f9aa6700e05",
   "metadata": {},
   "outputs": [
    {
     "data": {
      "text/plain": [
       "Index(['codigo', 'nombre', 'tipo', 'cod_dispositivo', 'latitud', 'longitud',\n",
       "       'id_barrio', 'num_doc', 'tipo_doc', 'canal', 'num_trx', 'mnt_total_trx',\n",
       "       'ubicacion', 'estrato'],\n",
       "      dtype='object')"
      ]
     },
     "execution_count": 83,
     "metadata": {},
     "output_type": "execute_result"
    }
   ],
   "source": [
    "df_join_merged_v3.columns"
   ]
  },
  {
   "cell_type": "code",
   "execution_count": 84,
   "id": "cb83a6e8-7584-488f-aa91-63a4d8cf5553",
   "metadata": {},
   "outputs": [],
   "source": [
    "columnas = ['codigo', 'nombre', 'cod_dispositivo', \n",
    "            'latitud', 'longitud', 'num_doc', 'tipo_doc', 'canal', 'num_trx', 'mnt_total_trx',\n",
    "           'ubicacion', 'estrato']"
   ]
  },
  {
   "cell_type": "code",
   "execution_count": 85,
   "id": "55860f3b-b61b-49fc-9d31-7befa4b9c115",
   "metadata": {},
   "outputs": [
    {
     "data": {
      "text/html": [
       "<div>\n",
       "<style scoped>\n",
       "    .dataframe tbody tr th:only-of-type {\n",
       "        vertical-align: middle;\n",
       "    }\n",
       "\n",
       "    .dataframe tbody tr th {\n",
       "        vertical-align: top;\n",
       "    }\n",
       "\n",
       "    .dataframe thead th {\n",
       "        text-align: right;\n",
       "    }\n",
       "</style>\n",
       "<table border=\"1\" class=\"dataframe\">\n",
       "  <thead>\n",
       "    <tr style=\"text-align: right;\">\n",
       "      <th></th>\n",
       "      <th>codigo</th>\n",
       "      <th>nombre</th>\n",
       "      <th>cod_dispositivo</th>\n",
       "      <th>latitud</th>\n",
       "      <th>longitud</th>\n",
       "      <th>num_doc</th>\n",
       "      <th>tipo_doc</th>\n",
       "      <th>canal</th>\n",
       "      <th>num_trx</th>\n",
       "      <th>mnt_total_trx</th>\n",
       "      <th>ubicacion</th>\n",
       "      <th>estrato</th>\n",
       "    </tr>\n",
       "  </thead>\n",
       "  <tbody>\n",
       "    <tr>\n",
       "      <th>0</th>\n",
       "      <td>737998257</td>\n",
       "      <td>La Campina</td>\n",
       "      <td>12202503</td>\n",
       "      <td>3.479572</td>\n",
       "      <td>-76.525582</td>\n",
       "      <td>-2393994463924208659</td>\n",
       "      <td>1</td>\n",
       "      <td>POS</td>\n",
       "      <td>2</td>\n",
       "      <td>12202503.0</td>\n",
       "      <td>(3.479572082, -76.52558242)</td>\n",
       "      <td>4</td>\n",
       "    </tr>\n",
       "    <tr>\n",
       "      <th>1</th>\n",
       "      <td>737998257</td>\n",
       "      <td>La Campina</td>\n",
       "      <td>10521045</td>\n",
       "      <td>3.480517</td>\n",
       "      <td>-76.525275</td>\n",
       "      <td>-5675531380015678594</td>\n",
       "      <td>1</td>\n",
       "      <td>POS</td>\n",
       "      <td>1</td>\n",
       "      <td>5260522.5</td>\n",
       "      <td>(3.480516553, -76.52527472)</td>\n",
       "      <td>4</td>\n",
       "    </tr>\n",
       "    <tr>\n",
       "      <th>2</th>\n",
       "      <td>737998257</td>\n",
       "      <td>La Campina</td>\n",
       "      <td>10521045</td>\n",
       "      <td>3.480517</td>\n",
       "      <td>-76.525275</td>\n",
       "      <td>-5066077049535851626</td>\n",
       "      <td>1</td>\n",
       "      <td>POS</td>\n",
       "      <td>1</td>\n",
       "      <td>5260522.5</td>\n",
       "      <td>(3.480516553, -76.52527472)</td>\n",
       "      <td>4</td>\n",
       "    </tr>\n",
       "    <tr>\n",
       "      <th>3</th>\n",
       "      <td>737998257</td>\n",
       "      <td>La Campina</td>\n",
       "      <td>13238282</td>\n",
       "      <td>3.479491</td>\n",
       "      <td>-76.525818</td>\n",
       "      <td>-5791329717693361241</td>\n",
       "      <td>1</td>\n",
       "      <td>POS</td>\n",
       "      <td>1</td>\n",
       "      <td>6619141.0</td>\n",
       "      <td>(3.47949063002, -76.5258184734)</td>\n",
       "      <td>4</td>\n",
       "    </tr>\n",
       "    <tr>\n",
       "      <th>4</th>\n",
       "      <td>737998257</td>\n",
       "      <td>La Campina</td>\n",
       "      <td>12567517</td>\n",
       "      <td>3.480958</td>\n",
       "      <td>-76.525153</td>\n",
       "      <td>-397966594878551344</td>\n",
       "      <td>1</td>\n",
       "      <td>POS</td>\n",
       "      <td>1</td>\n",
       "      <td>6283758.5</td>\n",
       "      <td>(3.480957671, -76.52515269)</td>\n",
       "      <td>4</td>\n",
       "    </tr>\n",
       "    <tr>\n",
       "      <th>...</th>\n",
       "      <td>...</td>\n",
       "      <td>...</td>\n",
       "      <td>...</td>\n",
       "      <td>...</td>\n",
       "      <td>...</td>\n",
       "      <td>...</td>\n",
       "      <td>...</td>\n",
       "      <td>...</td>\n",
       "      <td>...</td>\n",
       "      <td>...</td>\n",
       "      <td>...</td>\n",
       "      <td>...</td>\n",
       "    </tr>\n",
       "    <tr>\n",
       "      <th>94605</th>\n",
       "      <td>737998035</td>\n",
       "      <td>Ciudadela Del Rio</td>\n",
       "      <td>11044369</td>\n",
       "      <td>3.425455</td>\n",
       "      <td>-76.464843</td>\n",
       "      <td>-3765831630548519698</td>\n",
       "      <td>1</td>\n",
       "      <td>POS</td>\n",
       "      <td>1</td>\n",
       "      <td>5522184.5</td>\n",
       "      <td>(3.425455055, -76.46484252)</td>\n",
       "      <td>2</td>\n",
       "    </tr>\n",
       "    <tr>\n",
       "      <th>94606</th>\n",
       "      <td>737998035</td>\n",
       "      <td>Ciudadela Del Rio</td>\n",
       "      <td>11044369</td>\n",
       "      <td>3.425455</td>\n",
       "      <td>-76.464843</td>\n",
       "      <td>2580778409722080163</td>\n",
       "      <td>1</td>\n",
       "      <td>POS</td>\n",
       "      <td>39</td>\n",
       "      <td>215365195.5</td>\n",
       "      <td>(3.425455055, -76.46484252)</td>\n",
       "      <td>2</td>\n",
       "    </tr>\n",
       "    <tr>\n",
       "      <th>94607</th>\n",
       "      <td>737998035</td>\n",
       "      <td>Ciudadela Del Rio</td>\n",
       "      <td>11044369</td>\n",
       "      <td>3.425455</td>\n",
       "      <td>-76.464843</td>\n",
       "      <td>-6052852033626412092</td>\n",
       "      <td>1</td>\n",
       "      <td>POS</td>\n",
       "      <td>1</td>\n",
       "      <td>5522184.5</td>\n",
       "      <td>(3.425455055, -76.46484252)</td>\n",
       "      <td>2</td>\n",
       "    </tr>\n",
       "    <tr>\n",
       "      <th>94608</th>\n",
       "      <td>737998035</td>\n",
       "      <td>Ciudadela Del Rio</td>\n",
       "      <td>11044369</td>\n",
       "      <td>3.425455</td>\n",
       "      <td>-76.464843</td>\n",
       "      <td>8994524193252232475</td>\n",
       "      <td>1</td>\n",
       "      <td>POS</td>\n",
       "      <td>2</td>\n",
       "      <td>11044369.0</td>\n",
       "      <td>(3.425455055, -76.46484252)</td>\n",
       "      <td>2</td>\n",
       "    </tr>\n",
       "    <tr>\n",
       "      <th>94609</th>\n",
       "      <td>737998035</td>\n",
       "      <td>Ciudadela Del Rio</td>\n",
       "      <td>11044369</td>\n",
       "      <td>3.425455</td>\n",
       "      <td>-76.464843</td>\n",
       "      <td>3798585324021595230</td>\n",
       "      <td>1</td>\n",
       "      <td>POS</td>\n",
       "      <td>1</td>\n",
       "      <td>5522184.5</td>\n",
       "      <td>(3.425455055, -76.46484252)</td>\n",
       "      <td>2</td>\n",
       "    </tr>\n",
       "  </tbody>\n",
       "</table>\n",
       "<p>94605 rows × 12 columns</p>\n",
       "</div>"
      ],
      "text/plain": [
       "          codigo             nombre  cod_dispositivo   latitud   longitud  \\\n",
       "0      737998257         La Campina         12202503  3.479572 -76.525582   \n",
       "1      737998257         La Campina         10521045  3.480517 -76.525275   \n",
       "2      737998257         La Campina         10521045  3.480517 -76.525275   \n",
       "3      737998257         La Campina         13238282  3.479491 -76.525818   \n",
       "4      737998257         La Campina         12567517  3.480958 -76.525153   \n",
       "...          ...                ...              ...       ...        ...   \n",
       "94605  737998035  Ciudadela Del Rio         11044369  3.425455 -76.464843   \n",
       "94606  737998035  Ciudadela Del Rio         11044369  3.425455 -76.464843   \n",
       "94607  737998035  Ciudadela Del Rio         11044369  3.425455 -76.464843   \n",
       "94608  737998035  Ciudadela Del Rio         11044369  3.425455 -76.464843   \n",
       "94609  737998035  Ciudadela Del Rio         11044369  3.425455 -76.464843   \n",
       "\n",
       "                   num_doc  tipo_doc canal  num_trx  mnt_total_trx  \\\n",
       "0     -2393994463924208659         1   POS        2     12202503.0   \n",
       "1     -5675531380015678594         1   POS        1      5260522.5   \n",
       "2     -5066077049535851626         1   POS        1      5260522.5   \n",
       "3     -5791329717693361241         1   POS        1      6619141.0   \n",
       "4      -397966594878551344         1   POS        1      6283758.5   \n",
       "...                    ...       ...   ...      ...            ...   \n",
       "94605 -3765831630548519698         1   POS        1      5522184.5   \n",
       "94606  2580778409722080163         1   POS       39    215365195.5   \n",
       "94607 -6052852033626412092         1   POS        1      5522184.5   \n",
       "94608  8994524193252232475         1   POS        2     11044369.0   \n",
       "94609  3798585324021595230         1   POS        1      5522184.5   \n",
       "\n",
       "                             ubicacion estrato  \n",
       "0          (3.479572082, -76.52558242)       4  \n",
       "1          (3.480516553, -76.52527472)       4  \n",
       "2          (3.480516553, -76.52527472)       4  \n",
       "3      (3.47949063002, -76.5258184734)       4  \n",
       "4          (3.480957671, -76.52515269)       4  \n",
       "...                                ...     ...  \n",
       "94605      (3.425455055, -76.46484252)       2  \n",
       "94606      (3.425455055, -76.46484252)       2  \n",
       "94607      (3.425455055, -76.46484252)       2  \n",
       "94608      (3.425455055, -76.46484252)       2  \n",
       "94609      (3.425455055, -76.46484252)       2  \n",
       "\n",
       "[94605 rows x 12 columns]"
      ]
     },
     "execution_count": 85,
     "metadata": {},
     "output_type": "execute_result"
    }
   ],
   "source": [
    "(\n",
    "    df_join_merged_v3[columnas]\n",
    ")"
   ]
  },
  {
   "cell_type": "markdown",
   "id": "b5874275-8c35-49e5-8075-397eee7d62f2",
   "metadata": {},
   "source": [
    "## **2. Análisis**"
   ]
  },
  {
   "cell_type": "markdown",
   "id": "ef33cf21-069f-490b-a5f7-01840c89b5a3",
   "metadata": {},
   "source": [
    "Con el fin de llevar a cabo un análisis consistente y, teniendo en cuenta que desconocemos los valores de variables como *canales* y *tipo de documento*, es necesario hacer inferencias."
   ]
  },
  {
   "cell_type": "code",
   "execution_count": 86,
   "id": "1ef2a6cd-a7e5-436f-b298-9d6b41d76aee",
   "metadata": {},
   "outputs": [],
   "source": [
    "pd.options.display.float_format = '{:,.2f}'.format"
   ]
  },
  {
   "cell_type": "code",
   "execution_count": 87,
   "id": "3c6dea97-a5ec-4706-8110-f7d76d4a271d",
   "metadata": {},
   "outputs": [
    {
     "data": {
      "text/plain": [
       "Index(['codigo', 'nombre', 'tipo', 'cod_dispositivo', 'latitud', 'longitud',\n",
       "       'id_barrio', 'num_doc', 'tipo_doc', 'canal', 'num_trx', 'mnt_total_trx',\n",
       "       'ubicacion', 'estrato'],\n",
       "      dtype='object')"
      ]
     },
     "execution_count": 87,
     "metadata": {},
     "output_type": "execute_result"
    }
   ],
   "source": [
    "df_join_merged_v3.columns"
   ]
  },
  {
   "cell_type": "code",
   "execution_count": 88,
   "id": "98ddbe55-be0e-4cf0-9d66-0058e365308f",
   "metadata": {},
   "outputs": [],
   "source": [
    "types = {'codigo':'int64',\n",
    "         'nombre': 'category',\n",
    "         'cod_dispositivo': 'int64',\n",
    "         'latitud':'float',\n",
    "         'longitud': 'float',\n",
    "         'num_doc':'int64',\n",
    "         'tipo_doc':'category',\n",
    "         'canal':'category',\n",
    "         'num_trx': 'int64',\n",
    "         'mnt_total_trx': 'float',\n",
    "         'ubicacion':'object',\n",
    "         'estrato':'category'}"
   ]
  },
  {
   "cell_type": "markdown",
   "id": "7ad22d17-e4bf-4171-95e8-66a6f5890f18",
   "metadata": {},
   "source": [
    "**2.1 Definiendo los valores para la variable *canal***"
   ]
  },
  {
   "cell_type": "markdown",
   "id": "e127287d-cc23-41ff-9495-e663ed4753bd",
   "metadata": {},
   "source": [
    "Uso de los canales:"
   ]
  },
  {
   "cell_type": "code",
   "execution_count": 89,
   "id": "9c9f4652-f52b-4f7f-b97d-d60928c630d8",
   "metadata": {},
   "outputs": [
    {
     "data": {
      "text/plain": [
       "canal\n",
       "CB              7076\n",
       "DISPENSADOR    37654\n",
       "MF              3386\n",
       "PAC               17\n",
       "POS            37062\n",
       "SAI             9410\n",
       "Name: mnt_total_trx, dtype: int64"
      ]
     },
     "execution_count": 89,
     "metadata": {},
     "output_type": "execute_result"
    }
   ],
   "source": [
    "(\n",
    "    df_join_merged_v3\n",
    "    .groupby('canal')\n",
    "    ['mnt_total_trx']\n",
    "    .count()\n",
    ")"
   ]
  },
  {
   "cell_type": "code",
   "execution_count": 90,
   "id": "c57222d5-a13b-4cde-9c70-cafd28edbdbf",
   "metadata": {},
   "outputs": [
    {
     "data": {
      "text/plain": [
       "<AxesSubplot:xlabel='num_trx', ylabel='canal'>"
      ]
     },
     "execution_count": 90,
     "metadata": {},
     "output_type": "execute_result"
    },
    {
     "data": {
      "image/png": "[encoded data removed]",
      "text/plain": [
       "<Figure size 640x480 with 1 Axes>"
      ]
     },
     "metadata": {},
     "output_type": "display_data"
    }
   ],
   "source": [
    "(\n",
    "    sns.barplot(\n",
    "        data = df_join_merged_v3[columnas],\n",
    "        x = 'num_trx',\n",
    "        y = 'canal',\n",
    "        estimator = 'sum',\n",
    "        #hue = 'estrato'\n",
    "    )\n",
    ")"
   ]
  },
  {
   "cell_type": "markdown",
   "id": "ea5a9ee4-04f3-4135-aff9-8fd62b7df74c",
   "metadata": {},
   "source": [
    "En cuanto a uso, podemos observar que el canal más usado por los usuarios es el DISPENSADOR, seguido del POS, el CB y el SAI. Por último, con menos frecuencia se encuentran el MF y el PAC."
   ]
  },
  {
   "cell_type": "code",
   "execution_count": 91,
   "id": "987931b9-a063-48fc-bfb1-daddb7115946",
   "metadata": {},
   "outputs": [
    {
     "data": {
      "text/plain": [
       "<AxesSubplot:xlabel='canal', ylabel='num_trx'>"
      ]
     },
     "execution_count": 91,
     "metadata": {},
     "output_type": "execute_result"
    },
    {
     "data": {
      "image/png": "[encoded data removed]",
      "text/plain": [
       "<Figure size 640x480 with 1 Axes>"
      ]
     },
     "metadata": {},
     "output_type": "display_data"
    }
   ],
   "source": [
    "(\n",
    "    sns.barplot(\n",
    "        data = df_join_merged_v3[columnas],\n",
    "        x = 'canal',\n",
    "        y = 'num_trx',\n",
    "        estimator = 'sum',\n",
    "        hue = 'estrato'\n",
    "        #hue = 'tipo_doc'\n",
    "    )\n",
    ")"
   ]
  },
  {
   "cell_type": "markdown",
   "id": "13389637-2816-4e48-b569-b6a54c065593",
   "metadata": {},
   "source": [
    "En cuanto al uso por Estrato, podemos observar que los estratos que más usan el Dispensador son el 3, 4 y 5. Dicha tendencia se mantiene en los otros canales guardando las proporciones."
   ]
  },
  {
   "cell_type": "code",
   "execution_count": 92,
   "id": "c2638fe1-896c-49d6-8cb4-38993d90e06d",
   "metadata": {},
   "outputs": [
    {
     "data": {
      "text/plain": [
       "<AxesSubplot:xlabel='mnt_total_trx', ylabel='canal'>"
      ]
     },
     "execution_count": 92,
     "metadata": {},
     "output_type": "execute_result"
    },
    {
     "data": {
      "image/png": "[encoded data removed]",
      "text/plain": [
       "<Figure size 640x480 with 1 Axes>"
      ]
     },
     "metadata": {},
     "output_type": "display_data"
    }
   ],
   "source": [
    "(\n",
    "    sns.barplot(\n",
    "        data = df_join_merged_v3[columnas],\n",
    "        x = 'mnt_total_trx',\n",
    "        y = 'canal',\n",
    "        estimator = 'sum',\n",
    "        #hue = 'estrato'\n",
    "    )\n",
    ")"
   ]
  },
  {
   "cell_type": "code",
   "execution_count": 93,
   "id": "55b198af-d6c7-4524-8704-cb7d25dac9d1",
   "metadata": {},
   "outputs": [
    {
     "data": {
      "text/html": [
       "<div>\n",
       "<style scoped>\n",
       "    .dataframe tbody tr th:only-of-type {\n",
       "        vertical-align: middle;\n",
       "    }\n",
       "\n",
       "    .dataframe tbody tr th {\n",
       "        vertical-align: top;\n",
       "    }\n",
       "\n",
       "    .dataframe thead th {\n",
       "        text-align: right;\n",
       "    }\n",
       "</style>\n",
       "<table border=\"1\" class=\"dataframe\">\n",
       "  <thead>\n",
       "    <tr style=\"text-align: right;\">\n",
       "      <th></th>\n",
       "      <th>num_trx</th>\n",
       "      <th>mnt_total_trx</th>\n",
       "    </tr>\n",
       "    <tr>\n",
       "      <th>canal</th>\n",
       "      <th></th>\n",
       "      <th></th>\n",
       "    </tr>\n",
       "  </thead>\n",
       "  <tbody>\n",
       "    <tr>\n",
       "      <th>CB</th>\n",
       "      <td>23295</td>\n",
       "      <td>15,008,924,711,656.00</td>\n",
       "    </tr>\n",
       "    <tr>\n",
       "      <th>POS</th>\n",
       "      <td>83393</td>\n",
       "      <td>525,188,794,529.50</td>\n",
       "    </tr>\n",
       "    <tr>\n",
       "      <th>PAC</th>\n",
       "      <td>125</td>\n",
       "      <td>1,546,534,169.50</td>\n",
       "    </tr>\n",
       "    <tr>\n",
       "      <th>DISPENSADOR</th>\n",
       "      <td>159042</td>\n",
       "      <td>295,315,426.50</td>\n",
       "    </tr>\n",
       "    <tr>\n",
       "      <th>MF</th>\n",
       "      <td>8909</td>\n",
       "      <td>23,066,911.50</td>\n",
       "    </tr>\n",
       "    <tr>\n",
       "      <th>SAI</th>\n",
       "      <td>29760</td>\n",
       "      <td>9,815,885.50</td>\n",
       "    </tr>\n",
       "  </tbody>\n",
       "</table>\n",
       "</div>"
      ],
      "text/plain": [
       "             num_trx         mnt_total_trx\n",
       "canal                                     \n",
       "CB             23295 15,008,924,711,656.00\n",
       "POS            83393    525,188,794,529.50\n",
       "PAC              125      1,546,534,169.50\n",
       "DISPENSADOR   159042        295,315,426.50\n",
       "MF              8909         23,066,911.50\n",
       "SAI            29760          9,815,885.50"
      ]
     },
     "execution_count": 93,
     "metadata": {},
     "output_type": "execute_result"
    }
   ],
   "source": [
    "(\n",
    "    df_join_merged_v3\n",
    "    .groupby('canal')\n",
    "    [['num_trx', 'mnt_total_trx']]\n",
    "    .sum()\n",
    "    .sort_values(\n",
    "        by = 'mnt_total_trx', \n",
    "        ascending = False\n",
    "    )\n",
    ")"
   ]
  },
  {
   "cell_type": "markdown",
   "id": "a41241cb-6bfa-4040-9805-734f0fd6f731",
   "metadata": {},
   "source": [
    "No obstante, la suma de los montos totales de las transacciones por canal muestran una predilección por el canal CB para transacciones grandes, seguido del POS. Los demás canales muestran unas cantidades relativamente bajas."
   ]
  },
  {
   "cell_type": "markdown",
   "id": "297c459f-8eea-4edb-83ea-69eb1de2e17d",
   "metadata": {},
   "source": [
    "**Hipótesis Canales:** Para la hipótesis sobre los canales a analizar partiremos de la información analizada (en un principio).\n",
    "\n",
    "-Si bien estudios de uso de canales bancarios de acuerdo a características demográficas, como este de (larepublica.co)[https://www.larepublica.co/consumo/cajero-automatico-el-lider-por-estratos-y-edades-en-canales-de-usuarios-bancarios-2286951] sugieren que el canal predilecto de los/as colombianos es el cajero bancario, tiene mucho más sentido que en una compañía financiera como Nequi, que surge y se fortalece desde el ámbito digital, el canal más utilizado sea la **app movil**. Por tal motivo, partiremos del supuesto que el canal dispensador hace referencia a la **App**. Esto también explica que sea el más utilizado en frecuencia pero no el superior en montos de transacciones, pues se utiliza principalmente para las transacciones pequeñas del día a día. Teniendo en cuenta esto y que anteriormente sugerimos que el canal Dispensador era complementario con el canal SAI, podemos decir que el canal SAI hace referencia al **portal_web**.\n",
    "\n",
    "-En ese sentido, es factible que el canal que presenta las transacciones de mayor cuantía **(CB)** sea la **Caja del Banco**, pues para este tipo de transacciones le genera más seguridad a los usuarios que pueden temer cometer un error al llevar a cabo los procedimientos sin intermediación.\n",
    "\n",
    "-Después de la **Caja del banco** en el monto total de las transacciones encontramos los canales POS y PAC. Siguiendo la misma lógica de la seguridad en las transacciones grandes cuando hay una intermediación de un tercero, podríamos decir que estos canales se refieren a los **Corresponsales Bancolombia** y los **Corresponsales Nequi**, respectivamente.\n",
    "\n",
    "-Por último, asumiremos que el canal **MF** hace referencia a las **remesas**."
   ]
  },
  {
   "cell_type": "code",
   "execution_count": 94,
   "id": "5d2abf0c-ad2d-4d74-b2c6-ef5de8348440",
   "metadata": {
    "tags": []
   },
   "outputs": [
    {
     "data": {
      "text/plain": [
       "codigo                int64\n",
       "nombre             category\n",
       "cod_dispositivo       int64\n",
       "latitud             float64\n",
       "longitud            float64\n",
       "num_doc               int64\n",
       "tipo_doc           category\n",
       "canal              category\n",
       "num_trx               int64\n",
       "mnt_total_trx       float64\n",
       "ubicacion            object\n",
       "estrato            category\n",
       "dtype: object"
      ]
     },
     "execution_count": 94,
     "metadata": {},
     "output_type": "execute_result"
    }
   ],
   "source": [
    "#Reasignando valores\n",
    "\n",
    "(\n",
    "    df_join_merged_v3[columnas]\n",
    "    .assign(canal = lambda df: \n",
    "            df.canal.replace(\n",
    "                ['CB', 'DISPENSADOR', 'SAI', 'POS', 'PAC', 'MF'], \n",
    "                ['caja_banco', 'app', 'portal_web','corr_bancolombia', 'corr_nequi', 'Remesas']\n",
    "            )\n",
    "    ).astype(types)\n",
    "    .dtypes\n",
    ")"
   ]
  },
  {
   "cell_type": "markdown",
   "id": "bcacfb80-d85d-4e13-b966-871d8a17d588",
   "metadata": {},
   "source": [
    "**2.2 Definiendo valores para la variable *Tipo_documento***"
   ]
  },
  {
   "cell_type": "code",
   "execution_count": 95,
   "id": "0f1b55f3-1949-47b0-bacd-ba8250a30974",
   "metadata": {},
   "outputs": [
    {
     "data": {
      "text/html": [
       "<div>\n",
       "<style scoped>\n",
       "    .dataframe tbody tr th:only-of-type {\n",
       "        vertical-align: middle;\n",
       "    }\n",
       "\n",
       "    .dataframe tbody tr th {\n",
       "        vertical-align: top;\n",
       "    }\n",
       "\n",
       "    .dataframe thead th {\n",
       "        text-align: right;\n",
       "    }\n",
       "</style>\n",
       "<table border=\"1\" class=\"dataframe\">\n",
       "  <thead>\n",
       "    <tr style=\"text-align: right;\">\n",
       "      <th></th>\n",
       "      <th>num_trx</th>\n",
       "      <th>mnt_total_trx</th>\n",
       "    </tr>\n",
       "    <tr>\n",
       "      <th>tipo_doc</th>\n",
       "      <th></th>\n",
       "      <th></th>\n",
       "    </tr>\n",
       "  </thead>\n",
       "  <tbody>\n",
       "    <tr>\n",
       "      <th>1</th>\n",
       "      <td>296507</td>\n",
       "      <td>15,165,988,270,255.00</td>\n",
       "    </tr>\n",
       "    <tr>\n",
       "      <th>2</th>\n",
       "      <td>7878</td>\n",
       "      <td>369,877,904,845.50</td>\n",
       "    </tr>\n",
       "    <tr>\n",
       "      <th>3</th>\n",
       "      <td>48</td>\n",
       "      <td>96,133,890.50</td>\n",
       "    </tr>\n",
       "    <tr>\n",
       "      <th>4</th>\n",
       "      <td>89</td>\n",
       "      <td>25,928,813.00</td>\n",
       "    </tr>\n",
       "    <tr>\n",
       "      <th>9</th>\n",
       "      <td>2</td>\n",
       "      <td>774.50</td>\n",
       "    </tr>\n",
       "  </tbody>\n",
       "</table>\n",
       "</div>"
      ],
      "text/plain": [
       "          num_trx         mnt_total_trx\n",
       "tipo_doc                               \n",
       "1          296507 15,165,988,270,255.00\n",
       "2            7878    369,877,904,845.50\n",
       "3              48         96,133,890.50\n",
       "4              89         25,928,813.00\n",
       "9               2                774.50"
      ]
     },
     "execution_count": 95,
     "metadata": {},
     "output_type": "execute_result"
    }
   ],
   "source": [
    "(\n",
    "    df_join_merged_v3\n",
    "    .groupby('tipo_doc')\n",
    "    [['num_trx', 'mnt_total_trx']]\n",
    "    .sum()\n",
    "    .sort_values(\n",
    "        by = 'mnt_total_trx', \n",
    "        ascending = False\n",
    "    )\n",
    ")"
   ]
  },
  {
   "cell_type": "markdown",
   "id": "6d2da52c-d9fc-4498-a355-f4168141cf1c",
   "metadata": {},
   "source": [
    "Teniendo en cuenta que Nequi es una entidad financiera que nace principalmente con un enfoque en las personas y posteriormente extendió sus servicios a las micro, pequeñas y medianas empresas y continúa en expansión. Asumiremos que el tipo de documento **1** hace referencia a la Cédula de ciudadanía **CC**, el 2 al **NIT** y, teniendo en cuenta que el ejercicio se realiza a modo de hpótesis, el **3** se asignará a las cédulas de extranjerías **CE**, el **4** a los pasaportes **PA** y el **9** a los documentos extranjeros **d_x**."
   ]
  },
  {
   "cell_type": "code",
   "execution_count": 96,
   "id": "bd85a006-ccb1-4621-ab8c-c22deb251035",
   "metadata": {},
   "outputs": [],
   "source": [
    "df_join_merged_v3 = (\n",
    "    df_join_merged_v3[columnas]\n",
    "    .assign(canal = lambda df: \n",
    "            df.canal.replace(\n",
    "                ['CB', 'DISPENSADOR', 'SAI', 'POS', 'PAC', 'MF'], \n",
    "                ['caja_banco', 'app', 'portal_web','corr_bancolombia', 'corr_nequi', 'Remesas']),\n",
    "            tipo_doc = lambda df:\n",
    "                df.tipo_doc.replace(\n",
    "                    [1, 2, 3, 4, 9],\n",
    "                    ['CC', 'NIT', 'CE', 'PA', 'd_x']\n",
    "                )\n",
    "    ).astype(types)\n",
    ")"
   ]
  },
  {
   "cell_type": "code",
   "execution_count": null,
   "id": "32f601a0-dc2b-4f10-99ee-01860ec0c9e0",
   "metadata": {},
   "outputs": [],
   "source": []
  },
  {
   "cell_type": "code",
   "execution_count": 97,
   "id": "74ed97f1-4e73-4a8f-85db-b28badc30bf7",
   "metadata": {
    "tags": []
   },
   "outputs": [
    {
     "data": {
      "text/html": [
       "<div>\n",
       "<style scoped>\n",
       "    .dataframe tbody tr th:only-of-type {\n",
       "        vertical-align: middle;\n",
       "    }\n",
       "\n",
       "    .dataframe tbody tr th {\n",
       "        vertical-align: top;\n",
       "    }\n",
       "\n",
       "    .dataframe thead th {\n",
       "        text-align: right;\n",
       "    }\n",
       "</style>\n",
       "<table border=\"1\" class=\"dataframe\">\n",
       "  <thead>\n",
       "    <tr style=\"text-align: right;\">\n",
       "      <th></th>\n",
       "      <th></th>\n",
       "      <th>num_trx</th>\n",
       "      <th>mnt_total_trx</th>\n",
       "    </tr>\n",
       "    <tr>\n",
       "      <th>canal</th>\n",
       "      <th>estrato</th>\n",
       "      <th></th>\n",
       "      <th></th>\n",
       "    </tr>\n",
       "  </thead>\n",
       "  <tbody>\n",
       "    <tr>\n",
       "      <th rowspan=\"7\" valign=\"top\">Remesas</th>\n",
       "      <th>1</th>\n",
       "      <td>0</td>\n",
       "      <td>0.00</td>\n",
       "    </tr>\n",
       "    <tr>\n",
       "      <th>2</th>\n",
       "      <td>338</td>\n",
       "      <td>846,014.00</td>\n",
       "    </tr>\n",
       "    <tr>\n",
       "      <th>3</th>\n",
       "      <td>1473</td>\n",
       "      <td>3,990,311.00</td>\n",
       "    </tr>\n",
       "    <tr>\n",
       "      <th>4</th>\n",
       "      <td>3925</td>\n",
       "      <td>10,064,910.50</td>\n",
       "    </tr>\n",
       "    <tr>\n",
       "      <th>5</th>\n",
       "      <td>2828</td>\n",
       "      <td>7,270,056.00</td>\n",
       "    </tr>\n",
       "    <tr>\n",
       "      <th>6</th>\n",
       "      <td>345</td>\n",
       "      <td>895,620.00</td>\n",
       "    </tr>\n",
       "    <tr>\n",
       "      <th>NR</th>\n",
       "      <td>0</td>\n",
       "      <td>0.00</td>\n",
       "    </tr>\n",
       "    <tr>\n",
       "      <th rowspan=\"7\" valign=\"top\">app</th>\n",
       "      <th>1</th>\n",
       "      <td>2233</td>\n",
       "      <td>4,928,873.00</td>\n",
       "    </tr>\n",
       "    <tr>\n",
       "      <th>2</th>\n",
       "      <td>10849</td>\n",
       "      <td>21,032,619.00</td>\n",
       "    </tr>\n",
       "    <tr>\n",
       "      <th>3</th>\n",
       "      <td>48631</td>\n",
       "      <td>87,482,188.00</td>\n",
       "    </tr>\n",
       "    <tr>\n",
       "      <th>4</th>\n",
       "      <td>44943</td>\n",
       "      <td>84,769,816.50</td>\n",
       "    </tr>\n",
       "    <tr>\n",
       "      <th>5</th>\n",
       "      <td>41871</td>\n",
       "      <td>81,221,285.50</td>\n",
       "    </tr>\n",
       "    <tr>\n",
       "      <th>6</th>\n",
       "      <td>9389</td>\n",
       "      <td>13,321,704.50</td>\n",
       "    </tr>\n",
       "    <tr>\n",
       "      <th>NR</th>\n",
       "      <td>1126</td>\n",
       "      <td>2,558,940.00</td>\n",
       "    </tr>\n",
       "    <tr>\n",
       "      <th rowspan=\"7\" valign=\"top\">caja_banco</th>\n",
       "      <th>1</th>\n",
       "      <td>1478</td>\n",
       "      <td>910,254,321,420.50</td>\n",
       "    </tr>\n",
       "    <tr>\n",
       "      <th>2</th>\n",
       "      <td>3760</td>\n",
       "      <td>2,563,817,960,531.50</td>\n",
       "    </tr>\n",
       "    <tr>\n",
       "      <th>3</th>\n",
       "      <td>9576</td>\n",
       "      <td>6,193,034,642,256.50</td>\n",
       "    </tr>\n",
       "    <tr>\n",
       "      <th>4</th>\n",
       "      <td>4644</td>\n",
       "      <td>2,832,565,052,157.00</td>\n",
       "    </tr>\n",
       "    <tr>\n",
       "      <th>5</th>\n",
       "      <td>3765</td>\n",
       "      <td>2,451,312,133,341.50</td>\n",
       "    </tr>\n",
       "    <tr>\n",
       "      <th>6</th>\n",
       "      <td>67</td>\n",
       "      <td>54,471,312,791.50</td>\n",
       "    </tr>\n",
       "    <tr>\n",
       "      <th>NR</th>\n",
       "      <td>5</td>\n",
       "      <td>3,469,289,157.50</td>\n",
       "    </tr>\n",
       "    <tr>\n",
       "      <th rowspan=\"7\" valign=\"top\">corr_bancolombia</th>\n",
       "      <th>1</th>\n",
       "      <td>834</td>\n",
       "      <td>5,348,579,695.00</td>\n",
       "    </tr>\n",
       "    <tr>\n",
       "      <th>2</th>\n",
       "      <td>6962</td>\n",
       "      <td>44,005,588,404.50</td>\n",
       "    </tr>\n",
       "    <tr>\n",
       "      <th>3</th>\n",
       "      <td>19858</td>\n",
       "      <td>126,248,024,961.00</td>\n",
       "    </tr>\n",
       "    <tr>\n",
       "      <th>4</th>\n",
       "      <td>25294</td>\n",
       "      <td>156,392,222,158.50</td>\n",
       "    </tr>\n",
       "    <tr>\n",
       "      <th>5</th>\n",
       "      <td>22388</td>\n",
       "      <td>140,396,761,934.00</td>\n",
       "    </tr>\n",
       "    <tr>\n",
       "      <th>6</th>\n",
       "      <td>7896</td>\n",
       "      <td>51,820,418,344.00</td>\n",
       "    </tr>\n",
       "    <tr>\n",
       "      <th>NR</th>\n",
       "      <td>161</td>\n",
       "      <td>977,199,032.50</td>\n",
       "    </tr>\n",
       "    <tr>\n",
       "      <th rowspan=\"7\" valign=\"top\">corr_nequi</th>\n",
       "      <th>1</th>\n",
       "      <td>0</td>\n",
       "      <td>0.00</td>\n",
       "    </tr>\n",
       "    <tr>\n",
       "      <th>2</th>\n",
       "      <td>26</td>\n",
       "      <td>302,437,857.00</td>\n",
       "    </tr>\n",
       "    <tr>\n",
       "      <th>3</th>\n",
       "      <td>82</td>\n",
       "      <td>1,042,218,762.00</td>\n",
       "    </tr>\n",
       "    <tr>\n",
       "      <th>4</th>\n",
       "      <td>8</td>\n",
       "      <td>98,220,028.00</td>\n",
       "    </tr>\n",
       "    <tr>\n",
       "      <th>5</th>\n",
       "      <td>9</td>\n",
       "      <td>103,657,522.50</td>\n",
       "    </tr>\n",
       "    <tr>\n",
       "      <th>6</th>\n",
       "      <td>0</td>\n",
       "      <td>0.00</td>\n",
       "    </tr>\n",
       "    <tr>\n",
       "      <th>NR</th>\n",
       "      <td>0</td>\n",
       "      <td>0.00</td>\n",
       "    </tr>\n",
       "    <tr>\n",
       "      <th rowspan=\"7\" valign=\"top\">portal_web</th>\n",
       "      <th>1</th>\n",
       "      <td>445</td>\n",
       "      <td>181,337.50</td>\n",
       "    </tr>\n",
       "    <tr>\n",
       "      <th>2</th>\n",
       "      <td>1000</td>\n",
       "      <td>30,743.50</td>\n",
       "    </tr>\n",
       "    <tr>\n",
       "      <th>3</th>\n",
       "      <td>8106</td>\n",
       "      <td>2,408,471.00</td>\n",
       "    </tr>\n",
       "    <tr>\n",
       "      <th>4</th>\n",
       "      <td>9509</td>\n",
       "      <td>3,270,845.50</td>\n",
       "    </tr>\n",
       "    <tr>\n",
       "      <th>5</th>\n",
       "      <td>8577</td>\n",
       "      <td>3,134,349.00</td>\n",
       "    </tr>\n",
       "    <tr>\n",
       "      <th>6</th>\n",
       "      <td>2123</td>\n",
       "      <td>790,139.00</td>\n",
       "    </tr>\n",
       "    <tr>\n",
       "      <th>NR</th>\n",
       "      <td>0</td>\n",
       "      <td>0.00</td>\n",
       "    </tr>\n",
       "  </tbody>\n",
       "</table>\n",
       "</div>"
      ],
      "text/plain": [
       "                          num_trx        mnt_total_trx\n",
       "canal            estrato                              \n",
       "Remesas          1              0                 0.00\n",
       "                 2            338           846,014.00\n",
       "                 3           1473         3,990,311.00\n",
       "                 4           3925        10,064,910.50\n",
       "                 5           2828         7,270,056.00\n",
       "                 6            345           895,620.00\n",
       "                 NR             0                 0.00\n",
       "app              1           2233         4,928,873.00\n",
       "                 2          10849        21,032,619.00\n",
       "                 3          48631        87,482,188.00\n",
       "                 4          44943        84,769,816.50\n",
       "                 5          41871        81,221,285.50\n",
       "                 6           9389        13,321,704.50\n",
       "                 NR          1126         2,558,940.00\n",
       "caja_banco       1           1478   910,254,321,420.50\n",
       "                 2           3760 2,563,817,960,531.50\n",
       "                 3           9576 6,193,034,642,256.50\n",
       "                 4           4644 2,832,565,052,157.00\n",
       "                 5           3765 2,451,312,133,341.50\n",
       "                 6             67    54,471,312,791.50\n",
       "                 NR             5     3,469,289,157.50\n",
       "corr_bancolombia 1            834     5,348,579,695.00\n",
       "                 2           6962    44,005,588,404.50\n",
       "                 3          19858   126,248,024,961.00\n",
       "                 4          25294   156,392,222,158.50\n",
       "                 5          22388   140,396,761,934.00\n",
       "                 6           7896    51,820,418,344.00\n",
       "                 NR           161       977,199,032.50\n",
       "corr_nequi       1              0                 0.00\n",
       "                 2             26       302,437,857.00\n",
       "                 3             82     1,042,218,762.00\n",
       "                 4              8        98,220,028.00\n",
       "                 5              9       103,657,522.50\n",
       "                 6              0                 0.00\n",
       "                 NR             0                 0.00\n",
       "portal_web       1            445           181,337.50\n",
       "                 2           1000            30,743.50\n",
       "                 3           8106         2,408,471.00\n",
       "                 4           9509         3,270,845.50\n",
       "                 5           8577         3,134,349.00\n",
       "                 6           2123           790,139.00\n",
       "                 NR             0                 0.00"
      ]
     },
     "execution_count": 97,
     "metadata": {},
     "output_type": "execute_result"
    }
   ],
   "source": [
    "(\n",
    "    df_join_merged_v3\n",
    "    .groupby(['canal', 'estrato'])\n",
    "    [['num_trx', 'mnt_total_trx']]\n",
    "    .sum()\n",
    ")"
   ]
  },
  {
   "cell_type": "code",
   "execution_count": null,
   "id": "4634c05e-4d87-4b7f-8653-3640df78fa7c",
   "metadata": {},
   "outputs": [],
   "source": []
  }
 ],
 "metadata": {
  "kernelspec": {
   "display_name": "Python 3 (ipykernel)",
   "language": "python",
   "name": "python3"
  },
  "language_info": {
   "codemirror_mode": {
    "name": "ipython",
    "version": 3
   },
   "file_extension": ".py",
   "mimetype": "text/x-python",
   "name": "python",
   "nbconvert_exporter": "python",
   "pygments_lexer": "ipython3",
   "version": "3.9.13"
  },
  "vscode": {
   "interpreter": {
    "hash": "c7dc04c5cb7182d9747320e4dab81082122b6410d56c6a5deb042ba20d92270c"
   }
  }
 },
 "nbformat": 4,
 "nbformat_minor": 5
}

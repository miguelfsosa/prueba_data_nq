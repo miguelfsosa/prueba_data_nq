{
 "cells": [
  {
   "cell_type": "markdown",
   "id": "dd0bad8c",
   "metadata": {},
   "source": [
    "# Prueba Tecnica\n",
    "\n",
    "    Para poder realizar cada uno de los numerales deberas buscar una relacion entre las 2 tablas para consolidarlas en una sola. Posterior a esto podras empezar con la solucion de los puntos\n",
    "\n",
    "    Nota:  \n",
    "    - El punto A y B los debes solucionar tanto en Sql como python. El punto C lo podras realizar con el lenguaje de tu preferencia\n",
    "    - para obtener las bases de datos solo deberas ejecutar el bloque de codigo llamado 'DATA' en caso de un error puedes pedir ayuda"
   ]
  },
  {
   "cell_type": "code",
   "execution_count": 1,
   "id": "2cb9c0db-9a0d-4c58-8e40-f50831995f24",
   "metadata": {},
   "outputs": [],
   "source": [
    "import pandas as pd\n",
    "import numpy as np\n",
    "from os import path\n",
    "import pandasql as ps\n",
    "import seaborn as sns\n",
    "import matplotlib.pyplot as plt\n",
    "import empiricaldist\n",
    "import janitor\n",
    "import scipy.stats\n",
    "import seaborn as sns\n",
    "import sklearn.metrics\n",
    "import statsmodels.api as sm\n",
    "import statsmodels.formula.api as smf\n",
    "import statsmodels.stats as ss\n",
    "import session_info"
   ]
  },
  {
   "cell_type": "markdown",
   "id": "6d171056",
   "metadata": {},
   "source": [
    "# Data"
   ]
  },
  {
   "cell_type": "code",
   "execution_count": 2,
   "id": "4c83a4a1",
   "metadata": {},
   "outputs": [],
   "source": [
    "\n",
    "'''\n",
    "    Barrios: Información de los barrios (nombre y código)\n",
    "    clientes: Información transaccional del cliente \n",
    "    \n",
    "'''\n",
    "\n",
    "df_barrios = pd.read_csv(path.join('Bases_insumo','barrios.csv'))\n",
    "df_clientes = pd.read_csv(path.join('Bases_insumo','clientes.csv'))\n",
    "df_dispositivos = pd.read_csv(path.join('Bases_insumo','dispositivos.csv'))\n",
    "df_dispositivos.rename({'codigo':'cod_dispositivo'}, axis = 1, inplace= True)\n",
    "\n",
    "df_join = df_barrios.merge(df_dispositivos, left_on ='codigo', \n",
    "                          right_on = 'id_barrio', how = 'inner').merge(df_clientes, on = 'cod_dispositivo', how = 'inner')\n"
   ]
  },
  {
   "cell_type": "code",
   "execution_count": 3,
   "id": "474cfea8",
   "metadata": {},
   "outputs": [
    {
     "data": {
      "text/html": [
       "<div>\n",
       "<style scoped>\n",
       "    .dataframe tbody tr th:only-of-type {\n",
       "        vertical-align: middle;\n",
       "    }\n",
       "\n",
       "    .dataframe tbody tr th {\n",
       "        vertical-align: top;\n",
       "    }\n",
       "\n",
       "    .dataframe thead th {\n",
       "        text-align: right;\n",
       "    }\n",
       "</style>\n",
       "<table border=\"1\" class=\"dataframe\">\n",
       "  <thead>\n",
       "    <tr style=\"text-align: right;\">\n",
       "      <th></th>\n",
       "      <th>codigo</th>\n",
       "      <th>nombre</th>\n",
       "      <th>tipo</th>\n",
       "      <th>cod_dispositivo</th>\n",
       "      <th>latitud</th>\n",
       "      <th>longitud</th>\n",
       "      <th>id_barrio</th>\n",
       "      <th>num_doc</th>\n",
       "      <th>tipo_doc</th>\n",
       "      <th>canal</th>\n",
       "      <th>num_trx</th>\n",
       "      <th>mnt_total_trx</th>\n",
       "    </tr>\n",
       "  </thead>\n",
       "  <tbody>\n",
       "    <tr>\n",
       "      <th>0</th>\n",
       "      <td>737998257</td>\n",
       "      <td>La Campina</td>\n",
       "      <td>POS</td>\n",
       "      <td>12202503</td>\n",
       "      <td>3.479572</td>\n",
       "      <td>-76.525582</td>\n",
       "      <td>737998257</td>\n",
       "      <td>-2393994463924208659</td>\n",
       "      <td>1</td>\n",
       "      <td>POS</td>\n",
       "      <td>2</td>\n",
       "      <td>12202503.0</td>\n",
       "    </tr>\n",
       "    <tr>\n",
       "      <th>1</th>\n",
       "      <td>737998257</td>\n",
       "      <td>La Campina</td>\n",
       "      <td>POS</td>\n",
       "      <td>10521045</td>\n",
       "      <td>3.480517</td>\n",
       "      <td>-76.525275</td>\n",
       "      <td>737998257</td>\n",
       "      <td>-5675531380015678594</td>\n",
       "      <td>1</td>\n",
       "      <td>POS</td>\n",
       "      <td>1</td>\n",
       "      <td>5260522.5</td>\n",
       "    </tr>\n",
       "    <tr>\n",
       "      <th>2</th>\n",
       "      <td>737998257</td>\n",
       "      <td>La Campina</td>\n",
       "      <td>POS</td>\n",
       "      <td>10521045</td>\n",
       "      <td>3.480517</td>\n",
       "      <td>-76.525275</td>\n",
       "      <td>737998257</td>\n",
       "      <td>-5066077049535851626</td>\n",
       "      <td>1</td>\n",
       "      <td>POS</td>\n",
       "      <td>1</td>\n",
       "      <td>5260522.5</td>\n",
       "    </tr>\n",
       "    <tr>\n",
       "      <th>3</th>\n",
       "      <td>737998257</td>\n",
       "      <td>La Campina</td>\n",
       "      <td>POS</td>\n",
       "      <td>13238282</td>\n",
       "      <td>3.479491</td>\n",
       "      <td>-76.525818</td>\n",
       "      <td>737998257</td>\n",
       "      <td>-5791329717693361241</td>\n",
       "      <td>1</td>\n",
       "      <td>POS</td>\n",
       "      <td>1</td>\n",
       "      <td>6619141.0</td>\n",
       "    </tr>\n",
       "    <tr>\n",
       "      <th>4</th>\n",
       "      <td>737998257</td>\n",
       "      <td>La Campina</td>\n",
       "      <td>POS</td>\n",
       "      <td>12567517</td>\n",
       "      <td>3.480958</td>\n",
       "      <td>-76.525153</td>\n",
       "      <td>737998257</td>\n",
       "      <td>-397966594878551344</td>\n",
       "      <td>1</td>\n",
       "      <td>POS</td>\n",
       "      <td>1</td>\n",
       "      <td>6283758.5</td>\n",
       "    </tr>\n",
       "  </tbody>\n",
       "</table>\n",
       "</div>"
      ],
      "text/plain": [
       "      codigo      nombre tipo  cod_dispositivo   latitud   longitud  \\\n",
       "0  737998257  La Campina  POS         12202503  3.479572 -76.525582   \n",
       "1  737998257  La Campina  POS         10521045  3.480517 -76.525275   \n",
       "2  737998257  La Campina  POS         10521045  3.480517 -76.525275   \n",
       "3  737998257  La Campina  POS         13238282  3.479491 -76.525818   \n",
       "4  737998257  La Campina  POS         12567517  3.480958 -76.525153   \n",
       "\n",
       "   id_barrio              num_doc  tipo_doc canal  num_trx  mnt_total_trx  \n",
       "0  737998257 -2393994463924208659         1   POS        2     12202503.0  \n",
       "1  737998257 -5675531380015678594         1   POS        1      5260522.5  \n",
       "2  737998257 -5066077049535851626         1   POS        1      5260522.5  \n",
       "3  737998257 -5791329717693361241         1   POS        1      6619141.0  \n",
       "4  737998257  -397966594878551344         1   POS        1      6283758.5  "
      ]
     },
     "execution_count": 3,
     "metadata": {},
     "output_type": "execute_result"
    }
   ],
   "source": [
    "df_join.head()"
   ]
  },
  {
   "cell_type": "markdown",
   "id": "49913285",
   "metadata": {},
   "source": [
    "# Punto a\n",
    "\n",
    "* Generar el listado de clientes con transacciones en 5 o más barrios."
   ]
  },
  {
   "cell_type": "code",
   "execution_count": 3,
   "id": "6da33fbc-d7b9-4176-a632-9dab797dd017",
   "metadata": {},
   "outputs": [],
   "source": [
    "#Solución en sql\n",
    "\n",
    "query = '''\n",
    "    SELECT DISTINCT num_doc, sum(num_trx) as cant_transacciones, count(DISTINCT(id_barrio)) as cant_barrios\n",
    "    FROM df_join\n",
    "    GROUP BY num_doc\n",
    "    HAVING cant_barrios > 5\n",
    "    ORDER BY cant_barrios DESC;\n",
    "'''"
   ]
  },
  {
   "cell_type": "code",
   "execution_count": 4,
   "id": "737d8cea-0f64-4f80-a2fc-79339456273c",
   "metadata": {},
   "outputs": [
    {
     "data": {
      "text/html": [
       "<div>\n",
       "<style scoped>\n",
       "    .dataframe tbody tr th:only-of-type {\n",
       "        vertical-align: middle;\n",
       "    }\n",
       "\n",
       "    .dataframe tbody tr th {\n",
       "        vertical-align: top;\n",
       "    }\n",
       "\n",
       "    .dataframe thead th {\n",
       "        text-align: right;\n",
       "    }\n",
       "</style>\n",
       "<table border=\"1\" class=\"dataframe\">\n",
       "  <thead>\n",
       "    <tr style=\"text-align: right;\">\n",
       "      <th></th>\n",
       "      <th>num_doc</th>\n",
       "      <th>cant_transacciones</th>\n",
       "      <th>cant_barrios</th>\n",
       "    </tr>\n",
       "  </thead>\n",
       "  <tbody>\n",
       "    <tr>\n",
       "      <th>0</th>\n",
       "      <td>-6943732889918790302</td>\n",
       "      <td>546</td>\n",
       "      <td>83</td>\n",
       "    </tr>\n",
       "    <tr>\n",
       "      <th>1</th>\n",
       "      <td>-6318594648243260200</td>\n",
       "      <td>307</td>\n",
       "      <td>77</td>\n",
       "    </tr>\n",
       "    <tr>\n",
       "      <th>2</th>\n",
       "      <td>3949050160426632961</td>\n",
       "      <td>393</td>\n",
       "      <td>75</td>\n",
       "    </tr>\n",
       "    <tr>\n",
       "      <th>3</th>\n",
       "      <td>956540030589798895</td>\n",
       "      <td>311</td>\n",
       "      <td>74</td>\n",
       "    </tr>\n",
       "    <tr>\n",
       "      <th>4</th>\n",
       "      <td>3785376175516210347</td>\n",
       "      <td>372</td>\n",
       "      <td>63</td>\n",
       "    </tr>\n",
       "    <tr>\n",
       "      <th>...</th>\n",
       "      <td>...</td>\n",
       "      <td>...</td>\n",
       "      <td>...</td>\n",
       "    </tr>\n",
       "    <tr>\n",
       "      <th>2995</th>\n",
       "      <td>-8970554719011755860</td>\n",
       "      <td>59</td>\n",
       "      <td>6</td>\n",
       "    </tr>\n",
       "    <tr>\n",
       "      <th>2996</th>\n",
       "      <td>-9016704368719499354</td>\n",
       "      <td>8</td>\n",
       "      <td>6</td>\n",
       "    </tr>\n",
       "    <tr>\n",
       "      <th>2997</th>\n",
       "      <td>-9044712566978972844</td>\n",
       "      <td>75</td>\n",
       "      <td>6</td>\n",
       "    </tr>\n",
       "    <tr>\n",
       "      <th>2998</th>\n",
       "      <td>-9099385232054024088</td>\n",
       "      <td>27</td>\n",
       "      <td>6</td>\n",
       "    </tr>\n",
       "    <tr>\n",
       "      <th>2999</th>\n",
       "      <td>-9202442483227019464</td>\n",
       "      <td>8</td>\n",
       "      <td>6</td>\n",
       "    </tr>\n",
       "  </tbody>\n",
       "</table>\n",
       "<p>3000 rows × 3 columns</p>\n",
       "</div>"
      ],
      "text/plain": [
       "                  num_doc  cant_transacciones  cant_barrios\n",
       "0    -6943732889918790302                 546            83\n",
       "1    -6318594648243260200                 307            77\n",
       "2     3949050160426632961                 393            75\n",
       "3      956540030589798895                 311            74\n",
       "4     3785376175516210347                 372            63\n",
       "...                   ...                 ...           ...\n",
       "2995 -8970554719011755860                  59             6\n",
       "2996 -9016704368719499354                   8             6\n",
       "2997 -9044712566978972844                  75             6\n",
       "2998 -9099385232054024088                  27             6\n",
       "2999 -9202442483227019464                   8             6\n",
       "\n",
       "[3000 rows x 3 columns]"
      ]
     },
     "execution_count": 4,
     "metadata": {},
     "output_type": "execute_result"
    }
   ],
   "source": [
    "ps.sqldf(query, locals())"
   ]
  },
  {
   "cell_type": "code",
   "execution_count": 5,
   "id": "ea26f8a8-2a41-45d9-998b-82adbcab403b",
   "metadata": {},
   "outputs": [],
   "source": [
    "query_nombre_barrios = '''\n",
    "    SELECT DISTINCT nombre\n",
    "    FROM df_join\n",
    "'''"
   ]
  },
  {
   "cell_type": "code",
   "execution_count": 6,
   "id": "2df48c2d-e634-4233-981f-e64205ca4db0",
   "metadata": {},
   "outputs": [
    {
     "data": {
      "text/html": [
       "<div>\n",
       "<style scoped>\n",
       "    .dataframe tbody tr th:only-of-type {\n",
       "        vertical-align: middle;\n",
       "    }\n",
       "\n",
       "    .dataframe tbody tr th {\n",
       "        vertical-align: top;\n",
       "    }\n",
       "\n",
       "    .dataframe thead th {\n",
       "        text-align: right;\n",
       "    }\n",
       "</style>\n",
       "<table border=\"1\" class=\"dataframe\">\n",
       "  <thead>\n",
       "    <tr style=\"text-align: right;\">\n",
       "      <th></th>\n",
       "      <th>nombre</th>\n",
       "    </tr>\n",
       "    <tr>\n",
       "      <th>num_doc</th>\n",
       "      <th></th>\n",
       "    </tr>\n",
       "  </thead>\n",
       "  <tbody>\n",
       "    <tr>\n",
       "      <th>-9218698523982046880</th>\n",
       "      <td>8</td>\n",
       "    </tr>\n",
       "    <tr>\n",
       "      <th>-9210147727599394517</th>\n",
       "      <td>7</td>\n",
       "    </tr>\n",
       "    <tr>\n",
       "      <th>-9202442483227019464</th>\n",
       "      <td>6</td>\n",
       "    </tr>\n",
       "    <tr>\n",
       "      <th>-9202223027335988936</th>\n",
       "      <td>7</td>\n",
       "    </tr>\n",
       "    <tr>\n",
       "      <th>-9186693395875698210</th>\n",
       "      <td>18</td>\n",
       "    </tr>\n",
       "  </tbody>\n",
       "</table>\n",
       "</div>"
      ],
      "text/plain": [
       "                      nombre\n",
       "num_doc                     \n",
       "-9218698523982046880       8\n",
       "-9210147727599394517       7\n",
       "-9202442483227019464       6\n",
       "-9202223027335988936       7\n",
       "-9186693395875698210      18"
      ]
     },
     "execution_count": 6,
     "metadata": {},
     "output_type": "execute_result"
    }
   ],
   "source": [
    "conteo = df_join.groupby('num_doc')['nombre'].nunique()\n",
    "conteo\n",
    "\n",
    "docs_usuarios_5barrios = pd.DataFrame(conteo[conteo > 5])\n",
    "\n",
    "docs_usuarios_5barrios.head()"
   ]
  },
  {
   "cell_type": "code",
   "execution_count": null,
   "id": "af42cbc8-7119-470f-ad81-ef976bb8ab5b",
   "metadata": {},
   "outputs": [],
   "source": [
    "#Mejorando Query en Pandas - post-Prueba presencial\n",
    "\n",
    "#df_join.groupby(['num_doc', 'nombre'])['num_trx'].count().to_frame()\n",
    "\n",
    "#df_join.groupby(['num_doc', 'nombre'])['num_trx'].aggregate(['count', 'sum'])"
   ]
  },
  {
   "cell_type": "code",
   "execution_count": null,
   "id": "e8cd3555-2edc-4980-be8a-b2539554aae0",
   "metadata": {},
   "outputs": [],
   "source": [
    "df_join.columns"
   ]
  },
  {
   "cell_type": "code",
   "execution_count": null,
   "id": "bb2a3a05-1073-4d5b-9002-d8854c0ef999",
   "metadata": {},
   "outputs": [],
   "source": [
    "#Solución en pandas\n",
    "\n"
   ]
  },
  {
   "cell_type": "markdown",
   "id": "6107818a",
   "metadata": {},
   "source": [
    "# Punto b\n",
    "\n",
    "* ¿Cuáles son los 6 barrios donde la mayor cantidad de clientes únicos realizan transacciones en\n",
    "dispositivos tipo PAC? La respuesta debe incluir la cantidad de clientes únicos asociados a estos\n",
    "barrios.\n"
   ]
  },
  {
   "cell_type": "code",
   "execution_count": 7,
   "id": "0fe577ec-36e6-4ff2-b70a-c744d70b6f0b",
   "metadata": {},
   "outputs": [],
   "source": [
    "query_3 = '''\n",
    "    SELECT nombre, count(distinct(num_doc)) as clientes_unicos\n",
    "    FROM df_join\n",
    "    GROUP BY nombre\n",
    "    ORDER BY clientes_unicos DESC\n",
    "    LIMIT 6;\n",
    "'''"
   ]
  },
  {
   "cell_type": "code",
   "execution_count": 8,
   "id": "beff2d6f-14c7-46b7-bd57-8a0fa558543f",
   "metadata": {},
   "outputs": [
    {
     "data": {
      "text/html": [
       "<div>\n",
       "<style scoped>\n",
       "    .dataframe tbody tr th:only-of-type {\n",
       "        vertical-align: middle;\n",
       "    }\n",
       "\n",
       "    .dataframe tbody tr th {\n",
       "        vertical-align: top;\n",
       "    }\n",
       "\n",
       "    .dataframe thead th {\n",
       "        text-align: right;\n",
       "    }\n",
       "</style>\n",
       "<table border=\"1\" class=\"dataframe\">\n",
       "  <thead>\n",
       "    <tr style=\"text-align: right;\">\n",
       "      <th></th>\n",
       "      <th>nombre</th>\n",
       "      <th>clientes_unicos</th>\n",
       "    </tr>\n",
       "  </thead>\n",
       "  <tbody>\n",
       "    <tr>\n",
       "      <th>0</th>\n",
       "      <td>San Pedro</td>\n",
       "      <td>2516</td>\n",
       "    </tr>\n",
       "    <tr>\n",
       "      <th>1</th>\n",
       "      <td>San Vicente</td>\n",
       "      <td>1888</td>\n",
       "    </tr>\n",
       "    <tr>\n",
       "      <th>2</th>\n",
       "      <td>Urbanización San Juaquín</td>\n",
       "      <td>1756</td>\n",
       "    </tr>\n",
       "    <tr>\n",
       "      <th>3</th>\n",
       "      <td>Santa Mónica Residencial</td>\n",
       "      <td>1561</td>\n",
       "    </tr>\n",
       "    <tr>\n",
       "      <th>4</th>\n",
       "      <td>Chipichape</td>\n",
       "      <td>1555</td>\n",
       "    </tr>\n",
       "    <tr>\n",
       "      <th>5</th>\n",
       "      <td>Unidad Residencial Santiago de Cali</td>\n",
       "      <td>1547</td>\n",
       "    </tr>\n",
       "  </tbody>\n",
       "</table>\n",
       "</div>"
      ],
      "text/plain": [
       "                                nombre  clientes_unicos\n",
       "0                            San Pedro             2516\n",
       "1                          San Vicente             1888\n",
       "2             Urbanización San Juaquín             1756\n",
       "3             Santa Mónica Residencial             1561\n",
       "4                           Chipichape             1555\n",
       "5  Unidad Residencial Santiago de Cali             1547"
      ]
     },
     "execution_count": 8,
     "metadata": {},
     "output_type": "execute_result"
    }
   ],
   "source": [
    "ps.sqldf(query_3, locals())"
   ]
  },
  {
   "cell_type": "code",
   "execution_count": 9,
   "id": "0527c341-8c8e-41e1-94f7-5f17924ab081",
   "metadata": {},
   "outputs": [
    {
     "data": {
      "text/html": [
       "<div>\n",
       "<style scoped>\n",
       "    .dataframe tbody tr th:only-of-type {\n",
       "        vertical-align: middle;\n",
       "    }\n",
       "\n",
       "    .dataframe tbody tr th {\n",
       "        vertical-align: top;\n",
       "    }\n",
       "\n",
       "    .dataframe thead th {\n",
       "        text-align: right;\n",
       "    }\n",
       "</style>\n",
       "<table border=\"1\" class=\"dataframe\">\n",
       "  <thead>\n",
       "    <tr style=\"text-align: right;\">\n",
       "      <th></th>\n",
       "      <th>num_doc</th>\n",
       "    </tr>\n",
       "    <tr>\n",
       "      <th>nombre</th>\n",
       "      <th></th>\n",
       "    </tr>\n",
       "  </thead>\n",
       "  <tbody>\n",
       "    <tr>\n",
       "      <th>San Pedro</th>\n",
       "      <td>2516</td>\n",
       "    </tr>\n",
       "    <tr>\n",
       "      <th>San Vicente</th>\n",
       "      <td>1888</td>\n",
       "    </tr>\n",
       "    <tr>\n",
       "      <th>Urbanización San Juaquín</th>\n",
       "      <td>1756</td>\n",
       "    </tr>\n",
       "    <tr>\n",
       "      <th>Santa Mónica Residencial</th>\n",
       "      <td>1561</td>\n",
       "    </tr>\n",
       "    <tr>\n",
       "      <th>Chipichape</th>\n",
       "      <td>1555</td>\n",
       "    </tr>\n",
       "    <tr>\n",
       "      <th>...</th>\n",
       "      <td>...</td>\n",
       "    </tr>\n",
       "    <tr>\n",
       "      <th>El Dorado</th>\n",
       "      <td>6</td>\n",
       "    </tr>\n",
       "    <tr>\n",
       "      <th>Unidad Residencial Bueno Madrid</th>\n",
       "      <td>6</td>\n",
       "    </tr>\n",
       "    <tr>\n",
       "      <th>Alto de los Chorros</th>\n",
       "      <td>6</td>\n",
       "    </tr>\n",
       "    <tr>\n",
       "      <th>Arboledas</th>\n",
       "      <td>6</td>\n",
       "    </tr>\n",
       "    <tr>\n",
       "      <th>12 de Octubre</th>\n",
       "      <td>6</td>\n",
       "    </tr>\n",
       "  </tbody>\n",
       "</table>\n",
       "<p>231 rows × 1 columns</p>\n",
       "</div>"
      ],
      "text/plain": [
       "                                 num_doc\n",
       "nombre                                  \n",
       "San Pedro                           2516\n",
       "San Vicente                         1888\n",
       "Urbanización San Juaquín            1756\n",
       "Santa Mónica Residencial            1561\n",
       "Chipichape                          1555\n",
       "...                                  ...\n",
       "El Dorado                              6\n",
       "Unidad Residencial Bueno Madrid        6\n",
       "Alto de los Chorros                    6\n",
       "Arboledas                              6\n",
       "12 de Octubre                          6\n",
       "\n",
       "[231 rows x 1 columns]"
      ]
     },
     "execution_count": 9,
     "metadata": {},
     "output_type": "execute_result"
    }
   ],
   "source": [
    "cant_clientes_barrios = df_join.groupby('nombre')['num_doc'].nunique()\n",
    "df_cant_clientes_barrios = pd.DataFrame(cant_clientes_barrios)\n",
    "cond = df_cant_clientes_barrios.loc[:,'num_doc'] > 5\n",
    "df_cant_clientes_barrios.loc[cond, :].sort_values(by = 'num_doc', ascending = False)"
   ]
  },
  {
   "cell_type": "markdown",
   "id": "80ddf155",
   "metadata": {},
   "source": [
    "# Punto c\n",
    "\n",
    "Realizar analisis exploratorio de los datos y conclusiones. \n",
    "\n",
    "NOTA: Se debe agregar la documentación y trazabilidad del proceso realizado (Codigos y gráficas con las que se hicieron los análisis)"
   ]
  },
  {
   "cell_type": "markdown",
   "id": "9991438f-2ff6-4ff2-af84-b309b9218210",
   "metadata": {},
   "source": [
    "# **Análisis Exploratorio - Transacciones en los barrios de Medellín**"
   ]
  },
  {
   "cell_type": "markdown",
   "id": "fa63cbcb-158f-4c50-b420-77d1d6547b01",
   "metadata": {},
   "source": [
    "**Nota inicial**: Hipótesis sobre variables cuya información es limitada con el fin de enriquecer el análisis"
   ]
  },
  {
   "cell_type": "markdown",
   "id": "5e46d4d7-8e90-438d-97dc-31c564b1f3b4",
   "metadata": {},
   "source": [
    "Conociendo el conjunto de datos:"
   ]
  },
  {
   "cell_type": "code",
   "execution_count": 72,
   "id": "19dacce8-452b-4a08-9c6e-83cb3950ab6f",
   "metadata": {},
   "outputs": [
    {
     "data": {
      "text/html": [
       "<div>\n",
       "<style scoped>\n",
       "    .dataframe tbody tr th:only-of-type {\n",
       "        vertical-align: middle;\n",
       "    }\n",
       "\n",
       "    .dataframe tbody tr th {\n",
       "        vertical-align: top;\n",
       "    }\n",
       "\n",
       "    .dataframe thead th {\n",
       "        text-align: right;\n",
       "    }\n",
       "</style>\n",
       "<table border=\"1\" class=\"dataframe\">\n",
       "  <thead>\n",
       "    <tr style=\"text-align: right;\">\n",
       "      <th></th>\n",
       "      <th>codigo</th>\n",
       "      <th>nombre</th>\n",
       "      <th>tipo</th>\n",
       "      <th>cod_dispositivo</th>\n",
       "      <th>latitud</th>\n",
       "      <th>longitud</th>\n",
       "      <th>id_barrio</th>\n",
       "      <th>num_doc</th>\n",
       "      <th>tipo_doc</th>\n",
       "      <th>canal</th>\n",
       "      <th>num_trx</th>\n",
       "      <th>mnt_total_trx</th>\n",
       "      <th>ubicacion</th>\n",
       "    </tr>\n",
       "  </thead>\n",
       "  <tbody>\n",
       "    <tr>\n",
       "      <th>0</th>\n",
       "      <td>737998257</td>\n",
       "      <td>La Campina</td>\n",
       "      <td>POS</td>\n",
       "      <td>12202503</td>\n",
       "      <td>3.479572</td>\n",
       "      <td>-76.525582</td>\n",
       "      <td>737998257</td>\n",
       "      <td>-2393994463924208659</td>\n",
       "      <td>1</td>\n",
       "      <td>POS</td>\n",
       "      <td>2</td>\n",
       "      <td>12202503.0</td>\n",
       "      <td>(3.479572082, -76.52558242)</td>\n",
       "    </tr>\n",
       "    <tr>\n",
       "      <th>1</th>\n",
       "      <td>737998257</td>\n",
       "      <td>La Campina</td>\n",
       "      <td>POS</td>\n",
       "      <td>10521045</td>\n",
       "      <td>3.480517</td>\n",
       "      <td>-76.525275</td>\n",
       "      <td>737998257</td>\n",
       "      <td>-5675531380015678594</td>\n",
       "      <td>1</td>\n",
       "      <td>POS</td>\n",
       "      <td>1</td>\n",
       "      <td>5260522.5</td>\n",
       "      <td>(3.480516553, -76.52527472)</td>\n",
       "    </tr>\n",
       "    <tr>\n",
       "      <th>2</th>\n",
       "      <td>737998257</td>\n",
       "      <td>La Campina</td>\n",
       "      <td>POS</td>\n",
       "      <td>10521045</td>\n",
       "      <td>3.480517</td>\n",
       "      <td>-76.525275</td>\n",
       "      <td>737998257</td>\n",
       "      <td>-5066077049535851626</td>\n",
       "      <td>1</td>\n",
       "      <td>POS</td>\n",
       "      <td>1</td>\n",
       "      <td>5260522.5</td>\n",
       "      <td>(3.480516553, -76.52527472)</td>\n",
       "    </tr>\n",
       "    <tr>\n",
       "      <th>3</th>\n",
       "      <td>737998257</td>\n",
       "      <td>La Campina</td>\n",
       "      <td>POS</td>\n",
       "      <td>13238282</td>\n",
       "      <td>3.479491</td>\n",
       "      <td>-76.525818</td>\n",
       "      <td>737998257</td>\n",
       "      <td>-5791329717693361241</td>\n",
       "      <td>1</td>\n",
       "      <td>POS</td>\n",
       "      <td>1</td>\n",
       "      <td>6619141.0</td>\n",
       "      <td>(3.47949063002, -76.5258184734)</td>\n",
       "    </tr>\n",
       "    <tr>\n",
       "      <th>4</th>\n",
       "      <td>737998257</td>\n",
       "      <td>La Campina</td>\n",
       "      <td>POS</td>\n",
       "      <td>12567517</td>\n",
       "      <td>3.480958</td>\n",
       "      <td>-76.525153</td>\n",
       "      <td>737998257</td>\n",
       "      <td>-397966594878551344</td>\n",
       "      <td>1</td>\n",
       "      <td>POS</td>\n",
       "      <td>1</td>\n",
       "      <td>6283758.5</td>\n",
       "      <td>(3.480957671, -76.52515269)</td>\n",
       "    </tr>\n",
       "  </tbody>\n",
       "</table>\n",
       "</div>"
      ],
      "text/plain": [
       "      codigo      nombre tipo  cod_dispositivo   latitud   longitud  \\\n",
       "0  737998257  La Campina  POS         12202503  3.479572 -76.525582   \n",
       "1  737998257  La Campina  POS         10521045  3.480517 -76.525275   \n",
       "2  737998257  La Campina  POS         10521045  3.480517 -76.525275   \n",
       "3  737998257  La Campina  POS         13238282  3.479491 -76.525818   \n",
       "4  737998257  La Campina  POS         12567517  3.480958 -76.525153   \n",
       "\n",
       "   id_barrio              num_doc  tipo_doc canal  num_trx  mnt_total_trx  \\\n",
       "0  737998257 -2393994463924208659         1   POS        2     12202503.0   \n",
       "1  737998257 -5675531380015678594         1   POS        1      5260522.5   \n",
       "2  737998257 -5066077049535851626         1   POS        1      5260522.5   \n",
       "3  737998257 -5791329717693361241         1   POS        1      6619141.0   \n",
       "4  737998257  -397966594878551344         1   POS        1      6283758.5   \n",
       "\n",
       "                         ubicacion  \n",
       "0      (3.479572082, -76.52558242)  \n",
       "1      (3.480516553, -76.52527472)  \n",
       "2      (3.480516553, -76.52527472)  \n",
       "3  (3.47949063002, -76.5258184734)  \n",
       "4      (3.480957671, -76.52515269)  "
      ]
     },
     "execution_count": 72,
     "metadata": {},
     "output_type": "execute_result"
    }
   ],
   "source": [
    "df_join.head()"
   ]
  },
  {
   "cell_type": "code",
   "execution_count": 10,
   "id": "003dfa69-b00d-4fb5-97d6-f2f51da0d712",
   "metadata": {},
   "outputs": [
    {
     "data": {
      "text/plain": [
       "codigo               int64\n",
       "nombre              object\n",
       "tipo                object\n",
       "cod_dispositivo      int64\n",
       "latitud            float64\n",
       "longitud           float64\n",
       "id_barrio            int64\n",
       "num_doc              int64\n",
       "tipo_doc             int64\n",
       "canal               object\n",
       "num_trx              int64\n",
       "mnt_total_trx      float64\n",
       "dtype: object"
      ]
     },
     "execution_count": 10,
     "metadata": {},
     "output_type": "execute_result"
    }
   ],
   "source": [
    "df_join.dtypes"
   ]
  },
  {
   "cell_type": "markdown",
   "id": "3ff06baa-0c77-47c5-b5e3-c1782ee3c15e",
   "metadata": {},
   "source": [
    "A simple vista podemos observar que el conjunto de datos contiene el registro de transacciones realizadas en diferentes puntos de servicio de distintos barrios y los montos de las mismas.\n",
    "\n",
    "En aras de un análisis más completo que nos permita comprender mejor el conjunto de datos surgen varios interrogantes:\n",
    "\n",
    "*¿A qué ciudad pertenecen los barrios que aparecen en el conjunto de datos? ¿cuál es su nivel socioeconómico?*\n",
    "\n",
    "La primera parte del análisis estará centrada en levantar la información faltante, limpiar y preparar los datos para el análisis."
   ]
  },
  {
   "cell_type": "markdown",
   "id": "ebfb00ac-5edc-43a4-a5de-437fef922fbe",
   "metadata": {},
   "source": [
    "**1. Conociendo la ciudad de los datos.**\n",
    "\n",
    "Para este punto, partiremos de las coordenadas que contiene el dataset."
   ]
  },
  {
   "cell_type": "code",
   "execution_count": null,
   "id": "2df2443c-b4e1-42eb-b652-98137ad62456",
   "metadata": {},
   "outputs": [],
   "source": [
    "pip install reverse_geocoder"
   ]
  },
  {
   "cell_type": "code",
   "execution_count": 11,
   "id": "2a5a935a-78fb-4fca-bd1e-50583a80f3cf",
   "metadata": {},
   "outputs": [],
   "source": [
    "import reverse_geocoder as rg"
   ]
  },
  {
   "cell_type": "code",
   "execution_count": 12,
   "id": "aa9743a4-6641-4ab9-bf21-872df50fb8ed",
   "metadata": {},
   "outputs": [
    {
     "name": "stdout",
     "output_type": "stream",
     "text": [
      "Loading formatted geocoded file...\n"
     ]
    },
    {
     "data": {
      "text/plain": [
       "[{'lat': '3.43722',\n",
       "  'lon': '-76.5225',\n",
       "  'name': 'Cali',\n",
       "  'admin1': 'Valle del Cauca',\n",
       "  'admin2': '',\n",
       "  'cc': 'CO'}]"
      ]
     },
     "execution_count": 12,
     "metadata": {},
     "output_type": "execute_result"
    }
   ],
   "source": [
    "coordinate = (3.403659, -76.530091)\n",
    "rg.search(coordinate) #La función rg.search devuelve un diccionario con la información de las coordenadas proporcionadas "
   ]
  },
  {
   "cell_type": "markdown",
   "id": "bb225e0c-97aa-430a-bfa4-ecc65514226b",
   "metadata": {},
   "source": [
    "Dado que la función se aplica a Tuplas, es necesario crear una columna en el dataframe con una tupla que contenga la latitud y la longitud:"
   ]
  },
  {
   "cell_type": "code",
   "execution_count": 13,
   "id": "c957ed5d-8812-4aa4-a2bb-92caa4047564",
   "metadata": {},
   "outputs": [],
   "source": [
    "def obtener_ubicacion(latitud, longitud): \n",
    "    return (latitud, longitud)"
   ]
  },
  {
   "cell_type": "code",
   "execution_count": 14,
   "id": "631f2fe0-a8d2-4ff0-8f81-52fbaea7bf64",
   "metadata": {},
   "outputs": [],
   "source": [
    "df_join['ubicacion'] = df_join.apply(lambda df: obtener_ubicacion(df['latitud'], df['longitud']), axis = 1)"
   ]
  },
  {
   "cell_type": "markdown",
   "id": "06d0cb64-750b-45f1-89bd-e05c4ac5ad31",
   "metadata": {},
   "source": [
    "Teniendo en cuenta que la función *rg.search()* devuelve una lista que contiene un diccionario con diferentes datos de acuerdo a la ubicación, es necesario crear una función que retorne únicamente el valor de la clave *'name'* para posteriormente aplicarla a los datos."
   ]
  },
  {
   "cell_type": "code",
   "execution_count": 15,
   "id": "89cb4f04-a164-4037-8542-216072303c77",
   "metadata": {},
   "outputs": [],
   "source": [
    "def obtener_ciudad(ubicacion):\n",
    "    return rg.search(ubicacion)[0]['name']"
   ]
  },
  {
   "cell_type": "code",
   "execution_count": null,
   "id": "19538128-578a-424d-8430-ccb215bd51ac",
   "metadata": {},
   "outputs": [],
   "source": [
    "#df_join['ciudad'] = df_join.apply(lambda df: obtener_ciudad(df['ubicacion']), axis = 1)"
   ]
  },
  {
   "cell_type": "markdown",
   "id": "0a4aff3f-30c3-4dfe-a9db-83d752eda781",
   "metadata": {},
   "source": [
    " Aplicarlo al dataframe principal tiene un costo de memoria muy alto, por lo cual es necesario realizar unos pasos adicionales:"
   ]
  },
  {
   "cell_type": "markdown",
   "id": "41287e2a-d8e5-483e-95a2-16fc5890af52",
   "metadata": {},
   "source": [
    "**-** Definimos un subdataframe con la información de los barrios y su ubicación"
   ]
  },
  {
   "cell_type": "code",
   "execution_count": 16,
   "id": "3b2cc515-587d-4c46-86e7-908c71693533",
   "metadata": {},
   "outputs": [],
   "source": [
    "df_barrios_ubic = (\n",
    "    df_join[['nombre', 'ubicacion']] #Subdataframe con el nombre y la ubicación del barrio\n",
    "    .groupby('nombre', as_index = False) #Agrupo por nombre de barrio \n",
    "    .first() #Tomo solo la primera ubicación (todas arrojarían la misma ciudad)\n",
    ")"
   ]
  },
  {
   "cell_type": "markdown",
   "id": "a404df5a-1e07-470a-8c25-278407d74343",
   "metadata": {},
   "source": [
    "Ahora el costo de memoria de aplicar la función *obtener_ciudad* es menor:"
   ]
  },
  {
   "cell_type": "code",
   "execution_count": 17,
   "id": "5e1db8e8-13a3-4218-b5d9-d9a4076ba10c",
   "metadata": {},
   "outputs": [
    {
     "data": {
      "text/html": [
       "<div>\n",
       "<style scoped>\n",
       "    .dataframe tbody tr th:only-of-type {\n",
       "        vertical-align: middle;\n",
       "    }\n",
       "\n",
       "    .dataframe tbody tr th {\n",
       "        vertical-align: top;\n",
       "    }\n",
       "\n",
       "    .dataframe thead th {\n",
       "        text-align: right;\n",
       "    }\n",
       "</style>\n",
       "<table border=\"1\" class=\"dataframe\">\n",
       "  <thead>\n",
       "    <tr style=\"text-align: right;\">\n",
       "      <th></th>\n",
       "      <th>nombre</th>\n",
       "      <th>ubicacion</th>\n",
       "      <th>ciudad</th>\n",
       "    </tr>\n",
       "  </thead>\n",
       "  <tbody>\n",
       "    <tr>\n",
       "      <th>0</th>\n",
       "      <td>12 de Octubre</td>\n",
       "      <td>(3.427925, -76.501541)</td>\n",
       "      <td>Cali</td>\n",
       "    </tr>\n",
       "    <tr>\n",
       "      <th>1</th>\n",
       "      <td>20 de Julio</td>\n",
       "      <td>(3.43627671667, -76.5128989173)</td>\n",
       "      <td>Cali</td>\n",
       "    </tr>\n",
       "    <tr>\n",
       "      <th>2</th>\n",
       "      <td>3 de Julio</td>\n",
       "      <td>(3.430406808, -76.5390441)</td>\n",
       "      <td>Cali</td>\n",
       "    </tr>\n",
       "    <tr>\n",
       "      <th>3</th>\n",
       "      <td>Acueducto San Antonio</td>\n",
       "      <td>(3.446740019, -76.54089095)</td>\n",
       "      <td>Cali</td>\n",
       "    </tr>\n",
       "    <tr>\n",
       "      <th>4</th>\n",
       "      <td>Aguablanca</td>\n",
       "      <td>(3.431530347, -76.51957472)</td>\n",
       "      <td>Cali</td>\n",
       "    </tr>\n",
       "  </tbody>\n",
       "</table>\n",
       "</div>"
      ],
      "text/plain": [
       "                  nombre                        ubicacion ciudad\n",
       "0          12 de Octubre           (3.427925, -76.501541)   Cali\n",
       "1            20 de Julio  (3.43627671667, -76.5128989173)   Cali\n",
       "2             3 de Julio       (3.430406808, -76.5390441)   Cali\n",
       "3  Acueducto San Antonio      (3.446740019, -76.54089095)   Cali\n",
       "4             Aguablanca      (3.431530347, -76.51957472)   Cali"
      ]
     },
     "execution_count": 17,
     "metadata": {},
     "output_type": "execute_result"
    }
   ],
   "source": [
    "df_barrios_ubic['ciudad'] = (df_barrios_ubic\n",
    "                             .apply(\n",
    "                                 lambda df: obtener_ciudad(df['ubicacion']), #Aplico la función al Dataframe\n",
    "                                 axis = 1  #Indico que debe iterar a través de la columna\n",
    "                             )\n",
    ")\n",
    "\n",
    "df_barrios_ubic.head()"
   ]
  },
  {
   "cell_type": "code",
   "execution_count": 18,
   "id": "f854323a-c61d-4e9a-b08e-1a5b346676ae",
   "metadata": {},
   "outputs": [
    {
     "data": {
      "text/plain": [
       "Cali       276\n",
       "Jamundi      1\n",
       "Name: ciudad, dtype: int64"
      ]
     },
     "execution_count": 18,
     "metadata": {},
     "output_type": "execute_result"
    }
   ],
   "source": [
    "(\n",
    "    df_barrios_ubic\n",
    "    .ciudad\n",
    "    .value_counts()\n",
    ")"
   ]
  },
  {
   "cell_type": "code",
   "execution_count": 102,
   "id": "9ef7b5ae-b4f1-4b24-bade-6cd0b017b2be",
   "metadata": {},
   "outputs": [
    {
     "data": {
      "text/html": [
       "<div>\n",
       "<style scoped>\n",
       "    .dataframe tbody tr th:only-of-type {\n",
       "        vertical-align: middle;\n",
       "    }\n",
       "\n",
       "    .dataframe tbody tr th {\n",
       "        vertical-align: top;\n",
       "    }\n",
       "\n",
       "    .dataframe thead th {\n",
       "        text-align: right;\n",
       "    }\n",
       "</style>\n",
       "<table border=\"1\" class=\"dataframe\">\n",
       "  <thead>\n",
       "    <tr style=\"text-align: right;\">\n",
       "      <th></th>\n",
       "      <th>nombre</th>\n",
       "      <th>ubicacion</th>\n",
       "      <th>ciudad</th>\n",
       "    </tr>\n",
       "  </thead>\n",
       "  <tbody>\n",
       "    <tr>\n",
       "      <th>187</th>\n",
       "      <td>Parcelaciones Pance</td>\n",
       "      <td>(3.34869394999, -76.5305870537)</td>\n",
       "      <td>Jamundi</td>\n",
       "    </tr>\n",
       "  </tbody>\n",
       "</table>\n",
       "</div>"
      ],
      "text/plain": [
       "                  nombre                        ubicacion   ciudad\n",
       "187  Parcelaciones Pance  (3.34869394999, -76.5305870537)  Jamundi"
      ]
     },
     "execution_count": 102,
     "metadata": {},
     "output_type": "execute_result"
    }
   ],
   "source": [
    "df_barrios_ubic.query('ciudad == \"Jamundi\"')"
   ]
  },
  {
   "cell_type": "markdown",
   "id": "bbdc406f-ae57-4eef-b2e4-d732ef94b94d",
   "metadata": {},
   "source": [
    "Al verificar en la web, las Parcelaciones de Pance están ubicadas en la ciudad de Cali, por lo que procedemos a corregir el dato y a confirmar que todo el conjunto de datos está centrado en la actividad de los puntos de servicio de la ciudad de Cali, información importante para el análisis."
   ]
  },
  {
   "cell_type": "code",
   "execution_count": 19,
   "id": "9904bbb6-5d1d-44c6-b180-57c059308ddc",
   "metadata": {},
   "outputs": [],
   "source": [
    "cond = df_barrios_ubic.loc[:,'ciudad'] == 'Jamundi'"
   ]
  },
  {
   "cell_type": "code",
   "execution_count": 20,
   "id": "60a66830-479c-4f93-b203-c8afe5f2b0a2",
   "metadata": {},
   "outputs": [],
   "source": [
    "df_barrios_ubic.loc[cond, 'ciudad'] = 'Cali'"
   ]
  },
  {
   "cell_type": "code",
   "execution_count": 21,
   "id": "01359cb3-2717-4318-99cb-6e18552dc29b",
   "metadata": {},
   "outputs": [
    {
     "data": {
      "text/plain": [
       "Cali    277\n",
       "Name: ciudad, dtype: int64"
      ]
     },
     "execution_count": 21,
     "metadata": {},
     "output_type": "execute_result"
    }
   ],
   "source": [
    "(\n",
    "    df_barrios_ubic\n",
    "    .ciudad\n",
    "    .value_counts()\n",
    ")"
   ]
  },
  {
   "cell_type": "markdown",
   "id": "478ca669-bf2f-46f1-966c-e49f34b2ae91",
   "metadata": {},
   "source": [
    "Teniendo en cuenta que solo tenemos datos de una ciudad y, en aras de optimizar el gasto de memoria, para este ejercicio sería inoficioso hacer el merge de la ciudad con el conjunto de datos principal, por lo que omitiremos este paso."
   ]
  },
  {
   "cell_type": "markdown",
   "id": "14da6ff9-14f5-4f6a-9bad-1f8e4ca6f837",
   "metadata": {},
   "source": [
    "**2. Conociendo la segmentación socioeconómica del conjunto de datos** "
   ]
  },
  {
   "cell_type": "markdown",
   "id": "4294bd18-2d0a-4c3a-8e89-d855b1c8066c",
   "metadata": {},
   "source": [
    "Teniendo en cuenta que conocemos el barrio y la ciudad presentes en el conjunto de datos, puede ser de suma importancia conocer la segmentación socio-económica.\n",
    "\n",
    "Para ello, utilizaré datos sobre *Estratificación socioeconómica según estrato, en Cali* descargados del portal [datos.gov.co](https://www.datos.gov.co/widgets/pfix-sugc)"
   ]
  },
  {
   "cell_type": "code",
   "execution_count": 22,
   "id": "a7d5ec63-f77b-4e88-996b-4071064227dc",
   "metadata": {},
   "outputs": [
    {
     "data": {
      "text/html": [
       "<div>\n",
       "<style scoped>\n",
       "    .dataframe tbody tr th:only-of-type {\n",
       "        vertical-align: middle;\n",
       "    }\n",
       "\n",
       "    .dataframe tbody tr th {\n",
       "        vertical-align: top;\n",
       "    }\n",
       "\n",
       "    .dataframe thead th {\n",
       "        text-align: right;\n",
       "    }\n",
       "</style>\n",
       "<table border=\"1\" class=\"dataframe\">\n",
       "  <thead>\n",
       "    <tr style=\"text-align: right;\">\n",
       "      <th></th>\n",
       "      <th>Código único</th>\n",
       "      <th>Barrio</th>\n",
       "      <th>Lados de manzana por estrato 1</th>\n",
       "      <th>Lados de manzana por estrato 2</th>\n",
       "      <th>Lados de manzana por estrato 3</th>\n",
       "      <th>Lados de manzana por estrato 4</th>\n",
       "      <th>Lados de manzana por estrato 5</th>\n",
       "      <th>Lados de manzana por estrato 6</th>\n",
       "      <th>Sin vivienda</th>\n",
       "      <th>Estrato moda</th>\n",
       "    </tr>\n",
       "  </thead>\n",
       "  <tbody>\n",
       "    <tr>\n",
       "      <th>0</th>\n",
       "      <td>101</td>\n",
       "      <td>Terrón Colorado</td>\n",
       "      <td>84</td>\n",
       "      <td>309</td>\n",
       "      <td>-</td>\n",
       "      <td>-</td>\n",
       "      <td>-</td>\n",
       "      <td>2</td>\n",
       "      <td>43</td>\n",
       "      <td>2</td>\n",
       "    </tr>\n",
       "    <tr>\n",
       "      <th>1</th>\n",
       "      <td>102</td>\n",
       "      <td>Vista Hermosa</td>\n",
       "      <td>199</td>\n",
       "      <td>18</td>\n",
       "      <td>-</td>\n",
       "      <td>-</td>\n",
       "      <td>-</td>\n",
       "      <td>-</td>\n",
       "      <td>30</td>\n",
       "      <td>1</td>\n",
       "    </tr>\n",
       "    <tr>\n",
       "      <th>2</th>\n",
       "      <td>196</td>\n",
       "      <td>Patio Bonito</td>\n",
       "      <td>161</td>\n",
       "      <td>-</td>\n",
       "      <td>-</td>\n",
       "      <td>-</td>\n",
       "      <td>-</td>\n",
       "      <td>-</td>\n",
       "      <td>37</td>\n",
       "      <td>1</td>\n",
       "    </tr>\n",
       "    <tr>\n",
       "      <th>3</th>\n",
       "      <td>199</td>\n",
       "      <td>Aguacatal</td>\n",
       "      <td>209</td>\n",
       "      <td>23</td>\n",
       "      <td>4</td>\n",
       "      <td>5</td>\n",
       "      <td>1</td>\n",
       "      <td>4</td>\n",
       "      <td>59</td>\n",
       "      <td>1</td>\n",
       "    </tr>\n",
       "    <tr>\n",
       "      <th>4</th>\n",
       "      <td>201</td>\n",
       "      <td>Santa Rita</td>\n",
       "      <td>-</td>\n",
       "      <td>-</td>\n",
       "      <td>-</td>\n",
       "      <td>2</td>\n",
       "      <td>6</td>\n",
       "      <td>30</td>\n",
       "      <td>3</td>\n",
       "      <td>6</td>\n",
       "    </tr>\n",
       "  </tbody>\n",
       "</table>\n",
       "</div>"
      ],
      "text/plain": [
       "  Código único           Barrio Lados de manzana por estrato 1  \\\n",
       "0          101  Terrón Colorado                             84   \n",
       "1          102    Vista Hermosa                            199   \n",
       "2          196     Patio Bonito                            161   \n",
       "3          199        Aguacatal                            209   \n",
       "4          201       Santa Rita                              -   \n",
       "\n",
       "  Lados de manzana por estrato 2 Lados de manzana por estrato 3  \\\n",
       "0                            309                              -   \n",
       "1                             18                              -   \n",
       "2                              -                              -   \n",
       "3                             23                              4   \n",
       "4                              -                              -   \n",
       "\n",
       "  Lados de manzana por estrato 4 Lados de manzana por estrato 5  \\\n",
       "0                              -                              -   \n",
       "1                              -                              -   \n",
       "2                              -                              -   \n",
       "3                              5                              1   \n",
       "4                              2                              6   \n",
       "\n",
       "  Lados de manzana por estrato 6 Sin vivienda Estrato moda  \n",
       "0                              2           43            2  \n",
       "1                              -           30            1  \n",
       "2                              -           37            1  \n",
       "3                              4           59            1  \n",
       "4                             30            3            6  "
      ]
     },
     "execution_count": 22,
     "metadata": {},
     "output_type": "execute_result"
    }
   ],
   "source": [
    "estratificacion_cali = pd.read_csv('estratificacion_cali.csv')\n",
    "estratificacion_cali.head()"
   ]
  },
  {
   "cell_type": "markdown",
   "id": "4b705e5b-021e-4e22-bac5-903101c5fc03",
   "metadata": {},
   "source": [
    "Teniendo en cuenta que hay diferentes estratos sociales en un barrio de acuerdo a los sectores del mismo, utilizaremos como definitivo el *Estrato moda*, es decir, el valor que más se repite."
   ]
  },
  {
   "cell_type": "code",
   "execution_count": 23,
   "id": "0a98af79-83e7-453b-8e21-5ff79e40f87f",
   "metadata": {},
   "outputs": [
    {
     "data": {
      "text/plain": [
       "Index(['Código único', 'Barrio', 'Lados de manzana por estrato 1',\n",
       "       'Lados de manzana por estrato 2', 'Lados de manzana por estrato 3',\n",
       "       'Lados de manzana por estrato 4', 'Lados de manzana por estrato 5',\n",
       "       'Lados de manzana por estrato 6', 'Sin vivienda', 'Estrato moda'],\n",
       "      dtype='object')"
      ]
     },
     "execution_count": 23,
     "metadata": {},
     "output_type": "execute_result"
    }
   ],
   "source": [
    "estratificacion_cali.columns"
   ]
  },
  {
   "cell_type": "code",
   "execution_count": 24,
   "id": "b8a89cbd-e584-4e3e-b54d-432236fc91a9",
   "metadata": {},
   "outputs": [],
   "source": [
    "#Depuramos datos innecesarios\n",
    "\n",
    "estratificacion_cali = estratificacion_cali[['Barrio', 'Estrato moda']]"
   ]
  },
  {
   "cell_type": "code",
   "execution_count": 25,
   "id": "c1015331-8610-4091-8549-c076b2ecd147",
   "metadata": {},
   "outputs": [],
   "source": [
    "#Renombramos las columnas\n",
    "\n",
    "estratificacion_cali.columns = ['nombre', 'estrato']"
   ]
  },
  {
   "cell_type": "code",
   "execution_count": 26,
   "id": "6fd76ae6-fb80-4827-83cb-1b5ea643ffb6",
   "metadata": {},
   "outputs": [
    {
     "data": {
      "text/html": [
       "<div>\n",
       "<style scoped>\n",
       "    .dataframe tbody tr th:only-of-type {\n",
       "        vertical-align: middle;\n",
       "    }\n",
       "\n",
       "    .dataframe tbody tr th {\n",
       "        vertical-align: top;\n",
       "    }\n",
       "\n",
       "    .dataframe thead th {\n",
       "        text-align: right;\n",
       "    }\n",
       "</style>\n",
       "<table border=\"1\" class=\"dataframe\">\n",
       "  <thead>\n",
       "    <tr style=\"text-align: right;\">\n",
       "      <th></th>\n",
       "      <th>nombre</th>\n",
       "      <th>estrato</th>\n",
       "    </tr>\n",
       "  </thead>\n",
       "  <tbody>\n",
       "    <tr>\n",
       "      <th>0</th>\n",
       "      <td>Terrón Colorado</td>\n",
       "      <td>2</td>\n",
       "    </tr>\n",
       "    <tr>\n",
       "      <th>1</th>\n",
       "      <td>Vista Hermosa</td>\n",
       "      <td>1</td>\n",
       "    </tr>\n",
       "    <tr>\n",
       "      <th>2</th>\n",
       "      <td>Patio Bonito</td>\n",
       "      <td>1</td>\n",
       "    </tr>\n",
       "    <tr>\n",
       "      <th>3</th>\n",
       "      <td>Aguacatal</td>\n",
       "      <td>1</td>\n",
       "    </tr>\n",
       "    <tr>\n",
       "      <th>4</th>\n",
       "      <td>Santa Rita</td>\n",
       "      <td>6</td>\n",
       "    </tr>\n",
       "  </tbody>\n",
       "</table>\n",
       "</div>"
      ],
      "text/plain": [
       "            nombre estrato\n",
       "0  Terrón Colorado       2\n",
       "1    Vista Hermosa       1\n",
       "2     Patio Bonito       1\n",
       "3        Aguacatal       1\n",
       "4       Santa Rita       6"
      ]
     },
     "execution_count": 26,
     "metadata": {},
     "output_type": "execute_result"
    }
   ],
   "source": [
    "estratificacion_cali.head()"
   ]
  },
  {
   "cell_type": "markdown",
   "id": "2a616d43-d61e-4f24-b41c-0945a332eee7",
   "metadata": {},
   "source": [
    "Realizamos el merge con el conjunto de datos principales:"
   ]
  },
  {
   "cell_type": "code",
   "execution_count": 27,
   "id": "b38902ec-08a6-40bc-9b76-bc10d30abe1f",
   "metadata": {},
   "outputs": [
    {
     "data": {
      "text/html": [
       "<div>\n",
       "<style scoped>\n",
       "    .dataframe tbody tr th:only-of-type {\n",
       "        vertical-align: middle;\n",
       "    }\n",
       "\n",
       "    .dataframe tbody tr th {\n",
       "        vertical-align: top;\n",
       "    }\n",
       "\n",
       "    .dataframe thead th {\n",
       "        text-align: right;\n",
       "    }\n",
       "</style>\n",
       "<table border=\"1\" class=\"dataframe\">\n",
       "  <thead>\n",
       "    <tr style=\"text-align: right;\">\n",
       "      <th></th>\n",
       "      <th>codigo</th>\n",
       "      <th>nombre</th>\n",
       "      <th>tipo</th>\n",
       "      <th>cod_dispositivo</th>\n",
       "      <th>latitud</th>\n",
       "      <th>longitud</th>\n",
       "      <th>id_barrio</th>\n",
       "      <th>num_doc</th>\n",
       "      <th>tipo_doc</th>\n",
       "      <th>canal</th>\n",
       "      <th>num_trx</th>\n",
       "      <th>mnt_total_trx</th>\n",
       "      <th>ubicacion</th>\n",
       "      <th>estrato</th>\n",
       "    </tr>\n",
       "  </thead>\n",
       "  <tbody>\n",
       "    <tr>\n",
       "      <th>0</th>\n",
       "      <td>737998257</td>\n",
       "      <td>La Campina</td>\n",
       "      <td>POS</td>\n",
       "      <td>12202503</td>\n",
       "      <td>3.479572</td>\n",
       "      <td>-76.525582</td>\n",
       "      <td>737998257</td>\n",
       "      <td>-2393994463924208659</td>\n",
       "      <td>1</td>\n",
       "      <td>POS</td>\n",
       "      <td>2</td>\n",
       "      <td>12202503.0</td>\n",
       "      <td>(3.479572082, -76.52558242)</td>\n",
       "      <td>NaN</td>\n",
       "    </tr>\n",
       "    <tr>\n",
       "      <th>1</th>\n",
       "      <td>737998257</td>\n",
       "      <td>La Campina</td>\n",
       "      <td>POS</td>\n",
       "      <td>10521045</td>\n",
       "      <td>3.480517</td>\n",
       "      <td>-76.525275</td>\n",
       "      <td>737998257</td>\n",
       "      <td>-5675531380015678594</td>\n",
       "      <td>1</td>\n",
       "      <td>POS</td>\n",
       "      <td>1</td>\n",
       "      <td>5260522.5</td>\n",
       "      <td>(3.480516553, -76.52527472)</td>\n",
       "      <td>NaN</td>\n",
       "    </tr>\n",
       "    <tr>\n",
       "      <th>2</th>\n",
       "      <td>737998257</td>\n",
       "      <td>La Campina</td>\n",
       "      <td>POS</td>\n",
       "      <td>10521045</td>\n",
       "      <td>3.480517</td>\n",
       "      <td>-76.525275</td>\n",
       "      <td>737998257</td>\n",
       "      <td>-5066077049535851626</td>\n",
       "      <td>1</td>\n",
       "      <td>POS</td>\n",
       "      <td>1</td>\n",
       "      <td>5260522.5</td>\n",
       "      <td>(3.480516553, -76.52527472)</td>\n",
       "      <td>NaN</td>\n",
       "    </tr>\n",
       "    <tr>\n",
       "      <th>3</th>\n",
       "      <td>737998257</td>\n",
       "      <td>La Campina</td>\n",
       "      <td>POS</td>\n",
       "      <td>13238282</td>\n",
       "      <td>3.479491</td>\n",
       "      <td>-76.525818</td>\n",
       "      <td>737998257</td>\n",
       "      <td>-5791329717693361241</td>\n",
       "      <td>1</td>\n",
       "      <td>POS</td>\n",
       "      <td>1</td>\n",
       "      <td>6619141.0</td>\n",
       "      <td>(3.47949063002, -76.5258184734)</td>\n",
       "      <td>NaN</td>\n",
       "    </tr>\n",
       "    <tr>\n",
       "      <th>4</th>\n",
       "      <td>737998257</td>\n",
       "      <td>La Campina</td>\n",
       "      <td>POS</td>\n",
       "      <td>12567517</td>\n",
       "      <td>3.480958</td>\n",
       "      <td>-76.525153</td>\n",
       "      <td>737998257</td>\n",
       "      <td>-397966594878551344</td>\n",
       "      <td>1</td>\n",
       "      <td>POS</td>\n",
       "      <td>1</td>\n",
       "      <td>6283758.5</td>\n",
       "      <td>(3.480957671, -76.52515269)</td>\n",
       "      <td>NaN</td>\n",
       "    </tr>\n",
       "  </tbody>\n",
       "</table>\n",
       "</div>"
      ],
      "text/plain": [
       "      codigo      nombre tipo  cod_dispositivo   latitud   longitud  \\\n",
       "0  737998257  La Campina  POS         12202503  3.479572 -76.525582   \n",
       "1  737998257  La Campina  POS         10521045  3.480517 -76.525275   \n",
       "2  737998257  La Campina  POS         10521045  3.480517 -76.525275   \n",
       "3  737998257  La Campina  POS         13238282  3.479491 -76.525818   \n",
       "4  737998257  La Campina  POS         12567517  3.480958 -76.525153   \n",
       "\n",
       "   id_barrio              num_doc  tipo_doc canal  num_trx  mnt_total_trx  \\\n",
       "0  737998257 -2393994463924208659         1   POS        2     12202503.0   \n",
       "1  737998257 -5675531380015678594         1   POS        1      5260522.5   \n",
       "2  737998257 -5066077049535851626         1   POS        1      5260522.5   \n",
       "3  737998257 -5791329717693361241         1   POS        1      6619141.0   \n",
       "4  737998257  -397966594878551344         1   POS        1      6283758.5   \n",
       "\n",
       "                         ubicacion estrato  \n",
       "0      (3.479572082, -76.52558242)     NaN  \n",
       "1      (3.480516553, -76.52527472)     NaN  \n",
       "2      (3.480516553, -76.52527472)     NaN  \n",
       "3  (3.47949063002, -76.5258184734)     NaN  \n",
       "4      (3.480957671, -76.52515269)     NaN  "
      ]
     },
     "execution_count": 27,
     "metadata": {},
     "output_type": "execute_result"
    }
   ],
   "source": [
    "df_join_merged = pd.merge(df_join, estratificacion_cali, on = 'nombre', how = 'left')\n",
    "df_join_merged.head()"
   ]
  },
  {
   "cell_type": "code",
   "execution_count": 115,
   "id": "6c2e74b3-5116-478e-b211-afdca2056cf8",
   "metadata": {},
   "outputs": [
    {
     "data": {
      "text/html": [
       "<div>\n",
       "<style scoped>\n",
       "    .dataframe tbody tr th:only-of-type {\n",
       "        vertical-align: middle;\n",
       "    }\n",
       "\n",
       "    .dataframe tbody tr th {\n",
       "        vertical-align: top;\n",
       "    }\n",
       "\n",
       "    .dataframe thead th {\n",
       "        text-align: right;\n",
       "    }\n",
       "</style>\n",
       "<table border=\"1\" class=\"dataframe\">\n",
       "  <thead>\n",
       "    <tr style=\"text-align: right;\">\n",
       "      <th></th>\n",
       "      <th>codigo</th>\n",
       "      <th>nombre</th>\n",
       "      <th>tipo</th>\n",
       "      <th>cod_dispositivo</th>\n",
       "      <th>latitud</th>\n",
       "      <th>longitud</th>\n",
       "      <th>id_barrio</th>\n",
       "      <th>num_doc</th>\n",
       "      <th>tipo_doc</th>\n",
       "      <th>canal</th>\n",
       "      <th>num_trx</th>\n",
       "      <th>mnt_total_trx</th>\n",
       "      <th>ubicacion</th>\n",
       "      <th>estrato</th>\n",
       "    </tr>\n",
       "  </thead>\n",
       "  <tbody>\n",
       "    <tr>\n",
       "      <th>42790</th>\n",
       "      <td>738000407</td>\n",
       "      <td>Urbanización San Juaquín</td>\n",
       "      <td>POS</td>\n",
       "      <td>11303609</td>\n",
       "      <td>3.366801</td>\n",
       "      <td>-76.527968</td>\n",
       "      <td>738000407</td>\n",
       "      <td>-7539593019751320700</td>\n",
       "      <td>1</td>\n",
       "      <td>POS</td>\n",
       "      <td>1</td>\n",
       "      <td>5651804.5</td>\n",
       "      <td>(3.36680096973, -76.5279684014)</td>\n",
       "      <td>NaN</td>\n",
       "    </tr>\n",
       "    <tr>\n",
       "      <th>81485</th>\n",
       "      <td>737998832</td>\n",
       "      <td>San Pedro</td>\n",
       "      <td>DISPENSADOR</td>\n",
       "      <td>600</td>\n",
       "      <td>3.450122</td>\n",
       "      <td>-76.532928</td>\n",
       "      <td>737998832</td>\n",
       "      <td>2903462039265902287</td>\n",
       "      <td>1</td>\n",
       "      <td>DISPENSADOR</td>\n",
       "      <td>1</td>\n",
       "      <td>300.0</td>\n",
       "      <td>(3.45012219, -76.5329282)</td>\n",
       "      <td>3</td>\n",
       "    </tr>\n",
       "    <tr>\n",
       "      <th>68465</th>\n",
       "      <td>737998194</td>\n",
       "      <td>Santa Mónica Residencial</td>\n",
       "      <td>MF</td>\n",
       "      <td>5210</td>\n",
       "      <td>3.472052</td>\n",
       "      <td>-76.528015</td>\n",
       "      <td>737998194</td>\n",
       "      <td>-7934596012811782026</td>\n",
       "      <td>2</td>\n",
       "      <td>MF</td>\n",
       "      <td>1</td>\n",
       "      <td>2605.0</td>\n",
       "      <td>(3.472052, -76.528015)</td>\n",
       "      <td>NaN</td>\n",
       "    </tr>\n",
       "    <tr>\n",
       "      <th>70638</th>\n",
       "      <td>738000386</td>\n",
       "      <td>La Ciudadela Confandi</td>\n",
       "      <td>CB</td>\n",
       "      <td>1013416598</td>\n",
       "      <td>3.388080</td>\n",
       "      <td>-76.520140</td>\n",
       "      <td>738000386</td>\n",
       "      <td>-6168238322585651735</td>\n",
       "      <td>1</td>\n",
       "      <td>CB</td>\n",
       "      <td>1</td>\n",
       "      <td>506708299.0</td>\n",
       "      <td>(3.38808, -76.52014)</td>\n",
       "      <td>NaN</td>\n",
       "    </tr>\n",
       "    <tr>\n",
       "      <th>36561</th>\n",
       "      <td>737998912</td>\n",
       "      <td>El Calvario</td>\n",
       "      <td>DISPENSADOR</td>\n",
       "      <td>8031</td>\n",
       "      <td>3.449273</td>\n",
       "      <td>-76.528759</td>\n",
       "      <td>737998912</td>\n",
       "      <td>3300000114550460672</td>\n",
       "      <td>1</td>\n",
       "      <td>DISPENSADOR</td>\n",
       "      <td>2</td>\n",
       "      <td>8031.0</td>\n",
       "      <td>(3.44927335, -76.5287594)</td>\n",
       "      <td>3</td>\n",
       "    </tr>\n",
       "    <tr>\n",
       "      <th>84413</th>\n",
       "      <td>737998832</td>\n",
       "      <td>San Pedro</td>\n",
       "      <td>POS</td>\n",
       "      <td>11126562</td>\n",
       "      <td>3.452429</td>\n",
       "      <td>-76.530228</td>\n",
       "      <td>737998832</td>\n",
       "      <td>-2269830880618748380</td>\n",
       "      <td>1</td>\n",
       "      <td>POS</td>\n",
       "      <td>1</td>\n",
       "      <td>5563281.0</td>\n",
       "      <td>(3.452429136, -76.53022839)</td>\n",
       "      <td>3</td>\n",
       "    </tr>\n",
       "    <tr>\n",
       "      <th>39341</th>\n",
       "      <td>737998825</td>\n",
       "      <td>Ciudadela Floralia</td>\n",
       "      <td>POS</td>\n",
       "      <td>11127065</td>\n",
       "      <td>3.494212</td>\n",
       "      <td>-76.494971</td>\n",
       "      <td>737998825</td>\n",
       "      <td>9085985241497872702</td>\n",
       "      <td>1</td>\n",
       "      <td>POS</td>\n",
       "      <td>5</td>\n",
       "      <td>27817662.5</td>\n",
       "      <td>(3.494211515, -76.49497145)</td>\n",
       "      <td>2</td>\n",
       "    </tr>\n",
       "    <tr>\n",
       "      <th>81544</th>\n",
       "      <td>737998832</td>\n",
       "      <td>San Pedro</td>\n",
       "      <td>DISPENSADOR</td>\n",
       "      <td>600</td>\n",
       "      <td>3.450122</td>\n",
       "      <td>-76.532928</td>\n",
       "      <td>737998832</td>\n",
       "      <td>8798468695133417824</td>\n",
       "      <td>1</td>\n",
       "      <td>DISPENSADOR</td>\n",
       "      <td>1</td>\n",
       "      <td>300.0</td>\n",
       "      <td>(3.45012219, -76.5329282)</td>\n",
       "      <td>3</td>\n",
       "    </tr>\n",
       "    <tr>\n",
       "      <th>55511</th>\n",
       "      <td>737998851</td>\n",
       "      <td>Ciudad Capri</td>\n",
       "      <td>DISPENSADOR</td>\n",
       "      <td>8064</td>\n",
       "      <td>3.392730</td>\n",
       "      <td>-76.544289</td>\n",
       "      <td>737998851</td>\n",
       "      <td>-3139123907487479639</td>\n",
       "      <td>1</td>\n",
       "      <td>DISPENSADOR</td>\n",
       "      <td>3</td>\n",
       "      <td>12096.0</td>\n",
       "      <td>(3.39272972, -76.54428937)</td>\n",
       "      <td>5</td>\n",
       "    </tr>\n",
       "    <tr>\n",
       "      <th>22441</th>\n",
       "      <td>737999427</td>\n",
       "      <td>Urbanización Tequendama</td>\n",
       "      <td>SAI</td>\n",
       "      <td>77</td>\n",
       "      <td>3.421885</td>\n",
       "      <td>-76.547348</td>\n",
       "      <td>737999427</td>\n",
       "      <td>5518408100027431367</td>\n",
       "      <td>1</td>\n",
       "      <td>SAI</td>\n",
       "      <td>1</td>\n",
       "      <td>38.5</td>\n",
       "      <td>(3.42188529, -76.54734841)</td>\n",
       "      <td>5</td>\n",
       "    </tr>\n",
       "  </tbody>\n",
       "</table>\n",
       "</div>"
      ],
      "text/plain": [
       "          codigo                    nombre         tipo  cod_dispositivo  \\\n",
       "42790  738000407  Urbanización San Juaquín          POS         11303609   \n",
       "81485  737998832                 San Pedro  DISPENSADOR              600   \n",
       "68465  737998194  Santa Mónica Residencial           MF             5210   \n",
       "70638  738000386     La Ciudadela Confandi           CB       1013416598   \n",
       "36561  737998912               El Calvario  DISPENSADOR             8031   \n",
       "84413  737998832                 San Pedro          POS         11126562   \n",
       "39341  737998825        Ciudadela Floralia          POS         11127065   \n",
       "81544  737998832                 San Pedro  DISPENSADOR              600   \n",
       "55511  737998851              Ciudad Capri  DISPENSADOR             8064   \n",
       "22441  737999427   Urbanización Tequendama          SAI               77   \n",
       "\n",
       "        latitud   longitud  id_barrio              num_doc  tipo_doc  \\\n",
       "42790  3.366801 -76.527968  738000407 -7539593019751320700         1   \n",
       "81485  3.450122 -76.532928  737998832  2903462039265902287         1   \n",
       "68465  3.472052 -76.528015  737998194 -7934596012811782026         2   \n",
       "70638  3.388080 -76.520140  738000386 -6168238322585651735         1   \n",
       "36561  3.449273 -76.528759  737998912  3300000114550460672         1   \n",
       "84413  3.452429 -76.530228  737998832 -2269830880618748380         1   \n",
       "39341  3.494212 -76.494971  737998825  9085985241497872702         1   \n",
       "81544  3.450122 -76.532928  737998832  8798468695133417824         1   \n",
       "55511  3.392730 -76.544289  737998851 -3139123907487479639         1   \n",
       "22441  3.421885 -76.547348  737999427  5518408100027431367         1   \n",
       "\n",
       "             canal  num_trx  mnt_total_trx                        ubicacion  \\\n",
       "42790          POS        1      5651804.5  (3.36680096973, -76.5279684014)   \n",
       "81485  DISPENSADOR        1          300.0        (3.45012219, -76.5329282)   \n",
       "68465           MF        1         2605.0           (3.472052, -76.528015)   \n",
       "70638           CB        1    506708299.0             (3.38808, -76.52014)   \n",
       "36561  DISPENSADOR        2         8031.0        (3.44927335, -76.5287594)   \n",
       "84413          POS        1      5563281.0      (3.452429136, -76.53022839)   \n",
       "39341          POS        5     27817662.5      (3.494211515, -76.49497145)   \n",
       "81544  DISPENSADOR        1          300.0        (3.45012219, -76.5329282)   \n",
       "55511  DISPENSADOR        3        12096.0       (3.39272972, -76.54428937)   \n",
       "22441          SAI        1           38.5       (3.42188529, -76.54734841)   \n",
       "\n",
       "      estrato  \n",
       "42790     NaN  \n",
       "81485       3  \n",
       "68465     NaN  \n",
       "70638     NaN  \n",
       "36561       3  \n",
       "84413       3  \n",
       "39341       2  \n",
       "81544       3  \n",
       "55511       5  \n",
       "22441       5  "
      ]
     },
     "execution_count": 115,
     "metadata": {},
     "output_type": "execute_result"
    }
   ],
   "source": [
    "df_join_merged.sample(10)"
   ]
  },
  {
   "cell_type": "markdown",
   "id": "01cdfdcb-06ef-47d2-bcd4-bde18487fe33",
   "metadata": {},
   "source": [
    "Analizando valores nulos."
   ]
  },
  {
   "cell_type": "code",
   "execution_count": 28,
   "id": "a91e882f-c347-4322-b9eb-c477c0233e69",
   "metadata": {},
   "outputs": [
    {
     "data": {
      "text/plain": [
       "codigo             False\n",
       "nombre             False\n",
       "tipo               False\n",
       "cod_dispositivo    False\n",
       "latitud            False\n",
       "longitud           False\n",
       "id_barrio          False\n",
       "num_doc            False\n",
       "tipo_doc           False\n",
       "canal              False\n",
       "num_trx            False\n",
       "mnt_total_trx      False\n",
       "ubicacion          False\n",
       "estrato             True\n",
       "dtype: bool"
      ]
     },
     "execution_count": 28,
     "metadata": {},
     "output_type": "execute_result"
    }
   ],
   "source": [
    "(\n",
    "    df_join_merged\n",
    "    .isnull()\n",
    "    .any()\n",
    ")"
   ]
  },
  {
   "cell_type": "code",
   "execution_count": 29,
   "id": "0af13e58-8746-4c7d-ba6b-e55ef2f825e4",
   "metadata": {},
   "outputs": [
    {
     "data": {
      "text/plain": [
       "<seaborn.axisgrid.FacetGrid at 0x7f314175d640>"
      ]
     },
     "execution_count": 29,
     "metadata": {},
     "output_type": "execute_result"
    },
    {
     "data": {
      "image/png": "[encoded data removed]",
      "text/plain": [
       "<Figure size 584.875x500 with 1 Axes>"
      ]
     },
     "metadata": {},
     "output_type": "display_data"
    }
   ],
   "source": [
    "#Proporción de los valores nulos\n",
    "\n",
    "(\n",
    "    df_join_merged\n",
    "    .isnull()\n",
    "    .melt()\n",
    "    .pipe(\n",
    "        lambda df: sns.displot(\n",
    "            data = df,\n",
    "            y = 'variable',\n",
    "            hue = 'value',\n",
    "            multiple = 'fill'\n",
    "        )\n",
    "    )\n",
    ")"
   ]
  },
  {
   "cell_type": "code",
   "execution_count": 31,
   "id": "3b2181ce-0b64-4838-a21a-4f81c3707992",
   "metadata": {},
   "outputs": [
    {
     "data": {
      "text/plain": [
       "codigo                 0\n",
       "nombre                 0\n",
       "tipo                   0\n",
       "cod_dispositivo        0\n",
       "latitud                0\n",
       "longitud               0\n",
       "id_barrio              0\n",
       "num_doc                0\n",
       "tipo_doc               0\n",
       "canal                  0\n",
       "num_trx                0\n",
       "mnt_total_trx          0\n",
       "ubicacion              0\n",
       "estrato            23832\n",
       "dtype: int64"
      ]
     },
     "execution_count": 31,
     "metadata": {},
     "output_type": "execute_result"
    }
   ],
   "source": [
    "(\n",
    "    df_join_merged\n",
    "    .isnull()\n",
    "    .sum()\n",
    ")"
   ]
  },
  {
   "cell_type": "code",
   "execution_count": 32,
   "id": "34d23f0a-8982-4787-bd00-569a4d08188b",
   "metadata": {
    "tags": []
   },
   "outputs": [
    {
     "data": {
      "text/plain": [
       "0.2518972624458303"
      ]
     },
     "execution_count": 32,
     "metadata": {},
     "output_type": "execute_result"
    }
   ],
   "source": [
    "23832 / df_join_merged.shape[0]"
   ]
  },
  {
   "cell_type": "markdown",
   "id": "d05aaab8-c29e-472b-a756-04a2a3136cc6",
   "metadata": {},
   "source": [
    "Teniendo en cuenta que los valores representan un 25.19% de los datos, es necesario encontrar los valores faltantes, pues eliminarlos sería perder gran parte de la muestra."
   ]
  },
  {
   "cell_type": "code",
   "execution_count": 33,
   "id": "f931add0-281a-4d6a-9b45-68ed403b1a08",
   "metadata": {},
   "outputs": [],
   "source": [
    "mask = df_join_merged.loc[:,'estrato'].isnull()"
   ]
  },
  {
   "cell_type": "code",
   "execution_count": 34,
   "id": "3bd4cab5-55cc-4824-aab1-0273ccf08aff",
   "metadata": {},
   "outputs": [
    {
     "data": {
      "text/plain": [
       "array(['La Campina', 'El Trebol', 'Jorge Eliecer Gaitan',\n",
       "       'Altos de Santa Isabel La Morelia', 'Rafael Uribe',\n",
       "       'Alfonso Barberena', 'Paseo de los Almendros', 'Los Parques',\n",
       "       'Departamental', 'Olaya Herrera', 'Bretana', 'Atanasio Girardota',\n",
       "       'Unidad Residencial Santiago de Cali', 'La Rivera',\n",
       "       'Alirio Mora Beltrán', 'Manuel María Buenventura',\n",
       "       'U Dep Galindo Plaza Toros', 'León XII', 'Lleras Restrepo II',\n",
       "       'Santa Bárbara', 'Los Portales-Nuevo Rey', 'Los Alcázares',\n",
       "       'Canaveralejo-Seguros Patria', 'Quintas de Don Simón',\n",
       "       'Guillermo León Valencia', 'Los Andes B-La Riviera',\n",
       "       'San Francisco-Berlín', 'Juanambu', 'Parque de la Caña',\n",
       "       '12 de Octubre', 'Siloe', 'Petecuy II', 'Canaverales Los Samanes',\n",
       "       'San Luis II', 'Cuarto de Legua-Guadalupe', 'Los Comuneros I',\n",
       "       'Ciudad Los Á\\x81lamos', 'San Luis', 'Camino Real-Joaquín Borrero',\n",
       "       'Acueducto San Antonio', 'El Á\\x81ngel del Hogar',\n",
       "       'U Dep Panamericana Ant Hipódromo', 'Villa Blanca',\n",
       "       'José Holguin Garces', 'Pampalinda', 'San Carlos',\n",
       "       'Marco Fidel Suarez', 'Unidad Residencial Bueno Madrid',\n",
       "       'Nueva Granada', 'Manuela Beltrán', 'Alfonso López I',\n",
       "       'Urbanización La Nueva Base', 'Los Comuneros II',\n",
       "       'Urbanización San Juaquín', 'Ville Grande', 'Caldas',\n",
       "       'Nueva Floresta del Ict', 'Los Rubles',\n",
       "       'Villa del Prado-El Guabito', 'Bajos Ciudad Córdoba',\n",
       "       'Alférez Real', 'Mayapan-Las Vegas', 'José M. Córdoba',\n",
       "       'San Cristobal', 'Camino Real-Los Fundadores',\n",
       "       'José Manuel Marroquin II', 'Ciudadela Paso Ancho',\n",
       "       'Cataya-El Gran Limonar', 'José Manuel Marroquin I',\n",
       "       'Unidad Residencial El Coliseo', 'El Paraíso', 'Santa Anita',\n",
       "       'Santa Mónica Residencial', 'Ciudad Talanga',\n",
       "       'La Ciudadela Confandi', 'Á\\x81rea Libre-Parque del Amor',\n",
       "       'Cristobal Colón', 'Promociones Populares',\n",
       "       'Francisco Eladio Ramírez', 'Alto de los Chorros', 'Alto Jordán',\n",
       "       'Esmeralda', 'Junin', 'Ciudad Córdoba', 'Paseo del Comercio',\n",
       "       'Brisas de los Á\\x81lamos', 'Boyacá', 'Alfonso López II',\n",
       "       'Alfonso López III', 'Ciudadela del Río'], dtype=object)"
      ]
     },
     "execution_count": 34,
     "metadata": {},
     "output_type": "execute_result"
    }
   ],
   "source": [
    "df_join_merged.loc[mask, 'nombre'].unique()"
   ]
  },
  {
   "cell_type": "markdown",
   "id": "92ea603d-6150-489d-a95b-442f803abb19",
   "metadata": {},
   "source": [
    "Una hipótesis acerca de la cantidad de valores nulos es que muchos de estos no entran en el merge por asuntos de tildes, mayúsculas, ñ's o, incluso, guiones, por lo que procederé a repetir el ejercicio estandarizando primero los nombres en ambas tablas."
   ]
  },
  {
   "cell_type": "code",
   "execution_count": 42,
   "id": "e586dbc5-8fbe-444b-8077-d229b05e0783",
   "metadata": {},
   "outputs": [],
   "source": [
    "def quitar_tildes(palabra):\n",
    "    '''\n",
    "    La función toma una palabra y la devuelve sin tildes y en formato título\n",
    "    '''\n",
    "    palabra = palabra.lower()\n",
    "    vocales = [['á', 'a'], ['é', 'e'], ['í', 'i'], ['ó', 'o'], ['ú', 'u'], ['-', ' '], ['ñ', 'n']]\n",
    "    for i,j in vocales:\n",
    "        palabra = palabra.replace(i, j)\n",
    "    return palabra.title()"
   ]
  },
  {
   "cell_type": "code",
   "execution_count": 43,
   "id": "43805d91-37fc-42d3-ae99-c2047fbe13e6",
   "metadata": {
    "collapsed": true,
    "jupyter": {
     "outputs_hidden": true
    },
    "tags": []
   },
   "outputs": [
    {
     "data": {
      "text/html": [
       "<div>\n",
       "<style scoped>\n",
       "    .dataframe tbody tr th:only-of-type {\n",
       "        vertical-align: middle;\n",
       "    }\n",
       "\n",
       "    .dataframe tbody tr th {\n",
       "        vertical-align: top;\n",
       "    }\n",
       "\n",
       "    .dataframe thead th {\n",
       "        text-align: right;\n",
       "    }\n",
       "</style>\n",
       "<table border=\"1\" class=\"dataframe\">\n",
       "  <thead>\n",
       "    <tr style=\"text-align: right;\">\n",
       "      <th></th>\n",
       "      <th>codigo</th>\n",
       "      <th>nombre</th>\n",
       "      <th>tipo</th>\n",
       "      <th>cod_dispositivo</th>\n",
       "      <th>latitud</th>\n",
       "      <th>longitud</th>\n",
       "      <th>id_barrio</th>\n",
       "      <th>num_doc</th>\n",
       "      <th>tipo_doc</th>\n",
       "      <th>canal</th>\n",
       "      <th>num_trx</th>\n",
       "      <th>mnt_total_trx</th>\n",
       "      <th>ubicacion</th>\n",
       "    </tr>\n",
       "  </thead>\n",
       "  <tbody>\n",
       "    <tr>\n",
       "      <th>75509</th>\n",
       "      <td>737998252</td>\n",
       "      <td>Chipichape</td>\n",
       "      <td>DISPENSADOR</td>\n",
       "      <td>5773</td>\n",
       "      <td>3.477415</td>\n",
       "      <td>-76.526735</td>\n",
       "      <td>737998252</td>\n",
       "      <td>-2354803928946951333</td>\n",
       "      <td>1</td>\n",
       "      <td>DISPENSADOR</td>\n",
       "      <td>3</td>\n",
       "      <td>8659.5</td>\n",
       "      <td>(3.47741469, -76.5267353)</td>\n",
       "    </tr>\n",
       "    <tr>\n",
       "      <th>3740</th>\n",
       "      <td>737999419</td>\n",
       "      <td>El Sena</td>\n",
       "      <td>DISPENSADOR</td>\n",
       "      <td>6519</td>\n",
       "      <td>3.465296</td>\n",
       "      <td>-76.502172</td>\n",
       "      <td>737999419</td>\n",
       "      <td>7893527032739616341</td>\n",
       "      <td>1</td>\n",
       "      <td>DISPENSADOR</td>\n",
       "      <td>4</td>\n",
       "      <td>13038.0</td>\n",
       "      <td>(3.4652962, -76.50217218)</td>\n",
       "    </tr>\n",
       "    <tr>\n",
       "      <th>35739</th>\n",
       "      <td>738000401</td>\n",
       "      <td>Belalcazar</td>\n",
       "      <td>POS</td>\n",
       "      <td>13882287</td>\n",
       "      <td>3.443513</td>\n",
       "      <td>-76.521718</td>\n",
       "      <td>738000401</td>\n",
       "      <td>-1727955816418363653</td>\n",
       "      <td>1</td>\n",
       "      <td>POS</td>\n",
       "      <td>1</td>\n",
       "      <td>6941143.5</td>\n",
       "      <td>(3.443512858, -76.52171826)</td>\n",
       "    </tr>\n",
       "    <tr>\n",
       "      <th>16042</th>\n",
       "      <td>737998941</td>\n",
       "      <td>La Hacienda</td>\n",
       "      <td>POS</td>\n",
       "      <td>14474746</td>\n",
       "      <td>3.392659</td>\n",
       "      <td>-76.532574</td>\n",
       "      <td>737998941</td>\n",
       "      <td>-8287737188830239265</td>\n",
       "      <td>1</td>\n",
       "      <td>POS</td>\n",
       "      <td>4</td>\n",
       "      <td>28949492.0</td>\n",
       "      <td>(3.39265933, -76.53257446)</td>\n",
       "    </tr>\n",
       "    <tr>\n",
       "      <th>41158</th>\n",
       "      <td>738000407</td>\n",
       "      <td>Urbanizacion San Juaquin</td>\n",
       "      <td>DISPENSADOR</td>\n",
       "      <td>4783</td>\n",
       "      <td>3.369079</td>\n",
       "      <td>-76.527774</td>\n",
       "      <td>738000407</td>\n",
       "      <td>-2865679335813302558</td>\n",
       "      <td>1</td>\n",
       "      <td>DISPENSADOR</td>\n",
       "      <td>1</td>\n",
       "      <td>2391.5</td>\n",
       "      <td>(3.369079, -76.527774)</td>\n",
       "    </tr>\n",
       "    <tr>\n",
       "      <th>20358</th>\n",
       "      <td>737996829</td>\n",
       "      <td>El Refugio</td>\n",
       "      <td>DISPENSADOR</td>\n",
       "      <td>2110</td>\n",
       "      <td>3.400229</td>\n",
       "      <td>-76.546695</td>\n",
       "      <td>737996829</td>\n",
       "      <td>1572717900281059123</td>\n",
       "      <td>1</td>\n",
       "      <td>DISPENSADOR</td>\n",
       "      <td>1</td>\n",
       "      <td>1055.0</td>\n",
       "      <td>(3.40022945, -76.54669505)</td>\n",
       "    </tr>\n",
       "    <tr>\n",
       "      <th>91366</th>\n",
       "      <td>738000400</td>\n",
       "      <td>Lili</td>\n",
       "      <td>SAI</td>\n",
       "      <td>265</td>\n",
       "      <td>3.369544</td>\n",
       "      <td>-76.523664</td>\n",
       "      <td>738000400</td>\n",
       "      <td>-1515788924913100371</td>\n",
       "      <td>1</td>\n",
       "      <td>SAI</td>\n",
       "      <td>1</td>\n",
       "      <td>132.5</td>\n",
       "      <td>(3.36954367, -76.52366403)</td>\n",
       "    </tr>\n",
       "    <tr>\n",
       "      <th>74667</th>\n",
       "      <td>737998252</td>\n",
       "      <td>Chipichape</td>\n",
       "      <td>DISPENSADOR</td>\n",
       "      <td>1117</td>\n",
       "      <td>3.477404</td>\n",
       "      <td>-76.526705</td>\n",
       "      <td>737998252</td>\n",
       "      <td>1254715916995759771</td>\n",
       "      <td>1</td>\n",
       "      <td>DISPENSADOR</td>\n",
       "      <td>2</td>\n",
       "      <td>1117.0</td>\n",
       "      <td>(3.47740375, -76.52670515)</td>\n",
       "    </tr>\n",
       "    <tr>\n",
       "      <th>50398</th>\n",
       "      <td>737998120</td>\n",
       "      <td>Champagnat</td>\n",
       "      <td>POS</td>\n",
       "      <td>12783122</td>\n",
       "      <td>3.434203</td>\n",
       "      <td>-76.534886</td>\n",
       "      <td>737998120</td>\n",
       "      <td>-3311322937175334971</td>\n",
       "      <td>1</td>\n",
       "      <td>POS</td>\n",
       "      <td>1</td>\n",
       "      <td>6391561.0</td>\n",
       "      <td>(3.434203472, -76.53488628)</td>\n",
       "    </tr>\n",
       "    <tr>\n",
       "      <th>32240</th>\n",
       "      <td>737998287</td>\n",
       "      <td>La Merced</td>\n",
       "      <td>DISPENSADOR</td>\n",
       "      <td>2485</td>\n",
       "      <td>3.447709</td>\n",
       "      <td>-76.536663</td>\n",
       "      <td>737998287</td>\n",
       "      <td>-663521977386666191</td>\n",
       "      <td>1</td>\n",
       "      <td>DISPENSADOR</td>\n",
       "      <td>2</td>\n",
       "      <td>2485.0</td>\n",
       "      <td>(3.44770855, -76.53666332)</td>\n",
       "    </tr>\n",
       "  </tbody>\n",
       "</table>\n",
       "</div>"
      ],
      "text/plain": [
       "          codigo                    nombre         tipo  cod_dispositivo  \\\n",
       "75509  737998252                Chipichape  DISPENSADOR             5773   \n",
       "3740   737999419                   El Sena  DISPENSADOR             6519   \n",
       "35739  738000401                Belalcazar          POS         13882287   \n",
       "16042  737998941               La Hacienda          POS         14474746   \n",
       "41158  738000407  Urbanizacion San Juaquin  DISPENSADOR             4783   \n",
       "20358  737996829                El Refugio  DISPENSADOR             2110   \n",
       "91366  738000400                      Lili          SAI              265   \n",
       "74667  737998252                Chipichape  DISPENSADOR             1117   \n",
       "50398  737998120                Champagnat          POS         12783122   \n",
       "32240  737998287                 La Merced  DISPENSADOR             2485   \n",
       "\n",
       "        latitud   longitud  id_barrio              num_doc  tipo_doc  \\\n",
       "75509  3.477415 -76.526735  737998252 -2354803928946951333         1   \n",
       "3740   3.465296 -76.502172  737999419  7893527032739616341         1   \n",
       "35739  3.443513 -76.521718  738000401 -1727955816418363653         1   \n",
       "16042  3.392659 -76.532574  737998941 -8287737188830239265         1   \n",
       "41158  3.369079 -76.527774  738000407 -2865679335813302558         1   \n",
       "20358  3.400229 -76.546695  737996829  1572717900281059123         1   \n",
       "91366  3.369544 -76.523664  738000400 -1515788924913100371         1   \n",
       "74667  3.477404 -76.526705  737998252  1254715916995759771         1   \n",
       "50398  3.434203 -76.534886  737998120 -3311322937175334971         1   \n",
       "32240  3.447709 -76.536663  737998287  -663521977386666191         1   \n",
       "\n",
       "             canal  num_trx  mnt_total_trx                    ubicacion  \n",
       "75509  DISPENSADOR        3         8659.5    (3.47741469, -76.5267353)  \n",
       "3740   DISPENSADOR        4        13038.0    (3.4652962, -76.50217218)  \n",
       "35739          POS        1      6941143.5  (3.443512858, -76.52171826)  \n",
       "16042          POS        4     28949492.0   (3.39265933, -76.53257446)  \n",
       "41158  DISPENSADOR        1         2391.5       (3.369079, -76.527774)  \n",
       "20358  DISPENSADOR        1         1055.0   (3.40022945, -76.54669505)  \n",
       "91366          SAI        1          132.5   (3.36954367, -76.52366403)  \n",
       "74667  DISPENSADOR        2         1117.0   (3.47740375, -76.52670515)  \n",
       "50398          POS        1      6391561.0  (3.434203472, -76.53488628)  \n",
       "32240  DISPENSADOR        2         2485.0   (3.44770855, -76.53666332)  "
      ]
     },
     "execution_count": 43,
     "metadata": {},
     "output_type": "execute_result"
    }
   ],
   "source": [
    "df_join['nombre'] = df_join['nombre'].apply(quitar_tildes)\n",
    "df_join.sample(10)"
   ]
  },
  {
   "cell_type": "code",
   "execution_count": 44,
   "id": "d81ca19d-cccd-4668-bdb5-f3befdbf8f9c",
   "metadata": {
    "tags": []
   },
   "outputs": [],
   "source": [
    "estratificacion_cali['nombre'] = estratificacion_cali['nombre'].apply(quitar_tildes)"
   ]
  },
  {
   "cell_type": "code",
   "execution_count": 45,
   "id": "9e047398-d6d9-4879-9005-059537510c50",
   "metadata": {
    "collapsed": true,
    "jupyter": {
     "outputs_hidden": true
    },
    "tags": []
   },
   "outputs": [
    {
     "data": {
      "text/html": [
       "<div>\n",
       "<style scoped>\n",
       "    .dataframe tbody tr th:only-of-type {\n",
       "        vertical-align: middle;\n",
       "    }\n",
       "\n",
       "    .dataframe tbody tr th {\n",
       "        vertical-align: top;\n",
       "    }\n",
       "\n",
       "    .dataframe thead th {\n",
       "        text-align: right;\n",
       "    }\n",
       "</style>\n",
       "<table border=\"1\" class=\"dataframe\">\n",
       "  <thead>\n",
       "    <tr style=\"text-align: right;\">\n",
       "      <th></th>\n",
       "      <th>nombre</th>\n",
       "      <th>estrato</th>\n",
       "    </tr>\n",
       "  </thead>\n",
       "  <tbody>\n",
       "    <tr>\n",
       "      <th>309</th>\n",
       "      <td>Siloe</td>\n",
       "      <td>1</td>\n",
       "    </tr>\n",
       "    <tr>\n",
       "      <th>33</th>\n",
       "      <td>Los Libertadores</td>\n",
       "      <td>3</td>\n",
       "    </tr>\n",
       "    <tr>\n",
       "      <th>293</th>\n",
       "      <td>Nueva Tequendama</td>\n",
       "      <td>5</td>\n",
       "    </tr>\n",
       "    <tr>\n",
       "      <th>353</th>\n",
       "      <td>Comuna 8</td>\n",
       "      <td>3</td>\n",
       "    </tr>\n",
       "    <tr>\n",
       "      <th>143</th>\n",
       "      <td>Barrio Departamental</td>\n",
       "      <td>4</td>\n",
       "    </tr>\n",
       "    <tr>\n",
       "      <th>312</th>\n",
       "      <td>Brisas De Mayo</td>\n",
       "      <td>1</td>\n",
       "    </tr>\n",
       "    <tr>\n",
       "      <th>228</th>\n",
       "      <td>Antonio Narino</td>\n",
       "      <td>2</td>\n",
       "    </tr>\n",
       "    <tr>\n",
       "      <th>224</th>\n",
       "      <td>El Morichal</td>\n",
       "      <td>2</td>\n",
       "    </tr>\n",
       "    <tr>\n",
       "      <th>16</th>\n",
       "      <td>La Campina</td>\n",
       "      <td>4</td>\n",
       "    </tr>\n",
       "    <tr>\n",
       "      <th>150</th>\n",
       "      <td>San Judas Tadeo Ii</td>\n",
       "      <td>3</td>\n",
       "    </tr>\n",
       "  </tbody>\n",
       "</table>\n",
       "</div>"
      ],
      "text/plain": [
       "                   nombre estrato\n",
       "309                 Siloe       1\n",
       "33       Los Libertadores       3\n",
       "293      Nueva Tequendama       5\n",
       "353              Comuna 8       3\n",
       "143  Barrio Departamental       4\n",
       "312        Brisas De Mayo       1\n",
       "228        Antonio Narino       2\n",
       "224           El Morichal       2\n",
       "16             La Campina       4\n",
       "150    San Judas Tadeo Ii       3"
      ]
     },
     "execution_count": 45,
     "metadata": {},
     "output_type": "execute_result"
    }
   ],
   "source": [
    "estratificacion_cali.sample(10)"
   ]
  },
  {
   "cell_type": "code",
   "execution_count": 46,
   "id": "92f52d5e-14b2-4fb4-be88-44286d3563ed",
   "metadata": {},
   "outputs": [],
   "source": [
    "df_join_merged_v2 = pd.merge(df_join, estratificacion_cali, on = 'nombre', how = 'left')"
   ]
  },
  {
   "cell_type": "code",
   "execution_count": 47,
   "id": "1f578256-d541-44d3-a36e-929191349656",
   "metadata": {},
   "outputs": [
    {
     "data": {
      "text/plain": [
       "<seaborn.axisgrid.FacetGrid at 0x7f30f6445f10>"
      ]
     },
     "execution_count": 47,
     "metadata": {},
     "output_type": "execute_result"
    },
    {
     "data": {
      "image/png": "[encoded data removed]",
      "text/plain": [
       "<Figure size 584.875x500 with 1 Axes>"
      ]
     },
     "metadata": {},
     "output_type": "display_data"
    }
   ],
   "source": [
    "(\n",
    "    df_join_merged_v2\n",
    "    .isnull()\n",
    "    .melt()\n",
    "    .pipe(\n",
    "        lambda df: sns.displot(\n",
    "            data = df,\n",
    "            y = 'variable',\n",
    "            hue = 'value',\n",
    "            multiple = 'fill'\n",
    "        )\n",
    "    )\n",
    ")"
   ]
  },
  {
   "cell_type": "code",
   "execution_count": 48,
   "id": "d82347f9-e781-4826-af2b-95614b744b77",
   "metadata": {},
   "outputs": [
    {
     "data": {
      "text/plain": [
       "codigo                 0\n",
       "nombre                 0\n",
       "tipo                   0\n",
       "cod_dispositivo        0\n",
       "latitud                0\n",
       "longitud               0\n",
       "id_barrio              0\n",
       "num_doc                0\n",
       "tipo_doc               0\n",
       "canal                  0\n",
       "num_trx                0\n",
       "mnt_total_trx          0\n",
       "ubicacion              0\n",
       "estrato            20107\n",
       "dtype: int64"
      ]
     },
     "execution_count": 48,
     "metadata": {},
     "output_type": "execute_result"
    }
   ],
   "source": [
    "(\n",
    "    df_join_merged_v2\n",
    "    .isnull()\n",
    "    .sum()\n",
    ")"
   ]
  },
  {
   "cell_type": "markdown",
   "id": "4966b297-cfb0-43f5-a933-27bd349092f8",
   "metadata": {},
   "source": [
    "Al pasar los subdataframes por la función de estandarización de los nombres, se encontraron 3.700 datos (aprox.). Es necesario seguir limpiando hasta encontrar casi la totalidad de estos."
   ]
  },
  {
   "cell_type": "code",
   "execution_count": 49,
   "id": "b9fc7c81-9d60-4705-b327-db4f87b84109",
   "metadata": {},
   "outputs": [],
   "source": [
    "mask_2 = df_join_merged_v2.loc[:,'estrato'].isnull()"
   ]
  },
  {
   "cell_type": "code",
   "execution_count": 61,
   "id": "009996f7-7028-4de5-b7b5-784c960368e4",
   "metadata": {},
   "outputs": [],
   "source": [
    "barrios_faltantes = list(df_join_merged_v2.loc[mask_2, :]['nombre'].unique())"
   ]
  },
  {
   "cell_type": "code",
   "execution_count": 63,
   "id": "c62f273e-f87f-405a-bdc7-5b53cae624be",
   "metadata": {},
   "outputs": [],
   "source": [
    "barrios_faltantes.sort()"
   ]
  },
  {
   "cell_type": "code",
   "execution_count": 77,
   "id": "b36fecb9-9303-411f-a1f8-7f8f5deac3ce",
   "metadata": {},
   "outputs": [
    {
     "data": {
      "text/plain": [
       "['12 De Octubre',\n",
       " 'Acueducto San Antonio',\n",
       " 'Alfonso Barberena',\n",
       " 'Alfonso Lopez I',\n",
       " 'Alfonso Lopez Ii',\n",
       " 'Alfonso Lopez Iii',\n",
       " 'Alto De Los Chorros',\n",
       " 'Alto Jordan',\n",
       " 'Altos De Santa Isabel La Morelia',\n",
       " 'Atanasio Girardota',\n",
       " 'A\\x81Rea Libre Parque Del Amor',\n",
       " 'Bajos Ciudad Cordoba',\n",
       " 'Boyaca',\n",
       " 'Brisas De Los A\\x81Lamos',\n",
       " 'Caldas',\n",
       " 'Camino Real Joaquin Borrero',\n",
       " 'Camino Real Los Fundadores',\n",
       " 'Canaveralejo Seguros Patria',\n",
       " 'Canaverales Los Samanes',\n",
       " 'Cataya El Gran Limonar',\n",
       " 'Ciudad Los A\\x81Lamos',\n",
       " 'Ciudad Talanga',\n",
       " 'Ciudadela Del Rio',\n",
       " 'Ciudadela Paso Ancho',\n",
       " 'Cuarto De Legua Guadalupe',\n",
       " 'Departamental',\n",
       " 'El A\\x81Ngel Del Hogar',\n",
       " 'Esmeralda',\n",
       " 'Guillermo Leon Valencia',\n",
       " 'Jose M. Cordoba',\n",
       " 'Jose Manuel Marroquin I',\n",
       " 'Jose Manuel Marroquin Ii',\n",
       " 'La Ciudadela Confandi',\n",
       " 'La Rivera',\n",
       " 'Leon Xii',\n",
       " 'Lleras Restrepo Ii',\n",
       " 'Los Andes B La Riviera',\n",
       " 'Los Comuneros I',\n",
       " 'Los Comuneros Ii',\n",
       " 'Los Parques',\n",
       " 'Los Portales Nuevo Rey',\n",
       " 'Los Rubles',\n",
       " 'Manuel Maria Buenventura',\n",
       " 'Mayapan Las Vegas',\n",
       " 'Nueva Floresta Del Ict',\n",
       " 'Nueva Granada',\n",
       " 'Olaya Herrera',\n",
       " 'Pampalinda',\n",
       " 'Paseo Del Comercio',\n",
       " 'Petecuy Ii',\n",
       " 'Promociones Populares',\n",
       " 'Quintas De Don Simon',\n",
       " 'Rafael Uribe',\n",
       " 'San Carlos',\n",
       " 'San Francisco Berlin',\n",
       " 'Santa Anita',\n",
       " 'Santa Monica Residencial',\n",
       " 'U Dep Galindo Plaza Toros',\n",
       " 'U Dep Panamericana Ant Hipodromo',\n",
       " 'Unidad Residencial Bueno Madrid',\n",
       " 'Unidad Residencial El Coliseo',\n",
       " 'Unidad Residencial Santiago De Cali',\n",
       " 'Urbanizacion La Nueva Base',\n",
       " 'Urbanizacion San Juaquin',\n",
       " 'Villa Blanca',\n",
       " 'Villa Del Prado El Guabito',\n",
       " 'Ville Grande']"
      ]
     },
     "execution_count": 77,
     "metadata": {},
     "output_type": "execute_result"
    }
   ],
   "source": [
    "barrios_faltantes"
   ]
  },
  {
   "cell_type": "markdown",
   "id": "e88219cb-1fce-4f01-9764-d5d17ef20d01",
   "metadata": {},
   "source": [
    "Los datos faltantes se pueden deber a diferencias en la sintaxis entre los nombres de los barrios en el conjunto de datos principal y los nombres en el conjunto de datos de la estratificación descargados del portal gubernamental del Valle del Cauca. Por tal motivo, se procede a verificar y estandarizar de forma manual."
   ]
  },
  {
   "cell_type": "code",
   "execution_count": 64,
   "id": "e9d57fed-0e2e-4389-8537-75b60b8299ef",
   "metadata": {},
   "outputs": [],
   "source": [
    "cond_parq_am = df_join.loc[:,'nombre'] == 'A\\x81Rea Libre Parque Del Amor'"
   ]
  },
  {
   "cell_type": "code",
   "execution_count": 68,
   "id": "9a96929e-a8b6-4fa9-ad46-e8a74e191f67",
   "metadata": {},
   "outputs": [],
   "source": [
    "df_join.loc[cond_parq_am, 'nombre'] = 'Area en desarrollo Parque del Amor'"
   ]
  },
  {
   "cell_type": "code",
   "execution_count": 69,
   "id": "cf05fa2f-b9eb-4f50-806a-f9c9507cdef3",
   "metadata": {},
   "outputs": [],
   "source": [
    "cond_ciud_cord = df_join.loc[:,'nombre'] == 'Bajos Ciudad Cordoba'"
   ]
  },
  {
   "cell_type": "code",
   "execution_count": 70,
   "id": "de788373-b998-4c7a-8c81-24b0a921ff66",
   "metadata": {},
   "outputs": [],
   "source": [
    "df_join.loc[cond_ciud_cord, 'nombre'] = 'Ciudad Cordoba'"
   ]
  },
  {
   "cell_type": "code",
   "execution_count": 71,
   "id": "e75f28aa-7b2f-4f5a-a05c-f5c4f7144eb7",
   "metadata": {},
   "outputs": [],
   "source": [
    "cond_bris_al = df_join.loc[:,'nombre'] == 'Brisas De Los A\\x81Lamos'"
   ]
  },
  {
   "cell_type": "code",
   "execution_count": 72,
   "id": "ab735f3c-9c91-463f-b66e-1778f0bd164f",
   "metadata": {},
   "outputs": [],
   "source": [
    "df_join.loc[cond_bris_al, 'nombre'] = 'Brisas de Los Alamos'"
   ]
  },
  {
   "cell_type": "code",
   "execution_count": 73,
   "id": "b2acd797-12b9-4f38-bc05-29c514481c1c",
   "metadata": {},
   "outputs": [],
   "source": [
    "cond_ciud_al = df_join.loc[:,'nombre'] == 'Ciudad Los A\\x81Lamos'"
   ]
  },
  {
   "cell_type": "code",
   "execution_count": 74,
   "id": "a6fadcb5-290f-4797-8984-a04797b3dda8",
   "metadata": {},
   "outputs": [],
   "source": [
    "df_join.loc[cond_ciud_al, 'nombre'] = 'Ciudad Los Alamos'"
   ]
  },
  {
   "cell_type": "code",
   "execution_count": 75,
   "id": "33bfbed2-a65f-4638-8d0d-61b054d14911",
   "metadata": {},
   "outputs": [],
   "source": [
    "cond_ang_hog = df_join.loc[:,'nombre'] == 'El A\\x81Ngel Del Hogar'"
   ]
  },
  {
   "cell_type": "code",
   "execution_count": 76,
   "id": "bf89d0f1-08a4-41a2-a7a6-dd0c0bab1228",
   "metadata": {
    "tags": []
   },
   "outputs": [],
   "source": [
    "df_join.loc[cond_ang_hog, 'nombre'] = 'El Angel del Hogar'"
   ]
  },
  {
   "cell_type": "code",
   "execution_count": 78,
   "id": "3c28ba2f-78be-46c9-a1c6-6687a90ea154",
   "metadata": {},
   "outputs": [],
   "source": [
    "cond_valle_g = df_join.loc[:,'nombre'] == 'Ville Grande'"
   ]
  },
  {
   "cell_type": "code",
   "execution_count": 79,
   "id": "926e8149-22d5-4797-9517-4e0aab88383f",
   "metadata": {},
   "outputs": [],
   "source": [
    "df_join.loc[cond_valle_g, 'nombre'] = 'Valle Grande'"
   ]
  },
  {
   "cell_type": "code",
   "execution_count": 95,
   "id": "8f2979dc-be4b-4eeb-ac8d-c026cf2b6c68",
   "metadata": {},
   "outputs": [
    {
     "data": {
      "text/html": [
       "<div>\n",
       "<style scoped>\n",
       "    .dataframe tbody tr th:only-of-type {\n",
       "        vertical-align: middle;\n",
       "    }\n",
       "\n",
       "    .dataframe tbody tr th {\n",
       "        vertical-align: top;\n",
       "    }\n",
       "\n",
       "    .dataframe thead th {\n",
       "        text-align: right;\n",
       "    }\n",
       "</style>\n",
       "<table border=\"1\" class=\"dataframe\">\n",
       "  <thead>\n",
       "    <tr style=\"text-align: right;\">\n",
       "      <th></th>\n",
       "      <th>nombre</th>\n",
       "      <th>estrato</th>\n",
       "    </tr>\n",
       "  </thead>\n",
       "  <tbody>\n",
       "    <tr>\n",
       "      <th>0</th>\n",
       "      <td>12 De Octubre</td>\n",
       "      <td>3</td>\n",
       "    </tr>\n",
       "    <tr>\n",
       "      <th>1</th>\n",
       "      <td>20 de Julio</td>\n",
       "      <td>3</td>\n",
       "    </tr>\n",
       "    <tr>\n",
       "      <th>2</th>\n",
       "      <td>3 de Julio</td>\n",
       "      <td>4</td>\n",
       "    </tr>\n",
       "    <tr>\n",
       "      <th>3</th>\n",
       "      <td>Aguablanca</td>\n",
       "      <td>3</td>\n",
       "    </tr>\n",
       "    <tr>\n",
       "      <th>4</th>\n",
       "      <td>Aguacatal</td>\n",
       "      <td>1</td>\n",
       "    </tr>\n",
       "  </tbody>\n",
       "</table>\n",
       "</div>"
      ],
      "text/plain": [
       "          nombre estrato\n",
       "0  12 De Octubre       3\n",
       "1    20 de Julio       3\n",
       "2     3 de Julio       4\n",
       "3     Aguablanca       3\n",
       "4      Aguacatal       1"
      ]
     },
     "execution_count": 95,
     "metadata": {},
     "output_type": "execute_result"
    }
   ],
   "source": [
    "est_cali_clean = pd.read_csv('estratificacion_cali_clean.csv')\n",
    "est_cali_clean = est_cali_clean[['Barrio', 'Estrato moda']]\n",
    "est_cali_clean.columns = ['nombre', 'estrato']\n",
    "est_cali_clean.head()"
   ]
  },
  {
   "cell_type": "code",
   "execution_count": 96,
   "id": "92fa366d-e424-4303-96ca-dd080b91a264",
   "metadata": {},
   "outputs": [],
   "source": [
    "df_join['nombre'] = df_join['nombre'].apply(quitar_tildes)\n",
    "est_cali_clean['nombre'] = est_cali_clean['nombre'].apply(quitar_tildes)"
   ]
  },
  {
   "cell_type": "code",
   "execution_count": 97,
   "id": "60d8c068-eff6-4b4d-ac73-10283dcdf538",
   "metadata": {},
   "outputs": [],
   "source": [
    "df_join_merged_v3 = pd.merge(df_join, est_cali_clean, on = 'nombre', how = 'left')"
   ]
  },
  {
   "cell_type": "code",
   "execution_count": 98,
   "id": "b538f20a-608d-49e2-9750-a345c7fa2034",
   "metadata": {},
   "outputs": [
    {
     "data": {
      "text/plain": [
       "<seaborn.axisgrid.FacetGrid at 0x7f30f644edc0>"
      ]
     },
     "execution_count": 98,
     "metadata": {},
     "output_type": "execute_result"
    },
    {
     "data": {
      "image/png": "[encoded data removed]",
      "text/plain": [
       "<Figure size 584.875x500 with 1 Axes>"
      ]
     },
     "metadata": {},
     "output_type": "display_data"
    }
   ],
   "source": [
    "(\n",
    "    df_join_merged_v3\n",
    "    .isnull()\n",
    "    .melt()\n",
    "    .pipe(\n",
    "        lambda df: sns.displot(\n",
    "            data = df,\n",
    "            y = 'variable',\n",
    "            hue = 'value',\n",
    "            multiple = 'fill'\n",
    "        )\n",
    "    )\n",
    ")"
   ]
  },
  {
   "cell_type": "code",
   "execution_count": 99,
   "id": "2ac3f609-0278-46ee-9dd0-3b79d1bd6d29",
   "metadata": {},
   "outputs": [
    {
     "data": {
      "text/plain": [
       "codigo              0\n",
       "nombre              0\n",
       "tipo                0\n",
       "cod_dispositivo     0\n",
       "latitud             0\n",
       "longitud            0\n",
       "id_barrio           0\n",
       "num_doc             0\n",
       "tipo_doc            0\n",
       "canal               0\n",
       "num_trx             0\n",
       "mnt_total_trx       0\n",
       "ubicacion           0\n",
       "estrato            11\n",
       "dtype: int64"
      ]
     },
     "execution_count": 99,
     "metadata": {},
     "output_type": "execute_result"
    }
   ],
   "source": [
    "(\n",
    "    df_join_merged_v3\n",
    "    .isnull()\n",
    "    .sum()\n",
    ")"
   ]
  },
  {
   "cell_type": "code",
   "execution_count": 100,
   "id": "e2b56243-21a1-40e5-97bb-07f8d038cfcd",
   "metadata": {},
   "outputs": [
    {
     "data": {
      "text/plain": [
       "array(['U Dep Panamericana Ant Hipodromo', 'Alto De Los Chorros'],\n",
       "      dtype=object)"
      ]
     },
     "execution_count": 100,
     "metadata": {},
     "output_type": "execute_result"
    }
   ],
   "source": [
    "mask_4 = df_join_merged_v3.loc[:,'estrato'].isnull()\n",
    "\n",
    "df_join_merged_v3.loc[mask_4, 'nombre'].unique()"
   ]
  },
  {
   "cell_type": "code",
   "execution_count": 14,
   "id": "db46aed5-97d0-4812-acff-91870cddfbc0",
   "metadata": {
    "jupyter": {
     "source_hidden": true
    },
    "tags": []
   },
   "outputs": [
    {
     "data": {
      "text/html": [
       "<div>\n",
       "<style scoped>\n",
       "    .dataframe tbody tr th:only-of-type {\n",
       "        vertical-align: middle;\n",
       "    }\n",
       "\n",
       "    .dataframe tbody tr th {\n",
       "        vertical-align: top;\n",
       "    }\n",
       "\n",
       "    .dataframe thead th {\n",
       "        text-align: right;\n",
       "    }\n",
       "</style>\n",
       "<table border=\"1\" class=\"dataframe\">\n",
       "  <thead>\n",
       "    <tr style=\"text-align: right;\">\n",
       "      <th></th>\n",
       "      <th>nombre</th>\n",
       "      <th>tipo</th>\n",
       "      <th>canal</th>\n",
       "    </tr>\n",
       "  </thead>\n",
       "  <tbody>\n",
       "    <tr>\n",
       "      <th>count</th>\n",
       "      <td>94610</td>\n",
       "      <td>94610</td>\n",
       "      <td>94610</td>\n",
       "    </tr>\n",
       "    <tr>\n",
       "      <th>unique</th>\n",
       "      <td>277</td>\n",
       "      <td>6</td>\n",
       "      <td>6</td>\n",
       "    </tr>\n",
       "    <tr>\n",
       "      <th>top</th>\n",
       "      <td>San Pedro</td>\n",
       "      <td>DISPENSADOR</td>\n",
       "      <td>DISPENSADOR</td>\n",
       "    </tr>\n",
       "    <tr>\n",
       "      <th>freq</th>\n",
       "      <td>5304</td>\n",
       "      <td>37690</td>\n",
       "      <td>37654</td>\n",
       "    </tr>\n",
       "  </tbody>\n",
       "</table>\n",
       "</div>"
      ],
      "text/plain": [
       "           nombre         tipo        canal\n",
       "count       94610        94610        94610\n",
       "unique        277            6            6\n",
       "top     San Pedro  DISPENSADOR  DISPENSADOR\n",
       "freq         5304        37690        37654"
      ]
     },
     "execution_count": 14,
     "metadata": {},
     "output_type": "execute_result"
    }
   ],
   "source": [
    "df_join.describe(include = object)"
   ]
  },
  {
   "cell_type": "markdown",
   "id": "5cf4b565-8957-4dc1-bdda-9d5c6a30e022",
   "metadata": {},
   "source": [
    "Tal como podemos observar, en el conjunto de datos contamos con tres variables categóricas, *nombre* que contiene el nombre del barrio donde se cuenta con un punto de transacciones, *tipo y canal* que contienen el tipo de transacción que se realiza y el dispositivo mediente el cual se lleva a cabo. No obstante, estas dos últimas pareciera que contienen la misma información y, de ser así, podríamos prescindir de una, miremos:"
   ]
  },
  {
   "cell_type": "code",
   "execution_count": null,
   "id": "d50285f2-a846-476d-b6a9-c11316cdfb60",
   "metadata": {},
   "outputs": [],
   "source": [
    "df_join.tipo.unique()"
   ]
  },
  {
   "cell_type": "code",
   "execution_count": null,
   "id": "4d77ea9b-2c95-417c-8ae9-5870432caf82",
   "metadata": {},
   "outputs": [],
   "source": [
    "df_join.canal.unique()"
   ]
  },
  {
   "cell_type": "code",
   "execution_count": null,
   "id": "20eae194-dd3d-444f-805f-6503b05d42f3",
   "metadata": {},
   "outputs": [],
   "source": [
    "df_join.loc[:, ['canal', 'tipo']].sample(10)"
   ]
  },
  {
   "cell_type": "code",
   "execution_count": null,
   "id": "540516f7-8079-403e-a9b4-7fcdd67374ee",
   "metadata": {},
   "outputs": [],
   "source": [
    "df_join.query('tipo != canal').shape"
   ]
  },
  {
   "cell_type": "markdown",
   "id": "ed6e3089-15a2-4edc-b835-d22a2e3a5665",
   "metadata": {},
   "source": [
    "Si bien en una primera instancia parecía información duplicada, vemos que hay registros donde el tipo y el canal difieren,\n",
    "exactamente 1164, ¿Qué proporción ocupan estos de los datos?"
   ]
  },
  {
   "cell_type": "code",
   "execution_count": null,
   "id": "22567429-9655-43a2-9351-2def77acaa13",
   "metadata": {},
   "outputs": [],
   "source": [
    "(df_join.query('tipo != canal').shape[0] / df_join.query('tipo == canal').shape[0]) * 100"
   ]
  },
  {
   "cell_type": "markdown",
   "id": "640980be-5b69-4184-bd2b-b3a8bf0e92f1",
   "metadata": {},
   "source": [
    "Si bien ocupan solo el 1.24% de los datos, es importante saber por qué difieren en dichos registros"
   ]
  },
  {
   "cell_type": "code",
   "execution_count": null,
   "id": "0d302b38-d486-4b42-9582-5ec5bc2af430",
   "metadata": {},
   "outputs": [],
   "source": [
    "df_join.sample(5)"
   ]
  },
  {
   "cell_type": "code",
   "execution_count": null,
   "id": "d29590fc-32a5-4bfc-95e3-50992306db4c",
   "metadata": {},
   "outputs": [],
   "source": [
    "df_join.nombre.unique()"
   ]
  },
  {
   "cell_type": "markdown",
   "id": "f70490c6-c051-42b5-b6dc-70c9e9c88778",
   "metadata": {},
   "source": [
    "Completando datos faltantes:"
   ]
  },
  {
   "cell_type": "code",
   "execution_count": null,
   "id": "eb7ae9a3-845b-45dd-825b-323d05587aa9",
   "metadata": {},
   "outputs": [],
   "source": [
    "pip install geopy"
   ]
  },
  {
   "cell_type": "code",
   "execution_count": null,
   "id": "e613d587-ed1e-4378-9e8a-21465a35579b",
   "metadata": {},
   "outputs": [],
   "source": [
    "df_join.columns"
   ]
  },
  {
   "cell_type": "code",
   "execution_count": 22,
   "id": "2bb15bff-1941-49c5-aef4-8535d56a0d09",
   "metadata": {},
   "outputs": [
    {
     "data": {
      "text/html": [
       "<div>\n",
       "<style scoped>\n",
       "    .dataframe tbody tr th:only-of-type {\n",
       "        vertical-align: middle;\n",
       "    }\n",
       "\n",
       "    .dataframe tbody tr th {\n",
       "        vertical-align: top;\n",
       "    }\n",
       "\n",
       "    .dataframe thead th {\n",
       "        text-align: right;\n",
       "    }\n",
       "</style>\n",
       "<table border=\"1\" class=\"dataframe\">\n",
       "  <thead>\n",
       "    <tr style=\"text-align: right;\">\n",
       "      <th></th>\n",
       "      <th>codigo</th>\n",
       "      <th>nombre</th>\n",
       "      <th>tipo</th>\n",
       "      <th>cod_dispositivo</th>\n",
       "      <th>latitud</th>\n",
       "      <th>longitud</th>\n",
       "      <th>id_barrio</th>\n",
       "      <th>num_doc</th>\n",
       "      <th>tipo_doc</th>\n",
       "      <th>canal</th>\n",
       "      <th>num_trx</th>\n",
       "      <th>mnt_total_trx</th>\n",
       "      <th>ubicacion</th>\n",
       "    </tr>\n",
       "  </thead>\n",
       "  <tbody>\n",
       "    <tr>\n",
       "      <th>0</th>\n",
       "      <td>737998257</td>\n",
       "      <td>La Campina</td>\n",
       "      <td>POS</td>\n",
       "      <td>12202503</td>\n",
       "      <td>3.479572</td>\n",
       "      <td>-76.525582</td>\n",
       "      <td>737998257</td>\n",
       "      <td>-2393994463924208659</td>\n",
       "      <td>1</td>\n",
       "      <td>POS</td>\n",
       "      <td>2</td>\n",
       "      <td>12202503.0</td>\n",
       "      <td>(3.479572082, -76.52558242)</td>\n",
       "    </tr>\n",
       "    <tr>\n",
       "      <th>1</th>\n",
       "      <td>737998257</td>\n",
       "      <td>La Campina</td>\n",
       "      <td>POS</td>\n",
       "      <td>10521045</td>\n",
       "      <td>3.480517</td>\n",
       "      <td>-76.525275</td>\n",
       "      <td>737998257</td>\n",
       "      <td>-5675531380015678594</td>\n",
       "      <td>1</td>\n",
       "      <td>POS</td>\n",
       "      <td>1</td>\n",
       "      <td>5260522.5</td>\n",
       "      <td>(3.480516553, -76.52527472)</td>\n",
       "    </tr>\n",
       "    <tr>\n",
       "      <th>2</th>\n",
       "      <td>737998257</td>\n",
       "      <td>La Campina</td>\n",
       "      <td>POS</td>\n",
       "      <td>10521045</td>\n",
       "      <td>3.480517</td>\n",
       "      <td>-76.525275</td>\n",
       "      <td>737998257</td>\n",
       "      <td>-5066077049535851626</td>\n",
       "      <td>1</td>\n",
       "      <td>POS</td>\n",
       "      <td>1</td>\n",
       "      <td>5260522.5</td>\n",
       "      <td>(3.480516553, -76.52527472)</td>\n",
       "    </tr>\n",
       "    <tr>\n",
       "      <th>3</th>\n",
       "      <td>737998257</td>\n",
       "      <td>La Campina</td>\n",
       "      <td>POS</td>\n",
       "      <td>13238282</td>\n",
       "      <td>3.479491</td>\n",
       "      <td>-76.525818</td>\n",
       "      <td>737998257</td>\n",
       "      <td>-5791329717693361241</td>\n",
       "      <td>1</td>\n",
       "      <td>POS</td>\n",
       "      <td>1</td>\n",
       "      <td>6619141.0</td>\n",
       "      <td>(3.47949063002, -76.5258184734)</td>\n",
       "    </tr>\n",
       "  </tbody>\n",
       "</table>\n",
       "</div>"
      ],
      "text/plain": [
       "      codigo      nombre tipo  cod_dispositivo   latitud   longitud  \\\n",
       "0  737998257  La Campina  POS         12202503  3.479572 -76.525582   \n",
       "1  737998257  La Campina  POS         10521045  3.480517 -76.525275   \n",
       "2  737998257  La Campina  POS         10521045  3.480517 -76.525275   \n",
       "3  737998257  La Campina  POS         13238282  3.479491 -76.525818   \n",
       "\n",
       "   id_barrio              num_doc  tipo_doc canal  num_trx  mnt_total_trx  \\\n",
       "0  737998257 -2393994463924208659         1   POS        2     12202503.0   \n",
       "1  737998257 -5675531380015678594         1   POS        1      5260522.5   \n",
       "2  737998257 -5066077049535851626         1   POS        1      5260522.5   \n",
       "3  737998257 -5791329717693361241         1   POS        1      6619141.0   \n",
       "\n",
       "                         ubicacion  \n",
       "0      (3.479572082, -76.52558242)  \n",
       "1      (3.480516553, -76.52527472)  \n",
       "2      (3.480516553, -76.52527472)  \n",
       "3  (3.47949063002, -76.5258184734)  "
      ]
     },
     "execution_count": 22,
     "metadata": {},
     "output_type": "execute_result"
    }
   ],
   "source": [
    "subdf = df_join.loc[[0, 1, 2, 3],:]\n",
    "subdf"
   ]
  },
  {
   "cell_type": "code",
   "execution_count": 32,
   "id": "29076580-c059-43d1-9162-792f9868167b",
   "metadata": {},
   "outputs": [
    {
     "data": {
      "text/plain": [
       "Index(['codigo', 'nombre', 'tipo', 'cod_dispositivo', 'latitud', 'longitud',\n",
       "       'id_barrio', 'num_doc', 'tipo_doc', 'canal', 'num_trx', 'mnt_total_trx',\n",
       "       'ubicacion'],\n",
       "      dtype='object')"
      ]
     },
     "execution_count": 32,
     "metadata": {},
     "output_type": "execute_result"
    }
   ],
   "source": [
    "df_join.columns"
   ]
  },
  {
   "cell_type": "code",
   "execution_count": 59,
   "id": "1c951b25-bf63-4b11-afa5-5df0f84b8086",
   "metadata": {},
   "outputs": [
    {
     "data": {
      "text/html": [
       "<div>\n",
       "<style scoped>\n",
       "    .dataframe tbody tr th:only-of-type {\n",
       "        vertical-align: middle;\n",
       "    }\n",
       "\n",
       "    .dataframe tbody tr th {\n",
       "        vertical-align: top;\n",
       "    }\n",
       "\n",
       "    .dataframe thead th {\n",
       "        text-align: right;\n",
       "    }\n",
       "</style>\n",
       "<table border=\"1\" class=\"dataframe\">\n",
       "  <thead>\n",
       "    <tr style=\"text-align: right;\">\n",
       "      <th></th>\n",
       "      <th>nombre</th>\n",
       "      <th>ubicacion</th>\n",
       "      <th>ciudad</th>\n",
       "    </tr>\n",
       "  </thead>\n",
       "  <tbody>\n",
       "    <tr>\n",
       "      <th>0</th>\n",
       "      <td>12 de Octubre</td>\n",
       "      <td>(3.427925, -76.501541)</td>\n",
       "      <td>Cali</td>\n",
       "    </tr>\n",
       "    <tr>\n",
       "      <th>1</th>\n",
       "      <td>20 de Julio</td>\n",
       "      <td>(3.43627671667, -76.5128989173)</td>\n",
       "      <td>Cali</td>\n",
       "    </tr>\n",
       "    <tr>\n",
       "      <th>2</th>\n",
       "      <td>3 de Julio</td>\n",
       "      <td>(3.430406808, -76.5390441)</td>\n",
       "      <td>Cali</td>\n",
       "    </tr>\n",
       "    <tr>\n",
       "      <th>3</th>\n",
       "      <td>Acueducto San Antonio</td>\n",
       "      <td>(3.446740019, -76.54089095)</td>\n",
       "      <td>Cali</td>\n",
       "    </tr>\n",
       "    <tr>\n",
       "      <th>4</th>\n",
       "      <td>Aguablanca</td>\n",
       "      <td>(3.431530347, -76.51957472)</td>\n",
       "      <td>Cali</td>\n",
       "    </tr>\n",
       "    <tr>\n",
       "      <th>...</th>\n",
       "      <td>...</td>\n",
       "      <td>...</td>\n",
       "      <td>...</td>\n",
       "    </tr>\n",
       "    <tr>\n",
       "      <th>272</th>\n",
       "      <td>Villa del Sur</td>\n",
       "      <td>(3.41394042118, -76.5194242546)</td>\n",
       "      <td>Cali</td>\n",
       "    </tr>\n",
       "    <tr>\n",
       "      <th>273</th>\n",
       "      <td>Villanueva</td>\n",
       "      <td>(3.43251623287, -76.5109376423)</td>\n",
       "      <td>Cali</td>\n",
       "    </tr>\n",
       "    <tr>\n",
       "      <th>274</th>\n",
       "      <td>Ville Grande</td>\n",
       "      <td>(3.4347869039, -76.4705156235)</td>\n",
       "      <td>Cali</td>\n",
       "    </tr>\n",
       "    <tr>\n",
       "      <th>275</th>\n",
       "      <td>Vipasa</td>\n",
       "      <td>(3.47890703953, -76.5182503054)</td>\n",
       "      <td>Cali</td>\n",
       "    </tr>\n",
       "    <tr>\n",
       "      <th>276</th>\n",
       "      <td>Área Libre-Parque del Amor</td>\n",
       "      <td>(3.48918015576, -76.5236154208)</td>\n",
       "      <td>Cali</td>\n",
       "    </tr>\n",
       "  </tbody>\n",
       "</table>\n",
       "<p>277 rows × 3 columns</p>\n",
       "</div>"
      ],
      "text/plain": [
       "                          nombre                        ubicacion ciudad\n",
       "0                  12 de Octubre           (3.427925, -76.501541)   Cali\n",
       "1                    20 de Julio  (3.43627671667, -76.5128989173)   Cali\n",
       "2                     3 de Julio       (3.430406808, -76.5390441)   Cali\n",
       "3          Acueducto San Antonio      (3.446740019, -76.54089095)   Cali\n",
       "4                     Aguablanca      (3.431530347, -76.51957472)   Cali\n",
       "..                           ...                              ...    ...\n",
       "272                Villa del Sur  (3.41394042118, -76.5194242546)   Cali\n",
       "273                   Villanueva  (3.43251623287, -76.5109376423)   Cali\n",
       "274                 Ville Grande   (3.4347869039, -76.4705156235)   Cali\n",
       "275                       Vipasa  (3.47890703953, -76.5182503054)   Cali\n",
       "276  Área Libre-Parque del Amor  (3.48918015576, -76.5236154208)   Cali\n",
       "\n",
       "[277 rows x 3 columns]"
      ]
     },
     "execution_count": 59,
     "metadata": {},
     "output_type": "execute_result"
    }
   ],
   "source": [
    "df_barrios_ubic_2.sort_values(by = 'nombre')"
   ]
  },
  {
   "cell_type": "code",
   "execution_count": 71,
   "id": "31bbc2f2-e5bf-4e2f-a7ea-defe730f934c",
   "metadata": {},
   "outputs": [
    {
     "data": {
      "text/html": [
       "<div>\n",
       "<style scoped>\n",
       "    .dataframe tbody tr th:only-of-type {\n",
       "        vertical-align: middle;\n",
       "    }\n",
       "\n",
       "    .dataframe tbody tr th {\n",
       "        vertical-align: top;\n",
       "    }\n",
       "\n",
       "    .dataframe thead th {\n",
       "        text-align: right;\n",
       "    }\n",
       "</style>\n",
       "<table border=\"1\" class=\"dataframe\">\n",
       "  <thead>\n",
       "    <tr style=\"text-align: right;\">\n",
       "      <th></th>\n",
       "      <th>codigo</th>\n",
       "      <th>nombre</th>\n",
       "      <th>tipo</th>\n",
       "      <th>cod_dispositivo</th>\n",
       "      <th>latitud</th>\n",
       "      <th>longitud</th>\n",
       "      <th>id_barrio</th>\n",
       "      <th>num_doc</th>\n",
       "      <th>tipo_doc</th>\n",
       "      <th>canal</th>\n",
       "      <th>num_trx</th>\n",
       "      <th>mnt_total_trx</th>\n",
       "      <th>ubicacion</th>\n",
       "      <th>estrato_moda</th>\n",
       "    </tr>\n",
       "  </thead>\n",
       "  <tbody>\n",
       "    <tr>\n",
       "      <th>1617</th>\n",
       "      <td>737999419</td>\n",
       "      <td>El Sena</td>\n",
       "      <td>CB</td>\n",
       "      <td>1622720351</td>\n",
       "      <td>3.465281</td>\n",
       "      <td>-76.501380</td>\n",
       "      <td>737999419</td>\n",
       "      <td>-3695234163311459424</td>\n",
       "      <td>1</td>\n",
       "      <td>CB</td>\n",
       "      <td>7</td>\n",
       "      <td>5.679521e+09</td>\n",
       "      <td>(3.465281, -76.50138)</td>\n",
       "      <td>3</td>\n",
       "    </tr>\n",
       "    <tr>\n",
       "      <th>54334</th>\n",
       "      <td>737998754</td>\n",
       "      <td>Las Delicias</td>\n",
       "      <td>DISPENSADOR</td>\n",
       "      <td>2756</td>\n",
       "      <td>3.461319</td>\n",
       "      <td>-76.507324</td>\n",
       "      <td>737998754</td>\n",
       "      <td>-2026103800927155990</td>\n",
       "      <td>1</td>\n",
       "      <td>DISPENSADOR</td>\n",
       "      <td>6</td>\n",
       "      <td>8.268000e+03</td>\n",
       "      <td>(3.46131903, -76.5073239)</td>\n",
       "      <td>3</td>\n",
       "    </tr>\n",
       "    <tr>\n",
       "      <th>2999</th>\n",
       "      <td>737999419</td>\n",
       "      <td>El Sena</td>\n",
       "      <td>MF</td>\n",
       "      <td>5203</td>\n",
       "      <td>3.465189</td>\n",
       "      <td>-76.501004</td>\n",
       "      <td>737999419</td>\n",
       "      <td>-3935783983640216344</td>\n",
       "      <td>1</td>\n",
       "      <td>MF</td>\n",
       "      <td>2</td>\n",
       "      <td>5.203000e+03</td>\n",
       "      <td>(3.46518894, -76.50100445)</td>\n",
       "      <td>3</td>\n",
       "    </tr>\n",
       "    <tr>\n",
       "      <th>26210</th>\n",
       "      <td>738000383</td>\n",
       "      <td>Urbanización Ciudad Jardín</td>\n",
       "      <td>POS</td>\n",
       "      <td>12051447</td>\n",
       "      <td>3.364052</td>\n",
       "      <td>-76.532690</td>\n",
       "      <td>738000383</td>\n",
       "      <td>4944338695211231890</td>\n",
       "      <td>1</td>\n",
       "      <td>POS</td>\n",
       "      <td>1</td>\n",
       "      <td>6.025724e+06</td>\n",
       "      <td>(3.36405176916, -76.5326896141)</td>\n",
       "      <td>6</td>\n",
       "    </tr>\n",
       "    <tr>\n",
       "      <th>69142</th>\n",
       "      <td>737998194</td>\n",
       "      <td>Santa Mónica Residencial</td>\n",
       "      <td>POS</td>\n",
       "      <td>10327682</td>\n",
       "      <td>3.472221</td>\n",
       "      <td>-76.526592</td>\n",
       "      <td>737998194</td>\n",
       "      <td>-1170946758474099030</td>\n",
       "      <td>1</td>\n",
       "      <td>POS</td>\n",
       "      <td>2</td>\n",
       "      <td>1.032768e+07</td>\n",
       "      <td>(3.472221104, -76.52659178)</td>\n",
       "      <td>NaN</td>\n",
       "    </tr>\n",
       "    <tr>\n",
       "      <th>19015</th>\n",
       "      <td>737998124</td>\n",
       "      <td>Urbanización Militar</td>\n",
       "      <td>MF</td>\n",
       "      <td>5024</td>\n",
       "      <td>3.412333</td>\n",
       "      <td>-76.541064</td>\n",
       "      <td>737998124</td>\n",
       "      <td>6202028566488343270</td>\n",
       "      <td>1</td>\n",
       "      <td>MF</td>\n",
       "      <td>1</td>\n",
       "      <td>2.512000e+03</td>\n",
       "      <td>(3.41233313, -76.54106387)</td>\n",
       "      <td>4</td>\n",
       "    </tr>\n",
       "    <tr>\n",
       "      <th>54456</th>\n",
       "      <td>737998754</td>\n",
       "      <td>Las Delicias</td>\n",
       "      <td>DISPENSADOR</td>\n",
       "      <td>2756</td>\n",
       "      <td>3.461319</td>\n",
       "      <td>-76.507324</td>\n",
       "      <td>737998754</td>\n",
       "      <td>7839952861048863061</td>\n",
       "      <td>1</td>\n",
       "      <td>DISPENSADOR</td>\n",
       "      <td>5</td>\n",
       "      <td>6.890000e+03</td>\n",
       "      <td>(3.46131903, -76.5073239)</td>\n",
       "      <td>3</td>\n",
       "    </tr>\n",
       "    <tr>\n",
       "      <th>22520</th>\n",
       "      <td>737999427</td>\n",
       "      <td>Urbanización Tequendama</td>\n",
       "      <td>SAI</td>\n",
       "      <td>77</td>\n",
       "      <td>3.421885</td>\n",
       "      <td>-76.547348</td>\n",
       "      <td>737999427</td>\n",
       "      <td>-4749810584896701095</td>\n",
       "      <td>1</td>\n",
       "      <td>SAI</td>\n",
       "      <td>1</td>\n",
       "      <td>3.850000e+01</td>\n",
       "      <td>(3.42188529, -76.54734841)</td>\n",
       "      <td>5</td>\n",
       "    </tr>\n",
       "    <tr>\n",
       "      <th>31638</th>\n",
       "      <td>737998244</td>\n",
       "      <td>Canaverales Los Samanes</td>\n",
       "      <td>DISPENSADOR</td>\n",
       "      <td>6298</td>\n",
       "      <td>3.400743</td>\n",
       "      <td>-76.524839</td>\n",
       "      <td>737998244</td>\n",
       "      <td>-7895167950679382354</td>\n",
       "      <td>1</td>\n",
       "      <td>DISPENSADOR</td>\n",
       "      <td>1</td>\n",
       "      <td>3.149000e+03</td>\n",
       "      <td>(3.40074292, -76.52483946)</td>\n",
       "      <td>NaN</td>\n",
       "    </tr>\n",
       "    <tr>\n",
       "      <th>14570</th>\n",
       "      <td>737998095</td>\n",
       "      <td>Unidad Residencial Santiago de Cali</td>\n",
       "      <td>POS</td>\n",
       "      <td>10649341</td>\n",
       "      <td>3.414325</td>\n",
       "      <td>-76.547986</td>\n",
       "      <td>737998095</td>\n",
       "      <td>8001177786429564856</td>\n",
       "      <td>1</td>\n",
       "      <td>POS</td>\n",
       "      <td>1</td>\n",
       "      <td>5.324670e+06</td>\n",
       "      <td>(3.41432528404, -76.547986238)</td>\n",
       "      <td>NaN</td>\n",
       "    </tr>\n",
       "  </tbody>\n",
       "</table>\n",
       "</div>"
      ],
      "text/plain": [
       "          codigo                               nombre         tipo  \\\n",
       "1617   737999419                              El Sena           CB   \n",
       "54334  737998754                         Las Delicias  DISPENSADOR   \n",
       "2999   737999419                              El Sena           MF   \n",
       "26210  738000383           Urbanización Ciudad Jardín          POS   \n",
       "69142  737998194             Santa Mónica Residencial          POS   \n",
       "19015  737998124                 Urbanización Militar           MF   \n",
       "54456  737998754                         Las Delicias  DISPENSADOR   \n",
       "22520  737999427              Urbanización Tequendama          SAI   \n",
       "31638  737998244              Canaverales Los Samanes  DISPENSADOR   \n",
       "14570  737998095  Unidad Residencial Santiago de Cali          POS   \n",
       "\n",
       "       cod_dispositivo   latitud   longitud  id_barrio              num_doc  \\\n",
       "1617        1622720351  3.465281 -76.501380  737999419 -3695234163311459424   \n",
       "54334             2756  3.461319 -76.507324  737998754 -2026103800927155990   \n",
       "2999              5203  3.465189 -76.501004  737999419 -3935783983640216344   \n",
       "26210         12051447  3.364052 -76.532690  738000383  4944338695211231890   \n",
       "69142         10327682  3.472221 -76.526592  737998194 -1170946758474099030   \n",
       "19015             5024  3.412333 -76.541064  737998124  6202028566488343270   \n",
       "54456             2756  3.461319 -76.507324  737998754  7839952861048863061   \n",
       "22520               77  3.421885 -76.547348  737999427 -4749810584896701095   \n",
       "31638             6298  3.400743 -76.524839  737998244 -7895167950679382354   \n",
       "14570         10649341  3.414325 -76.547986  737998095  8001177786429564856   \n",
       "\n",
       "       tipo_doc        canal  num_trx  mnt_total_trx  \\\n",
       "1617          1           CB        7   5.679521e+09   \n",
       "54334         1  DISPENSADOR        6   8.268000e+03   \n",
       "2999          1           MF        2   5.203000e+03   \n",
       "26210         1          POS        1   6.025724e+06   \n",
       "69142         1          POS        2   1.032768e+07   \n",
       "19015         1           MF        1   2.512000e+03   \n",
       "54456         1  DISPENSADOR        5   6.890000e+03   \n",
       "22520         1          SAI        1   3.850000e+01   \n",
       "31638         1  DISPENSADOR        1   3.149000e+03   \n",
       "14570         1          POS        1   5.324670e+06   \n",
       "\n",
       "                             ubicacion estrato_moda  \n",
       "1617             (3.465281, -76.50138)            3  \n",
       "54334        (3.46131903, -76.5073239)            3  \n",
       "2999        (3.46518894, -76.50100445)            3  \n",
       "26210  (3.36405176916, -76.5326896141)            6  \n",
       "69142      (3.472221104, -76.52659178)          NaN  \n",
       "19015       (3.41233313, -76.54106387)            4  \n",
       "54456        (3.46131903, -76.5073239)            3  \n",
       "22520       (3.42188529, -76.54734841)            5  \n",
       "31638       (3.40074292, -76.52483946)          NaN  \n",
       "14570   (3.41432528404, -76.547986238)          NaN  "
      ]
     },
     "execution_count": 71,
     "metadata": {},
     "output_type": "execute_result"
    }
   ],
   "source": [
    "df_join_merged.sample(10)"
   ]
  },
  {
   "cell_type": "code",
   "execution_count": null,
   "id": "d0934667-15ce-4982-bd5d-8574307c1865",
   "metadata": {},
   "outputs": [],
   "source": [
    "ps.sqldf(query_5, locals())"
   ]
  },
  {
   "cell_type": "code",
   "execution_count": null,
   "id": "176e3073-5c0c-4d6a-b7c2-75dd8ae5f4bf",
   "metadata": {},
   "outputs": [],
   "source": [
    "df_join.sample(10)"
   ]
  },
  {
   "cell_type": "code",
   "execution_count": null,
   "id": "663b3d7b-ada3-4b55-88fa-9634e4637c0e",
   "metadata": {},
   "outputs": [],
   "source": [
    "df_join.to_csv('df_join.csv')"
   ]
  },
  {
   "cell_type": "code",
   "execution_count": null,
   "id": "2840cc3f-e0a6-4809-a0b0-7fb09fd22cf8",
   "metadata": {},
   "outputs": [],
   "source": [
    "#geolocalizador = Nominatim(user_agent = 'proyecto_nq')\n",
    "\n",
    "df_join.assign(ciudad = lambda df: rg.search(df['ubicacion'])[0]['name'])"
   ]
  },
  {
   "cell_type": "code",
   "execution_count": null,
   "id": "0297e44b-6a2b-44bc-a769-174a46a10652",
   "metadata": {},
   "outputs": [],
   "source": [
    "rg.search(df_join.loc[0, 'ubicacion'])[0]['name']"
   ]
  },
  {
   "cell_type": "code",
   "execution_count": null,
   "id": "95a04ee5-9912-445b-a85b-4cb0a6f44a6e",
   "metadata": {},
   "outputs": [],
   "source": [
    "(\n",
    "    sns.barplot(\n",
    "        data = df_join,\n",
    "        x = 'canal',\n",
    "        y = 'num_trx',\n",
    "        estimator = 'sum'\n",
    "    )\n",
    ")"
   ]
  }
 ],
 "metadata": {
  "kernelspec": {
   "display_name": "Python 3 (ipykernel)",
   "language": "python",
   "name": "python3"
  },
  "language_info": {
   "codemirror_mode": {
    "name": "ipython",
    "version": 3
   },
   "file_extension": ".py",
   "mimetype": "text/x-python",
   "name": "python",
   "nbconvert_exporter": "python",
   "pygments_lexer": "ipython3",
   "version": "3.9.13"
  },
  "vscode": {
   "interpreter": {
    "hash": "c7dc04c5cb7182d9747320e4dab81082122b6410d56c6a5deb042ba20d92270c"
   }
  }
 },
 "nbformat": 4,
 "nbformat_minor": 5
}

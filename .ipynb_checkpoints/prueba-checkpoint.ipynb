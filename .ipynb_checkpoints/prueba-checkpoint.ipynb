{
 "cells": [
  {
   "cell_type": "markdown",
   "id": "dd0bad8c",
   "metadata": {},
   "source": [
    "# Prueba Tecnica\n",
    "\n",
    "    Para poder realizar cada uno de los numerales deberas buscar una relacion entre las 2 tablas para consolidarlas en una sola. Posterior a esto podras empezar con la solucion de los puntos\n",
    "\n",
    "    Nota:  \n",
    "    - El punto A y B los debes solucionar tanto en Sql como python. El punto C lo podras realizar con el lenguaje de tu preferencia\n",
    "    - para obtener las bases de datos solo deberas ejecutar el bloque de codigo llamado 'DATA' en caso de un error puedes pedir ayuda"
   ]
  },
  {
   "cell_type": "code",
   "execution_count": 1,
   "id": "2cb9c0db-9a0d-4c58-8e40-f50831995f24",
   "metadata": {},
   "outputs": [],
   "source": [
    "import pandas as pd\n",
    "import numpy as np\n",
    "from os import path\n",
    "import pandasql as ps\n",
    "import seaborn as sns\n",
    "import matplotlib.pyplot as plt\n",
    "import empiricaldist\n",
    "import janitor\n",
    "import scipy.stats\n",
    "import seaborn as sns\n",
    "import sklearn.metrics\n",
    "import statsmodels.api as sm\n",
    "import statsmodels.formula.api as smf\n",
    "import statsmodels.stats as ss\n",
    "import session_info"
   ]
  },
  {
   "cell_type": "markdown",
   "id": "6d171056",
   "metadata": {},
   "source": [
    "# Data"
   ]
  },
  {
   "cell_type": "code",
   "execution_count": 2,
   "id": "4c83a4a1",
   "metadata": {},
   "outputs": [],
   "source": [
    "\n",
    "'''\n",
    "    Barrios: Información de los barrios (nombre y código)\n",
    "    clientes: Información transaccional del cliente \n",
    "    \n",
    "'''\n",
    "\n",
    "df_barrios = pd.read_csv(path.join('Bases_insumo','barrios.csv'))\n",
    "df_clientes = pd.read_csv(path.join('Bases_insumo','clientes.csv'))\n",
    "df_dispositivos = pd.read_csv(path.join('Bases_insumo','dispositivos.csv'))\n",
    "df_dispositivos.rename({'codigo':'cod_dispositivo'}, axis = 1, inplace= True)\n",
    "\n",
    "df_join = df_barrios.merge(df_dispositivos, left_on ='codigo', \n",
    "                          right_on = 'id_barrio', how = 'inner').merge(df_clientes, on = 'cod_dispositivo', how = 'inner')\n"
   ]
  },
  {
   "cell_type": "code",
   "execution_count": 3,
   "id": "474cfea8",
   "metadata": {},
   "outputs": [
    {
     "data": {
      "text/html": [
       "<div>\n",
       "<style scoped>\n",
       "    .dataframe tbody tr th:only-of-type {\n",
       "        vertical-align: middle;\n",
       "    }\n",
       "\n",
       "    .dataframe tbody tr th {\n",
       "        vertical-align: top;\n",
       "    }\n",
       "\n",
       "    .dataframe thead th {\n",
       "        text-align: right;\n",
       "    }\n",
       "</style>\n",
       "<table border=\"1\" class=\"dataframe\">\n",
       "  <thead>\n",
       "    <tr style=\"text-align: right;\">\n",
       "      <th></th>\n",
       "      <th>codigo</th>\n",
       "      <th>nombre</th>\n",
       "      <th>tipo</th>\n",
       "      <th>cod_dispositivo</th>\n",
       "      <th>latitud</th>\n",
       "      <th>longitud</th>\n",
       "      <th>id_barrio</th>\n",
       "      <th>num_doc</th>\n",
       "      <th>tipo_doc</th>\n",
       "      <th>canal</th>\n",
       "      <th>num_trx</th>\n",
       "      <th>mnt_total_trx</th>\n",
       "    </tr>\n",
       "  </thead>\n",
       "  <tbody>\n",
       "    <tr>\n",
       "      <th>0</th>\n",
       "      <td>737998257</td>\n",
       "      <td>La Campina</td>\n",
       "      <td>POS</td>\n",
       "      <td>12202503</td>\n",
       "      <td>3.479572</td>\n",
       "      <td>-76.525582</td>\n",
       "      <td>737998257</td>\n",
       "      <td>-2393994463924208659</td>\n",
       "      <td>1</td>\n",
       "      <td>POS</td>\n",
       "      <td>2</td>\n",
       "      <td>12202503.0</td>\n",
       "    </tr>\n",
       "    <tr>\n",
       "      <th>1</th>\n",
       "      <td>737998257</td>\n",
       "      <td>La Campina</td>\n",
       "      <td>POS</td>\n",
       "      <td>10521045</td>\n",
       "      <td>3.480517</td>\n",
       "      <td>-76.525275</td>\n",
       "      <td>737998257</td>\n",
       "      <td>-5675531380015678594</td>\n",
       "      <td>1</td>\n",
       "      <td>POS</td>\n",
       "      <td>1</td>\n",
       "      <td>5260522.5</td>\n",
       "    </tr>\n",
       "    <tr>\n",
       "      <th>2</th>\n",
       "      <td>737998257</td>\n",
       "      <td>La Campina</td>\n",
       "      <td>POS</td>\n",
       "      <td>10521045</td>\n",
       "      <td>3.480517</td>\n",
       "      <td>-76.525275</td>\n",
       "      <td>737998257</td>\n",
       "      <td>-5066077049535851626</td>\n",
       "      <td>1</td>\n",
       "      <td>POS</td>\n",
       "      <td>1</td>\n",
       "      <td>5260522.5</td>\n",
       "    </tr>\n",
       "    <tr>\n",
       "      <th>3</th>\n",
       "      <td>737998257</td>\n",
       "      <td>La Campina</td>\n",
       "      <td>POS</td>\n",
       "      <td>13238282</td>\n",
       "      <td>3.479491</td>\n",
       "      <td>-76.525818</td>\n",
       "      <td>737998257</td>\n",
       "      <td>-5791329717693361241</td>\n",
       "      <td>1</td>\n",
       "      <td>POS</td>\n",
       "      <td>1</td>\n",
       "      <td>6619141.0</td>\n",
       "    </tr>\n",
       "    <tr>\n",
       "      <th>4</th>\n",
       "      <td>737998257</td>\n",
       "      <td>La Campina</td>\n",
       "      <td>POS</td>\n",
       "      <td>12567517</td>\n",
       "      <td>3.480958</td>\n",
       "      <td>-76.525153</td>\n",
       "      <td>737998257</td>\n",
       "      <td>-397966594878551344</td>\n",
       "      <td>1</td>\n",
       "      <td>POS</td>\n",
       "      <td>1</td>\n",
       "      <td>6283758.5</td>\n",
       "    </tr>\n",
       "  </tbody>\n",
       "</table>\n",
       "</div>"
      ],
      "text/plain": [
       "      codigo      nombre tipo  cod_dispositivo   latitud   longitud  \\\n",
       "0  737998257  La Campina  POS         12202503  3.479572 -76.525582   \n",
       "1  737998257  La Campina  POS         10521045  3.480517 -76.525275   \n",
       "2  737998257  La Campina  POS         10521045  3.480517 -76.525275   \n",
       "3  737998257  La Campina  POS         13238282  3.479491 -76.525818   \n",
       "4  737998257  La Campina  POS         12567517  3.480958 -76.525153   \n",
       "\n",
       "   id_barrio              num_doc  tipo_doc canal  num_trx  mnt_total_trx  \n",
       "0  737998257 -2393994463924208659         1   POS        2     12202503.0  \n",
       "1  737998257 -5675531380015678594         1   POS        1      5260522.5  \n",
       "2  737998257 -5066077049535851626         1   POS        1      5260522.5  \n",
       "3  737998257 -5791329717693361241         1   POS        1      6619141.0  \n",
       "4  737998257  -397966594878551344         1   POS        1      6283758.5  "
      ]
     },
     "execution_count": 3,
     "metadata": {},
     "output_type": "execute_result"
    }
   ],
   "source": [
    "df_join.head()"
   ]
  },
  {
   "cell_type": "markdown",
   "id": "49913285",
   "metadata": {},
   "source": [
    "# Punto a\n",
    "\n",
    "* Generar el listado de clientes con transacciones en 5 o más barrios."
   ]
  },
  {
   "cell_type": "code",
   "execution_count": 4,
   "id": "6da33fbc-d7b9-4176-a632-9dab797dd017",
   "metadata": {},
   "outputs": [],
   "source": [
    "#Solución en sql\n",
    "\n",
    "query = '''\n",
    "    SELECT DISTINCT num_doc, sum(num_trx) as cant_transacciones, count(DISTINCT(id_barrio)) as cant_barrios\n",
    "    FROM df_join\n",
    "    GROUP BY num_doc\n",
    "    HAVING cant_barrios > 5\n",
    "    ORDER BY cant_barrios DESC;\n",
    "'''"
   ]
  },
  {
   "cell_type": "code",
   "execution_count": 5,
   "id": "737d8cea-0f64-4f80-a2fc-79339456273c",
   "metadata": {},
   "outputs": [
    {
     "data": {
      "text/html": [
       "<div>\n",
       "<style scoped>\n",
       "    .dataframe tbody tr th:only-of-type {\n",
       "        vertical-align: middle;\n",
       "    }\n",
       "\n",
       "    .dataframe tbody tr th {\n",
       "        vertical-align: top;\n",
       "    }\n",
       "\n",
       "    .dataframe thead th {\n",
       "        text-align: right;\n",
       "    }\n",
       "</style>\n",
       "<table border=\"1\" class=\"dataframe\">\n",
       "  <thead>\n",
       "    <tr style=\"text-align: right;\">\n",
       "      <th></th>\n",
       "      <th>num_doc</th>\n",
       "      <th>cant_transacciones</th>\n",
       "      <th>cant_barrios</th>\n",
       "    </tr>\n",
       "  </thead>\n",
       "  <tbody>\n",
       "    <tr>\n",
       "      <th>0</th>\n",
       "      <td>-6943732889918790302</td>\n",
       "      <td>546</td>\n",
       "      <td>83</td>\n",
       "    </tr>\n",
       "    <tr>\n",
       "      <th>1</th>\n",
       "      <td>-6318594648243260200</td>\n",
       "      <td>307</td>\n",
       "      <td>77</td>\n",
       "    </tr>\n",
       "    <tr>\n",
       "      <th>2</th>\n",
       "      <td>3949050160426632961</td>\n",
       "      <td>393</td>\n",
       "      <td>75</td>\n",
       "    </tr>\n",
       "    <tr>\n",
       "      <th>3</th>\n",
       "      <td>956540030589798895</td>\n",
       "      <td>311</td>\n",
       "      <td>74</td>\n",
       "    </tr>\n",
       "    <tr>\n",
       "      <th>4</th>\n",
       "      <td>3785376175516210347</td>\n",
       "      <td>372</td>\n",
       "      <td>63</td>\n",
       "    </tr>\n",
       "    <tr>\n",
       "      <th>...</th>\n",
       "      <td>...</td>\n",
       "      <td>...</td>\n",
       "      <td>...</td>\n",
       "    </tr>\n",
       "    <tr>\n",
       "      <th>2995</th>\n",
       "      <td>-8970554719011755860</td>\n",
       "      <td>59</td>\n",
       "      <td>6</td>\n",
       "    </tr>\n",
       "    <tr>\n",
       "      <th>2996</th>\n",
       "      <td>-9016704368719499354</td>\n",
       "      <td>8</td>\n",
       "      <td>6</td>\n",
       "    </tr>\n",
       "    <tr>\n",
       "      <th>2997</th>\n",
       "      <td>-9044712566978972844</td>\n",
       "      <td>75</td>\n",
       "      <td>6</td>\n",
       "    </tr>\n",
       "    <tr>\n",
       "      <th>2998</th>\n",
       "      <td>-9099385232054024088</td>\n",
       "      <td>27</td>\n",
       "      <td>6</td>\n",
       "    </tr>\n",
       "    <tr>\n",
       "      <th>2999</th>\n",
       "      <td>-9202442483227019464</td>\n",
       "      <td>8</td>\n",
       "      <td>6</td>\n",
       "    </tr>\n",
       "  </tbody>\n",
       "</table>\n",
       "<p>3000 rows × 3 columns</p>\n",
       "</div>"
      ],
      "text/plain": [
       "                  num_doc  cant_transacciones  cant_barrios\n",
       "0    -6943732889918790302                 546            83\n",
       "1    -6318594648243260200                 307            77\n",
       "2     3949050160426632961                 393            75\n",
       "3      956540030589798895                 311            74\n",
       "4     3785376175516210347                 372            63\n",
       "...                   ...                 ...           ...\n",
       "2995 -8970554719011755860                  59             6\n",
       "2996 -9016704368719499354                   8             6\n",
       "2997 -9044712566978972844                  75             6\n",
       "2998 -9099385232054024088                  27             6\n",
       "2999 -9202442483227019464                   8             6\n",
       "\n",
       "[3000 rows x 3 columns]"
      ]
     },
     "execution_count": 5,
     "metadata": {},
     "output_type": "execute_result"
    }
   ],
   "source": [
    "ps.sqldf(query, locals())"
   ]
  },
  {
   "cell_type": "code",
   "execution_count": 6,
   "id": "ea26f8a8-2a41-45d9-998b-82adbcab403b",
   "metadata": {},
   "outputs": [],
   "source": [
    "query_nombre_barrios = '''\n",
    "    SELECT DISTINCT nombre\n",
    "    FROM df_join\n",
    "'''"
   ]
  },
  {
   "cell_type": "code",
   "execution_count": 7,
   "id": "2df48c2d-e634-4233-981f-e64205ca4db0",
   "metadata": {},
   "outputs": [
    {
     "data": {
      "text/html": [
       "<div>\n",
       "<style scoped>\n",
       "    .dataframe tbody tr th:only-of-type {\n",
       "        vertical-align: middle;\n",
       "    }\n",
       "\n",
       "    .dataframe tbody tr th {\n",
       "        vertical-align: top;\n",
       "    }\n",
       "\n",
       "    .dataframe thead th {\n",
       "        text-align: right;\n",
       "    }\n",
       "</style>\n",
       "<table border=\"1\" class=\"dataframe\">\n",
       "  <thead>\n",
       "    <tr style=\"text-align: right;\">\n",
       "      <th></th>\n",
       "      <th>nombre</th>\n",
       "    </tr>\n",
       "    <tr>\n",
       "      <th>num_doc</th>\n",
       "      <th></th>\n",
       "    </tr>\n",
       "  </thead>\n",
       "  <tbody>\n",
       "    <tr>\n",
       "      <th>-9218698523982046880</th>\n",
       "      <td>8</td>\n",
       "    </tr>\n",
       "    <tr>\n",
       "      <th>-9210147727599394517</th>\n",
       "      <td>7</td>\n",
       "    </tr>\n",
       "    <tr>\n",
       "      <th>-9202442483227019464</th>\n",
       "      <td>6</td>\n",
       "    </tr>\n",
       "    <tr>\n",
       "      <th>-9202223027335988936</th>\n",
       "      <td>7</td>\n",
       "    </tr>\n",
       "    <tr>\n",
       "      <th>-9186693395875698210</th>\n",
       "      <td>18</td>\n",
       "    </tr>\n",
       "  </tbody>\n",
       "</table>\n",
       "</div>"
      ],
      "text/plain": [
       "                      nombre\n",
       "num_doc                     \n",
       "-9218698523982046880       8\n",
       "-9210147727599394517       7\n",
       "-9202442483227019464       6\n",
       "-9202223027335988936       7\n",
       "-9186693395875698210      18"
      ]
     },
     "execution_count": 7,
     "metadata": {},
     "output_type": "execute_result"
    }
   ],
   "source": [
    "conteo = df_join.groupby('num_doc')['nombre'].nunique()\n",
    "conteo\n",
    "\n",
    "docs_usuarios_5barrios = pd.DataFrame(conteo[conteo > 5])\n",
    "\n",
    "docs_usuarios_5barrios.head()"
   ]
  },
  {
   "cell_type": "code",
   "execution_count": 8,
   "id": "af42cbc8-7119-470f-ad81-ef976bb8ab5b",
   "metadata": {},
   "outputs": [],
   "source": [
    "#Mejorando Query en Pandas - post-Prueba presencial\n",
    "\n",
    "#df_join.groupby(['num_doc', 'nombre'])['num_trx'].count().to_frame()\n",
    "\n",
    "#df_join.groupby(['num_doc', 'nombre'])['num_trx'].aggregate(['count', 'sum'])"
   ]
  },
  {
   "cell_type": "code",
   "execution_count": 9,
   "id": "e8cd3555-2edc-4980-be8a-b2539554aae0",
   "metadata": {},
   "outputs": [
    {
     "data": {
      "text/plain": [
       "Index(['codigo', 'nombre', 'tipo', 'cod_dispositivo', 'latitud', 'longitud',\n",
       "       'id_barrio', 'num_doc', 'tipo_doc', 'canal', 'num_trx',\n",
       "       'mnt_total_trx'],\n",
       "      dtype='object')"
      ]
     },
     "execution_count": 9,
     "metadata": {},
     "output_type": "execute_result"
    }
   ],
   "source": [
    "df_join.columns"
   ]
  },
  {
   "cell_type": "code",
   "execution_count": 10,
   "id": "bb2a3a05-1073-4d5b-9002-d8854c0ef999",
   "metadata": {},
   "outputs": [],
   "source": [
    "#Solución en pandas\n",
    "\n"
   ]
  },
  {
   "cell_type": "markdown",
   "id": "6107818a",
   "metadata": {},
   "source": [
    "# Punto b\n",
    "\n",
    "* ¿Cuáles son los 6 barrios donde la mayor cantidad de clientes únicos realizan transacciones en\n",
    "dispositivos tipo PAC? La respuesta debe incluir la cantidad de clientes únicos asociados a estos\n",
    "barrios.\n"
   ]
  },
  {
   "cell_type": "code",
   "execution_count": 11,
   "id": "0fe577ec-36e6-4ff2-b70a-c744d70b6f0b",
   "metadata": {},
   "outputs": [],
   "source": [
    "query_3 = '''\n",
    "    SELECT nombre, count(distinct(num_doc)) as clientes_unicos\n",
    "    FROM df_join\n",
    "    GROUP BY nombre\n",
    "    ORDER BY clientes_unicos DESC\n",
    "    LIMIT 6;\n",
    "'''"
   ]
  },
  {
   "cell_type": "code",
   "execution_count": 12,
   "id": "beff2d6f-14c7-46b7-bd57-8a0fa558543f",
   "metadata": {},
   "outputs": [
    {
     "data": {
      "text/html": [
       "<div>\n",
       "<style scoped>\n",
       "    .dataframe tbody tr th:only-of-type {\n",
       "        vertical-align: middle;\n",
       "    }\n",
       "\n",
       "    .dataframe tbody tr th {\n",
       "        vertical-align: top;\n",
       "    }\n",
       "\n",
       "    .dataframe thead th {\n",
       "        text-align: right;\n",
       "    }\n",
       "</style>\n",
       "<table border=\"1\" class=\"dataframe\">\n",
       "  <thead>\n",
       "    <tr style=\"text-align: right;\">\n",
       "      <th></th>\n",
       "      <th>nombre</th>\n",
       "      <th>clientes_unicos</th>\n",
       "    </tr>\n",
       "  </thead>\n",
       "  <tbody>\n",
       "    <tr>\n",
       "      <th>0</th>\n",
       "      <td>San Pedro</td>\n",
       "      <td>2516</td>\n",
       "    </tr>\n",
       "    <tr>\n",
       "      <th>1</th>\n",
       "      <td>San Vicente</td>\n",
       "      <td>1888</td>\n",
       "    </tr>\n",
       "    <tr>\n",
       "      <th>2</th>\n",
       "      <td>Urbanización San Juaquín</td>\n",
       "      <td>1756</td>\n",
       "    </tr>\n",
       "    <tr>\n",
       "      <th>3</th>\n",
       "      <td>Santa Mónica Residencial</td>\n",
       "      <td>1561</td>\n",
       "    </tr>\n",
       "    <tr>\n",
       "      <th>4</th>\n",
       "      <td>Chipichape</td>\n",
       "      <td>1555</td>\n",
       "    </tr>\n",
       "    <tr>\n",
       "      <th>5</th>\n",
       "      <td>Unidad Residencial Santiago de Cali</td>\n",
       "      <td>1547</td>\n",
       "    </tr>\n",
       "  </tbody>\n",
       "</table>\n",
       "</div>"
      ],
      "text/plain": [
       "                                nombre  clientes_unicos\n",
       "0                            San Pedro             2516\n",
       "1                          San Vicente             1888\n",
       "2             Urbanización San Juaquín             1756\n",
       "3             Santa Mónica Residencial             1561\n",
       "4                           Chipichape             1555\n",
       "5  Unidad Residencial Santiago de Cali             1547"
      ]
     },
     "execution_count": 12,
     "metadata": {},
     "output_type": "execute_result"
    }
   ],
   "source": [
    "ps.sqldf(query_3, locals())"
   ]
  },
  {
   "cell_type": "code",
   "execution_count": 13,
   "id": "0527c341-8c8e-41e1-94f7-5f17924ab081",
   "metadata": {},
   "outputs": [
    {
     "data": {
      "text/html": [
       "<div>\n",
       "<style scoped>\n",
       "    .dataframe tbody tr th:only-of-type {\n",
       "        vertical-align: middle;\n",
       "    }\n",
       "\n",
       "    .dataframe tbody tr th {\n",
       "        vertical-align: top;\n",
       "    }\n",
       "\n",
       "    .dataframe thead th {\n",
       "        text-align: right;\n",
       "    }\n",
       "</style>\n",
       "<table border=\"1\" class=\"dataframe\">\n",
       "  <thead>\n",
       "    <tr style=\"text-align: right;\">\n",
       "      <th></th>\n",
       "      <th>num_doc</th>\n",
       "    </tr>\n",
       "    <tr>\n",
       "      <th>nombre</th>\n",
       "      <th></th>\n",
       "    </tr>\n",
       "  </thead>\n",
       "  <tbody>\n",
       "    <tr>\n",
       "      <th>San Pedro</th>\n",
       "      <td>2516</td>\n",
       "    </tr>\n",
       "    <tr>\n",
       "      <th>San Vicente</th>\n",
       "      <td>1888</td>\n",
       "    </tr>\n",
       "    <tr>\n",
       "      <th>Urbanización San Juaquín</th>\n",
       "      <td>1756</td>\n",
       "    </tr>\n",
       "    <tr>\n",
       "      <th>Santa Mónica Residencial</th>\n",
       "      <td>1561</td>\n",
       "    </tr>\n",
       "    <tr>\n",
       "      <th>Chipichape</th>\n",
       "      <td>1555</td>\n",
       "    </tr>\n",
       "    <tr>\n",
       "      <th>...</th>\n",
       "      <td>...</td>\n",
       "    </tr>\n",
       "    <tr>\n",
       "      <th>El Dorado</th>\n",
       "      <td>6</td>\n",
       "    </tr>\n",
       "    <tr>\n",
       "      <th>Unidad Residencial Bueno Madrid</th>\n",
       "      <td>6</td>\n",
       "    </tr>\n",
       "    <tr>\n",
       "      <th>Alto de los Chorros</th>\n",
       "      <td>6</td>\n",
       "    </tr>\n",
       "    <tr>\n",
       "      <th>Arboledas</th>\n",
       "      <td>6</td>\n",
       "    </tr>\n",
       "    <tr>\n",
       "      <th>12 de Octubre</th>\n",
       "      <td>6</td>\n",
       "    </tr>\n",
       "  </tbody>\n",
       "</table>\n",
       "<p>231 rows × 1 columns</p>\n",
       "</div>"
      ],
      "text/plain": [
       "                                 num_doc\n",
       "nombre                                  \n",
       "San Pedro                           2516\n",
       "San Vicente                         1888\n",
       "Urbanización San Juaquín            1756\n",
       "Santa Mónica Residencial            1561\n",
       "Chipichape                          1555\n",
       "...                                  ...\n",
       "El Dorado                              6\n",
       "Unidad Residencial Bueno Madrid        6\n",
       "Alto de los Chorros                    6\n",
       "Arboledas                              6\n",
       "12 de Octubre                          6\n",
       "\n",
       "[231 rows x 1 columns]"
      ]
     },
     "execution_count": 13,
     "metadata": {},
     "output_type": "execute_result"
    }
   ],
   "source": [
    "cant_clientes_barrios = df_join.groupby('nombre')['num_doc'].nunique()\n",
    "df_cant_clientes_barrios = pd.DataFrame(cant_clientes_barrios)\n",
    "cond = df_cant_clientes_barrios.loc[:,'num_doc'] > 5\n",
    "df_cant_clientes_barrios.loc[cond, :].sort_values(by = 'num_doc', ascending = False)"
   ]
  },
  {
   "cell_type": "markdown",
   "id": "80ddf155",
   "metadata": {},
   "source": [
    "# Punto c\n",
    "\n",
    "Realizar analisis exploratorio de los datos y conclusiones. \n",
    "\n",
    "NOTA: Se debe agregar la documentación y trazabilidad del proceso realizado (Codigos y gráficas con las que se hicieron los análisis)"
   ]
  },
  {
   "cell_type": "markdown",
   "id": "9991438f-2ff6-4ff2-af84-b309b9218210",
   "metadata": {},
   "source": [
    "# **Análisis Exploratorio**"
   ]
  },
  {
   "cell_type": "markdown",
   "id": "6de0cf55-7421-4410-ba94-b67c6448773b",
   "metadata": {},
   "source": [
    "## **1. Preprocesamiento de Datos**"
   ]
  },
  {
   "cell_type": "markdown",
   "id": "5e46d4d7-8e90-438d-97dc-31c564b1f3b4",
   "metadata": {},
   "source": [
    "Conociendo el conjunto de datos:"
   ]
  },
  {
   "cell_type": "code",
   "execution_count": 14,
   "id": "19dacce8-452b-4a08-9c6e-83cb3950ab6f",
   "metadata": {},
   "outputs": [
    {
     "data": {
      "text/html": [
       "<div>\n",
       "<style scoped>\n",
       "    .dataframe tbody tr th:only-of-type {\n",
       "        vertical-align: middle;\n",
       "    }\n",
       "\n",
       "    .dataframe tbody tr th {\n",
       "        vertical-align: top;\n",
       "    }\n",
       "\n",
       "    .dataframe thead th {\n",
       "        text-align: right;\n",
       "    }\n",
       "</style>\n",
       "<table border=\"1\" class=\"dataframe\">\n",
       "  <thead>\n",
       "    <tr style=\"text-align: right;\">\n",
       "      <th></th>\n",
       "      <th>codigo</th>\n",
       "      <th>nombre</th>\n",
       "      <th>tipo</th>\n",
       "      <th>cod_dispositivo</th>\n",
       "      <th>latitud</th>\n",
       "      <th>longitud</th>\n",
       "      <th>id_barrio</th>\n",
       "      <th>num_doc</th>\n",
       "      <th>tipo_doc</th>\n",
       "      <th>canal</th>\n",
       "      <th>num_trx</th>\n",
       "      <th>mnt_total_trx</th>\n",
       "    </tr>\n",
       "  </thead>\n",
       "  <tbody>\n",
       "    <tr>\n",
       "      <th>0</th>\n",
       "      <td>737998257</td>\n",
       "      <td>La Campina</td>\n",
       "      <td>POS</td>\n",
       "      <td>12202503</td>\n",
       "      <td>3.479572</td>\n",
       "      <td>-76.525582</td>\n",
       "      <td>737998257</td>\n",
       "      <td>-2393994463924208659</td>\n",
       "      <td>1</td>\n",
       "      <td>POS</td>\n",
       "      <td>2</td>\n",
       "      <td>12202503.0</td>\n",
       "    </tr>\n",
       "    <tr>\n",
       "      <th>1</th>\n",
       "      <td>737998257</td>\n",
       "      <td>La Campina</td>\n",
       "      <td>POS</td>\n",
       "      <td>10521045</td>\n",
       "      <td>3.480517</td>\n",
       "      <td>-76.525275</td>\n",
       "      <td>737998257</td>\n",
       "      <td>-5675531380015678594</td>\n",
       "      <td>1</td>\n",
       "      <td>POS</td>\n",
       "      <td>1</td>\n",
       "      <td>5260522.5</td>\n",
       "    </tr>\n",
       "    <tr>\n",
       "      <th>2</th>\n",
       "      <td>737998257</td>\n",
       "      <td>La Campina</td>\n",
       "      <td>POS</td>\n",
       "      <td>10521045</td>\n",
       "      <td>3.480517</td>\n",
       "      <td>-76.525275</td>\n",
       "      <td>737998257</td>\n",
       "      <td>-5066077049535851626</td>\n",
       "      <td>1</td>\n",
       "      <td>POS</td>\n",
       "      <td>1</td>\n",
       "      <td>5260522.5</td>\n",
       "    </tr>\n",
       "    <tr>\n",
       "      <th>3</th>\n",
       "      <td>737998257</td>\n",
       "      <td>La Campina</td>\n",
       "      <td>POS</td>\n",
       "      <td>13238282</td>\n",
       "      <td>3.479491</td>\n",
       "      <td>-76.525818</td>\n",
       "      <td>737998257</td>\n",
       "      <td>-5791329717693361241</td>\n",
       "      <td>1</td>\n",
       "      <td>POS</td>\n",
       "      <td>1</td>\n",
       "      <td>6619141.0</td>\n",
       "    </tr>\n",
       "    <tr>\n",
       "      <th>4</th>\n",
       "      <td>737998257</td>\n",
       "      <td>La Campina</td>\n",
       "      <td>POS</td>\n",
       "      <td>12567517</td>\n",
       "      <td>3.480958</td>\n",
       "      <td>-76.525153</td>\n",
       "      <td>737998257</td>\n",
       "      <td>-397966594878551344</td>\n",
       "      <td>1</td>\n",
       "      <td>POS</td>\n",
       "      <td>1</td>\n",
       "      <td>6283758.5</td>\n",
       "    </tr>\n",
       "  </tbody>\n",
       "</table>\n",
       "</div>"
      ],
      "text/plain": [
       "      codigo      nombre tipo  cod_dispositivo   latitud   longitud  \\\n",
       "0  737998257  La Campina  POS         12202503  3.479572 -76.525582   \n",
       "1  737998257  La Campina  POS         10521045  3.480517 -76.525275   \n",
       "2  737998257  La Campina  POS         10521045  3.480517 -76.525275   \n",
       "3  737998257  La Campina  POS         13238282  3.479491 -76.525818   \n",
       "4  737998257  La Campina  POS         12567517  3.480958 -76.525153   \n",
       "\n",
       "   id_barrio              num_doc  tipo_doc canal  num_trx  mnt_total_trx  \n",
       "0  737998257 -2393994463924208659         1   POS        2     12202503.0  \n",
       "1  737998257 -5675531380015678594         1   POS        1      5260522.5  \n",
       "2  737998257 -5066077049535851626         1   POS        1      5260522.5  \n",
       "3  737998257 -5791329717693361241         1   POS        1      6619141.0  \n",
       "4  737998257  -397966594878551344         1   POS        1      6283758.5  "
      ]
     },
     "execution_count": 14,
     "metadata": {},
     "output_type": "execute_result"
    }
   ],
   "source": [
    "df_join.head()"
   ]
  },
  {
   "cell_type": "code",
   "execution_count": 15,
   "id": "003dfa69-b00d-4fb5-97d6-f2f51da0d712",
   "metadata": {},
   "outputs": [
    {
     "data": {
      "text/plain": [
       "codigo               int64\n",
       "nombre              object\n",
       "tipo                object\n",
       "cod_dispositivo      int64\n",
       "latitud            float64\n",
       "longitud           float64\n",
       "id_barrio            int64\n",
       "num_doc              int64\n",
       "tipo_doc             int64\n",
       "canal               object\n",
       "num_trx              int64\n",
       "mnt_total_trx      float64\n",
       "dtype: object"
      ]
     },
     "execution_count": 15,
     "metadata": {},
     "output_type": "execute_result"
    }
   ],
   "source": [
    "df_join.dtypes"
   ]
  },
  {
   "cell_type": "markdown",
   "id": "3ff06baa-0c77-47c5-b5e3-c1782ee3c15e",
   "metadata": {},
   "source": [
    "A simple vista podemos observar que el conjunto de datos contiene el registro de transacciones realizadas en diferentes puntos de servicio de distintos barrios y los montos de las mismas.\n",
    "\n",
    "En aras de un análisis más completo que nos permita comprender mejor el conjunto de datos surgen varios interrogantes:\n",
    "\n",
    "*¿A qué ciudad pertenecen los barrios que aparecen en el conjunto de datos? ¿cuál es su nivel socioeconómico?*\n",
    "\n",
    "La primera parte del análisis estará centrada en levantar la información faltante, limpiar y preparar los datos para el análisis."
   ]
  },
  {
   "cell_type": "markdown",
   "id": "ebfb00ac-5edc-43a4-a5de-437fef922fbe",
   "metadata": {},
   "source": [
    "**1.1 Conociendo la ciudad de los datos.**\n",
    "\n",
    "Para este punto, partiremos de las coordenadas que contiene el dataset."
   ]
  },
  {
   "cell_type": "code",
   "execution_count": 16,
   "id": "2df2443c-b4e1-42eb-b652-98137ad62456",
   "metadata": {},
   "outputs": [
    {
     "name": "stdout",
     "output_type": "stream",
     "text": [
      "Requirement already satisfied: reverse_geocoder in /home/miguelsosa/anaconda3/lib/python3.9/site-packages (1.5.1)\n",
      "Requirement already satisfied: numpy>=1.11.0 in /home/miguelsosa/anaconda3/lib/python3.9/site-packages (from reverse_geocoder) (1.21.5)\n",
      "Requirement already satisfied: scipy>=0.17.1 in /home/miguelsosa/anaconda3/lib/python3.9/site-packages (from reverse_geocoder) (1.9.1)\n",
      "Note: you may need to restart the kernel to use updated packages.\n"
     ]
    }
   ],
   "source": [
    "pip install reverse_geocoder"
   ]
  },
  {
   "cell_type": "code",
   "execution_count": 17,
   "id": "2a5a935a-78fb-4fca-bd1e-50583a80f3cf",
   "metadata": {},
   "outputs": [],
   "source": [
    "import reverse_geocoder as rg"
   ]
  },
  {
   "cell_type": "code",
   "execution_count": 18,
   "id": "aa9743a4-6641-4ab9-bf21-872df50fb8ed",
   "metadata": {},
   "outputs": [
    {
     "name": "stdout",
     "output_type": "stream",
     "text": [
      "Loading formatted geocoded file...\n"
     ]
    },
    {
     "data": {
      "text/plain": [
       "[{'lat': '3.43722',\n",
       "  'lon': '-76.5225',\n",
       "  'name': 'Cali',\n",
       "  'admin1': 'Valle del Cauca',\n",
       "  'admin2': '',\n",
       "  'cc': 'CO'}]"
      ]
     },
     "execution_count": 18,
     "metadata": {},
     "output_type": "execute_result"
    }
   ],
   "source": [
    "coordinate = (3.403659, -76.530091)\n",
    "rg.search(coordinate) #La función rg.search devuelve un diccionario con la información de las coordenadas proporcionadas "
   ]
  },
  {
   "cell_type": "markdown",
   "id": "bb225e0c-97aa-430a-bfa4-ecc65514226b",
   "metadata": {},
   "source": [
    "Dado que la función se aplica a Tuplas, es necesario crear una columna en el dataframe con una tupla que contenga la latitud y la longitud:"
   ]
  },
  {
   "cell_type": "code",
   "execution_count": 19,
   "id": "c957ed5d-8812-4aa4-a2bb-92caa4047564",
   "metadata": {},
   "outputs": [],
   "source": [
    "def obtener_ubicacion(latitud, longitud): \n",
    "    return (latitud, longitud)"
   ]
  },
  {
   "cell_type": "code",
   "execution_count": 20,
   "id": "631f2fe0-a8d2-4ff0-8f81-52fbaea7bf64",
   "metadata": {},
   "outputs": [],
   "source": [
    "df_join['ubicacion'] = df_join.apply(lambda df: obtener_ubicacion(df['latitud'], df['longitud']), axis = 1)"
   ]
  },
  {
   "cell_type": "markdown",
   "id": "06d0cb64-750b-45f1-89bd-e05c4ac5ad31",
   "metadata": {},
   "source": [
    "Teniendo en cuenta que la función *rg.search()* devuelve una lista que contiene un diccionario con diferentes datos de acuerdo a la ubicación, es necesario crear una función que retorne únicamente el valor de la clave *'name'* para posteriormente aplicarla a los datos."
   ]
  },
  {
   "cell_type": "code",
   "execution_count": 21,
   "id": "89cb4f04-a164-4037-8542-216072303c77",
   "metadata": {},
   "outputs": [],
   "source": [
    "def obtener_ciudad(ubicacion):\n",
    "    return rg.search(ubicacion)[0]['name']"
   ]
  },
  {
   "cell_type": "code",
   "execution_count": 22,
   "id": "19538128-578a-424d-8430-ccb215bd51ac",
   "metadata": {},
   "outputs": [],
   "source": [
    "#df_join['ciudad'] = df_join.apply(lambda df: obtener_ciudad(df['ubicacion']), axis = 1)"
   ]
  },
  {
   "cell_type": "markdown",
   "id": "0a4aff3f-30c3-4dfe-a9db-83d752eda781",
   "metadata": {},
   "source": [
    " Aplicarlo al dataframe principal tiene un costo de memoria muy alto, por lo cual es necesario realizar unos pasos adicionales:"
   ]
  },
  {
   "cell_type": "markdown",
   "id": "41287e2a-d8e5-483e-95a2-16fc5890af52",
   "metadata": {},
   "source": [
    "**-** Definimos un subdataframe con la información de los barrios y su ubicación"
   ]
  },
  {
   "cell_type": "code",
   "execution_count": 23,
   "id": "3b2cc515-587d-4c46-86e7-908c71693533",
   "metadata": {},
   "outputs": [],
   "source": [
    "df_barrios_ubic = (\n",
    "    df_join[['nombre', 'ubicacion']] #Subdataframe con el nombre y la ubicación del barrio\n",
    "    .groupby('nombre', as_index = False) #Agrupo por nombre de barrio \n",
    "    .first() #Tomo solo la primera ubicación (todas arrojarían la misma ciudad)\n",
    ")"
   ]
  },
  {
   "cell_type": "markdown",
   "id": "a404df5a-1e07-470a-8c25-278407d74343",
   "metadata": {},
   "source": [
    "Ahora el costo de memoria de aplicar la función *obtener_ciudad* es menor:"
   ]
  },
  {
   "cell_type": "code",
   "execution_count": 24,
   "id": "5e1db8e8-13a3-4218-b5d9-d9a4076ba10c",
   "metadata": {},
   "outputs": [
    {
     "data": {
      "text/html": [
       "<div>\n",
       "<style scoped>\n",
       "    .dataframe tbody tr th:only-of-type {\n",
       "        vertical-align: middle;\n",
       "    }\n",
       "\n",
       "    .dataframe tbody tr th {\n",
       "        vertical-align: top;\n",
       "    }\n",
       "\n",
       "    .dataframe thead th {\n",
       "        text-align: right;\n",
       "    }\n",
       "</style>\n",
       "<table border=\"1\" class=\"dataframe\">\n",
       "  <thead>\n",
       "    <tr style=\"text-align: right;\">\n",
       "      <th></th>\n",
       "      <th>nombre</th>\n",
       "      <th>ubicacion</th>\n",
       "      <th>ciudad</th>\n",
       "    </tr>\n",
       "  </thead>\n",
       "  <tbody>\n",
       "    <tr>\n",
       "      <th>0</th>\n",
       "      <td>12 de Octubre</td>\n",
       "      <td>(3.427925, -76.501541)</td>\n",
       "      <td>Cali</td>\n",
       "    </tr>\n",
       "    <tr>\n",
       "      <th>1</th>\n",
       "      <td>20 de Julio</td>\n",
       "      <td>(3.43627671667, -76.5128989173)</td>\n",
       "      <td>Cali</td>\n",
       "    </tr>\n",
       "    <tr>\n",
       "      <th>2</th>\n",
       "      <td>3 de Julio</td>\n",
       "      <td>(3.430406808, -76.5390441)</td>\n",
       "      <td>Cali</td>\n",
       "    </tr>\n",
       "    <tr>\n",
       "      <th>3</th>\n",
       "      <td>Acueducto San Antonio</td>\n",
       "      <td>(3.446740019, -76.54089095)</td>\n",
       "      <td>Cali</td>\n",
       "    </tr>\n",
       "    <tr>\n",
       "      <th>4</th>\n",
       "      <td>Aguablanca</td>\n",
       "      <td>(3.431530347, -76.51957472)</td>\n",
       "      <td>Cali</td>\n",
       "    </tr>\n",
       "  </tbody>\n",
       "</table>\n",
       "</div>"
      ],
      "text/plain": [
       "                  nombre                        ubicacion ciudad\n",
       "0          12 de Octubre           (3.427925, -76.501541)   Cali\n",
       "1            20 de Julio  (3.43627671667, -76.5128989173)   Cali\n",
       "2             3 de Julio       (3.430406808, -76.5390441)   Cali\n",
       "3  Acueducto San Antonio      (3.446740019, -76.54089095)   Cali\n",
       "4             Aguablanca      (3.431530347, -76.51957472)   Cali"
      ]
     },
     "execution_count": 24,
     "metadata": {},
     "output_type": "execute_result"
    }
   ],
   "source": [
    "df_barrios_ubic['ciudad'] = (df_barrios_ubic\n",
    "                             .apply(\n",
    "                                 lambda df: obtener_ciudad(df['ubicacion']), #Aplico la función al Dataframe\n",
    "                                 axis = 1  #Indico que debe iterar a través de la columna\n",
    "                             )\n",
    ")\n",
    "\n",
    "df_barrios_ubic.head()"
   ]
  },
  {
   "cell_type": "code",
   "execution_count": 25,
   "id": "f854323a-c61d-4e9a-b08e-1a5b346676ae",
   "metadata": {},
   "outputs": [
    {
     "data": {
      "text/plain": [
       "Cali       276\n",
       "Jamundi      1\n",
       "Name: ciudad, dtype: int64"
      ]
     },
     "execution_count": 25,
     "metadata": {},
     "output_type": "execute_result"
    }
   ],
   "source": [
    "(\n",
    "    df_barrios_ubic\n",
    "    .ciudad\n",
    "    .value_counts()\n",
    ")"
   ]
  },
  {
   "cell_type": "code",
   "execution_count": 26,
   "id": "9ef7b5ae-b4f1-4b24-bade-6cd0b017b2be",
   "metadata": {},
   "outputs": [
    {
     "data": {
      "text/html": [
       "<div>\n",
       "<style scoped>\n",
       "    .dataframe tbody tr th:only-of-type {\n",
       "        vertical-align: middle;\n",
       "    }\n",
       "\n",
       "    .dataframe tbody tr th {\n",
       "        vertical-align: top;\n",
       "    }\n",
       "\n",
       "    .dataframe thead th {\n",
       "        text-align: right;\n",
       "    }\n",
       "</style>\n",
       "<table border=\"1\" class=\"dataframe\">\n",
       "  <thead>\n",
       "    <tr style=\"text-align: right;\">\n",
       "      <th></th>\n",
       "      <th>nombre</th>\n",
       "      <th>ubicacion</th>\n",
       "      <th>ciudad</th>\n",
       "    </tr>\n",
       "  </thead>\n",
       "  <tbody>\n",
       "    <tr>\n",
       "      <th>187</th>\n",
       "      <td>Parcelaciones Pance</td>\n",
       "      <td>(3.34869394999, -76.5305870537)</td>\n",
       "      <td>Jamundi</td>\n",
       "    </tr>\n",
       "  </tbody>\n",
       "</table>\n",
       "</div>"
      ],
      "text/plain": [
       "                  nombre                        ubicacion   ciudad\n",
       "187  Parcelaciones Pance  (3.34869394999, -76.5305870537)  Jamundi"
      ]
     },
     "execution_count": 26,
     "metadata": {},
     "output_type": "execute_result"
    }
   ],
   "source": [
    "df_barrios_ubic.query('ciudad == \"Jamundi\"')"
   ]
  },
  {
   "cell_type": "markdown",
   "id": "bbdc406f-ae57-4eef-b2e4-d732ef94b94d",
   "metadata": {},
   "source": [
    "Al verificar en la web, las Parcelaciones de Pance están ubicadas en la ciudad de Cali, por lo que procedemos a corregir el dato y a confirmar que todo el conjunto de datos está centrado en la actividad de los puntos de servicio de la ciudad de Cali, información importante para el análisis."
   ]
  },
  {
   "cell_type": "code",
   "execution_count": 27,
   "id": "9904bbb6-5d1d-44c6-b180-57c059308ddc",
   "metadata": {},
   "outputs": [],
   "source": [
    "cond = df_barrios_ubic.loc[:,'ciudad'] == 'Jamundi'"
   ]
  },
  {
   "cell_type": "code",
   "execution_count": 28,
   "id": "60a66830-479c-4f93-b203-c8afe5f2b0a2",
   "metadata": {},
   "outputs": [],
   "source": [
    "df_barrios_ubic.loc[cond, 'ciudad'] = 'Cali'"
   ]
  },
  {
   "cell_type": "code",
   "execution_count": 29,
   "id": "01359cb3-2717-4318-99cb-6e18552dc29b",
   "metadata": {},
   "outputs": [
    {
     "data": {
      "text/plain": [
       "Cali    277\n",
       "Name: ciudad, dtype: int64"
      ]
     },
     "execution_count": 29,
     "metadata": {},
     "output_type": "execute_result"
    }
   ],
   "source": [
    "(\n",
    "    df_barrios_ubic\n",
    "    .ciudad\n",
    "    .value_counts()\n",
    ")"
   ]
  },
  {
   "cell_type": "markdown",
   "id": "478ca669-bf2f-46f1-966c-e49f34b2ae91",
   "metadata": {},
   "source": [
    "Teniendo en cuenta que solo tenemos datos de una ciudad y, en aras de optimizar el gasto de memoria, para este ejercicio sería inoficioso hacer el merge de la ciudad con el conjunto de datos principal, por lo que omitiremos este paso."
   ]
  },
  {
   "cell_type": "markdown",
   "id": "14da6ff9-14f5-4f6a-9bad-1f8e4ca6f837",
   "metadata": {},
   "source": [
    "**1.2. Conociendo la segmentación socioeconómica del conjunto de datos** "
   ]
  },
  {
   "cell_type": "markdown",
   "id": "4294bd18-2d0a-4c3a-8e89-d855b1c8066c",
   "metadata": {},
   "source": [
    "Teniendo en cuenta que conocemos el barrio y la ciudad presentes en el conjunto de datos, puede ser de suma importancia conocer la segmentación socio-económica.\n",
    "\n",
    "Para ello, utilizaré datos sobre *Estratificación socioeconómica según estrato, en Cali* descargados del portal [datos.gov.co](https://www.datos.gov.co/widgets/pfix-sugc)"
   ]
  },
  {
   "cell_type": "code",
   "execution_count": 30,
   "id": "a7d5ec63-f77b-4e88-996b-4071064227dc",
   "metadata": {},
   "outputs": [
    {
     "data": {
      "text/html": [
       "<div>\n",
       "<style scoped>\n",
       "    .dataframe tbody tr th:only-of-type {\n",
       "        vertical-align: middle;\n",
       "    }\n",
       "\n",
       "    .dataframe tbody tr th {\n",
       "        vertical-align: top;\n",
       "    }\n",
       "\n",
       "    .dataframe thead th {\n",
       "        text-align: right;\n",
       "    }\n",
       "</style>\n",
       "<table border=\"1\" class=\"dataframe\">\n",
       "  <thead>\n",
       "    <tr style=\"text-align: right;\">\n",
       "      <th></th>\n",
       "      <th>Código único</th>\n",
       "      <th>Barrio</th>\n",
       "      <th>Lados de manzana por estrato 1</th>\n",
       "      <th>Lados de manzana por estrato 2</th>\n",
       "      <th>Lados de manzana por estrato 3</th>\n",
       "      <th>Lados de manzana por estrato 4</th>\n",
       "      <th>Lados de manzana por estrato 5</th>\n",
       "      <th>Lados de manzana por estrato 6</th>\n",
       "      <th>Sin vivienda</th>\n",
       "      <th>Estrato moda</th>\n",
       "    </tr>\n",
       "  </thead>\n",
       "  <tbody>\n",
       "    <tr>\n",
       "      <th>0</th>\n",
       "      <td>101</td>\n",
       "      <td>Terrón Colorado</td>\n",
       "      <td>84</td>\n",
       "      <td>309</td>\n",
       "      <td>-</td>\n",
       "      <td>-</td>\n",
       "      <td>-</td>\n",
       "      <td>2</td>\n",
       "      <td>43</td>\n",
       "      <td>2</td>\n",
       "    </tr>\n",
       "    <tr>\n",
       "      <th>1</th>\n",
       "      <td>102</td>\n",
       "      <td>Vista Hermosa</td>\n",
       "      <td>199</td>\n",
       "      <td>18</td>\n",
       "      <td>-</td>\n",
       "      <td>-</td>\n",
       "      <td>-</td>\n",
       "      <td>-</td>\n",
       "      <td>30</td>\n",
       "      <td>1</td>\n",
       "    </tr>\n",
       "    <tr>\n",
       "      <th>2</th>\n",
       "      <td>196</td>\n",
       "      <td>Patio Bonito</td>\n",
       "      <td>161</td>\n",
       "      <td>-</td>\n",
       "      <td>-</td>\n",
       "      <td>-</td>\n",
       "      <td>-</td>\n",
       "      <td>-</td>\n",
       "      <td>37</td>\n",
       "      <td>1</td>\n",
       "    </tr>\n",
       "    <tr>\n",
       "      <th>3</th>\n",
       "      <td>199</td>\n",
       "      <td>Aguacatal</td>\n",
       "      <td>209</td>\n",
       "      <td>23</td>\n",
       "      <td>4</td>\n",
       "      <td>5</td>\n",
       "      <td>1</td>\n",
       "      <td>4</td>\n",
       "      <td>59</td>\n",
       "      <td>1</td>\n",
       "    </tr>\n",
       "    <tr>\n",
       "      <th>4</th>\n",
       "      <td>201</td>\n",
       "      <td>Santa Rita</td>\n",
       "      <td>-</td>\n",
       "      <td>-</td>\n",
       "      <td>-</td>\n",
       "      <td>2</td>\n",
       "      <td>6</td>\n",
       "      <td>30</td>\n",
       "      <td>3</td>\n",
       "      <td>6</td>\n",
       "    </tr>\n",
       "  </tbody>\n",
       "</table>\n",
       "</div>"
      ],
      "text/plain": [
       "  Código único           Barrio Lados de manzana por estrato 1  \\\n",
       "0          101  Terrón Colorado                             84   \n",
       "1          102    Vista Hermosa                            199   \n",
       "2          196     Patio Bonito                            161   \n",
       "3          199        Aguacatal                            209   \n",
       "4          201       Santa Rita                              -   \n",
       "\n",
       "  Lados de manzana por estrato 2 Lados de manzana por estrato 3  \\\n",
       "0                            309                              -   \n",
       "1                             18                              -   \n",
       "2                              -                              -   \n",
       "3                             23                              4   \n",
       "4                              -                              -   \n",
       "\n",
       "  Lados de manzana por estrato 4 Lados de manzana por estrato 5  \\\n",
       "0                              -                              -   \n",
       "1                              -                              -   \n",
       "2                              -                              -   \n",
       "3                              5                              1   \n",
       "4                              2                              6   \n",
       "\n",
       "  Lados de manzana por estrato 6 Sin vivienda Estrato moda  \n",
       "0                              2           43            2  \n",
       "1                              -           30            1  \n",
       "2                              -           37            1  \n",
       "3                              4           59            1  \n",
       "4                             30            3            6  "
      ]
     },
     "execution_count": 30,
     "metadata": {},
     "output_type": "execute_result"
    }
   ],
   "source": [
    "estratificacion_cali = pd.read_csv('estratificacion_cali.csv')\n",
    "estratificacion_cali.head()"
   ]
  },
  {
   "cell_type": "markdown",
   "id": "4b705e5b-021e-4e22-bac5-903101c5fc03",
   "metadata": {},
   "source": [
    "Teniendo en cuenta que hay diferentes estratos sociales en un barrio de acuerdo a los sectores del mismo, utilizaremos como definitivo el *Estrato moda*, es decir, el valor que más se repite."
   ]
  },
  {
   "cell_type": "code",
   "execution_count": 31,
   "id": "0a98af79-83e7-453b-8e21-5ff79e40f87f",
   "metadata": {},
   "outputs": [
    {
     "data": {
      "text/plain": [
       "Index(['Código único', 'Barrio', 'Lados de manzana por estrato 1',\n",
       "       'Lados de manzana por estrato 2', 'Lados de manzana por estrato 3',\n",
       "       'Lados de manzana por estrato 4', 'Lados de manzana por estrato 5',\n",
       "       'Lados de manzana por estrato 6', 'Sin vivienda', 'Estrato moda'],\n",
       "      dtype='object')"
      ]
     },
     "execution_count": 31,
     "metadata": {},
     "output_type": "execute_result"
    }
   ],
   "source": [
    "estratificacion_cali.columns"
   ]
  },
  {
   "cell_type": "code",
   "execution_count": 32,
   "id": "b8a89cbd-e584-4e3e-b54d-432236fc91a9",
   "metadata": {},
   "outputs": [],
   "source": [
    "#Depuramos datos innecesarios\n",
    "\n",
    "estratificacion_cali = estratificacion_cali[['Barrio', 'Estrato moda']]"
   ]
  },
  {
   "cell_type": "code",
   "execution_count": 33,
   "id": "c1015331-8610-4091-8549-c076b2ecd147",
   "metadata": {},
   "outputs": [],
   "source": [
    "#Renombramos las columnas\n",
    "\n",
    "estratificacion_cali.columns = ['nombre', 'estrato']"
   ]
  },
  {
   "cell_type": "code",
   "execution_count": 34,
   "id": "6fd76ae6-fb80-4827-83cb-1b5ea643ffb6",
   "metadata": {},
   "outputs": [
    {
     "data": {
      "text/html": [
       "<div>\n",
       "<style scoped>\n",
       "    .dataframe tbody tr th:only-of-type {\n",
       "        vertical-align: middle;\n",
       "    }\n",
       "\n",
       "    .dataframe tbody tr th {\n",
       "        vertical-align: top;\n",
       "    }\n",
       "\n",
       "    .dataframe thead th {\n",
       "        text-align: right;\n",
       "    }\n",
       "</style>\n",
       "<table border=\"1\" class=\"dataframe\">\n",
       "  <thead>\n",
       "    <tr style=\"text-align: right;\">\n",
       "      <th></th>\n",
       "      <th>nombre</th>\n",
       "      <th>estrato</th>\n",
       "    </tr>\n",
       "  </thead>\n",
       "  <tbody>\n",
       "    <tr>\n",
       "      <th>0</th>\n",
       "      <td>Terrón Colorado</td>\n",
       "      <td>2</td>\n",
       "    </tr>\n",
       "    <tr>\n",
       "      <th>1</th>\n",
       "      <td>Vista Hermosa</td>\n",
       "      <td>1</td>\n",
       "    </tr>\n",
       "    <tr>\n",
       "      <th>2</th>\n",
       "      <td>Patio Bonito</td>\n",
       "      <td>1</td>\n",
       "    </tr>\n",
       "    <tr>\n",
       "      <th>3</th>\n",
       "      <td>Aguacatal</td>\n",
       "      <td>1</td>\n",
       "    </tr>\n",
       "    <tr>\n",
       "      <th>4</th>\n",
       "      <td>Santa Rita</td>\n",
       "      <td>6</td>\n",
       "    </tr>\n",
       "  </tbody>\n",
       "</table>\n",
       "</div>"
      ],
      "text/plain": [
       "            nombre estrato\n",
       "0  Terrón Colorado       2\n",
       "1    Vista Hermosa       1\n",
       "2     Patio Bonito       1\n",
       "3        Aguacatal       1\n",
       "4       Santa Rita       6"
      ]
     },
     "execution_count": 34,
     "metadata": {},
     "output_type": "execute_result"
    }
   ],
   "source": [
    "estratificacion_cali.head()"
   ]
  },
  {
   "cell_type": "markdown",
   "id": "2a616d43-d61e-4f24-b41c-0945a332eee7",
   "metadata": {},
   "source": [
    "Realizamos el merge con el conjunto de datos principales:"
   ]
  },
  {
   "cell_type": "code",
   "execution_count": 35,
   "id": "b38902ec-08a6-40bc-9b76-bc10d30abe1f",
   "metadata": {},
   "outputs": [
    {
     "data": {
      "text/html": [
       "<div>\n",
       "<style scoped>\n",
       "    .dataframe tbody tr th:only-of-type {\n",
       "        vertical-align: middle;\n",
       "    }\n",
       "\n",
       "    .dataframe tbody tr th {\n",
       "        vertical-align: top;\n",
       "    }\n",
       "\n",
       "    .dataframe thead th {\n",
       "        text-align: right;\n",
       "    }\n",
       "</style>\n",
       "<table border=\"1\" class=\"dataframe\">\n",
       "  <thead>\n",
       "    <tr style=\"text-align: right;\">\n",
       "      <th></th>\n",
       "      <th>codigo</th>\n",
       "      <th>nombre</th>\n",
       "      <th>tipo</th>\n",
       "      <th>cod_dispositivo</th>\n",
       "      <th>latitud</th>\n",
       "      <th>longitud</th>\n",
       "      <th>id_barrio</th>\n",
       "      <th>num_doc</th>\n",
       "      <th>tipo_doc</th>\n",
       "      <th>canal</th>\n",
       "      <th>num_trx</th>\n",
       "      <th>mnt_total_trx</th>\n",
       "      <th>ubicacion</th>\n",
       "      <th>estrato</th>\n",
       "    </tr>\n",
       "  </thead>\n",
       "  <tbody>\n",
       "    <tr>\n",
       "      <th>0</th>\n",
       "      <td>737998257</td>\n",
       "      <td>La Campina</td>\n",
       "      <td>POS</td>\n",
       "      <td>12202503</td>\n",
       "      <td>3.479572</td>\n",
       "      <td>-76.525582</td>\n",
       "      <td>737998257</td>\n",
       "      <td>-2393994463924208659</td>\n",
       "      <td>1</td>\n",
       "      <td>POS</td>\n",
       "      <td>2</td>\n",
       "      <td>12202503.0</td>\n",
       "      <td>(3.479572082, -76.52558242)</td>\n",
       "      <td>NaN</td>\n",
       "    </tr>\n",
       "    <tr>\n",
       "      <th>1</th>\n",
       "      <td>737998257</td>\n",
       "      <td>La Campina</td>\n",
       "      <td>POS</td>\n",
       "      <td>10521045</td>\n",
       "      <td>3.480517</td>\n",
       "      <td>-76.525275</td>\n",
       "      <td>737998257</td>\n",
       "      <td>-5675531380015678594</td>\n",
       "      <td>1</td>\n",
       "      <td>POS</td>\n",
       "      <td>1</td>\n",
       "      <td>5260522.5</td>\n",
       "      <td>(3.480516553, -76.52527472)</td>\n",
       "      <td>NaN</td>\n",
       "    </tr>\n",
       "    <tr>\n",
       "      <th>2</th>\n",
       "      <td>737998257</td>\n",
       "      <td>La Campina</td>\n",
       "      <td>POS</td>\n",
       "      <td>10521045</td>\n",
       "      <td>3.480517</td>\n",
       "      <td>-76.525275</td>\n",
       "      <td>737998257</td>\n",
       "      <td>-5066077049535851626</td>\n",
       "      <td>1</td>\n",
       "      <td>POS</td>\n",
       "      <td>1</td>\n",
       "      <td>5260522.5</td>\n",
       "      <td>(3.480516553, -76.52527472)</td>\n",
       "      <td>NaN</td>\n",
       "    </tr>\n",
       "    <tr>\n",
       "      <th>3</th>\n",
       "      <td>737998257</td>\n",
       "      <td>La Campina</td>\n",
       "      <td>POS</td>\n",
       "      <td>13238282</td>\n",
       "      <td>3.479491</td>\n",
       "      <td>-76.525818</td>\n",
       "      <td>737998257</td>\n",
       "      <td>-5791329717693361241</td>\n",
       "      <td>1</td>\n",
       "      <td>POS</td>\n",
       "      <td>1</td>\n",
       "      <td>6619141.0</td>\n",
       "      <td>(3.47949063002, -76.5258184734)</td>\n",
       "      <td>NaN</td>\n",
       "    </tr>\n",
       "    <tr>\n",
       "      <th>4</th>\n",
       "      <td>737998257</td>\n",
       "      <td>La Campina</td>\n",
       "      <td>POS</td>\n",
       "      <td>12567517</td>\n",
       "      <td>3.480958</td>\n",
       "      <td>-76.525153</td>\n",
       "      <td>737998257</td>\n",
       "      <td>-397966594878551344</td>\n",
       "      <td>1</td>\n",
       "      <td>POS</td>\n",
       "      <td>1</td>\n",
       "      <td>6283758.5</td>\n",
       "      <td>(3.480957671, -76.52515269)</td>\n",
       "      <td>NaN</td>\n",
       "    </tr>\n",
       "  </tbody>\n",
       "</table>\n",
       "</div>"
      ],
      "text/plain": [
       "      codigo      nombre tipo  cod_dispositivo   latitud   longitud  \\\n",
       "0  737998257  La Campina  POS         12202503  3.479572 -76.525582   \n",
       "1  737998257  La Campina  POS         10521045  3.480517 -76.525275   \n",
       "2  737998257  La Campina  POS         10521045  3.480517 -76.525275   \n",
       "3  737998257  La Campina  POS         13238282  3.479491 -76.525818   \n",
       "4  737998257  La Campina  POS         12567517  3.480958 -76.525153   \n",
       "\n",
       "   id_barrio              num_doc  tipo_doc canal  num_trx  mnt_total_trx  \\\n",
       "0  737998257 -2393994463924208659         1   POS        2     12202503.0   \n",
       "1  737998257 -5675531380015678594         1   POS        1      5260522.5   \n",
       "2  737998257 -5066077049535851626         1   POS        1      5260522.5   \n",
       "3  737998257 -5791329717693361241         1   POS        1      6619141.0   \n",
       "4  737998257  -397966594878551344         1   POS        1      6283758.5   \n",
       "\n",
       "                         ubicacion estrato  \n",
       "0      (3.479572082, -76.52558242)     NaN  \n",
       "1      (3.480516553, -76.52527472)     NaN  \n",
       "2      (3.480516553, -76.52527472)     NaN  \n",
       "3  (3.47949063002, -76.5258184734)     NaN  \n",
       "4      (3.480957671, -76.52515269)     NaN  "
      ]
     },
     "execution_count": 35,
     "metadata": {},
     "output_type": "execute_result"
    }
   ],
   "source": [
    "df_join_merged = pd.merge(df_join, estratificacion_cali, on = 'nombre', how = 'left')\n",
    "df_join_merged.head()"
   ]
  },
  {
   "cell_type": "code",
   "execution_count": 36,
   "id": "6c2e74b3-5116-478e-b211-afdca2056cf8",
   "metadata": {},
   "outputs": [
    {
     "data": {
      "text/html": [
       "<div>\n",
       "<style scoped>\n",
       "    .dataframe tbody tr th:only-of-type {\n",
       "        vertical-align: middle;\n",
       "    }\n",
       "\n",
       "    .dataframe tbody tr th {\n",
       "        vertical-align: top;\n",
       "    }\n",
       "\n",
       "    .dataframe thead th {\n",
       "        text-align: right;\n",
       "    }\n",
       "</style>\n",
       "<table border=\"1\" class=\"dataframe\">\n",
       "  <thead>\n",
       "    <tr style=\"text-align: right;\">\n",
       "      <th></th>\n",
       "      <th>codigo</th>\n",
       "      <th>nombre</th>\n",
       "      <th>tipo</th>\n",
       "      <th>cod_dispositivo</th>\n",
       "      <th>latitud</th>\n",
       "      <th>longitud</th>\n",
       "      <th>id_barrio</th>\n",
       "      <th>num_doc</th>\n",
       "      <th>tipo_doc</th>\n",
       "      <th>canal</th>\n",
       "      <th>num_trx</th>\n",
       "      <th>mnt_total_trx</th>\n",
       "      <th>ubicacion</th>\n",
       "      <th>estrato</th>\n",
       "    </tr>\n",
       "  </thead>\n",
       "  <tbody>\n",
       "    <tr>\n",
       "      <th>53349</th>\n",
       "      <td>737997005</td>\n",
       "      <td>Villa del Prado-El Guabito</td>\n",
       "      <td>DISPENSADOR</td>\n",
       "      <td>2138</td>\n",
       "      <td>3.470006</td>\n",
       "      <td>-76.486380</td>\n",
       "      <td>737997005</td>\n",
       "      <td>-843383718521949814</td>\n",
       "      <td>1</td>\n",
       "      <td>DISPENSADOR</td>\n",
       "      <td>4</td>\n",
       "      <td>4276.0</td>\n",
       "      <td>(3.47000615, -76.48637994)</td>\n",
       "      <td>NaN</td>\n",
       "    </tr>\n",
       "    <tr>\n",
       "      <th>50513</th>\n",
       "      <td>737996845</td>\n",
       "      <td>Buenos Aires</td>\n",
       "      <td>DISPENSADOR</td>\n",
       "      <td>342</td>\n",
       "      <td>3.393854</td>\n",
       "      <td>-76.548712</td>\n",
       "      <td>737996845</td>\n",
       "      <td>1790302246259745285</td>\n",
       "      <td>1</td>\n",
       "      <td>DISPENSADOR</td>\n",
       "      <td>1</td>\n",
       "      <td>171.0</td>\n",
       "      <td>(3.39385376, -76.54871181)</td>\n",
       "      <td>3</td>\n",
       "    </tr>\n",
       "    <tr>\n",
       "      <th>37768</th>\n",
       "      <td>737998082</td>\n",
       "      <td>Barrio Eucarístico</td>\n",
       "      <td>DISPENSADOR</td>\n",
       "      <td>2716</td>\n",
       "      <td>3.422919</td>\n",
       "      <td>-76.542669</td>\n",
       "      <td>737998082</td>\n",
       "      <td>-3846181601396181402</td>\n",
       "      <td>1</td>\n",
       "      <td>DISPENSADOR</td>\n",
       "      <td>2</td>\n",
       "      <td>2716.0</td>\n",
       "      <td>(3.42291911, -76.54266918)</td>\n",
       "      <td>4</td>\n",
       "    </tr>\n",
       "    <tr>\n",
       "      <th>49369</th>\n",
       "      <td>737996834</td>\n",
       "      <td>Caldas</td>\n",
       "      <td>DISPENSADOR</td>\n",
       "      <td>3925</td>\n",
       "      <td>3.393595</td>\n",
       "      <td>-76.552530</td>\n",
       "      <td>737996834</td>\n",
       "      <td>-4177983059023293923</td>\n",
       "      <td>2</td>\n",
       "      <td>DISPENSADOR</td>\n",
       "      <td>19</td>\n",
       "      <td>37287.5</td>\n",
       "      <td>(3.39359471, -76.55253004)</td>\n",
       "      <td>NaN</td>\n",
       "    </tr>\n",
       "    <tr>\n",
       "      <th>94541</th>\n",
       "      <td>738000408</td>\n",
       "      <td>Prados del Limonar</td>\n",
       "      <td>DISPENSADOR</td>\n",
       "      <td>3094</td>\n",
       "      <td>3.392324</td>\n",
       "      <td>-76.525430</td>\n",
       "      <td>738000408</td>\n",
       "      <td>-5416583173274023744</td>\n",
       "      <td>1</td>\n",
       "      <td>DISPENSADOR</td>\n",
       "      <td>1</td>\n",
       "      <td>1547.0</td>\n",
       "      <td>(3.39232432, -76.52543034)</td>\n",
       "      <td>4</td>\n",
       "    </tr>\n",
       "    <tr>\n",
       "      <th>64304</th>\n",
       "      <td>737998251</td>\n",
       "      <td>San Vicente</td>\n",
       "      <td>SAI</td>\n",
       "      <td>825</td>\n",
       "      <td>3.467774</td>\n",
       "      <td>-76.527102</td>\n",
       "      <td>737998251</td>\n",
       "      <td>-8521016491914923348</td>\n",
       "      <td>1</td>\n",
       "      <td>SAI</td>\n",
       "      <td>2</td>\n",
       "      <td>825.0</td>\n",
       "      <td>(3.46777401, -76.52710162)</td>\n",
       "      <td>4</td>\n",
       "    </tr>\n",
       "    <tr>\n",
       "      <th>1917</th>\n",
       "      <td>737999419</td>\n",
       "      <td>El Sena</td>\n",
       "      <td>SAI</td>\n",
       "      <td>514</td>\n",
       "      <td>3.465396</td>\n",
       "      <td>-76.501457</td>\n",
       "      <td>737999419</td>\n",
       "      <td>-944652293203170680</td>\n",
       "      <td>1</td>\n",
       "      <td>SAI</td>\n",
       "      <td>6</td>\n",
       "      <td>1542.0</td>\n",
       "      <td>(3.46539605, -76.50145719)</td>\n",
       "      <td>3</td>\n",
       "    </tr>\n",
       "    <tr>\n",
       "      <th>79138</th>\n",
       "      <td>738000377</td>\n",
       "      <td>Unicentro Cali</td>\n",
       "      <td>DISPENSADOR</td>\n",
       "      <td>5762</td>\n",
       "      <td>3.373327</td>\n",
       "      <td>-76.540710</td>\n",
       "      <td>738000377</td>\n",
       "      <td>-3864461473980528986</td>\n",
       "      <td>1</td>\n",
       "      <td>DISPENSADOR</td>\n",
       "      <td>2</td>\n",
       "      <td>5762.0</td>\n",
       "      <td>(3.37332731, -76.54071024)</td>\n",
       "      <td>5</td>\n",
       "    </tr>\n",
       "    <tr>\n",
       "      <th>32900</th>\n",
       "      <td>737998202</td>\n",
       "      <td>Ciudad Los Álamos</td>\n",
       "      <td>POS</td>\n",
       "      <td>10853612</td>\n",
       "      <td>3.484523</td>\n",
       "      <td>-76.512911</td>\n",
       "      <td>737998202</td>\n",
       "      <td>7821924382894937626</td>\n",
       "      <td>1</td>\n",
       "      <td>POS</td>\n",
       "      <td>2</td>\n",
       "      <td>10853612.0</td>\n",
       "      <td>(3.484523024, -76.51291083)</td>\n",
       "      <td>NaN</td>\n",
       "    </tr>\n",
       "    <tr>\n",
       "      <th>55516</th>\n",
       "      <td>737998851</td>\n",
       "      <td>Ciudad Capri</td>\n",
       "      <td>DISPENSADOR</td>\n",
       "      <td>8064</td>\n",
       "      <td>3.392730</td>\n",
       "      <td>-76.544289</td>\n",
       "      <td>737998851</td>\n",
       "      <td>4251358838232561199</td>\n",
       "      <td>1</td>\n",
       "      <td>DISPENSADOR</td>\n",
       "      <td>2</td>\n",
       "      <td>8064.0</td>\n",
       "      <td>(3.39272972, -76.54428937)</td>\n",
       "      <td>5</td>\n",
       "    </tr>\n",
       "  </tbody>\n",
       "</table>\n",
       "</div>"
      ],
      "text/plain": [
       "          codigo                      nombre         tipo  cod_dispositivo  \\\n",
       "53349  737997005  Villa del Prado-El Guabito  DISPENSADOR             2138   \n",
       "50513  737996845                Buenos Aires  DISPENSADOR              342   \n",
       "37768  737998082          Barrio Eucarístico  DISPENSADOR             2716   \n",
       "49369  737996834                      Caldas  DISPENSADOR             3925   \n",
       "94541  738000408          Prados del Limonar  DISPENSADOR             3094   \n",
       "64304  737998251                 San Vicente          SAI              825   \n",
       "1917   737999419                     El Sena          SAI              514   \n",
       "79138  738000377              Unicentro Cali  DISPENSADOR             5762   \n",
       "32900  737998202          Ciudad Los Álamos          POS         10853612   \n",
       "55516  737998851                Ciudad Capri  DISPENSADOR             8064   \n",
       "\n",
       "        latitud   longitud  id_barrio              num_doc  tipo_doc  \\\n",
       "53349  3.470006 -76.486380  737997005  -843383718521949814         1   \n",
       "50513  3.393854 -76.548712  737996845  1790302246259745285         1   \n",
       "37768  3.422919 -76.542669  737998082 -3846181601396181402         1   \n",
       "49369  3.393595 -76.552530  737996834 -4177983059023293923         2   \n",
       "94541  3.392324 -76.525430  738000408 -5416583173274023744         1   \n",
       "64304  3.467774 -76.527102  737998251 -8521016491914923348         1   \n",
       "1917   3.465396 -76.501457  737999419  -944652293203170680         1   \n",
       "79138  3.373327 -76.540710  738000377 -3864461473980528986         1   \n",
       "32900  3.484523 -76.512911  737998202  7821924382894937626         1   \n",
       "55516  3.392730 -76.544289  737998851  4251358838232561199         1   \n",
       "\n",
       "             canal  num_trx  mnt_total_trx                    ubicacion  \\\n",
       "53349  DISPENSADOR        4         4276.0   (3.47000615, -76.48637994)   \n",
       "50513  DISPENSADOR        1          171.0   (3.39385376, -76.54871181)   \n",
       "37768  DISPENSADOR        2         2716.0   (3.42291911, -76.54266918)   \n",
       "49369  DISPENSADOR       19        37287.5   (3.39359471, -76.55253004)   \n",
       "94541  DISPENSADOR        1         1547.0   (3.39232432, -76.52543034)   \n",
       "64304          SAI        2          825.0   (3.46777401, -76.52710162)   \n",
       "1917           SAI        6         1542.0   (3.46539605, -76.50145719)   \n",
       "79138  DISPENSADOR        2         5762.0   (3.37332731, -76.54071024)   \n",
       "32900          POS        2     10853612.0  (3.484523024, -76.51291083)   \n",
       "55516  DISPENSADOR        2         8064.0   (3.39272972, -76.54428937)   \n",
       "\n",
       "      estrato  \n",
       "53349     NaN  \n",
       "50513       3  \n",
       "37768       4  \n",
       "49369     NaN  \n",
       "94541       4  \n",
       "64304       4  \n",
       "1917        3  \n",
       "79138       5  \n",
       "32900     NaN  \n",
       "55516       5  "
      ]
     },
     "execution_count": 36,
     "metadata": {},
     "output_type": "execute_result"
    }
   ],
   "source": [
    "df_join_merged.sample(10)"
   ]
  },
  {
   "cell_type": "markdown",
   "id": "01cdfdcb-06ef-47d2-bcd4-bde18487fe33",
   "metadata": {},
   "source": [
    "Analizando valores nulos."
   ]
  },
  {
   "cell_type": "code",
   "execution_count": 37,
   "id": "a91e882f-c347-4322-b9eb-c477c0233e69",
   "metadata": {},
   "outputs": [
    {
     "data": {
      "text/plain": [
       "codigo             False\n",
       "nombre             False\n",
       "tipo               False\n",
       "cod_dispositivo    False\n",
       "latitud            False\n",
       "longitud           False\n",
       "id_barrio          False\n",
       "num_doc            False\n",
       "tipo_doc           False\n",
       "canal              False\n",
       "num_trx            False\n",
       "mnt_total_trx      False\n",
       "ubicacion          False\n",
       "estrato             True\n",
       "dtype: bool"
      ]
     },
     "execution_count": 37,
     "metadata": {},
     "output_type": "execute_result"
    }
   ],
   "source": [
    "(\n",
    "    df_join_merged\n",
    "    .isnull()\n",
    "    .any()\n",
    ")"
   ]
  },
  {
   "cell_type": "code",
   "execution_count": 38,
   "id": "0af13e58-8746-4c7d-ba6b-e55ef2f825e4",
   "metadata": {},
   "outputs": [
    {
     "data": {
      "text/plain": [
       "<seaborn.axisgrid.FacetGrid at 0x7fb16d884d30>"
      ]
     },
     "execution_count": 38,
     "metadata": {},
     "output_type": "execute_result"
    },
    {
     "data": {
      "image/png": "[encoded data removed]",
      "text/plain": [
       "<Figure size 584.875x500 with 1 Axes>"
      ]
     },
     "metadata": {},
     "output_type": "display_data"
    }
   ],
   "source": [
    "#Proporción de los valores nulos\n",
    "\n",
    "(\n",
    "    df_join_merged\n",
    "    .isnull()\n",
    "    .melt()\n",
    "    .pipe(\n",
    "        lambda df: sns.displot(\n",
    "            data = df,\n",
    "            y = 'variable',\n",
    "            hue = 'value',\n",
    "            multiple = 'fill'\n",
    "        )\n",
    "    )\n",
    ")"
   ]
  },
  {
   "cell_type": "code",
   "execution_count": 39,
   "id": "3b2181ce-0b64-4838-a21a-4f81c3707992",
   "metadata": {},
   "outputs": [
    {
     "data": {
      "text/plain": [
       "codigo                 0\n",
       "nombre                 0\n",
       "tipo                   0\n",
       "cod_dispositivo        0\n",
       "latitud                0\n",
       "longitud               0\n",
       "id_barrio              0\n",
       "num_doc                0\n",
       "tipo_doc               0\n",
       "canal                  0\n",
       "num_trx                0\n",
       "mnt_total_trx          0\n",
       "ubicacion              0\n",
       "estrato            23832\n",
       "dtype: int64"
      ]
     },
     "execution_count": 39,
     "metadata": {},
     "output_type": "execute_result"
    }
   ],
   "source": [
    "(\n",
    "    df_join_merged\n",
    "    .isnull()\n",
    "    .sum()\n",
    ")"
   ]
  },
  {
   "cell_type": "code",
   "execution_count": 40,
   "id": "34d23f0a-8982-4787-bd00-569a4d08188b",
   "metadata": {
    "tags": []
   },
   "outputs": [
    {
     "data": {
      "text/plain": [
       "0.2518972624458303"
      ]
     },
     "execution_count": 40,
     "metadata": {},
     "output_type": "execute_result"
    }
   ],
   "source": [
    "23832 / df_join_merged.shape[0]"
   ]
  },
  {
   "cell_type": "markdown",
   "id": "d05aaab8-c29e-472b-a756-04a2a3136cc6",
   "metadata": {},
   "source": [
    "Teniendo en cuenta que los valores representan un 25.19% de los datos, es necesario encontrar los valores faltantes, pues eliminarlos sería perder gran parte de la muestra."
   ]
  },
  {
   "cell_type": "code",
   "execution_count": 41,
   "id": "f931add0-281a-4d6a-9b45-68ed403b1a08",
   "metadata": {},
   "outputs": [],
   "source": [
    "mask = df_join_merged.loc[:,'estrato'].isnull()"
   ]
  },
  {
   "cell_type": "code",
   "execution_count": 42,
   "id": "3bd4cab5-55cc-4824-aab1-0273ccf08aff",
   "metadata": {},
   "outputs": [
    {
     "data": {
      "text/plain": [
       "array(['La Campina', 'El Trebol', 'Jorge Eliecer Gaitan',\n",
       "       'Altos de Santa Isabel La Morelia', 'Rafael Uribe',\n",
       "       'Alfonso Barberena', 'Paseo de los Almendros', 'Los Parques',\n",
       "       'Departamental', 'Olaya Herrera', 'Bretana', 'Atanasio Girardota',\n",
       "       'Unidad Residencial Santiago de Cali', 'La Rivera',\n",
       "       'Alirio Mora Beltrán', 'Manuel María Buenventura',\n",
       "       'U Dep Galindo Plaza Toros', 'León XII', 'Lleras Restrepo II',\n",
       "       'Santa Bárbara', 'Los Portales-Nuevo Rey', 'Los Alcázares',\n",
       "       'Canaveralejo-Seguros Patria', 'Quintas de Don Simón',\n",
       "       'Guillermo León Valencia', 'Los Andes B-La Riviera',\n",
       "       'San Francisco-Berlín', 'Juanambu', 'Parque de la Caña',\n",
       "       '12 de Octubre', 'Siloe', 'Petecuy II', 'Canaverales Los Samanes',\n",
       "       'San Luis II', 'Cuarto de Legua-Guadalupe', 'Los Comuneros I',\n",
       "       'Ciudad Los Á\\x81lamos', 'San Luis', 'Camino Real-Joaquín Borrero',\n",
       "       'Acueducto San Antonio', 'El Á\\x81ngel del Hogar',\n",
       "       'U Dep Panamericana Ant Hipódromo', 'Villa Blanca',\n",
       "       'José Holguin Garces', 'Pampalinda', 'San Carlos',\n",
       "       'Marco Fidel Suarez', 'Unidad Residencial Bueno Madrid',\n",
       "       'Nueva Granada', 'Manuela Beltrán', 'Alfonso López I',\n",
       "       'Urbanización La Nueva Base', 'Los Comuneros II',\n",
       "       'Urbanización San Juaquín', 'Ville Grande', 'Caldas',\n",
       "       'Nueva Floresta del Ict', 'Los Rubles',\n",
       "       'Villa del Prado-El Guabito', 'Bajos Ciudad Córdoba',\n",
       "       'Alférez Real', 'Mayapan-Las Vegas', 'José M. Córdoba',\n",
       "       'San Cristobal', 'Camino Real-Los Fundadores',\n",
       "       'José Manuel Marroquin II', 'Ciudadela Paso Ancho',\n",
       "       'Cataya-El Gran Limonar', 'José Manuel Marroquin I',\n",
       "       'Unidad Residencial El Coliseo', 'El Paraíso', 'Santa Anita',\n",
       "       'Santa Mónica Residencial', 'Ciudad Talanga',\n",
       "       'La Ciudadela Confandi', 'Á\\x81rea Libre-Parque del Amor',\n",
       "       'Cristobal Colón', 'Promociones Populares',\n",
       "       'Francisco Eladio Ramírez', 'Alto de los Chorros', 'Alto Jordán',\n",
       "       'Esmeralda', 'Junin', 'Ciudad Córdoba', 'Paseo del Comercio',\n",
       "       'Brisas de los Á\\x81lamos', 'Boyacá', 'Alfonso López II',\n",
       "       'Alfonso López III', 'Ciudadela del Río'], dtype=object)"
      ]
     },
     "execution_count": 42,
     "metadata": {},
     "output_type": "execute_result"
    }
   ],
   "source": [
    "df_join_merged.loc[mask, 'nombre'].unique()"
   ]
  },
  {
   "cell_type": "markdown",
   "id": "92ea603d-6150-489d-a95b-442f803abb19",
   "metadata": {},
   "source": [
    "Una hipótesis acerca de la cantidad de valores nulos es que muchos de estos no entran en el merge por asuntos de tildes, mayúsculas, ñ's o, incluso, guiones, por lo que procederé a repetir el ejercicio estandarizando primero los nombres en ambas tablas."
   ]
  },
  {
   "cell_type": "code",
   "execution_count": 43,
   "id": "e586dbc5-8fbe-444b-8077-d229b05e0783",
   "metadata": {},
   "outputs": [],
   "source": [
    "def quitar_tildes(palabra):\n",
    "    '''\n",
    "    La función toma una palabra y la devuelve sin tildes y en formato título\n",
    "    '''\n",
    "    palabra = palabra.lower()\n",
    "    vocales = [['á', 'a'], ['é', 'e'], ['í', 'i'], ['ó', 'o'], ['ú', 'u'], ['-', ' '], ['ñ', 'n']]\n",
    "    for i,j in vocales:\n",
    "        palabra = palabra.replace(i, j)\n",
    "    return palabra.title()"
   ]
  },
  {
   "cell_type": "code",
   "execution_count": 44,
   "id": "43805d91-37fc-42d3-ae99-c2047fbe13e6",
   "metadata": {
    "tags": []
   },
   "outputs": [
    {
     "data": {
      "text/html": [
       "<div>\n",
       "<style scoped>\n",
       "    .dataframe tbody tr th:only-of-type {\n",
       "        vertical-align: middle;\n",
       "    }\n",
       "\n",
       "    .dataframe tbody tr th {\n",
       "        vertical-align: top;\n",
       "    }\n",
       "\n",
       "    .dataframe thead th {\n",
       "        text-align: right;\n",
       "    }\n",
       "</style>\n",
       "<table border=\"1\" class=\"dataframe\">\n",
       "  <thead>\n",
       "    <tr style=\"text-align: right;\">\n",
       "      <th></th>\n",
       "      <th>codigo</th>\n",
       "      <th>nombre</th>\n",
       "      <th>tipo</th>\n",
       "      <th>cod_dispositivo</th>\n",
       "      <th>latitud</th>\n",
       "      <th>longitud</th>\n",
       "      <th>id_barrio</th>\n",
       "      <th>num_doc</th>\n",
       "      <th>tipo_doc</th>\n",
       "      <th>canal</th>\n",
       "      <th>num_trx</th>\n",
       "      <th>mnt_total_trx</th>\n",
       "      <th>ubicacion</th>\n",
       "    </tr>\n",
       "  </thead>\n",
       "  <tbody>\n",
       "    <tr>\n",
       "      <th>35717</th>\n",
       "      <td>738000401</td>\n",
       "      <td>Belalcazar</td>\n",
       "      <td>POS</td>\n",
       "      <td>11491370</td>\n",
       "      <td>3.442750</td>\n",
       "      <td>-76.519279</td>\n",
       "      <td>738000401</td>\n",
       "      <td>-1892600834412867535</td>\n",
       "      <td>1</td>\n",
       "      <td>POS</td>\n",
       "      <td>2</td>\n",
       "      <td>1.149137e+07</td>\n",
       "      <td>(3.44274989723, -76.5192792446)</td>\n",
       "    </tr>\n",
       "    <tr>\n",
       "      <th>8574</th>\n",
       "      <td>737999403</td>\n",
       "      <td>San Fernando Viejo</td>\n",
       "      <td>POS</td>\n",
       "      <td>12504825</td>\n",
       "      <td>3.433307</td>\n",
       "      <td>-76.545798</td>\n",
       "      <td>737999403</td>\n",
       "      <td>-8024857288253197715</td>\n",
       "      <td>1</td>\n",
       "      <td>POS</td>\n",
       "      <td>3</td>\n",
       "      <td>1.875724e+07</td>\n",
       "      <td>(3.433306811, -76.54579764)</td>\n",
       "    </tr>\n",
       "    <tr>\n",
       "      <th>87875</th>\n",
       "      <td>738068452</td>\n",
       "      <td>Junin</td>\n",
       "      <td>SAI</td>\n",
       "      <td>837</td>\n",
       "      <td>3.433815</td>\n",
       "      <td>-76.527896</td>\n",
       "      <td>738068452</td>\n",
       "      <td>843458897897438475</td>\n",
       "      <td>1</td>\n",
       "      <td>SAI</td>\n",
       "      <td>1</td>\n",
       "      <td>4.185000e+02</td>\n",
       "      <td>(3.43381531, -76.52789612)</td>\n",
       "    </tr>\n",
       "    <tr>\n",
       "      <th>24308</th>\n",
       "      <td>737998266</td>\n",
       "      <td>Juanambu</td>\n",
       "      <td>DISPENSADOR</td>\n",
       "      <td>2536</td>\n",
       "      <td>3.457263</td>\n",
       "      <td>-76.534825</td>\n",
       "      <td>737998266</td>\n",
       "      <td>2576627674369528738</td>\n",
       "      <td>1</td>\n",
       "      <td>DISPENSADOR</td>\n",
       "      <td>3</td>\n",
       "      <td>3.804000e+03</td>\n",
       "      <td>(3.45726256, -76.53482455)</td>\n",
       "    </tr>\n",
       "    <tr>\n",
       "      <th>67138</th>\n",
       "      <td>737998194</td>\n",
       "      <td>Santa Monica Residencial</td>\n",
       "      <td>SAI</td>\n",
       "      <td>757</td>\n",
       "      <td>3.463546</td>\n",
       "      <td>-76.530270</td>\n",
       "      <td>737998194</td>\n",
       "      <td>3916303089435597842</td>\n",
       "      <td>1</td>\n",
       "      <td>SAI</td>\n",
       "      <td>1</td>\n",
       "      <td>3.785000e+02</td>\n",
       "      <td>(3.463546, -76.53027)</td>\n",
       "    </tr>\n",
       "    <tr>\n",
       "      <th>27346</th>\n",
       "      <td>737998119</td>\n",
       "      <td>Colseguros Andes</td>\n",
       "      <td>CB</td>\n",
       "      <td>1203621492</td>\n",
       "      <td>3.426331</td>\n",
       "      <td>-76.528000</td>\n",
       "      <td>737998119</td>\n",
       "      <td>9023719600393329138</td>\n",
       "      <td>2</td>\n",
       "      <td>CB</td>\n",
       "      <td>3</td>\n",
       "      <td>1.805432e+09</td>\n",
       "      <td>(3.426331, -76.528)</td>\n",
       "    </tr>\n",
       "    <tr>\n",
       "      <th>91922</th>\n",
       "      <td>738000400</td>\n",
       "      <td>Lili</td>\n",
       "      <td>DISPENSADOR</td>\n",
       "      <td>1669</td>\n",
       "      <td>3.369542</td>\n",
       "      <td>-76.524355</td>\n",
       "      <td>738000400</td>\n",
       "      <td>7656621507780489420</td>\n",
       "      <td>1</td>\n",
       "      <td>DISPENSADOR</td>\n",
       "      <td>2</td>\n",
       "      <td>1.669000e+03</td>\n",
       "      <td>(3.36954236, -76.52435509)</td>\n",
       "    </tr>\n",
       "    <tr>\n",
       "      <th>28387</th>\n",
       "      <td>737998935</td>\n",
       "      <td>San Nicolas</td>\n",
       "      <td>DISPENSADOR</td>\n",
       "      <td>620</td>\n",
       "      <td>3.453735</td>\n",
       "      <td>-76.525108</td>\n",
       "      <td>737998935</td>\n",
       "      <td>4846905830783228173</td>\n",
       "      <td>1</td>\n",
       "      <td>DISPENSADOR</td>\n",
       "      <td>1</td>\n",
       "      <td>3.100000e+02</td>\n",
       "      <td>(3.45373472, -76.52510796)</td>\n",
       "    </tr>\n",
       "    <tr>\n",
       "      <th>86452</th>\n",
       "      <td>737998174</td>\n",
       "      <td>Urbanizacion La Flora</td>\n",
       "      <td>SAI</td>\n",
       "      <td>836</td>\n",
       "      <td>3.486539</td>\n",
       "      <td>-76.512307</td>\n",
       "      <td>737998174</td>\n",
       "      <td>1528626824700315387</td>\n",
       "      <td>1</td>\n",
       "      <td>SAI</td>\n",
       "      <td>3</td>\n",
       "      <td>1.254000e+03</td>\n",
       "      <td>(3.48653868, -76.51230695)</td>\n",
       "    </tr>\n",
       "    <tr>\n",
       "      <th>15380</th>\n",
       "      <td>738002275</td>\n",
       "      <td>San Antonio</td>\n",
       "      <td>DISPENSADOR</td>\n",
       "      <td>8332</td>\n",
       "      <td>3.447547</td>\n",
       "      <td>-76.540518</td>\n",
       "      <td>738002275</td>\n",
       "      <td>8509552309720564238</td>\n",
       "      <td>1</td>\n",
       "      <td>DISPENSADOR</td>\n",
       "      <td>3</td>\n",
       "      <td>1.249800e+04</td>\n",
       "      <td>(3.44754701, -76.54051835)</td>\n",
       "    </tr>\n",
       "  </tbody>\n",
       "</table>\n",
       "</div>"
      ],
      "text/plain": [
       "          codigo                    nombre         tipo  cod_dispositivo  \\\n",
       "35717  738000401                Belalcazar          POS         11491370   \n",
       "8574   737999403        San Fernando Viejo          POS         12504825   \n",
       "87875  738068452                     Junin          SAI              837   \n",
       "24308  737998266                  Juanambu  DISPENSADOR             2536   \n",
       "67138  737998194  Santa Monica Residencial          SAI              757   \n",
       "27346  737998119          Colseguros Andes           CB       1203621492   \n",
       "91922  738000400                      Lili  DISPENSADOR             1669   \n",
       "28387  737998935               San Nicolas  DISPENSADOR              620   \n",
       "86452  737998174     Urbanizacion La Flora          SAI              836   \n",
       "15380  738002275               San Antonio  DISPENSADOR             8332   \n",
       "\n",
       "        latitud   longitud  id_barrio              num_doc  tipo_doc  \\\n",
       "35717  3.442750 -76.519279  738000401 -1892600834412867535         1   \n",
       "8574   3.433307 -76.545798  737999403 -8024857288253197715         1   \n",
       "87875  3.433815 -76.527896  738068452   843458897897438475         1   \n",
       "24308  3.457263 -76.534825  737998266  2576627674369528738         1   \n",
       "67138  3.463546 -76.530270  737998194  3916303089435597842         1   \n",
       "27346  3.426331 -76.528000  737998119  9023719600393329138         2   \n",
       "91922  3.369542 -76.524355  738000400  7656621507780489420         1   \n",
       "28387  3.453735 -76.525108  737998935  4846905830783228173         1   \n",
       "86452  3.486539 -76.512307  737998174  1528626824700315387         1   \n",
       "15380  3.447547 -76.540518  738002275  8509552309720564238         1   \n",
       "\n",
       "             canal  num_trx  mnt_total_trx                        ubicacion  \n",
       "35717          POS        2   1.149137e+07  (3.44274989723, -76.5192792446)  \n",
       "8574           POS        3   1.875724e+07      (3.433306811, -76.54579764)  \n",
       "87875          SAI        1   4.185000e+02       (3.43381531, -76.52789612)  \n",
       "24308  DISPENSADOR        3   3.804000e+03       (3.45726256, -76.53482455)  \n",
       "67138          SAI        1   3.785000e+02            (3.463546, -76.53027)  \n",
       "27346           CB        3   1.805432e+09              (3.426331, -76.528)  \n",
       "91922  DISPENSADOR        2   1.669000e+03       (3.36954236, -76.52435509)  \n",
       "28387  DISPENSADOR        1   3.100000e+02       (3.45373472, -76.52510796)  \n",
       "86452          SAI        3   1.254000e+03       (3.48653868, -76.51230695)  \n",
       "15380  DISPENSADOR        3   1.249800e+04       (3.44754701, -76.54051835)  "
      ]
     },
     "execution_count": 44,
     "metadata": {},
     "output_type": "execute_result"
    }
   ],
   "source": [
    "df_join['nombre'] = df_join['nombre'].apply(quitar_tildes)\n",
    "df_join.sample(10)"
   ]
  },
  {
   "cell_type": "code",
   "execution_count": 45,
   "id": "d81ca19d-cccd-4668-bdb5-f3befdbf8f9c",
   "metadata": {
    "tags": []
   },
   "outputs": [],
   "source": [
    "estratificacion_cali['nombre'] = estratificacion_cali['nombre'].apply(quitar_tildes)"
   ]
  },
  {
   "cell_type": "code",
   "execution_count": 46,
   "id": "9e047398-d6d9-4879-9005-059537510c50",
   "metadata": {
    "tags": []
   },
   "outputs": [
    {
     "data": {
      "text/html": [
       "<div>\n",
       "<style scoped>\n",
       "    .dataframe tbody tr th:only-of-type {\n",
       "        vertical-align: middle;\n",
       "    }\n",
       "\n",
       "    .dataframe tbody tr th {\n",
       "        vertical-align: top;\n",
       "    }\n",
       "\n",
       "    .dataframe thead th {\n",
       "        text-align: right;\n",
       "    }\n",
       "</style>\n",
       "<table border=\"1\" class=\"dataframe\">\n",
       "  <thead>\n",
       "    <tr style=\"text-align: right;\">\n",
       "      <th></th>\n",
       "      <th>nombre</th>\n",
       "      <th>estrato</th>\n",
       "    </tr>\n",
       "  </thead>\n",
       "  <tbody>\n",
       "    <tr>\n",
       "      <th>118</th>\n",
       "      <td>Chapinero</td>\n",
       "      <td>3</td>\n",
       "    </tr>\n",
       "    <tr>\n",
       "      <th>289</th>\n",
       "      <td>Urbanizacion Colseguros</td>\n",
       "      <td>4</td>\n",
       "    </tr>\n",
       "    <tr>\n",
       "      <th>353</th>\n",
       "      <td>Comuna 7</td>\n",
       "      <td>3</td>\n",
       "    </tr>\n",
       "    <tr>\n",
       "      <th>308</th>\n",
       "      <td>El Cortijo</td>\n",
       "      <td>2</td>\n",
       "    </tr>\n",
       "    <tr>\n",
       "      <th>214</th>\n",
       "      <td>Jose M. Marroquin I Etapa</td>\n",
       "      <td>2</td>\n",
       "    </tr>\n",
       "    <tr>\n",
       "      <th>100</th>\n",
       "      <td>San Marino</td>\n",
       "      <td>2</td>\n",
       "    </tr>\n",
       "    <tr>\n",
       "      <th>321</th>\n",
       "      <td>El Remanso</td>\n",
       "      <td>1</td>\n",
       "    </tr>\n",
       "    <tr>\n",
       "      <th>6</th>\n",
       "      <td>Arboledas</td>\n",
       "      <td>6</td>\n",
       "    </tr>\n",
       "    <tr>\n",
       "      <th>260</th>\n",
       "      <td>Francisco Eladio Ramirez</td>\n",
       "      <td>3</td>\n",
       "    </tr>\n",
       "    <tr>\n",
       "      <th>281</th>\n",
       "      <td>Urbanizacion Nueva Granada</td>\n",
       "      <td>4</td>\n",
       "    </tr>\n",
       "  </tbody>\n",
       "</table>\n",
       "</div>"
      ],
      "text/plain": [
       "                         nombre estrato\n",
       "118                   Chapinero       3\n",
       "289     Urbanizacion Colseguros       4\n",
       "353                    Comuna 7       3\n",
       "308                  El Cortijo       2\n",
       "214   Jose M. Marroquin I Etapa       2\n",
       "100                  San Marino       2\n",
       "321                  El Remanso       1\n",
       "6                     Arboledas       6\n",
       "260    Francisco Eladio Ramirez       3\n",
       "281  Urbanizacion Nueva Granada       4"
      ]
     },
     "execution_count": 46,
     "metadata": {},
     "output_type": "execute_result"
    }
   ],
   "source": [
    "estratificacion_cali.sample(10)"
   ]
  },
  {
   "cell_type": "code",
   "execution_count": 47,
   "id": "92f52d5e-14b2-4fb4-be88-44286d3563ed",
   "metadata": {},
   "outputs": [],
   "source": [
    "df_join_merged_v2 = pd.merge(df_join, estratificacion_cali, on = 'nombre', how = 'left')"
   ]
  },
  {
   "cell_type": "code",
   "execution_count": 48,
   "id": "1f578256-d541-44d3-a36e-929191349656",
   "metadata": {},
   "outputs": [
    {
     "data": {
      "text/plain": [
       "<seaborn.axisgrid.FacetGrid at 0x7fb16df19580>"
      ]
     },
     "execution_count": 48,
     "metadata": {},
     "output_type": "execute_result"
    },
    {
     "data": {
      "image/png": "[encoded data removed]",
      "text/plain": [
       "<Figure size 584.875x500 with 1 Axes>"
      ]
     },
     "metadata": {},
     "output_type": "display_data"
    }
   ],
   "source": [
    "(\n",
    "    df_join_merged_v2\n",
    "    .isnull()\n",
    "    .melt()\n",
    "    .pipe(\n",
    "        lambda df: sns.displot(\n",
    "            data = df,\n",
    "            y = 'variable',\n",
    "            hue = 'value',\n",
    "            multiple = 'fill'\n",
    "        )\n",
    "    )\n",
    ")"
   ]
  },
  {
   "cell_type": "code",
   "execution_count": 49,
   "id": "d82347f9-e781-4826-af2b-95614b744b77",
   "metadata": {},
   "outputs": [
    {
     "data": {
      "text/plain": [
       "codigo                 0\n",
       "nombre                 0\n",
       "tipo                   0\n",
       "cod_dispositivo        0\n",
       "latitud                0\n",
       "longitud               0\n",
       "id_barrio              0\n",
       "num_doc                0\n",
       "tipo_doc               0\n",
       "canal                  0\n",
       "num_trx                0\n",
       "mnt_total_trx          0\n",
       "ubicacion              0\n",
       "estrato            20101\n",
       "dtype: int64"
      ]
     },
     "execution_count": 49,
     "metadata": {},
     "output_type": "execute_result"
    }
   ],
   "source": [
    "(\n",
    "    df_join_merged_v2\n",
    "    .isnull()\n",
    "    .sum()\n",
    ")"
   ]
  },
  {
   "cell_type": "markdown",
   "id": "4966b297-cfb0-43f5-a933-27bd349092f8",
   "metadata": {},
   "source": [
    "Al pasar los subdataframes por la función de estandarización de los nombres, se encontraron 3.700 datos (aprox.). Es necesario seguir limpiando hasta encontrar casi la totalidad de estos."
   ]
  },
  {
   "cell_type": "code",
   "execution_count": 50,
   "id": "b9fc7c81-9d60-4705-b327-db4f87b84109",
   "metadata": {},
   "outputs": [],
   "source": [
    "mask_2 = df_join_merged_v2.loc[:,'estrato'].isnull()"
   ]
  },
  {
   "cell_type": "code",
   "execution_count": 51,
   "id": "009996f7-7028-4de5-b7b5-784c960368e4",
   "metadata": {},
   "outputs": [],
   "source": [
    "barrios_faltantes = list(df_join_merged_v2.loc[mask_2, :]['nombre'].unique())"
   ]
  },
  {
   "cell_type": "code",
   "execution_count": 52,
   "id": "c62f273e-f87f-405a-bdc7-5b53cae624be",
   "metadata": {},
   "outputs": [],
   "source": [
    "barrios_faltantes.sort()"
   ]
  },
  {
   "cell_type": "code",
   "execution_count": 53,
   "id": "b36fecb9-9303-411f-a1f8-7f8f5deac3ce",
   "metadata": {
    "tags": []
   },
   "outputs": [
    {
     "data": {
      "text/plain": [
       "['12 De Octubre',\n",
       " 'Acueducto San Antonio',\n",
       " 'Alfonso Barberena',\n",
       " 'Alfonso Lopez I',\n",
       " 'Alfonso Lopez Ii',\n",
       " 'Alfonso Lopez Iii',\n",
       " 'Alto Jordan',\n",
       " 'Altos De Santa Isabel La Morelia',\n",
       " 'Atanasio Girardota',\n",
       " 'A\\x81Rea Libre Parque Del Amor',\n",
       " 'Bajos Ciudad Cordoba',\n",
       " 'Boyaca',\n",
       " 'Brisas De Los A\\x81Lamos',\n",
       " 'Caldas',\n",
       " 'Camino Real Joaquin Borrero',\n",
       " 'Camino Real Los Fundadores',\n",
       " 'Canaveralejo Seguros Patria',\n",
       " 'Canaverales Los Samanes',\n",
       " 'Cataya El Gran Limonar',\n",
       " 'Ciudad Los A\\x81Lamos',\n",
       " 'Ciudad Talanga',\n",
       " 'Ciudadela Del Rio',\n",
       " 'Ciudadela Paso Ancho',\n",
       " 'Cuarto De Legua Guadalupe',\n",
       " 'Departamental',\n",
       " 'El A\\x81Ngel Del Hogar',\n",
       " 'Esmeralda',\n",
       " 'Guillermo Leon Valencia',\n",
       " 'Jose M. Cordoba',\n",
       " 'Jose Manuel Marroquin I',\n",
       " 'Jose Manuel Marroquin Ii',\n",
       " 'La Ciudadela Confandi',\n",
       " 'La Rivera',\n",
       " 'Leon Xii',\n",
       " 'Lleras Restrepo Ii',\n",
       " 'Los Andes B La Riviera',\n",
       " 'Los Comuneros I',\n",
       " 'Los Comuneros Ii',\n",
       " 'Los Parques',\n",
       " 'Los Portales Nuevo Rey',\n",
       " 'Los Rubles',\n",
       " 'Manuel Maria Buenventura',\n",
       " 'Mayapan Las Vegas',\n",
       " 'Nueva Floresta Del Ict',\n",
       " 'Nueva Granada',\n",
       " 'Olaya Herrera',\n",
       " 'Pampalinda',\n",
       " 'Paseo Del Comercio',\n",
       " 'Petecuy Ii',\n",
       " 'Promociones Populares',\n",
       " 'Quintas De Don Simon',\n",
       " 'Rafael Uribe',\n",
       " 'San Carlos',\n",
       " 'San Francisco Berlin',\n",
       " 'Santa Anita',\n",
       " 'Santa Monica Residencial',\n",
       " 'U Dep Galindo Plaza Toros',\n",
       " 'U Dep Panamericana Ant Hipodromo',\n",
       " 'Unidad Residencial Bueno Madrid',\n",
       " 'Unidad Residencial El Coliseo',\n",
       " 'Unidad Residencial Santiago De Cali',\n",
       " 'Urbanizacion La Nueva Base',\n",
       " 'Urbanizacion San Juaquin',\n",
       " 'Villa Blanca',\n",
       " 'Villa Del Prado El Guabito',\n",
       " 'Ville Grande']"
      ]
     },
     "execution_count": 53,
     "metadata": {},
     "output_type": "execute_result"
    }
   ],
   "source": [
    "barrios_faltantes"
   ]
  },
  {
   "cell_type": "markdown",
   "id": "e88219cb-1fce-4f01-9764-d5d17ef20d01",
   "metadata": {},
   "source": [
    "Los datos faltantes se pueden deber a diferencias en la sintaxis entre los nombres de los barrios en el conjunto de datos principal y los nombres en el conjunto de datos de la estratificación descargados del portal gubernamental del Valle del Cauca. Por tal motivo, se procede a verificar y estandarizar de forma manual."
   ]
  },
  {
   "cell_type": "code",
   "execution_count": 54,
   "id": "e9d57fed-0e2e-4389-8537-75b60b8299ef",
   "metadata": {},
   "outputs": [],
   "source": [
    "cond_parq_am = df_join.loc[:,'nombre'] == 'A\\x81Rea Libre Parque Del Amor'"
   ]
  },
  {
   "cell_type": "code",
   "execution_count": 55,
   "id": "9a96929e-a8b6-4fa9-ad46-e8a74e191f67",
   "metadata": {},
   "outputs": [],
   "source": [
    "df_join.loc[cond_parq_am, 'nombre'] = 'Area en desarrollo Parque del Amor'"
   ]
  },
  {
   "cell_type": "code",
   "execution_count": 56,
   "id": "cf05fa2f-b9eb-4f50-806a-f9c9507cdef3",
   "metadata": {},
   "outputs": [],
   "source": [
    "cond_ciud_cord = df_join.loc[:,'nombre'] == 'Bajos Ciudad Cordoba'"
   ]
  },
  {
   "cell_type": "code",
   "execution_count": 57,
   "id": "de788373-b998-4c7a-8c81-24b0a921ff66",
   "metadata": {},
   "outputs": [],
   "source": [
    "df_join.loc[cond_ciud_cord, 'nombre'] = 'Ciudad Cordoba'"
   ]
  },
  {
   "cell_type": "code",
   "execution_count": 58,
   "id": "e75f28aa-7b2f-4f5a-a05c-f5c4f7144eb7",
   "metadata": {},
   "outputs": [],
   "source": [
    "cond_bris_al = df_join.loc[:,'nombre'] == 'Brisas De Los A\\x81Lamos'"
   ]
  },
  {
   "cell_type": "code",
   "execution_count": 59,
   "id": "ab735f3c-9c91-463f-b66e-1778f0bd164f",
   "metadata": {},
   "outputs": [],
   "source": [
    "df_join.loc[cond_bris_al, 'nombre'] = 'Brisas de Los Alamos'"
   ]
  },
  {
   "cell_type": "code",
   "execution_count": 60,
   "id": "b2acd797-12b9-4f38-bc05-29c514481c1c",
   "metadata": {},
   "outputs": [],
   "source": [
    "cond_ciud_al = df_join.loc[:,'nombre'] == 'Ciudad Los A\\x81Lamos'"
   ]
  },
  {
   "cell_type": "code",
   "execution_count": 61,
   "id": "a6fadcb5-290f-4797-8984-a04797b3dda8",
   "metadata": {},
   "outputs": [],
   "source": [
    "df_join.loc[cond_ciud_al, 'nombre'] = 'Ciudad Los Alamos'"
   ]
  },
  {
   "cell_type": "code",
   "execution_count": 62,
   "id": "33bfbed2-a65f-4638-8d0d-61b054d14911",
   "metadata": {},
   "outputs": [],
   "source": [
    "cond_ang_hog = df_join.loc[:,'nombre'] == 'El A\\x81Ngel Del Hogar'"
   ]
  },
  {
   "cell_type": "code",
   "execution_count": 63,
   "id": "bf89d0f1-08a4-41a2-a7a6-dd0c0bab1228",
   "metadata": {
    "tags": []
   },
   "outputs": [],
   "source": [
    "df_join.loc[cond_ang_hog, 'nombre'] = 'El Angel del Hogar'"
   ]
  },
  {
   "cell_type": "code",
   "execution_count": 64,
   "id": "3c28ba2f-78be-46c9-a1c6-6687a90ea154",
   "metadata": {},
   "outputs": [],
   "source": [
    "cond_valle_g = df_join.loc[:,'nombre'] == 'Ville Grande'"
   ]
  },
  {
   "cell_type": "code",
   "execution_count": 65,
   "id": "926e8149-22d5-4797-9517-4e0aab88383f",
   "metadata": {},
   "outputs": [],
   "source": [
    "df_join.loc[cond_valle_g, 'nombre'] = 'Valle Grande'"
   ]
  },
  {
   "cell_type": "code",
   "execution_count": 66,
   "id": "8f2979dc-be4b-4eeb-ac8d-c026cf2b6c68",
   "metadata": {},
   "outputs": [
    {
     "data": {
      "text/html": [
       "<div>\n",
       "<style scoped>\n",
       "    .dataframe tbody tr th:only-of-type {\n",
       "        vertical-align: middle;\n",
       "    }\n",
       "\n",
       "    .dataframe tbody tr th {\n",
       "        vertical-align: top;\n",
       "    }\n",
       "\n",
       "    .dataframe thead th {\n",
       "        text-align: right;\n",
       "    }\n",
       "</style>\n",
       "<table border=\"1\" class=\"dataframe\">\n",
       "  <thead>\n",
       "    <tr style=\"text-align: right;\">\n",
       "      <th></th>\n",
       "      <th>nombre</th>\n",
       "      <th>estrato</th>\n",
       "    </tr>\n",
       "  </thead>\n",
       "  <tbody>\n",
       "    <tr>\n",
       "      <th>0</th>\n",
       "      <td>12 De Octubre</td>\n",
       "      <td>3</td>\n",
       "    </tr>\n",
       "    <tr>\n",
       "      <th>1</th>\n",
       "      <td>20 de Julio</td>\n",
       "      <td>3</td>\n",
       "    </tr>\n",
       "    <tr>\n",
       "      <th>2</th>\n",
       "      <td>3 de Julio</td>\n",
       "      <td>4</td>\n",
       "    </tr>\n",
       "    <tr>\n",
       "      <th>3</th>\n",
       "      <td>Aguablanca</td>\n",
       "      <td>3</td>\n",
       "    </tr>\n",
       "    <tr>\n",
       "      <th>4</th>\n",
       "      <td>Aguacatal</td>\n",
       "      <td>1</td>\n",
       "    </tr>\n",
       "  </tbody>\n",
       "</table>\n",
       "</div>"
      ],
      "text/plain": [
       "          nombre estrato\n",
       "0  12 De Octubre       3\n",
       "1    20 de Julio       3\n",
       "2     3 de Julio       4\n",
       "3     Aguablanca       3\n",
       "4      Aguacatal       1"
      ]
     },
     "execution_count": 66,
     "metadata": {},
     "output_type": "execute_result"
    }
   ],
   "source": [
    "est_cali_clean = pd.read_csv('estratificacion_cali_clean.csv')\n",
    "est_cali_clean = est_cali_clean[['Barrio', 'Estrato moda']]\n",
    "est_cali_clean.columns = ['nombre', 'estrato']\n",
    "est_cali_clean.head()"
   ]
  },
  {
   "cell_type": "code",
   "execution_count": 67,
   "id": "92fa366d-e424-4303-96ca-dd080b91a264",
   "metadata": {},
   "outputs": [],
   "source": [
    "df_join['nombre'] = df_join['nombre'].apply(quitar_tildes)\n",
    "est_cali_clean['nombre'] = est_cali_clean['nombre'].apply(quitar_tildes)"
   ]
  },
  {
   "cell_type": "code",
   "execution_count": 68,
   "id": "60d8c068-eff6-4b4d-ac73-10283dcdf538",
   "metadata": {},
   "outputs": [],
   "source": [
    "df_join_merged_v3 = pd.merge(df_join, est_cali_clean, on = 'nombre', how = 'left')"
   ]
  },
  {
   "cell_type": "code",
   "execution_count": 69,
   "id": "b538f20a-608d-49e2-9750-a345c7fa2034",
   "metadata": {},
   "outputs": [
    {
     "data": {
      "text/plain": [
       "<seaborn.axisgrid.FacetGrid at 0x7fb16daba670>"
      ]
     },
     "execution_count": 69,
     "metadata": {},
     "output_type": "execute_result"
    },
    {
     "data": {
      "image/png": "[encoded data removed]",
      "text/plain": [
       "<Figure size 584.875x500 with 1 Axes>"
      ]
     },
     "metadata": {},
     "output_type": "display_data"
    }
   ],
   "source": [
    "(\n",
    "    df_join_merged_v3\n",
    "    .isnull()\n",
    "    .melt()\n",
    "    .pipe(\n",
    "        lambda df: sns.displot(\n",
    "            data = df,\n",
    "            y = 'variable',\n",
    "            hue = 'value',\n",
    "            multiple = 'fill'\n",
    "        )\n",
    "    )\n",
    ")"
   ]
  },
  {
   "cell_type": "code",
   "execution_count": 70,
   "id": "2ac3f609-0278-46ee-9dd0-3b79d1bd6d29",
   "metadata": {},
   "outputs": [
    {
     "data": {
      "text/plain": [
       "codigo             0\n",
       "nombre             0\n",
       "tipo               0\n",
       "cod_dispositivo    0\n",
       "latitud            0\n",
       "longitud           0\n",
       "id_barrio          0\n",
       "num_doc            0\n",
       "tipo_doc           0\n",
       "canal              0\n",
       "num_trx            0\n",
       "mnt_total_trx      0\n",
       "ubicacion          0\n",
       "estrato            5\n",
       "dtype: int64"
      ]
     },
     "execution_count": 70,
     "metadata": {},
     "output_type": "execute_result"
    }
   ],
   "source": [
    "(\n",
    "    df_join_merged_v3\n",
    "    .isnull()\n",
    "    .sum()\n",
    ")"
   ]
  },
  {
   "cell_type": "code",
   "execution_count": 71,
   "id": "e2b56243-21a1-40e5-97bb-07f8d038cfcd",
   "metadata": {},
   "outputs": [
    {
     "data": {
      "text/plain": [
       "array(['U Dep Panamericana Ant Hipodromo'], dtype=object)"
      ]
     },
     "execution_count": 71,
     "metadata": {},
     "output_type": "execute_result"
    }
   ],
   "source": [
    "mask_4 = df_join_merged_v3.loc[:,'estrato'].isnull()\n",
    "\n",
    "df_join_merged_v3.loc[mask_4, 'nombre'].unique()"
   ]
  },
  {
   "cell_type": "code",
   "execution_count": 72,
   "id": "6ec74eeb-f80b-4f74-aebb-953e851a567f",
   "metadata": {
    "tags": []
   },
   "outputs": [],
   "source": [
    "df_join_merged_v3 = (\n",
    "    df_join_merged_v3\n",
    "    .dropna(\n",
    "        subset = ['estrato']\n",
    "    )\n",
    ")\n"
   ]
  },
  {
   "cell_type": "code",
   "execution_count": 73,
   "id": "e3498245-091e-4727-ad41-a20825c6f5a5",
   "metadata": {},
   "outputs": [
    {
     "data": {
      "text/plain": [
       "codigo             0\n",
       "nombre             0\n",
       "tipo               0\n",
       "cod_dispositivo    0\n",
       "latitud            0\n",
       "longitud           0\n",
       "id_barrio          0\n",
       "num_doc            0\n",
       "tipo_doc           0\n",
       "canal              0\n",
       "num_trx            0\n",
       "mnt_total_trx      0\n",
       "ubicacion          0\n",
       "estrato            0\n",
       "dtype: int64"
      ]
     },
     "execution_count": 73,
     "metadata": {},
     "output_type": "execute_result"
    }
   ],
   "source": [
    "(\n",
    "    df_join_merged_v3\n",
    "    .isnull()\n",
    "    .sum()\n",
    ")"
   ]
  },
  {
   "cell_type": "markdown",
   "id": "9a9dd24a-8c77-4b9e-821b-e427b7a612a8",
   "metadata": {},
   "source": [
    "Finalmente tenemos el dataset estratificado y sin valores nulos, lo que permitirá llevar a cabo el análisis."
   ]
  },
  {
   "cell_type": "markdown",
   "id": "d0304ae5-d766-416a-bc19-4bfc6c54b120",
   "metadata": {},
   "source": [
    "**1.3. Depuración de variables**"
   ]
  },
  {
   "cell_type": "markdown",
   "id": "9eaedf98-1ae1-418d-b0cb-a899f71bfa86",
   "metadata": {},
   "source": [
    "Teniendo en cuenta que algunas variables pueden ser redundantes para el análisis, es importante llevar a cabo una depuración del conjunto de datos."
   ]
  },
  {
   "cell_type": "code",
   "execution_count": 74,
   "id": "4f7806a3-b351-4738-8542-46edbec0421c",
   "metadata": {},
   "outputs": [
    {
     "data": {
      "text/plain": [
       "6012"
      ]
     },
     "execution_count": 74,
     "metadata": {},
     "output_type": "execute_result"
    }
   ],
   "source": [
    "df_join_merged_v3.cod_dispositivo.nunique()"
   ]
  },
  {
   "cell_type": "markdown",
   "id": "43ba6e6b-1933-4e02-94d3-e7f17fae3be9",
   "metadata": {},
   "source": [
    "El código de dispositivo puede ser útil para identificar los dispositivos con mayor actividad."
   ]
  },
  {
   "cell_type": "markdown",
   "id": "334967ac-1b35-4efb-a979-052eaa36cc78",
   "metadata": {},
   "source": [
    "Las columnas *tipo y canal* pueden brindar información relevante respecto a los tipos de transacciones y el canal mediante el cual se realizaron. No obstante, parecen tener información duplicada y, de ser así, podemos prescindir de una de las dos variables. Miremos:"
   ]
  },
  {
   "cell_type": "code",
   "execution_count": 75,
   "id": "443de673-c5e1-4aad-9daa-c219223db55e",
   "metadata": {},
   "outputs": [
    {
     "data": {
      "text/plain": [
       "array(['POS', 'CB', 'DISPENSADOR', 'SAI', 'MF', 'PAC'], dtype=object)"
      ]
     },
     "execution_count": 75,
     "metadata": {},
     "output_type": "execute_result"
    }
   ],
   "source": [
    "df_join_merged_v3.canal.unique()"
   ]
  },
  {
   "cell_type": "code",
   "execution_count": 76,
   "id": "67b3e135-5a95-4fff-98ad-a678413df269",
   "metadata": {},
   "outputs": [
    {
     "data": {
      "text/plain": [
       "array(['POS', 'CB', 'DISPENSADOR', 'SAI', 'MF', 'PAC'], dtype=object)"
      ]
     },
     "execution_count": 76,
     "metadata": {},
     "output_type": "execute_result"
    }
   ],
   "source": [
    "df_join_merged_v3.tipo.unique()"
   ]
  },
  {
   "cell_type": "code",
   "execution_count": 77,
   "id": "22567429-9655-43a2-9351-2def77acaa13",
   "metadata": {},
   "outputs": [
    {
     "data": {
      "text/plain": [
       "1.245705846469965"
      ]
     },
     "execution_count": 77,
     "metadata": {},
     "output_type": "execute_result"
    }
   ],
   "source": [
    "(df_join_merged_v3.query('tipo != canal').shape[0] / df_join_merged_v3.query('tipo == canal').shape[0]) * 100"
   ]
  },
  {
   "cell_type": "markdown",
   "id": "ed6e3089-15a2-4edc-b835-d22a2e3a5665",
   "metadata": {},
   "source": [
    "Si bien en una primera instancia parecía información duplicada, vemos que hay registros donde el tipo y el canal difieren,\n",
    "exactamente 1164, los cuales representan un 1.24% de los datos."
   ]
  },
  {
   "cell_type": "code",
   "execution_count": 78,
   "id": "4d77ea9b-2c95-417c-8ae9-5870432caf82",
   "metadata": {},
   "outputs": [
    {
     "data": {
      "text/plain": [
       "array(['SAI', 'DISPENSADOR'], dtype=object)"
      ]
     },
     "execution_count": 78,
     "metadata": {},
     "output_type": "execute_result"
    }
   ],
   "source": [
    "df_join_merged_v3.query('tipo != canal').tipo.unique()"
   ]
  },
  {
   "cell_type": "code",
   "execution_count": 79,
   "id": "9ba38214-1609-4521-b3f1-508c2701a519",
   "metadata": {},
   "outputs": [
    {
     "data": {
      "text/plain": [
       "array(['DISPENSADOR', 'SAI'], dtype=object)"
      ]
     },
     "execution_count": 79,
     "metadata": {},
     "output_type": "execute_result"
    }
   ],
   "source": [
    "df_join_merged_v3.query('tipo != canal').canal.unique()"
   ]
  },
  {
   "cell_type": "code",
   "execution_count": 80,
   "id": "540516f7-8079-403e-a9b4-7fcdd67374ee",
   "metadata": {},
   "outputs": [
    {
     "data": {
      "text/plain": [
       "array(['SAI'], dtype=object)"
      ]
     },
     "execution_count": 80,
     "metadata": {},
     "output_type": "execute_result"
    }
   ],
   "source": [
    "df_join_merged_v3.query('tipo != canal & tipo == \"DISPENSADOR\"').canal.unique()"
   ]
  },
  {
   "cell_type": "code",
   "execution_count": 81,
   "id": "cc746fe6-25f5-41da-b673-a065a6bd9717",
   "metadata": {},
   "outputs": [
    {
     "data": {
      "text/plain": [
       "array(['DISPENSADOR'], dtype=object)"
      ]
     },
     "execution_count": 81,
     "metadata": {},
     "output_type": "execute_result"
    }
   ],
   "source": [
    "df_join_merged_v3.query('tipo != canal & tipo == \"SAI\"').canal.unique()"
   ]
  },
  {
   "cell_type": "markdown",
   "id": "8ab3d891-c751-496f-9ca5-3782ba29c380",
   "metadata": {},
   "source": [
    "Podemos observar que en los casos donde el tipo y el canal difieren, cuando el tipo es Dispensador el canal es SAI y viceversa, por lo que podríamos inferir que son canales complementarios y prescindir de una de las columnas."
   ]
  },
  {
   "cell_type": "code",
   "execution_count": 82,
   "id": "aae1b582-6a26-4d06-a9c0-5d0ccc552f47",
   "metadata": {},
   "outputs": [
    {
     "data": {
      "text/plain": [
       "array([1, 2, 4, 3, 9])"
      ]
     },
     "execution_count": 82,
     "metadata": {},
     "output_type": "execute_result"
    }
   ],
   "source": [
    "df_join_merged_v3.tipo_doc.unique()"
   ]
  },
  {
   "cell_type": "code",
   "execution_count": 83,
   "id": "d22b6a30-6617-43af-888e-4f9aa6700e05",
   "metadata": {},
   "outputs": [
    {
     "data": {
      "text/plain": [
       "Index(['codigo', 'nombre', 'tipo', 'cod_dispositivo', 'latitud', 'longitud',\n",
       "       'id_barrio', 'num_doc', 'tipo_doc', 'canal', 'num_trx', 'mnt_total_trx',\n",
       "       'ubicacion', 'estrato'],\n",
       "      dtype='object')"
      ]
     },
     "execution_count": 83,
     "metadata": {},
     "output_type": "execute_result"
    }
   ],
   "source": [
    "df_join_merged_v3.columns"
   ]
  },
  {
   "cell_type": "code",
   "execution_count": 84,
   "id": "cb83a6e8-7584-488f-aa91-63a4d8cf5553",
   "metadata": {},
   "outputs": [],
   "source": [
    "columnas = ['codigo', 'nombre', 'cod_dispositivo', \n",
    "            'latitud', 'longitud', 'num_doc', 'tipo_doc', 'canal', 'num_trx', 'mnt_total_trx',\n",
    "           'ubicacion', 'estrato']"
   ]
  },
  {
   "cell_type": "code",
   "execution_count": 85,
   "id": "55860f3b-b61b-49fc-9d31-7befa4b9c115",
   "metadata": {},
   "outputs": [
    {
     "data": {
      "text/html": [
       "<div>\n",
       "<style scoped>\n",
       "    .dataframe tbody tr th:only-of-type {\n",
       "        vertical-align: middle;\n",
       "    }\n",
       "\n",
       "    .dataframe tbody tr th {\n",
       "        vertical-align: top;\n",
       "    }\n",
       "\n",
       "    .dataframe thead th {\n",
       "        text-align: right;\n",
       "    }\n",
       "</style>\n",
       "<table border=\"1\" class=\"dataframe\">\n",
       "  <thead>\n",
       "    <tr style=\"text-align: right;\">\n",
       "      <th></th>\n",
       "      <th>codigo</th>\n",
       "      <th>nombre</th>\n",
       "      <th>cod_dispositivo</th>\n",
       "      <th>latitud</th>\n",
       "      <th>longitud</th>\n",
       "      <th>num_doc</th>\n",
       "      <th>tipo_doc</th>\n",
       "      <th>canal</th>\n",
       "      <th>num_trx</th>\n",
       "      <th>mnt_total_trx</th>\n",
       "      <th>ubicacion</th>\n",
       "      <th>estrato</th>\n",
       "    </tr>\n",
       "  </thead>\n",
       "  <tbody>\n",
       "    <tr>\n",
       "      <th>0</th>\n",
       "      <td>737998257</td>\n",
       "      <td>La Campina</td>\n",
       "      <td>12202503</td>\n",
       "      <td>3.479572</td>\n",
       "      <td>-76.525582</td>\n",
       "      <td>-2393994463924208659</td>\n",
       "      <td>1</td>\n",
       "      <td>POS</td>\n",
       "      <td>2</td>\n",
       "      <td>12202503.0</td>\n",
       "      <td>(3.479572082, -76.52558242)</td>\n",
       "      <td>4</td>\n",
       "    </tr>\n",
       "    <tr>\n",
       "      <th>1</th>\n",
       "      <td>737998257</td>\n",
       "      <td>La Campina</td>\n",
       "      <td>10521045</td>\n",
       "      <td>3.480517</td>\n",
       "      <td>-76.525275</td>\n",
       "      <td>-5675531380015678594</td>\n",
       "      <td>1</td>\n",
       "      <td>POS</td>\n",
       "      <td>1</td>\n",
       "      <td>5260522.5</td>\n",
       "      <td>(3.480516553, -76.52527472)</td>\n",
       "      <td>4</td>\n",
       "    </tr>\n",
       "    <tr>\n",
       "      <th>2</th>\n",
       "      <td>737998257</td>\n",
       "      <td>La Campina</td>\n",
       "      <td>10521045</td>\n",
       "      <td>3.480517</td>\n",
       "      <td>-76.525275</td>\n",
       "      <td>-5066077049535851626</td>\n",
       "      <td>1</td>\n",
       "      <td>POS</td>\n",
       "      <td>1</td>\n",
       "      <td>5260522.5</td>\n",
       "      <td>(3.480516553, -76.52527472)</td>\n",
       "      <td>4</td>\n",
       "    </tr>\n",
       "    <tr>\n",
       "      <th>3</th>\n",
       "      <td>737998257</td>\n",
       "      <td>La Campina</td>\n",
       "      <td>13238282</td>\n",
       "      <td>3.479491</td>\n",
       "      <td>-76.525818</td>\n",
       "      <td>-5791329717693361241</td>\n",
       "      <td>1</td>\n",
       "      <td>POS</td>\n",
       "      <td>1</td>\n",
       "      <td>6619141.0</td>\n",
       "      <td>(3.47949063002, -76.5258184734)</td>\n",
       "      <td>4</td>\n",
       "    </tr>\n",
       "    <tr>\n",
       "      <th>4</th>\n",
       "      <td>737998257</td>\n",
       "      <td>La Campina</td>\n",
       "      <td>12567517</td>\n",
       "      <td>3.480958</td>\n",
       "      <td>-76.525153</td>\n",
       "      <td>-397966594878551344</td>\n",
       "      <td>1</td>\n",
       "      <td>POS</td>\n",
       "      <td>1</td>\n",
       "      <td>6283758.5</td>\n",
       "      <td>(3.480957671, -76.52515269)</td>\n",
       "      <td>4</td>\n",
       "    </tr>\n",
       "    <tr>\n",
       "      <th>...</th>\n",
       "      <td>...</td>\n",
       "      <td>...</td>\n",
       "      <td>...</td>\n",
       "      <td>...</td>\n",
       "      <td>...</td>\n",
       "      <td>...</td>\n",
       "      <td>...</td>\n",
       "      <td>...</td>\n",
       "      <td>...</td>\n",
       "      <td>...</td>\n",
       "      <td>...</td>\n",
       "      <td>...</td>\n",
       "    </tr>\n",
       "    <tr>\n",
       "      <th>94605</th>\n",
       "      <td>737998035</td>\n",
       "      <td>Ciudadela Del Rio</td>\n",
       "      <td>11044369</td>\n",
       "      <td>3.425455</td>\n",
       "      <td>-76.464843</td>\n",
       "      <td>-3765831630548519698</td>\n",
       "      <td>1</td>\n",
       "      <td>POS</td>\n",
       "      <td>1</td>\n",
       "      <td>5522184.5</td>\n",
       "      <td>(3.425455055, -76.46484252)</td>\n",
       "      <td>2</td>\n",
       "    </tr>\n",
       "    <tr>\n",
       "      <th>94606</th>\n",
       "      <td>737998035</td>\n",
       "      <td>Ciudadela Del Rio</td>\n",
       "      <td>11044369</td>\n",
       "      <td>3.425455</td>\n",
       "      <td>-76.464843</td>\n",
       "      <td>2580778409722080163</td>\n",
       "      <td>1</td>\n",
       "      <td>POS</td>\n",
       "      <td>39</td>\n",
       "      <td>215365195.5</td>\n",
       "      <td>(3.425455055, -76.46484252)</td>\n",
       "      <td>2</td>\n",
       "    </tr>\n",
       "    <tr>\n",
       "      <th>94607</th>\n",
       "      <td>737998035</td>\n",
       "      <td>Ciudadela Del Rio</td>\n",
       "      <td>11044369</td>\n",
       "      <td>3.425455</td>\n",
       "      <td>-76.464843</td>\n",
       "      <td>-6052852033626412092</td>\n",
       "      <td>1</td>\n",
       "      <td>POS</td>\n",
       "      <td>1</td>\n",
       "      <td>5522184.5</td>\n",
       "      <td>(3.425455055, -76.46484252)</td>\n",
       "      <td>2</td>\n",
       "    </tr>\n",
       "    <tr>\n",
       "      <th>94608</th>\n",
       "      <td>737998035</td>\n",
       "      <td>Ciudadela Del Rio</td>\n",
       "      <td>11044369</td>\n",
       "      <td>3.425455</td>\n",
       "      <td>-76.464843</td>\n",
       "      <td>8994524193252232475</td>\n",
       "      <td>1</td>\n",
       "      <td>POS</td>\n",
       "      <td>2</td>\n",
       "      <td>11044369.0</td>\n",
       "      <td>(3.425455055, -76.46484252)</td>\n",
       "      <td>2</td>\n",
       "    </tr>\n",
       "    <tr>\n",
       "      <th>94609</th>\n",
       "      <td>737998035</td>\n",
       "      <td>Ciudadela Del Rio</td>\n",
       "      <td>11044369</td>\n",
       "      <td>3.425455</td>\n",
       "      <td>-76.464843</td>\n",
       "      <td>3798585324021595230</td>\n",
       "      <td>1</td>\n",
       "      <td>POS</td>\n",
       "      <td>1</td>\n",
       "      <td>5522184.5</td>\n",
       "      <td>(3.425455055, -76.46484252)</td>\n",
       "      <td>2</td>\n",
       "    </tr>\n",
       "  </tbody>\n",
       "</table>\n",
       "<p>94605 rows × 12 columns</p>\n",
       "</div>"
      ],
      "text/plain": [
       "          codigo             nombre  cod_dispositivo   latitud   longitud  \\\n",
       "0      737998257         La Campina         12202503  3.479572 -76.525582   \n",
       "1      737998257         La Campina         10521045  3.480517 -76.525275   \n",
       "2      737998257         La Campina         10521045  3.480517 -76.525275   \n",
       "3      737998257         La Campina         13238282  3.479491 -76.525818   \n",
       "4      737998257         La Campina         12567517  3.480958 -76.525153   \n",
       "...          ...                ...              ...       ...        ...   \n",
       "94605  737998035  Ciudadela Del Rio         11044369  3.425455 -76.464843   \n",
       "94606  737998035  Ciudadela Del Rio         11044369  3.425455 -76.464843   \n",
       "94607  737998035  Ciudadela Del Rio         11044369  3.425455 -76.464843   \n",
       "94608  737998035  Ciudadela Del Rio         11044369  3.425455 -76.464843   \n",
       "94609  737998035  Ciudadela Del Rio         11044369  3.425455 -76.464843   \n",
       "\n",
       "                   num_doc  tipo_doc canal  num_trx  mnt_total_trx  \\\n",
       "0     -2393994463924208659         1   POS        2     12202503.0   \n",
       "1     -5675531380015678594         1   POS        1      5260522.5   \n",
       "2     -5066077049535851626         1   POS        1      5260522.5   \n",
       "3     -5791329717693361241         1   POS        1      6619141.0   \n",
       "4      -397966594878551344         1   POS        1      6283758.5   \n",
       "...                    ...       ...   ...      ...            ...   \n",
       "94605 -3765831630548519698         1   POS        1      5522184.5   \n",
       "94606  2580778409722080163         1   POS       39    215365195.5   \n",
       "94607 -6052852033626412092         1   POS        1      5522184.5   \n",
       "94608  8994524193252232475         1   POS        2     11044369.0   \n",
       "94609  3798585324021595230         1   POS        1      5522184.5   \n",
       "\n",
       "                             ubicacion estrato  \n",
       "0          (3.479572082, -76.52558242)       4  \n",
       "1          (3.480516553, -76.52527472)       4  \n",
       "2          (3.480516553, -76.52527472)       4  \n",
       "3      (3.47949063002, -76.5258184734)       4  \n",
       "4          (3.480957671, -76.52515269)       4  \n",
       "...                                ...     ...  \n",
       "94605      (3.425455055, -76.46484252)       2  \n",
       "94606      (3.425455055, -76.46484252)       2  \n",
       "94607      (3.425455055, -76.46484252)       2  \n",
       "94608      (3.425455055, -76.46484252)       2  \n",
       "94609      (3.425455055, -76.46484252)       2  \n",
       "\n",
       "[94605 rows x 12 columns]"
      ]
     },
     "execution_count": 85,
     "metadata": {},
     "output_type": "execute_result"
    }
   ],
   "source": [
    "(\n",
    "    df_join_merged_v3[columnas]\n",
    ")"
   ]
  },
  {
   "cell_type": "markdown",
   "id": "b5874275-8c35-49e5-8075-397eee7d62f2",
   "metadata": {},
   "source": [
    "## **2. Análisis**"
   ]
  },
  {
   "cell_type": "markdown",
   "id": "ef33cf21-069f-490b-a5f7-01840c89b5a3",
   "metadata": {},
   "source": [
    "Con el fin de llevar a cabo un análisis consistente y, teniendo en cuenta que desconocemos los valores de variables como *canales* y *tipo de documento*, es necesario hacer inferencias."
   ]
  },
  {
   "cell_type": "code",
   "execution_count": 86,
   "id": "1ef2a6cd-a7e5-436f-b298-9d6b41d76aee",
   "metadata": {},
   "outputs": [],
   "source": [
    "pd.options.display.float_format = '{:,.2f}'.format"
   ]
  },
  {
   "cell_type": "code",
   "execution_count": 87,
   "id": "3c6dea97-a5ec-4706-8110-f7d76d4a271d",
   "metadata": {},
   "outputs": [
    {
     "data": {
      "text/plain": [
       "Index(['codigo', 'nombre', 'tipo', 'cod_dispositivo', 'latitud', 'longitud',\n",
       "       'id_barrio', 'num_doc', 'tipo_doc', 'canal', 'num_trx', 'mnt_total_trx',\n",
       "       'ubicacion', 'estrato'],\n",
       "      dtype='object')"
      ]
     },
     "execution_count": 87,
     "metadata": {},
     "output_type": "execute_result"
    }
   ],
   "source": [
    "df_join_merged_v3.columns"
   ]
  },
  {
   "cell_type": "code",
   "execution_count": 88,
   "id": "98ddbe55-be0e-4cf0-9d66-0058e365308f",
   "metadata": {},
   "outputs": [],
   "source": [
    "types = {'codigo':'int64',\n",
    "         'nombre': 'category',\n",
    "         'cod_dispositivo': 'int64',\n",
    "         'latitud':'float',\n",
    "         'longitud': 'float',\n",
    "         'num_doc':'int64',\n",
    "         'tipo_doc':'category',\n",
    "         'canal':'category',\n",
    "         'num_trx': 'int64',\n",
    "         'mnt_total_trx': 'float',\n",
    "         'ubicacion':'object',\n",
    "         'estrato':'category'}"
   ]
  },
  {
   "cell_type": "markdown",
   "id": "7ad22d17-e4bf-4171-95e8-66a6f5890f18",
   "metadata": {},
   "source": [
    "**2.1 Definiendo los valores para la variable *canal***"
   ]
  },
  {
   "cell_type": "markdown",
   "id": "e127287d-cc23-41ff-9495-e663ed4753bd",
   "metadata": {},
   "source": [
    "Uso de los canales:"
   ]
  },
  {
   "cell_type": "code",
   "execution_count": 89,
   "id": "9c9f4652-f52b-4f7f-b97d-d60928c630d8",
   "metadata": {},
   "outputs": [
    {
     "data": {
      "text/plain": [
       "canal\n",
       "CB              7076\n",
       "DISPENSADOR    37654\n",
       "MF              3386\n",
       "PAC               17\n",
       "POS            37062\n",
       "SAI             9410\n",
       "Name: mnt_total_trx, dtype: int64"
      ]
     },
     "execution_count": 89,
     "metadata": {},
     "output_type": "execute_result"
    }
   ],
   "source": [
    "(\n",
    "    df_join_merged_v3\n",
    "    .groupby('canal')\n",
    "    ['mnt_total_trx']\n",
    "    .count()\n",
    ")"
   ]
  },
  {
   "cell_type": "code",
   "execution_count": 90,
   "id": "c57222d5-a13b-4cde-9c70-cafd28edbdbf",
   "metadata": {},
   "outputs": [
    {
     "data": {
      "text/plain": [
       "<AxesSubplot:xlabel='num_trx', ylabel='canal'>"
      ]
     },
     "execution_count": 90,
     "metadata": {},
     "output_type": "execute_result"
    },
    {
     "data": {
      "image/png": "[encoded data removed]",
      "text/plain": [
       "<Figure size 640x480 with 1 Axes>"
      ]
     },
     "metadata": {},
     "output_type": "display_data"
    }
   ],
   "source": [
    "(\n",
    "    sns.barplot(\n",
    "        data = df_join_merged_v3[columnas],\n",
    "        x = 'num_trx',\n",
    "        y = 'canal',\n",
    "        estimator = 'sum',\n",
    "        #hue = 'estrato'\n",
    "    )\n",
    ")"
   ]
  },
  {
   "cell_type": "markdown",
   "id": "ea5a9ee4-04f3-4135-aff9-8fd62b7df74c",
   "metadata": {},
   "source": [
    "En cuanto a uso, podemos observar que el canal más usado por los usuarios es el DISPENSADOR, seguido del POS, el CB y el SAI. Por último, con menos frecuencia se encuentran el MF y el PAC."
   ]
  },
  {
   "cell_type": "code",
   "execution_count": 91,
   "id": "987931b9-a063-48fc-bfb1-daddb7115946",
   "metadata": {},
   "outputs": [
    {
     "data": {
      "text/plain": [
       "<AxesSubplot:xlabel='canal', ylabel='num_trx'>"
      ]
     },
     "execution_count": 91,
     "metadata": {},
     "output_type": "execute_result"
    },
    {
     "data": {
      "image/png": "[encoded data removed]",
      "text/plain": [
       "<Figure size 640x480 with 1 Axes>"
      ]
     },
     "metadata": {},
     "output_type": "display_data"
    }
   ],
   "source": [
    "(\n",
    "    sns.barplot(\n",
    "        data = df_join_merged_v3[columnas],\n",
    "        x = 'canal',\n",
    "        y = 'num_trx',\n",
    "        estimator = 'sum',\n",
    "        hue = 'estrato'\n",
    "        #hue = 'tipo_doc'\n",
    "    )\n",
    ")"
   ]
  },
  {
   "cell_type": "markdown",
   "id": "13389637-2816-4e48-b569-b6a54c065593",
   "metadata": {},
   "source": [
    "En cuanto al uso por Estrato, podemos observar que los estratos que más usan el Dispensador son el 3, 4 y 5. Dicha tendencia se mantiene en los otros canales guardando las proporciones."
   ]
  },
  {
   "cell_type": "code",
   "execution_count": 92,
   "id": "c2638fe1-896c-49d6-8cb4-38993d90e06d",
   "metadata": {},
   "outputs": [
    {
     "data": {
      "text/plain": [
       "<AxesSubplot:xlabel='mnt_total_trx', ylabel='canal'>"
      ]
     },
     "execution_count": 92,
     "metadata": {},
     "output_type": "execute_result"
    },
    {
     "data": {
      "image/png": "[encoded data removed]",
      "text/plain": [
       "<Figure size 640x480 with 1 Axes>"
      ]
     },
     "metadata": {},
     "output_type": "display_data"
    }
   ],
   "source": [
    "(\n",
    "    sns.barplot(\n",
    "        data = df_join_merged_v3[columnas],\n",
    "        x = 'mnt_total_trx',\n",
    "        y = 'canal',\n",
    "        estimator = 'sum',\n",
    "        #hue = 'estrato'\n",
    "    )\n",
    ")"
   ]
  },
  {
   "cell_type": "code",
   "execution_count": 93,
   "id": "55b198af-d6c7-4524-8704-cb7d25dac9d1",
   "metadata": {},
   "outputs": [
    {
     "data": {
      "text/html": [
       "<div>\n",
       "<style scoped>\n",
       "    .dataframe tbody tr th:only-of-type {\n",
       "        vertical-align: middle;\n",
       "    }\n",
       "\n",
       "    .dataframe tbody tr th {\n",
       "        vertical-align: top;\n",
       "    }\n",
       "\n",
       "    .dataframe thead th {\n",
       "        text-align: right;\n",
       "    }\n",
       "</style>\n",
       "<table border=\"1\" class=\"dataframe\">\n",
       "  <thead>\n",
       "    <tr style=\"text-align: right;\">\n",
       "      <th></th>\n",
       "      <th>num_trx</th>\n",
       "      <th>mnt_total_trx</th>\n",
       "    </tr>\n",
       "    <tr>\n",
       "      <th>canal</th>\n",
       "      <th></th>\n",
       "      <th></th>\n",
       "    </tr>\n",
       "  </thead>\n",
       "  <tbody>\n",
       "    <tr>\n",
       "      <th>CB</th>\n",
       "      <td>23295</td>\n",
       "      <td>15,008,924,711,656.00</td>\n",
       "    </tr>\n",
       "    <tr>\n",
       "      <th>POS</th>\n",
       "      <td>83393</td>\n",
       "      <td>525,188,794,529.50</td>\n",
       "    </tr>\n",
       "    <tr>\n",
       "      <th>PAC</th>\n",
       "      <td>125</td>\n",
       "      <td>1,546,534,169.50</td>\n",
       "    </tr>\n",
       "    <tr>\n",
       "      <th>DISPENSADOR</th>\n",
       "      <td>159042</td>\n",
       "      <td>295,315,426.50</td>\n",
       "    </tr>\n",
       "    <tr>\n",
       "      <th>MF</th>\n",
       "      <td>8909</td>\n",
       "      <td>23,066,911.50</td>\n",
       "    </tr>\n",
       "    <tr>\n",
       "      <th>SAI</th>\n",
       "      <td>29760</td>\n",
       "      <td>9,815,885.50</td>\n",
       "    </tr>\n",
       "  </tbody>\n",
       "</table>\n",
       "</div>"
      ],
      "text/plain": [
       "             num_trx         mnt_total_trx\n",
       "canal                                     \n",
       "CB             23295 15,008,924,711,656.00\n",
       "POS            83393    525,188,794,529.50\n",
       "PAC              125      1,546,534,169.50\n",
       "DISPENSADOR   159042        295,315,426.50\n",
       "MF              8909         23,066,911.50\n",
       "SAI            29760          9,815,885.50"
      ]
     },
     "execution_count": 93,
     "metadata": {},
     "output_type": "execute_result"
    }
   ],
   "source": [
    "(\n",
    "    df_join_merged_v3\n",
    "    .groupby('canal')\n",
    "    [['num_trx', 'mnt_total_trx']]\n",
    "    .sum()\n",
    "    .sort_values(\n",
    "        by = 'mnt_total_trx', \n",
    "        ascending = False\n",
    "    )\n",
    ")"
   ]
  },
  {
   "cell_type": "markdown",
   "id": "a41241cb-6bfa-4040-9805-734f0fd6f731",
   "metadata": {},
   "source": [
    "No obstante, la suma de los montos totales de las transacciones por canal muestran una predilección por el canal CB para transacciones grandes, seguido del POS. Los demás canales muestran unas cantidades relativamente bajas."
   ]
  },
  {
   "cell_type": "markdown",
   "id": "297c459f-8eea-4edb-83ea-69eb1de2e17d",
   "metadata": {},
   "source": [
    "**Hipótesis Canales:** Para la hipótesis sobre los canales a analizar partiremos de la información analizada (en un principio).\n",
    "\n",
    "-Si bien estudios de uso de canales bancarios de acuerdo a características demográficas, como este de (larepublica.co)[https://www.larepublica.co/consumo/cajero-automatico-el-lider-por-estratos-y-edades-en-canales-de-usuarios-bancarios-2286951] sugieren que el canal predilecto de los/as colombianos es el cajero bancario, tiene mucho más sentido que en una compañía financiera como Nequi, que surge y se fortalece desde el ámbito digital, el canal más utilizado sea la **app movil**. Por tal motivo, partiremos del supuesto que el canal dispensador hace referencia a la **App**. Esto también explica que sea el más utilizado en frecuencia pero no el superior en montos de transacciones, pues se utiliza principalmente para las transacciones pequeñas del día a día. Teniendo en cuenta esto y que anteriormente sugerimos que el canal Dispensador era complementario con el canal SAI, podemos decir que el canal SAI hace referencia al **portal_web**.\n",
    "\n",
    "-En ese sentido, es factible que el canal que presenta las transacciones de mayor cuantía **(CB)** sea la **Caja del Banco**, pues para este tipo de transacciones le genera más seguridad a los usuarios que pueden temer cometer un error al llevar a cabo los procedimientos sin intermediación.\n",
    "\n",
    "-Después de la **Caja del banco** en el monto total de las transacciones encontramos los canales POS y PAC. Siguiendo la misma lógica de la seguridad en las transacciones grandes cuando hay una intermediación de un tercero, podríamos decir que estos canales se refieren a los **Corresponsales Bancolombia** y los **Corresponsales Nequi**, respectivamente.\n",
    "\n",
    "-Por último, asumiremos que el canal **MF** hace referencia a las **remesas**."
   ]
  },
  {
   "cell_type": "code",
   "execution_count": 94,
   "id": "5d2abf0c-ad2d-4d74-b2c6-ef5de8348440",
   "metadata": {
    "tags": []
   },
   "outputs": [
    {
     "data": {
      "text/plain": [
       "codigo                int64\n",
       "nombre             category\n",
       "cod_dispositivo       int64\n",
       "latitud             float64\n",
       "longitud            float64\n",
       "num_doc               int64\n",
       "tipo_doc           category\n",
       "canal              category\n",
       "num_trx               int64\n",
       "mnt_total_trx       float64\n",
       "ubicacion            object\n",
       "estrato            category\n",
       "dtype: object"
      ]
     },
     "execution_count": 94,
     "metadata": {},
     "output_type": "execute_result"
    }
   ],
   "source": [
    "#Reasignando valores\n",
    "\n",
    "(\n",
    "    df_join_merged_v3[columnas]\n",
    "    .assign(canal = lambda df: \n",
    "            df.canal.replace(\n",
    "                ['CB', 'DISPENSADOR', 'SAI', 'POS', 'PAC', 'MF'], \n",
    "                ['caja_banco', 'app', 'portal_web','corr_bancolombia', 'corr_nequi', 'Remesas']\n",
    "            )\n",
    "    ).astype(types)\n",
    "    .dtypes\n",
    ")"
   ]
  },
  {
   "cell_type": "markdown",
   "id": "bcacfb80-d85d-4e13-b966-871d8a17d588",
   "metadata": {},
   "source": [
    "**2.2 Definiendo valores para la variable *Tipo_documento***"
   ]
  },
  {
   "cell_type": "code",
   "execution_count": 95,
   "id": "0f1b55f3-1949-47b0-bacd-ba8250a30974",
   "metadata": {},
   "outputs": [
    {
     "data": {
      "text/html": [
       "<div>\n",
       "<style scoped>\n",
       "    .dataframe tbody tr th:only-of-type {\n",
       "        vertical-align: middle;\n",
       "    }\n",
       "\n",
       "    .dataframe tbody tr th {\n",
       "        vertical-align: top;\n",
       "    }\n",
       "\n",
       "    .dataframe thead th {\n",
       "        text-align: right;\n",
       "    }\n",
       "</style>\n",
       "<table border=\"1\" class=\"dataframe\">\n",
       "  <thead>\n",
       "    <tr style=\"text-align: right;\">\n",
       "      <th></th>\n",
       "      <th>num_trx</th>\n",
       "      <th>mnt_total_trx</th>\n",
       "    </tr>\n",
       "    <tr>\n",
       "      <th>tipo_doc</th>\n",
       "      <th></th>\n",
       "      <th></th>\n",
       "    </tr>\n",
       "  </thead>\n",
       "  <tbody>\n",
       "    <tr>\n",
       "      <th>1</th>\n",
       "      <td>296507</td>\n",
       "      <td>15,165,988,270,255.00</td>\n",
       "    </tr>\n",
       "    <tr>\n",
       "      <th>2</th>\n",
       "      <td>7878</td>\n",
       "      <td>369,877,904,845.50</td>\n",
       "    </tr>\n",
       "    <tr>\n",
       "      <th>3</th>\n",
       "      <td>48</td>\n",
       "      <td>96,133,890.50</td>\n",
       "    </tr>\n",
       "    <tr>\n",
       "      <th>4</th>\n",
       "      <td>89</td>\n",
       "      <td>25,928,813.00</td>\n",
       "    </tr>\n",
       "    <tr>\n",
       "      <th>9</th>\n",
       "      <td>2</td>\n",
       "      <td>774.50</td>\n",
       "    </tr>\n",
       "  </tbody>\n",
       "</table>\n",
       "</div>"
      ],
      "text/plain": [
       "          num_trx         mnt_total_trx\n",
       "tipo_doc                               \n",
       "1          296507 15,165,988,270,255.00\n",
       "2            7878    369,877,904,845.50\n",
       "3              48         96,133,890.50\n",
       "4              89         25,928,813.00\n",
       "9               2                774.50"
      ]
     },
     "execution_count": 95,
     "metadata": {},
     "output_type": "execute_result"
    }
   ],
   "source": [
    "(\n",
    "    df_join_merged_v3\n",
    "    .groupby('tipo_doc')\n",
    "    [['num_trx', 'mnt_total_trx']]\n",
    "    .sum()\n",
    "    .sort_values(\n",
    "        by = 'mnt_total_trx', \n",
    "        ascending = False\n",
    "    )\n",
    ")"
   ]
  },
  {
   "cell_type": "markdown",
   "id": "6d2da52c-d9fc-4498-a355-f4168141cf1c",
   "metadata": {},
   "source": [
    "Teniendo en cuenta que Nequi es una entidad financiera que nace principalmente con un enfoque en las personas y posteriormente extendió sus servicios a las micro, pequeñas y medianas empresas y continúa en expansión. Asumiremos que el tipo de documento **1** hace referencia a la Cédula de ciudadanía **CC**, el 2 al **NIT** y, teniendo en cuenta que el ejercicio se realiza a modo de hpótesis, el **3** se asignará a las cédulas de extranjerías **CE**, el **4** a los pasaportes **PA** y el **9** a los documentos extranjeros **d_x**."
   ]
  },
  {
   "cell_type": "code",
   "execution_count": 96,
   "id": "bd85a006-ccb1-4621-ab8c-c22deb251035",
   "metadata": {},
   "outputs": [],
   "source": [
    "df_join_merged_v3 = (\n",
    "    df_join_merged_v3[columnas]\n",
    "    .assign(canal = lambda df: \n",
    "            df.canal.replace(\n",
    "                ['CB', 'DISPENSADOR', 'SAI', 'POS', 'PAC', 'MF'], \n",
    "                ['caja_banco', 'app', 'portal_web','corr_bancolombia', 'corr_nequi', 'Remesas']),\n",
    "            tipo_doc = lambda df:\n",
    "                df.tipo_doc.replace(\n",
    "                    [1, 2, 3, 4, 9],\n",
    "                    ['CC', 'NIT', 'CE', 'PA', 'd_x']\n",
    "                )\n",
    "    ).astype(types)\n",
    ")"
   ]
  },
  {
   "cell_type": "code",
   "execution_count": 97,
   "id": "58550eb5-42e4-404b-b03d-2935029cf618",
   "metadata": {},
   "outputs": [
    {
     "data": {
      "text/html": [
       "<div>\n",
       "<style scoped>\n",
       "    .dataframe tbody tr th:only-of-type {\n",
       "        vertical-align: middle;\n",
       "    }\n",
       "\n",
       "    .dataframe tbody tr th {\n",
       "        vertical-align: top;\n",
       "    }\n",
       "\n",
       "    .dataframe thead th {\n",
       "        text-align: right;\n",
       "    }\n",
       "</style>\n",
       "<table border=\"1\" class=\"dataframe\">\n",
       "  <thead>\n",
       "    <tr style=\"text-align: right;\">\n",
       "      <th></th>\n",
       "      <th>codigo</th>\n",
       "      <th>nombre</th>\n",
       "      <th>cod_dispositivo</th>\n",
       "      <th>latitud</th>\n",
       "      <th>longitud</th>\n",
       "      <th>num_doc</th>\n",
       "      <th>tipo_doc</th>\n",
       "      <th>canal</th>\n",
       "      <th>num_trx</th>\n",
       "      <th>mnt_total_trx</th>\n",
       "      <th>ubicacion</th>\n",
       "      <th>estrato</th>\n",
       "    </tr>\n",
       "  </thead>\n",
       "  <tbody>\n",
       "    <tr>\n",
       "      <th>0</th>\n",
       "      <td>737998257</td>\n",
       "      <td>La Campina</td>\n",
       "      <td>12202503</td>\n",
       "      <td>3.48</td>\n",
       "      <td>-76.53</td>\n",
       "      <td>-2393994463924208659</td>\n",
       "      <td>CC</td>\n",
       "      <td>corr_bancolombia</td>\n",
       "      <td>2</td>\n",
       "      <td>12,202,503.00</td>\n",
       "      <td>(3.479572082, -76.52558242)</td>\n",
       "      <td>4</td>\n",
       "    </tr>\n",
       "    <tr>\n",
       "      <th>1</th>\n",
       "      <td>737998257</td>\n",
       "      <td>La Campina</td>\n",
       "      <td>10521045</td>\n",
       "      <td>3.48</td>\n",
       "      <td>-76.53</td>\n",
       "      <td>-5675531380015678594</td>\n",
       "      <td>CC</td>\n",
       "      <td>corr_bancolombia</td>\n",
       "      <td>1</td>\n",
       "      <td>5,260,522.50</td>\n",
       "      <td>(3.480516553, -76.52527472)</td>\n",
       "      <td>4</td>\n",
       "    </tr>\n",
       "    <tr>\n",
       "      <th>2</th>\n",
       "      <td>737998257</td>\n",
       "      <td>La Campina</td>\n",
       "      <td>10521045</td>\n",
       "      <td>3.48</td>\n",
       "      <td>-76.53</td>\n",
       "      <td>-5066077049535851626</td>\n",
       "      <td>CC</td>\n",
       "      <td>corr_bancolombia</td>\n",
       "      <td>1</td>\n",
       "      <td>5,260,522.50</td>\n",
       "      <td>(3.480516553, -76.52527472)</td>\n",
       "      <td>4</td>\n",
       "    </tr>\n",
       "    <tr>\n",
       "      <th>3</th>\n",
       "      <td>737998257</td>\n",
       "      <td>La Campina</td>\n",
       "      <td>13238282</td>\n",
       "      <td>3.48</td>\n",
       "      <td>-76.53</td>\n",
       "      <td>-5791329717693361241</td>\n",
       "      <td>CC</td>\n",
       "      <td>corr_bancolombia</td>\n",
       "      <td>1</td>\n",
       "      <td>6,619,141.00</td>\n",
       "      <td>(3.47949063002, -76.5258184734)</td>\n",
       "      <td>4</td>\n",
       "    </tr>\n",
       "    <tr>\n",
       "      <th>4</th>\n",
       "      <td>737998257</td>\n",
       "      <td>La Campina</td>\n",
       "      <td>12567517</td>\n",
       "      <td>3.48</td>\n",
       "      <td>-76.53</td>\n",
       "      <td>-397966594878551344</td>\n",
       "      <td>CC</td>\n",
       "      <td>corr_bancolombia</td>\n",
       "      <td>1</td>\n",
       "      <td>6,283,758.50</td>\n",
       "      <td>(3.480957671, -76.52515269)</td>\n",
       "      <td>4</td>\n",
       "    </tr>\n",
       "  </tbody>\n",
       "</table>\n",
       "</div>"
      ],
      "text/plain": [
       "      codigo      nombre  cod_dispositivo  latitud  longitud  \\\n",
       "0  737998257  La Campina         12202503     3.48    -76.53   \n",
       "1  737998257  La Campina         10521045     3.48    -76.53   \n",
       "2  737998257  La Campina         10521045     3.48    -76.53   \n",
       "3  737998257  La Campina         13238282     3.48    -76.53   \n",
       "4  737998257  La Campina         12567517     3.48    -76.53   \n",
       "\n",
       "               num_doc tipo_doc             canal  num_trx  mnt_total_trx  \\\n",
       "0 -2393994463924208659       CC  corr_bancolombia        2  12,202,503.00   \n",
       "1 -5675531380015678594       CC  corr_bancolombia        1   5,260,522.50   \n",
       "2 -5066077049535851626       CC  corr_bancolombia        1   5,260,522.50   \n",
       "3 -5791329717693361241       CC  corr_bancolombia        1   6,619,141.00   \n",
       "4  -397966594878551344       CC  corr_bancolombia        1   6,283,758.50   \n",
       "\n",
       "                         ubicacion estrato  \n",
       "0      (3.479572082, -76.52558242)       4  \n",
       "1      (3.480516553, -76.52527472)       4  \n",
       "2      (3.480516553, -76.52527472)       4  \n",
       "3  (3.47949063002, -76.5258184734)       4  \n",
       "4      (3.480957671, -76.52515269)       4  "
      ]
     },
     "execution_count": 97,
     "metadata": {},
     "output_type": "execute_result"
    }
   ],
   "source": [
    "df_join_merged_v3.head()"
   ]
  },
  {
   "cell_type": "code",
   "execution_count": 109,
   "id": "4634c05e-4d87-4b7f-8653-3640df78fa7c",
   "metadata": {},
   "outputs": [],
   "source": [
    "colores_nequi = {\n",
    "    'portal_web':'#20CF82',\n",
    "    'app':'#210049',\n",
    "    'caja_banco':'#FF598F',\n",
    "    'corr_bancolombia':'#FFDB00',\n",
    "    'corr_nequi':'#6991FF',\n",
    "    'Remesas':'#59CBE8'\n",
    "}"
   ]
  },
  {
   "cell_type": "code",
   "execution_count": 99,
   "id": "16d98c0e-6335-4a0b-9b3a-1f00bd0154c0",
   "metadata": {},
   "outputs": [
    {
     "data": {
      "text/html": [
       "<div>\n",
       "<style scoped>\n",
       "    .dataframe tbody tr th:only-of-type {\n",
       "        vertical-align: middle;\n",
       "    }\n",
       "\n",
       "    .dataframe tbody tr th {\n",
       "        vertical-align: top;\n",
       "    }\n",
       "\n",
       "    .dataframe thead th {\n",
       "        text-align: right;\n",
       "    }\n",
       "</style>\n",
       "<table border=\"1\" class=\"dataframe\">\n",
       "  <thead>\n",
       "    <tr style=\"text-align: right;\">\n",
       "      <th></th>\n",
       "      <th>num_trx</th>\n",
       "      <th>mnt_total_trx</th>\n",
       "    </tr>\n",
       "  </thead>\n",
       "  <tbody>\n",
       "    <tr>\n",
       "      <th>count</th>\n",
       "      <td>94,605.00</td>\n",
       "      <td>94,605.00</td>\n",
       "    </tr>\n",
       "    <tr>\n",
       "      <th>mean</th>\n",
       "      <td>3.22</td>\n",
       "      <td>164,219,525.80</td>\n",
       "    </tr>\n",
       "    <tr>\n",
       "      <th>std</th>\n",
       "      <td>6.27</td>\n",
       "      <td>1,357,456,454.46</td>\n",
       "    </tr>\n",
       "    <tr>\n",
       "      <th>min</th>\n",
       "      <td>1.00</td>\n",
       "      <td>30.00</td>\n",
       "    </tr>\n",
       "    <tr>\n",
       "      <th>25%</th>\n",
       "      <td>1.00</td>\n",
       "      <td>2,568.50</td>\n",
       "    </tr>\n",
       "    <tr>\n",
       "      <th>50%</th>\n",
       "      <td>1.00</td>\n",
       "      <td>20,394.50</td>\n",
       "    </tr>\n",
       "    <tr>\n",
       "      <th>75%</th>\n",
       "      <td>3.00</td>\n",
       "      <td>7,370,069.00</td>\n",
       "    </tr>\n",
       "    <tr>\n",
       "      <th>max</th>\n",
       "      <td>315.00</td>\n",
       "      <td>123,209,539,563.50</td>\n",
       "    </tr>\n",
       "  </tbody>\n",
       "</table>\n",
       "</div>"
      ],
      "text/plain": [
       "        num_trx      mnt_total_trx\n",
       "count 94,605.00          94,605.00\n",
       "mean       3.22     164,219,525.80\n",
       "std        6.27   1,357,456,454.46\n",
       "min        1.00              30.00\n",
       "25%        1.00           2,568.50\n",
       "50%        1.00          20,394.50\n",
       "75%        3.00       7,370,069.00\n",
       "max      315.00 123,209,539,563.50"
      ]
     },
     "execution_count": 99,
     "metadata": {},
     "output_type": "execute_result"
    }
   ],
   "source": [
    "df_join_merged_v3[['num_trx', 'mnt_total_trx']].describe()"
   ]
  },
  {
   "cell_type": "markdown",
   "id": "1e0e23eb-bff1-4f0e-88a4-de6f64d9f3f5",
   "metadata": {},
   "source": [
    "**Comportamiento de las transacciones por estrato**"
   ]
  },
  {
   "cell_type": "markdown",
   "id": "f0117a2a-68d0-48cb-bb4b-03188082c6c1",
   "metadata": {},
   "source": [
    "***Distribución por estrato***: Podemos observar que los clientes se distribuyen de una forma normal. El grueso de los clientes pertenecen a los estratos socioeconómicos 3, 4 y 5."
   ]
  },
  {
   "cell_type": "code",
   "execution_count": 100,
   "id": "cd0aaa4b-ccb5-46b5-b444-a6c91d197629",
   "metadata": {},
   "outputs": [
    {
     "data": {
      "text/plain": [
       "<AxesSubplot:xlabel='estrato', ylabel='count'>"
      ]
     },
     "execution_count": 100,
     "metadata": {},
     "output_type": "execute_result"
    },
    {
     "data": {
      "image/png": "[encoded data removed]",
      "text/plain": [
       "<Figure size 640x480 with 1 Axes>"
      ]
     },
     "metadata": {},
     "output_type": "display_data"
    }
   ],
   "source": [
    "(\n",
    "    sns.countplot(\n",
    "        data = df_join_merged_v3,\n",
    "        x = 'estrato'        \n",
    "    )\n",
    ")"
   ]
  },
  {
   "cell_type": "markdown",
   "id": "cf04618e-fde6-49d7-86c1-cafe6865a82e",
   "metadata": {},
   "source": [
    "Así mismo, los estratos 3, 4  y 5 se destacan como aquellos que más realizan transacciones, seguidos del estrato 2 y el 6 respectivamente."
   ]
  },
  {
   "cell_type": "code",
   "execution_count": 101,
   "id": "4dbc9880-6b62-4b3b-98d5-a1bac9bddcf2",
   "metadata": {},
   "outputs": [
    {
     "data": {
      "text/plain": [
       "<AxesSubplot:xlabel='estrato', ylabel='num_trx'>"
      ]
     },
     "execution_count": 101,
     "metadata": {},
     "output_type": "execute_result"
    },
    {
     "data": {
      "image/png": "[encoded data removed]",
      "text/plain": [
       "<Figure size 640x480 with 1 Axes>"
      ]
     },
     "metadata": {},
     "output_type": "display_data"
    }
   ],
   "source": [
    "(\n",
    "    sns.barplot(\n",
    "        data = df_join_merged_v3,\n",
    "        x = 'estrato',\n",
    "        y = 'num_trx',\n",
    "        estimator = 'sum',\n",
    "        #hue = 'canal',\n",
    "        #palette = colores_nequi\n",
    "    )\n",
    ")"
   ]
  },
  {
   "cell_type": "code",
   "execution_count": 145,
   "id": "3f85cfbc-00e3-4fb3-baff-f7fb0d9d0038",
   "metadata": {},
   "outputs": [
    {
     "data": {
      "text/plain": [
       "<AxesSubplot:xlabel='estrato', ylabel='mnt_total_trx'>"
      ]
     },
     "execution_count": 145,
     "metadata": {},
     "output_type": "execute_result"
    },
    {
     "data": {
      "image/png": "[encoded data removed]",
      "text/plain": [
       "<Figure size 640x480 with 1 Axes>"
      ]
     },
     "metadata": {},
     "output_type": "display_data"
    }
   ],
   "source": [
    "(\n",
    "    sns.barplot(\n",
    "        data = df_join_merged_v3,\n",
    "        x = 'estrato',\n",
    "        y = 'mnt_total_trx',\n",
    "        estimator = 'sum'\n",
    "    )\n",
    ")"
   ]
  },
  {
   "cell_type": "markdown",
   "id": "09d92fa2-1dae-4e53-bf08-30c49f08cd25",
   "metadata": {
    "tags": []
   },
   "source": [
    "En cuanto al monto, vemos que si bien el estrato 3 es el que presenta mayor volumen en las transacciones, podemos destacar un monto importante en el estrato 2 que, con menor frecuencia de uso, se acerca a los montos totales de las transacciones realizadas por los estratos 4 y 5."
   ]
  },
  {
   "cell_type": "markdown",
   "id": "ec353258-f307-4696-9ca6-2a736dad65d1",
   "metadata": {},
   "source": [
    "Por otro lado, visualizamos nuevamente los canales respecto al número de transacciones y monto de las mismas posterior a la asignación de las variables."
   ]
  },
  {
   "cell_type": "code",
   "execution_count": 157,
   "id": "b5cd01e8-78cd-46e8-a6d5-52b57a5e068b",
   "metadata": {},
   "outputs": [
    {
     "data": {
      "image/png": "[encoded data removed]",
      "text/plain": [
       "<Figure size 640x480 with 1 Axes>"
      ]
     },
     "metadata": {},
     "output_type": "display_data"
    }
   ],
   "source": [
    "ax = (\n",
    "    sns.barplot(\n",
    "        data = df_join_merged_v3,\n",
    "        x = 'canal',\n",
    "        y = 'num_trx',\n",
    "        estimator = 'sum',\n",
    "        palette = colores_nequi\n",
    "    )\n",
    ")\n",
    "\n",
    "ax.set_xticklabels(ax.get_xticklabels(), rotation=30)\n",
    "\n",
    "plt.show()"
   ]
  },
  {
   "cell_type": "markdown",
   "id": "897eeda6-694b-425a-b6c9-49296471b712",
   "metadata": {},
   "source": [
    "En este punto del análisis tenemos un panorama de la distribución socioeconómica de los clientes de Nequi en la ciudad de Cali y sus canales predilectos para llevar a cabo transacciones. No obstante, en aras de un análisis más riguroso con un enfoque en los dos segmentos de mercado principales de la compañía (usuarios finales y mipymes), es necesario desagregar los datos."
   ]
  },
  {
   "cell_type": "markdown",
   "id": "04319d5c-ebd2-489e-8b5e-71976ada91a6",
   "metadata": {},
   "source": [
    "**2.3 Análisis transacciones - Enfoque: Barrios**\n",
    "\n",
    "Un análisis enfocado en los barrios nos permitirá analzar la presencia de Nequi en el territorio caleño, definir aquellos barrios con mayor impacto e identificar oportunidades de mejora.\n"
   ]
  },
  {
   "cell_type": "code",
   "execution_count": 136,
   "id": "a5b0c1e2-4ada-4037-8b6f-c8fb005dd590",
   "metadata": {},
   "outputs": [],
   "source": [
    "df_barrios = (\n",
    "    df_join_merged_v3\n",
    "    .groupby('nombre', as_index = False)\n",
    "    [['cod_dispositivo', 'num_doc', 'canal', 'estrato', 'num_trx', 'mnt_total_trx']]\n",
    "    .agg({\n",
    "        'cod_dispositivo': 'count',\n",
    "        'num_doc': 'count',\n",
    "        'canal': 'first',\n",
    "        'estrato': 'first',\n",
    "        'num_trx': 'sum',\n",
    "        'mnt_total_trx': 'sum'\n",
    "    })\n",
    "    .sort_values(\n",
    "        by = 'mnt_total_trx', \n",
    "        ascending = False\n",
    "    )\n",
    ")"
   ]
  },
  {
   "cell_type": "code",
   "execution_count": 143,
   "id": "f8891f00-ba40-4694-a36f-295b94605e4b",
   "metadata": {},
   "outputs": [],
   "source": [
    "df_barrios.columns = ['nombre_barrio', 'cant_dispositivos', 'cant_clientes', 'canal_mayoritario', 'estrato_mayoritario', \n",
    "                      'cant_trx', 'mnt_total_trx']"
   ]
  },
  {
   "cell_type": "code",
   "execution_count": 176,
   "id": "ef788944-4bdd-44de-8a01-c11c31e73234",
   "metadata": {},
   "outputs": [
    {
     "data": {
      "text/html": [
       "<div>\n",
       "<style scoped>\n",
       "    .dataframe tbody tr th:only-of-type {\n",
       "        vertical-align: middle;\n",
       "    }\n",
       "\n",
       "    .dataframe tbody tr th {\n",
       "        vertical-align: top;\n",
       "    }\n",
       "\n",
       "    .dataframe thead th {\n",
       "        text-align: right;\n",
       "    }\n",
       "</style>\n",
       "<table border=\"1\" class=\"dataframe\">\n",
       "  <thead>\n",
       "    <tr style=\"text-align: right;\">\n",
       "      <th></th>\n",
       "      <th>nombre_barrio</th>\n",
       "      <th>cant_dispositivos</th>\n",
       "      <th>cant_clientes</th>\n",
       "      <th>canal_mayoritario</th>\n",
       "      <th>estrato_mayoritario</th>\n",
       "      <th>cant_trx</th>\n",
       "      <th>mnt_total_trx</th>\n",
       "    </tr>\n",
       "  </thead>\n",
       "  <tbody>\n",
       "    <tr>\n",
       "      <th>224</th>\n",
       "      <td>San Nicolas</td>\n",
       "      <td>1383</td>\n",
       "      <td>1383</td>\n",
       "      <td>corr_bancolombia</td>\n",
       "      <td>2</td>\n",
       "      <td>4258</td>\n",
       "      <td>837,206,014,245.00</td>\n",
       "    </tr>\n",
       "    <tr>\n",
       "      <th>250</th>\n",
       "      <td>Unicentro Cali</td>\n",
       "      <td>3157</td>\n",
       "      <td>3157</td>\n",
       "      <td>corr_bancolombia</td>\n",
       "      <td>5</td>\n",
       "      <td>8595</td>\n",
       "      <td>588,293,590,315.00</td>\n",
       "    </tr>\n",
       "    <tr>\n",
       "      <th>37</th>\n",
       "      <td>Calima</td>\n",
       "      <td>447</td>\n",
       "      <td>447</td>\n",
       "      <td>corr_bancolombia</td>\n",
       "      <td>3</td>\n",
       "      <td>1162</td>\n",
       "      <td>569,893,680,362.00</td>\n",
       "    </tr>\n",
       "    <tr>\n",
       "      <th>94</th>\n",
       "      <td>El Sena</td>\n",
       "      <td>3049</td>\n",
       "      <td>3049</td>\n",
       "      <td>corr_bancolombia</td>\n",
       "      <td>3</td>\n",
       "      <td>9410</td>\n",
       "      <td>522,368,699,294.00</td>\n",
       "    </tr>\n",
       "    <tr>\n",
       "      <th>266</th>\n",
       "      <td>Versalles</td>\n",
       "      <td>659</td>\n",
       "      <td>659</td>\n",
       "      <td>corr_bancolombia</td>\n",
       "      <td>5</td>\n",
       "      <td>1343</td>\n",
       "      <td>509,215,640,580.00</td>\n",
       "    </tr>\n",
       "  </tbody>\n",
       "</table>\n",
       "</div>"
      ],
      "text/plain": [
       "      nombre_barrio  cant_dispositivos  cant_clientes canal_mayoritario  \\\n",
       "224     San Nicolas               1383           1383  corr_bancolombia   \n",
       "250  Unicentro Cali               3157           3157  corr_bancolombia   \n",
       "37           Calima                447            447  corr_bancolombia   \n",
       "94          El Sena               3049           3049  corr_bancolombia   \n",
       "266       Versalles                659            659  corr_bancolombia   \n",
       "\n",
       "    estrato_mayoritario  cant_trx      mnt_total_trx  \n",
       "224                   2      4258 837,206,014,245.00  \n",
       "250                   5      8595 588,293,590,315.00  \n",
       "37                    3      1162 569,893,680,362.00  \n",
       "94                    3      9410 522,368,699,294.00  \n",
       "266                   5      1343 509,215,640,580.00  "
      ]
     },
     "execution_count": 176,
     "metadata": {},
     "output_type": "execute_result"
    }
   ],
   "source": [
    "df_barrios.head()"
   ]
  },
  {
   "cell_type": "code",
   "execution_count": 144,
   "id": "7a05c86d-16c3-4731-b837-34f7b3b8b7a4",
   "metadata": {},
   "outputs": [
    {
     "data": {
      "text/html": [
       "<div>\n",
       "<style scoped>\n",
       "    .dataframe tbody tr th:only-of-type {\n",
       "        vertical-align: middle;\n",
       "    }\n",
       "\n",
       "    .dataframe tbody tr th {\n",
       "        vertical-align: top;\n",
       "    }\n",
       "\n",
       "    .dataframe thead th {\n",
       "        text-align: right;\n",
       "    }\n",
       "</style>\n",
       "<table border=\"1\" class=\"dataframe\">\n",
       "  <thead>\n",
       "    <tr style=\"text-align: right;\">\n",
       "      <th></th>\n",
       "      <th>cant_dispositivos</th>\n",
       "      <th>cant_clientes</th>\n",
       "      <th>cant_trx</th>\n",
       "      <th>mnt_total_trx</th>\n",
       "    </tr>\n",
       "  </thead>\n",
       "  <tbody>\n",
       "    <tr>\n",
       "      <th>count</th>\n",
       "      <td>275.00</td>\n",
       "      <td>275.00</td>\n",
       "      <td>275.00</td>\n",
       "      <td>275.00</td>\n",
       "    </tr>\n",
       "    <tr>\n",
       "      <th>mean</th>\n",
       "      <td>344.02</td>\n",
       "      <td>344.02</td>\n",
       "      <td>1,107.36</td>\n",
       "      <td>56,494,502,685.74</td>\n",
       "    </tr>\n",
       "    <tr>\n",
       "      <th>std</th>\n",
       "      <td>743.36</td>\n",
       "      <td>743.36</td>\n",
       "      <td>2,286.95</td>\n",
       "      <td>115,768,590,293.03</td>\n",
       "    </tr>\n",
       "    <tr>\n",
       "      <th>min</th>\n",
       "      <td>1.00</td>\n",
       "      <td>1.00</td>\n",
       "      <td>1.00</td>\n",
       "      <td>5,804,911.50</td>\n",
       "    </tr>\n",
       "    <tr>\n",
       "      <th>25%</th>\n",
       "      <td>12.00</td>\n",
       "      <td>12.00</td>\n",
       "      <td>30.00</td>\n",
       "      <td>307,312,648.25</td>\n",
       "    </tr>\n",
       "    <tr>\n",
       "      <th>50%</th>\n",
       "      <td>58.00</td>\n",
       "      <td>58.00</td>\n",
       "      <td>168.00</td>\n",
       "      <td>7,651,771,673.00</td>\n",
       "    </tr>\n",
       "    <tr>\n",
       "      <th>75%</th>\n",
       "      <td>260.00</td>\n",
       "      <td>260.00</td>\n",
       "      <td>1,000.50</td>\n",
       "      <td>52,508,655,034.25</td>\n",
       "    </tr>\n",
       "    <tr>\n",
       "      <th>max</th>\n",
       "      <td>5,304.00</td>\n",
       "      <td>5,304.00</td>\n",
       "      <td>15,141.00</td>\n",
       "      <td>837,206,014,245.00</td>\n",
       "    </tr>\n",
       "  </tbody>\n",
       "</table>\n",
       "</div>"
      ],
      "text/plain": [
       "       cant_dispositivos  cant_clientes  cant_trx      mnt_total_trx\n",
       "count             275.00         275.00    275.00             275.00\n",
       "mean              344.02         344.02  1,107.36  56,494,502,685.74\n",
       "std               743.36         743.36  2,286.95 115,768,590,293.03\n",
       "min                 1.00           1.00      1.00       5,804,911.50\n",
       "25%                12.00          12.00     30.00     307,312,648.25\n",
       "50%                58.00          58.00    168.00   7,651,771,673.00\n",
       "75%               260.00         260.00  1,000.50  52,508,655,034.25\n",
       "max             5,304.00       5,304.00 15,141.00 837,206,014,245.00"
      ]
     },
     "execution_count": 144,
     "metadata": {},
     "output_type": "execute_result"
    }
   ],
   "source": [
    "df_barrios.describe()"
   ]
  },
  {
   "cell_type": "code",
   "execution_count": 167,
   "id": "d8eca919-e755-4139-ac05-76fd74c17046",
   "metadata": {},
   "outputs": [
    {
     "data": {
      "text/plain": [
       "4.400000000000002"
      ]
     },
     "execution_count": 167,
     "metadata": {},
     "output_type": "execute_result"
    }
   ],
   "source": [
    "df_barrios.cant_trx.quantile(q=0.100)"
   ]
  },
  {
   "cell_type": "markdown",
   "id": "b5d3f696-4d64-4c82-a711-6deeb3db5cc2",
   "metadata": {},
   "source": [
    "**2.3.1 Análisis univariado**"
   ]
  },
  {
   "cell_type": "code",
   "execution_count": 175,
   "id": "00052c90-4d49-4163-af76-5f07d4715e3e",
   "metadata": {},
   "outputs": [
    {
     "data": {
      "image/png": "[encoded data removed]",
      "text/plain": [
       "<Figure size 1500x500 with 4 Axes>"
      ]
     },
     "metadata": {},
     "output_type": "display_data"
    }
   ],
   "source": [
    "numeric_columns = ['cant_dispositivos', 'cant_clientes', 'cant_trx', 'mnt_total_trx']\n",
    "\n",
    "fig, ax = plt.subplots(1, len(numeric_columns), figsize = (15, 5))\n",
    "\n",
    "for i in range(len(numeric_columns)):\n",
    "    sns.histplot(\n",
    "        ax = ax[i],\n",
    "        data = df_barrios,\n",
    "        x = numeric_columns[i],\n",
    "        kde = 'true'\n",
    "    )\n",
    "      "
   ]
  },
  {
   "cell_type": "markdown",
   "id": "baeede04-2c56-44a7-b396-08a1740c3c5b",
   "metadata": {},
   "source": [
    "Tal como se obersva, los valores anómalos presentes en el conjunto de los datos dificulta el análisis del comportamiento de las variables, por lo que procedemos a eliminarlos."
   ]
  },
  {
   "cell_type": "code",
   "execution_count": 180,
   "id": "18674cf3-257a-4ae2-866c-a792b33e87f6",
   "metadata": {},
   "outputs": [],
   "source": [
    "Q1 = df_barrios.quantile(q=0.25)\n",
    "Q3 = df_barrios.quantile(q=0.75)\n",
    "\n",
    "IQR = Q3 - Q1\n",
    "\n",
    "lim_inf = Q1 - 1.5 * IQR\n",
    "lim_sup = Q3 + 1.5 * IQR"
   ]
  },
  {
   "cell_type": "code",
   "execution_count": 185,
   "id": "e61c9eab-ac1f-449a-a8f3-6e028bf97ab8",
   "metadata": {},
   "outputs": [],
   "source": [
    "df_barrios_sin_outliers = df_barrios[numeric_columns][(df_barrios[numeric_columns] >= lim_inf) & (df_barrios[numeric_columns] <= lim_sup)].dropna()"
   ]
  },
  {
   "cell_type": "code",
   "execution_count": 186,
   "id": "89d03da4-7681-4f44-be38-4c77e9a3b3dd",
   "metadata": {},
   "outputs": [
    {
     "data": {
      "text/html": [
       "<div>\n",
       "<style scoped>\n",
       "    .dataframe tbody tr th:only-of-type {\n",
       "        vertical-align: middle;\n",
       "    }\n",
       "\n",
       "    .dataframe tbody tr th {\n",
       "        vertical-align: top;\n",
       "    }\n",
       "\n",
       "    .dataframe thead th {\n",
       "        text-align: right;\n",
       "    }\n",
       "</style>\n",
       "<table border=\"1\" class=\"dataframe\">\n",
       "  <thead>\n",
       "    <tr style=\"text-align: right;\">\n",
       "      <th></th>\n",
       "      <th>cant_dispositivos</th>\n",
       "      <th>cant_clientes</th>\n",
       "      <th>cant_trx</th>\n",
       "      <th>mnt_total_trx</th>\n",
       "    </tr>\n",
       "  </thead>\n",
       "  <tbody>\n",
       "    <tr>\n",
       "      <th>221</th>\n",
       "      <td>68.00</td>\n",
       "      <td>68.00</td>\n",
       "      <td>254.00</td>\n",
       "      <td>130,794,089,513.50</td>\n",
       "    </tr>\n",
       "    <tr>\n",
       "      <th>64</th>\n",
       "      <td>75.00</td>\n",
       "      <td>75.00</td>\n",
       "      <td>239.00</td>\n",
       "      <td>125,634,395,251.50</td>\n",
       "    </tr>\n",
       "    <tr>\n",
       "      <th>54</th>\n",
       "      <td>488.00</td>\n",
       "      <td>488.00</td>\n",
       "      <td>1,651.00</td>\n",
       "      <td>122,308,004,731.50</td>\n",
       "    </tr>\n",
       "    <tr>\n",
       "      <th>120</th>\n",
       "      <td>534.00</td>\n",
       "      <td>534.00</td>\n",
       "      <td>1,831.00</td>\n",
       "      <td>120,364,950,525.50</td>\n",
       "    </tr>\n",
       "    <tr>\n",
       "      <th>32</th>\n",
       "      <td>234.00</td>\n",
       "      <td>234.00</td>\n",
       "      <td>583.00</td>\n",
       "      <td>118,469,149,495.50</td>\n",
       "    </tr>\n",
       "    <tr>\n",
       "      <th>...</th>\n",
       "      <td>...</td>\n",
       "      <td>...</td>\n",
       "      <td>...</td>\n",
       "      <td>...</td>\n",
       "    </tr>\n",
       "    <tr>\n",
       "      <th>229</th>\n",
       "      <td>1.00</td>\n",
       "      <td>1.00</td>\n",
       "      <td>1.00</td>\n",
       "      <td>7,293,830.50</td>\n",
       "    </tr>\n",
       "    <tr>\n",
       "      <th>16</th>\n",
       "      <td>1.00</td>\n",
       "      <td>1.00</td>\n",
       "      <td>1.00</td>\n",
       "      <td>7,053,813.50</td>\n",
       "    </tr>\n",
       "    <tr>\n",
       "      <th>61</th>\n",
       "      <td>1.00</td>\n",
       "      <td>1.00</td>\n",
       "      <td>1.00</td>\n",
       "      <td>7,019,287.00</td>\n",
       "    </tr>\n",
       "    <tr>\n",
       "      <th>21</th>\n",
       "      <td>1.00</td>\n",
       "      <td>1.00</td>\n",
       "      <td>1.00</td>\n",
       "      <td>5,962,597.50</td>\n",
       "    </tr>\n",
       "    <tr>\n",
       "      <th>146</th>\n",
       "      <td>1.00</td>\n",
       "      <td>1.00</td>\n",
       "      <td>1.00</td>\n",
       "      <td>5,804,911.50</td>\n",
       "    </tr>\n",
       "  </tbody>\n",
       "</table>\n",
       "<p>220 rows × 4 columns</p>\n",
       "</div>"
      ],
      "text/plain": [
       "     cant_dispositivos  cant_clientes  cant_trx      mnt_total_trx\n",
       "221              68.00          68.00    254.00 130,794,089,513.50\n",
       "64               75.00          75.00    239.00 125,634,395,251.50\n",
       "54              488.00         488.00  1,651.00 122,308,004,731.50\n",
       "120             534.00         534.00  1,831.00 120,364,950,525.50\n",
       "32              234.00         234.00    583.00 118,469,149,495.50\n",
       "..                 ...            ...       ...                ...\n",
       "229               1.00           1.00      1.00       7,293,830.50\n",
       "16                1.00           1.00      1.00       7,053,813.50\n",
       "61                1.00           1.00      1.00       7,019,287.00\n",
       "21                1.00           1.00      1.00       5,962,597.50\n",
       "146               1.00           1.00      1.00       5,804,911.50\n",
       "\n",
       "[220 rows x 4 columns]"
      ]
     },
     "execution_count": 186,
     "metadata": {},
     "output_type": "execute_result"
    }
   ],
   "source": [
    "df_barrios_sin_outliers"
   ]
  },
  {
   "cell_type": "code",
   "execution_count": 189,
   "id": "459e4343-9ae9-4fc9-8027-232eccdbc0e7",
   "metadata": {},
   "outputs": [
    {
     "data": {
      "text/html": [
       "<div>\n",
       "<style scoped>\n",
       "    .dataframe tbody tr th:only-of-type {\n",
       "        vertical-align: middle;\n",
       "    }\n",
       "\n",
       "    .dataframe tbody tr th {\n",
       "        vertical-align: top;\n",
       "    }\n",
       "\n",
       "    .dataframe thead th {\n",
       "        text-align: right;\n",
       "    }\n",
       "</style>\n",
       "<table border=\"1\" class=\"dataframe\">\n",
       "  <thead>\n",
       "    <tr style=\"text-align: right;\">\n",
       "      <th></th>\n",
       "      <th>cant_dispositivos</th>\n",
       "      <th>cant_clientes</th>\n",
       "      <th>cant_trx</th>\n",
       "      <th>mnt_total_trx</th>\n",
       "    </tr>\n",
       "  </thead>\n",
       "  <tbody>\n",
       "    <tr>\n",
       "      <th>count</th>\n",
       "      <td>220.00</td>\n",
       "      <td>220.00</td>\n",
       "      <td>220.00</td>\n",
       "      <td>220.00</td>\n",
       "    </tr>\n",
       "    <tr>\n",
       "      <th>mean</th>\n",
       "      <td>91.89</td>\n",
       "      <td>91.89</td>\n",
       "      <td>307.44</td>\n",
       "      <td>20,165,486,049.15</td>\n",
       "    </tr>\n",
       "    <tr>\n",
       "      <th>std</th>\n",
       "      <td>129.87</td>\n",
       "      <td>129.87</td>\n",
       "      <td>470.18</td>\n",
       "      <td>32,110,686,071.27</td>\n",
       "    </tr>\n",
       "    <tr>\n",
       "      <th>min</th>\n",
       "      <td>1.00</td>\n",
       "      <td>1.00</td>\n",
       "      <td>1.00</td>\n",
       "      <td>5,804,911.50</td>\n",
       "    </tr>\n",
       "    <tr>\n",
       "      <th>25%</th>\n",
       "      <td>8.00</td>\n",
       "      <td>8.00</td>\n",
       "      <td>18.75</td>\n",
       "      <td>161,350,456.88</td>\n",
       "    </tr>\n",
       "    <tr>\n",
       "      <th>50%</th>\n",
       "      <td>33.00</td>\n",
       "      <td>33.00</td>\n",
       "      <td>80.00</td>\n",
       "      <td>2,117,050,356.50</td>\n",
       "    </tr>\n",
       "    <tr>\n",
       "      <th>75%</th>\n",
       "      <td>118.50</td>\n",
       "      <td>118.50</td>\n",
       "      <td>368.00</td>\n",
       "      <td>26,586,304,060.75</td>\n",
       "    </tr>\n",
       "    <tr>\n",
       "      <th>max</th>\n",
       "      <td>598.00</td>\n",
       "      <td>598.00</td>\n",
       "      <td>2,142.00</td>\n",
       "      <td>130,794,089,513.50</td>\n",
       "    </tr>\n",
       "  </tbody>\n",
       "</table>\n",
       "</div>"
      ],
      "text/plain": [
       "       cant_dispositivos  cant_clientes  cant_trx      mnt_total_trx\n",
       "count             220.00         220.00    220.00             220.00\n",
       "mean               91.89          91.89    307.44  20,165,486,049.15\n",
       "std               129.87         129.87    470.18  32,110,686,071.27\n",
       "min                 1.00           1.00      1.00       5,804,911.50\n",
       "25%                 8.00           8.00     18.75     161,350,456.88\n",
       "50%                33.00          33.00     80.00   2,117,050,356.50\n",
       "75%               118.50         118.50    368.00  26,586,304,060.75\n",
       "max               598.00         598.00  2,142.00 130,794,089,513.50"
      ]
     },
     "execution_count": 189,
     "metadata": {},
     "output_type": "execute_result"
    }
   ],
   "source": [
    "df_barrios_sin_outliers.describe()"
   ]
  },
  {
   "cell_type": "code",
   "execution_count": 193,
   "id": "85e0d899-7786-47d8-bd2d-aaaab1a87570",
   "metadata": {},
   "outputs": [
    {
     "data": {
      "image/png": "[encoded data removed]",
      "text/plain": [
       "<Figure size 1500x500 with 4 Axes>"
      ]
     },
     "metadata": {},
     "output_type": "display_data"
    }
   ],
   "source": [
    "numeric_columns = ['cant_dispositivos', 'cant_clientes', 'cant_trx', 'mnt_total_trx']\n",
    "\n",
    "fig, ax = plt.subplots(1, len(numeric_columns), figsize = (15, 5))\n",
    "\n",
    "for i in range(len(numeric_columns)):\n",
    "    sns.histplot(\n",
    "        ax = ax[i],\n",
    "        data = df_barrios_sin_outliers,\n",
    "        x = numeric_columns[i],\n",
    "        kde = 'true',\n",
    "        #stat = 'probability'\n",
    "    )"
   ]
  },
  {
   "cell_type": "markdown",
   "id": "9a369e9d-0115-4b43-bb97-8e29516d5903",
   "metadata": {},
   "source": [
    "Incluso después de la eliminación de outliers, vemos que las distribuciones están fuertemente sesgadas a la derecha y los valores están muy dispersos respecto a su media. Eso quiere decir que los las cantidades altas de clientes, dispositivos y transacciones se encuentran concentradas en pocos barrios. Identificarlos también es importante para el análisis.\n",
    "\n",
    "En este caso de sesgo en los datos, la variable que más nos puede servir para comprender el comportamiento normal de las variables es la mediana."
   ]
  },
  {
   "cell_type": "code",
   "execution_count": 195,
   "id": "8f03022e-a2f1-4dde-95e8-59424221be61",
   "metadata": {},
   "outputs": [
    {
     "data": {
      "text/plain": [
       "cant_dispositivos              58.00\n",
       "cant_clientes                  58.00\n",
       "cant_trx                      168.00\n",
       "mnt_total_trx       7,651,771,673.00\n",
       "dtype: float64"
      ]
     },
     "execution_count": 195,
     "metadata": {},
     "output_type": "execute_result"
    }
   ],
   "source": [
    "df_barrios.median(numeric_only = True)"
   ]
  },
  {
   "cell_type": "markdown",
   "id": "82dd38eb-f542-4151-a1ad-11aa65e4dff4",
   "metadata": {},
   "source": [
    "Teniendo en cuenta esto, podemos decir que un comportamiento esperado por barrio promedio en Cali es que tenga 58 clientes, misma cantidad de dispositivo, 168 transacciones y un movimiento de 7.6 billones de pesos en el lapso analizado. No obstante, dado que la densidad de los barrios puede difererir en gran medida, estas cantidades pueden verse muy alteradas."
   ]
  },
  {
   "cell_type": "markdown",
   "id": "3419d989-ea15-49d9-bd16-155ccfcdd1e8",
   "metadata": {},
   "source": [
    "**2.3.2 Análisis Multivariado**"
   ]
  },
  {
   "cell_type": "markdown",
   "id": "27191bf3-b28e-4619-9f83-aa0c4007d5dd",
   "metadata": {},
   "source": [
    "Saber cómo se relacionan las variables entre sí nos permitirá entender más a fondo el comportamiento de los datos y definir variables para asignar categorías y segregar los barrios con fines estratégicos sin redundar en los procesos."
   ]
  },
  {
   "cell_type": "code",
   "execution_count": 206,
   "id": "1cdb218c-1d2f-4367-97a7-91cb6688cd51",
   "metadata": {},
   "outputs": [
    {
     "data": {
      "text/plain": [
       "<seaborn.matrix.ClusterGrid at 0x7fb154974fa0>"
      ]
     },
     "execution_count": 206,
     "metadata": {},
     "output_type": "execute_result"
    },
    {
     "data": {
      "image/png": "[encoded data removed]",
      "text/plain": [
       "<Figure size 1000x1000 with 4 Axes>"
      ]
     },
     "metadata": {},
     "output_type": "display_data"
    }
   ],
   "source": [
    "(\n",
    "    sns.clustermap(\n",
    "        data = df_barrios.corr(),\n",
    "        annot = True\n",
    "    )\n",
    ")"
   ]
  },
  {
   "cell_type": "code",
   "execution_count": 209,
   "id": "d2129209-7c0e-4dbe-8437-3b12d36b4cd5",
   "metadata": {},
   "outputs": [
    {
     "data": {
      "text/html": [
       "<div>\n",
       "<style scoped>\n",
       "    .dataframe tbody tr th:only-of-type {\n",
       "        vertical-align: middle;\n",
       "    }\n",
       "\n",
       "    .dataframe tbody tr th {\n",
       "        vertical-align: top;\n",
       "    }\n",
       "\n",
       "    .dataframe thead th {\n",
       "        text-align: right;\n",
       "    }\n",
       "</style>\n",
       "<table border=\"1\" class=\"dataframe\">\n",
       "  <thead>\n",
       "    <tr style=\"text-align: right;\">\n",
       "      <th></th>\n",
       "      <th>cant_dispositivos</th>\n",
       "      <th>cant_clientes</th>\n",
       "      <th>cant_trx</th>\n",
       "      <th>mnt_total_trx</th>\n",
       "    </tr>\n",
       "  </thead>\n",
       "  <tbody>\n",
       "    <tr>\n",
       "      <th>cant_dispositivos</th>\n",
       "      <td>1.00</td>\n",
       "      <td>1.00</td>\n",
       "      <td>0.98</td>\n",
       "      <td>0.55</td>\n",
       "    </tr>\n",
       "    <tr>\n",
       "      <th>cant_clientes</th>\n",
       "      <td>1.00</td>\n",
       "      <td>1.00</td>\n",
       "      <td>0.98</td>\n",
       "      <td>0.55</td>\n",
       "    </tr>\n",
       "    <tr>\n",
       "      <th>cant_trx</th>\n",
       "      <td>0.98</td>\n",
       "      <td>0.98</td>\n",
       "      <td>1.00</td>\n",
       "      <td>0.56</td>\n",
       "    </tr>\n",
       "    <tr>\n",
       "      <th>mnt_total_trx</th>\n",
       "      <td>0.55</td>\n",
       "      <td>0.55</td>\n",
       "      <td>0.56</td>\n",
       "      <td>1.00</td>\n",
       "    </tr>\n",
       "  </tbody>\n",
       "</table>\n",
       "</div>"
      ],
      "text/plain": [
       "                   cant_dispositivos  cant_clientes  cant_trx  mnt_total_trx\n",
       "cant_dispositivos               1.00           1.00      0.98           0.55\n",
       "cant_clientes                   1.00           1.00      0.98           0.55\n",
       "cant_trx                        0.98           0.98      1.00           0.56\n",
       "mnt_total_trx                   0.55           0.55      0.56           1.00"
      ]
     },
     "execution_count": 209,
     "metadata": {},
     "output_type": "execute_result"
    }
   ],
   "source": [
    "#En cifras\n",
    "\n",
    "df_barrios.corr()"
   ]
  },
  {
   "cell_type": "markdown",
   "id": "b2b9d23a-4f2d-43b9-9d9f-65c307c62f80",
   "metadata": {},
   "source": [
    "Tal como podemos observar, hay variables fuertemente relacionadas como la cantidad de clientes con la cantidad de transacciones y, a su vez, con la cantidad de dispositivos. Podemos ver esto más en detalle en los siguientes gráficos."
   ]
  },
  {
   "cell_type": "code",
   "execution_count": 216,
   "id": "f028a886-5e85-4e1e-8626-f56dd85cde91",
   "metadata": {},
   "outputs": [
    {
     "data": {
      "text/plain": [
       "<seaborn.axisgrid.FacetGrid at 0x7fb1558c3610>"
      ]
     },
     "execution_count": 216,
     "metadata": {},
     "output_type": "execute_result"
    },
    {
     "data": {
      "image/png": "[encoded data removed]",
      "text/plain": [
       "<Figure size 500x500 with 1 Axes>"
      ]
     },
     "metadata": {},
     "output_type": "display_data"
    }
   ],
   "source": [
    "(\n",
    "    sns.lmplot(\n",
    "        data = df_barrios,\n",
    "        x = 'cant_clientes',\n",
    "        y = 'cant_trx',\n",
    "    )\n",
    ")"
   ]
  },
  {
   "cell_type": "code",
   "execution_count": 218,
   "id": "856500c6-18f8-4d86-b999-0e6a6e49c174",
   "metadata": {},
   "outputs": [
    {
     "data": {
      "text/plain": [
       "<seaborn.axisgrid.FacetGrid at 0x7fb155690310>"
      ]
     },
     "execution_count": 218,
     "metadata": {},
     "output_type": "execute_result"
    },
    {
     "data": {
      "image/png": "[encoded data removed]",
      "text/plain": [
       "<Figure size 500x500 with 1 Axes>"
      ]
     },
     "metadata": {},
     "output_type": "display_data"
    }
   ],
   "source": [
    "(\n",
    "    sns.lmplot(\n",
    "        data = df_barrios,\n",
    "        x = 'cant_clientes',\n",
    "        y = 'cant_dispositivos'    \n",
    "    )\n",
    ")"
   ]
  },
  {
   "cell_type": "code",
   "execution_count": 223,
   "id": "827d7e59-e302-4045-917c-cbaa8783f17c",
   "metadata": {},
   "outputs": [
    {
     "data": {
      "text/plain": [
       "<seaborn.axisgrid.FacetGrid at 0x7fb15555db80>"
      ]
     },
     "execution_count": 223,
     "metadata": {},
     "output_type": "execute_result"
    },
    {
     "data": {
      "image/png": "[encoded data removed]",
      "text/plain": [
       "<Figure size 500x500 with 1 Axes>"
      ]
     },
     "metadata": {},
     "output_type": "display_data"
    }
   ],
   "source": [
    "(\n",
    "    sns.lmplot(\n",
    "        data = df_barrios,\n",
    "        x = 'cant_clientes',\n",
    "        y = 'mnt_total_trx'\n",
    "    )\n",
    ")"
   ]
  },
  {
   "cell_type": "markdown",
   "id": "ac9dc860-914a-4760-b13f-cab35376537d",
   "metadata": {},
   "source": [
    "Tal como podemos observar, confirmamos que la variable que mide el monto total de las transacciones no muestra una correlación con la cantidad de clientes y, por lo tanto, tampoco con la cantidad de transacciones y/o dispositivos."
   ]
  },
  {
   "cell_type": "markdown",
   "id": "715e4328-91d1-41e4-a97c-33f885c19ef7",
   "metadata": {},
   "source": [
    "Podemos observar el resumen gráfico:"
   ]
  },
  {
   "cell_type": "code",
   "execution_count": 192,
   "id": "27a46a31-9e31-495f-914e-39f7440a01cf",
   "metadata": {},
   "outputs": [
    {
     "data": {
      "text/plain": [
       "<seaborn.axisgrid.PairGrid at 0x7fb167496790>"
      ]
     },
     "execution_count": 192,
     "metadata": {},
     "output_type": "execute_result"
    },
    {
     "data": {
      "image/png": "[encoded data removed]",
      "text/plain": [
       "<Figure size 1174x1000 with 20 Axes>"
      ]
     },
     "metadata": {},
     "output_type": "display_data"
    }
   ],
   "source": [
    "(\n",
    "    sns.pairplot(\n",
    "        data = df_barrios,\n",
    "        hue = 'canal_mayoritario', \n",
    "        palette = colores_nequi\n",
    "    )\n",
    ")"
   ]
  },
  {
   "cell_type": "markdown",
   "id": "0e6bd752-8984-47f2-823b-183c723d1c98",
   "metadata": {},
   "source": [
    "**2.3.3 Categorización de los barrios de acuerdo a actividad y planteamiento de estrategias**"
   ]
  },
  {
   "cell_type": "markdown",
   "id": "9b312978-0e60-4a54-82e8-130bcbe83c08",
   "metadata": {},
   "source": [
    "Segregar los barrios de acuerdo a su comportamiento en las transacciones nos puede servir para diseñar estrategias con enfoque territorial.\n",
    "\n",
    "Dado que la cantidad de clientes, cantidad de transacciones y la cantidad de dispositivos están altamente relacionados, tomaremos solo una de esas variables para asignar la categoría: **cantidad de clientes**. También tomaremos los **montos totales de las transacciones**.\n",
    "\n",
    "**Nota:** Dada la anomalía de los datos y la imposibilidad de fijar las categorías por cuartiles, se asignarán a criterio del analista."
   ]
  },
  {
   "cell_type": "code",
   "execution_count": 253,
   "id": "a0865faf-6317-4e02-a21f-d75b369d48d4",
   "metadata": {},
   "outputs": [
    {
     "data": {
      "text/html": [
       "<div>\n",
       "<style scoped>\n",
       "    .dataframe tbody tr th:only-of-type {\n",
       "        vertical-align: middle;\n",
       "    }\n",
       "\n",
       "    .dataframe tbody tr th {\n",
       "        vertical-align: top;\n",
       "    }\n",
       "\n",
       "    .dataframe thead th {\n",
       "        text-align: right;\n",
       "    }\n",
       "</style>\n",
       "<table border=\"1\" class=\"dataframe\">\n",
       "  <thead>\n",
       "    <tr style=\"text-align: right;\">\n",
       "      <th></th>\n",
       "      <th>nombre_barrio</th>\n",
       "      <th>cant_dispositivos</th>\n",
       "      <th>cant_clientes</th>\n",
       "      <th>canal_mayoritario</th>\n",
       "      <th>estrato_mayoritario</th>\n",
       "      <th>cant_trx</th>\n",
       "      <th>mnt_total_trx</th>\n",
       "      <th>cant_clientes_cat</th>\n",
       "    </tr>\n",
       "  </thead>\n",
       "  <tbody>\n",
       "    <tr>\n",
       "      <th>241</th>\n",
       "      <td>Sector Puente Del Comercio</td>\n",
       "      <td>20</td>\n",
       "      <td>20</td>\n",
       "      <td>corr_bancolombia</td>\n",
       "      <td>2</td>\n",
       "      <td>23</td>\n",
       "      <td>149,086,482.50</td>\n",
       "      <td>bajo</td>\n",
       "    </tr>\n",
       "    <tr>\n",
       "      <th>113</th>\n",
       "      <td>Jorge Zawadsky</td>\n",
       "      <td>14</td>\n",
       "      <td>14</td>\n",
       "      <td>caja_banco</td>\n",
       "      <td>3</td>\n",
       "      <td>14</td>\n",
       "      <td>7,927,307,662.00</td>\n",
       "      <td>bajo</td>\n",
       "    </tr>\n",
       "    <tr>\n",
       "      <th>71</th>\n",
       "      <td>El Cedro</td>\n",
       "      <td>2392</td>\n",
       "      <td>2392</td>\n",
       "      <td>corr_bancolombia</td>\n",
       "      <td>4</td>\n",
       "      <td>7066</td>\n",
       "      <td>286,137,091,399.00</td>\n",
       "      <td>alto</td>\n",
       "    </tr>\n",
       "    <tr>\n",
       "      <th>67</th>\n",
       "      <td>Desepaz Invicali</td>\n",
       "      <td>63</td>\n",
       "      <td>63</td>\n",
       "      <td>caja_banco</td>\n",
       "      <td>1</td>\n",
       "      <td>306</td>\n",
       "      <td>111,054,974,585.00</td>\n",
       "      <td>bajo</td>\n",
       "    </tr>\n",
       "    <tr>\n",
       "      <th>20</th>\n",
       "      <td>Area En Desarrollo Parque Del Amor</td>\n",
       "      <td>459</td>\n",
       "      <td>459</td>\n",
       "      <td>corr_bancolombia</td>\n",
       "      <td>5</td>\n",
       "      <td>1521</td>\n",
       "      <td>29,642,001,412.00</td>\n",
       "      <td>medio</td>\n",
       "    </tr>\n",
       "  </tbody>\n",
       "</table>\n",
       "</div>"
      ],
      "text/plain": [
       "                          nombre_barrio  cant_dispositivos  cant_clientes  \\\n",
       "241          Sector Puente Del Comercio                 20             20   \n",
       "113                      Jorge Zawadsky                 14             14   \n",
       "71                             El Cedro               2392           2392   \n",
       "67                     Desepaz Invicali                 63             63   \n",
       "20   Area En Desarrollo Parque Del Amor                459            459   \n",
       "\n",
       "    canal_mayoritario estrato_mayoritario  cant_trx      mnt_total_trx  \\\n",
       "241  corr_bancolombia                   2        23     149,086,482.50   \n",
       "113        caja_banco                   3        14   7,927,307,662.00   \n",
       "71   corr_bancolombia                   4      7066 286,137,091,399.00   \n",
       "67         caja_banco                   1       306 111,054,974,585.00   \n",
       "20   corr_bancolombia                   5      1521  29,642,001,412.00   \n",
       "\n",
       "    cant_clientes_cat  \n",
       "241              bajo  \n",
       "113              bajo  \n",
       "71               alto  \n",
       "67               bajo  \n",
       "20              medio  "
      ]
     },
     "execution_count": 253,
     "metadata": {},
     "output_type": "execute_result"
    }
   ],
   "source": [
    "categorias = ['bajo', 'medio', 'alto']\n",
    "df_barrios['cant_clientes_cat'] = pd.Categorical(df_barrios['cant_clientes'], categories=categorias, ordered=True)\n",
    "\n",
    "cond_bajo = df_barrios.loc[:, 'cant_clientes'] < 100\n",
    "cond_medio = (df_barrios.loc[:, 'cant_clientes'] >= 100) & (df_barrios.loc[:, 'cant_clientes'] < 1000)\n",
    "cond_alto = df_barrios.loc[:, 'cant_clientes'] >= 1000\n",
    "\n",
    "df_barrios.loc[cond_bajo, 'cant_clientes_cat'] = 'bajo'\n",
    "df_barrios.loc[cond_medio, 'cant_clientes_cat'] = 'medio'\n",
    "df_barrios.loc[cond_alto, 'cant_clientes_cat'] = 'alto'\n",
    "\n",
    "df_barrios.sample(5)"
   ]
  },
  {
   "cell_type": "code",
   "execution_count": 258,
   "id": "c2615ebd-f500-49dd-905d-8139125a033a",
   "metadata": {},
   "outputs": [
    {
     "data": {
      "text/plain": [
       "<seaborn.axisgrid.FacetGrid at 0x7fb1547b6550>"
      ]
     },
     "execution_count": 258,
     "metadata": {},
     "output_type": "execute_result"
    },
    {
     "data": {
      "image/png": "[encoded data removed]",
      "text/plain": [
       "<Figure size 500x500 with 1 Axes>"
      ]
     },
     "metadata": {},
     "output_type": "display_data"
    }
   ],
   "source": [
    "(\n",
    "    sns.catplot(\n",
    "        data = df_barrios,\n",
    "        x = 'cant_clientes_cat',\n",
    "        kind = 'count'\n",
    "    )\n",
    ")"
   ]
  },
  {
   "cell_type": "markdown",
   "id": "ea1432bb-9905-4044-aba7-71b84b8e7430",
   "metadata": {},
   "source": [
    "Analizando las categorías asignadas de acuerdo al estrato socioeconómico:"
   ]
  },
  {
   "cell_type": "code",
   "execution_count": 257,
   "id": "be09e631-8fc7-46c7-8d9f-e8143cd6b5d4",
   "metadata": {},
   "outputs": [
    {
     "data": {
      "text/plain": [
       "<seaborn.axisgrid.FacetGrid at 0x7fb154a4aeb0>"
      ]
     },
     "execution_count": 257,
     "metadata": {},
     "output_type": "execute_result"
    },
    {
     "data": {
      "image/png": "[encoded data removed]",
      "text/plain": [
       "<Figure size 648.361x500 with 1 Axes>"
      ]
     },
     "metadata": {},
     "output_type": "display_data"
    }
   ],
   "source": [
    "(\n",
    "    sns.catplot(\n",
    "        data = df_barrios,\n",
    "        x = 'cant_clientes_cat',\n",
    "        kind = 'count',\n",
    "        hue = 'estrato_mayoritario'\n",
    "    )\n",
    ")"
   ]
  },
  {
   "cell_type": "markdown",
   "id": "95cf3c8f-0311-4649-99fd-c7145ed81dfd",
   "metadata": {},
   "source": [
    "**2.3.2 Estrategias propuestas**"
   ]
  }
 ],
 "metadata": {
  "kernelspec": {
   "display_name": "Python 3 (ipykernel)",
   "language": "python",
   "name": "python3"
  },
  "language_info": {
   "codemirror_mode": {
    "name": "ipython",
    "version": 3
   },
   "file_extension": ".py",
   "mimetype": "text/x-python",
   "name": "python",
   "nbconvert_exporter": "python",
   "pygments_lexer": "ipython3",
   "version": "3.9.13"
  },
  "vscode": {
   "interpreter": {
    "hash": "c7dc04c5cb7182d9747320e4dab81082122b6410d56c6a5deb042ba20d92270c"
   }
  }
 },
 "nbformat": 4,
 "nbformat_minor": 5
}

{
 "cells": [
  {
   "cell_type": "markdown",
   "id": "dd0bad8c",
   "metadata": {},
   "source": [
    "# Prueba Tecnica\n",
    "\n",
    "    Para poder realizar cada uno de los numerales deberas buscar una relacion entre las 2 tablas para consolidarlas en una sola. Posterior a esto podras empezar con la solucion de los puntos\n",
    "\n",
    "    Nota:  \n",
    "    - El punto A y B los debes solucionar tanto en Sql como python. El punto C lo podras realizar con el lenguaje de tu preferencia\n",
    "    - para obtener las bases de datos solo deberas ejecutar el bloque de codigo llamado 'DATA' en caso de un error puedes pedir ayuda"
   ]
  },
  {
   "cell_type": "markdown",
   "id": "6d171056",
   "metadata": {},
   "source": [
    "# Data"
   ]
  },
  {
   "cell_type": "code",
   "execution_count": 1,
   "id": "4c83a4a1",
   "metadata": {},
   "outputs": [],
   "source": [
    "import pandas as pd\n",
    "from os import path\n",
    "\n",
    "df_barrios = pd.read_csv(path.join('Bases_insumo','barrios.csv')) \n",
    "df_clientes = pd.read_csv(path.join('Bases_insumo','clientes.csv')) "
   ]
  },
  {
   "cell_type": "code",
   "execution_count": 2,
   "id": "dd91436a",
   "metadata": {},
   "outputs": [
    {
     "data": {
      "text/html": [
       "<div>\n",
       "<style scoped>\n",
       "    .dataframe tbody tr th:only-of-type {\n",
       "        vertical-align: middle;\n",
       "    }\n",
       "\n",
       "    .dataframe tbody tr th {\n",
       "        vertical-align: top;\n",
       "    }\n",
       "\n",
       "    .dataframe thead th {\n",
       "        text-align: right;\n",
       "    }\n",
       "</style>\n",
       "<table border=\"1\" class=\"dataframe\">\n",
       "  <thead>\n",
       "    <tr style=\"text-align: right;\">\n",
       "      <th></th>\n",
       "      <th>codigo</th>\n",
       "      <th>nombre</th>\n",
       "    </tr>\n",
       "  </thead>\n",
       "  <tbody>\n",
       "    <tr>\n",
       "      <th>0</th>\n",
       "      <td>737998257</td>\n",
       "      <td>La Campina</td>\n",
       "    </tr>\n",
       "    <tr>\n",
       "      <th>1</th>\n",
       "      <td>737999435</td>\n",
       "      <td>Guayaquil</td>\n",
       "    </tr>\n",
       "    <tr>\n",
       "      <th>2</th>\n",
       "      <td>737998219</td>\n",
       "      <td>Vipasa</td>\n",
       "    </tr>\n",
       "    <tr>\n",
       "      <th>3</th>\n",
       "      <td>737996837</td>\n",
       "      <td>Lourdes</td>\n",
       "    </tr>\n",
       "    <tr>\n",
       "      <th>4</th>\n",
       "      <td>737997031</td>\n",
       "      <td>Villanueva</td>\n",
       "    </tr>\n",
       "    <tr>\n",
       "      <th>...</th>\n",
       "      <td>...</td>\n",
       "      <td>...</td>\n",
       "    </tr>\n",
       "    <tr>\n",
       "      <th>332</th>\n",
       "      <td>737998799</td>\n",
       "      <td>Ignacio Rengifo</td>\n",
       "    </tr>\n",
       "    <tr>\n",
       "      <th>333</th>\n",
       "      <td>738000408</td>\n",
       "      <td>Prados del Limonar</td>\n",
       "    </tr>\n",
       "    <tr>\n",
       "      <th>334</th>\n",
       "      <td>737998040</td>\n",
       "      <td>Pizamos III-Las Dalias</td>\n",
       "    </tr>\n",
       "    <tr>\n",
       "      <th>335</th>\n",
       "      <td>737998078</td>\n",
       "      <td>Brisas de Mayo</td>\n",
       "    </tr>\n",
       "    <tr>\n",
       "      <th>336</th>\n",
       "      <td>737998035</td>\n",
       "      <td>Ciudadela del Río</td>\n",
       "    </tr>\n",
       "  </tbody>\n",
       "</table>\n",
       "<p>337 rows × 2 columns</p>\n",
       "</div>"
      ],
      "text/plain": [
       "        codigo                  nombre\n",
       "0    737998257              La Campina\n",
       "1    737999435               Guayaquil\n",
       "2    737998219                  Vipasa\n",
       "3    737996837                 Lourdes\n",
       "4    737997031              Villanueva\n",
       "..         ...                     ...\n",
       "332  737998799         Ignacio Rengifo\n",
       "333  738000408      Prados del Limonar\n",
       "334  737998040  Pizamos III-Las Dalias\n",
       "335  737998078          Brisas de Mayo\n",
       "336  737998035       Ciudadela del Río\n",
       "\n",
       "[337 rows x 2 columns]"
      ]
     },
     "execution_count": 2,
     "metadata": {},
     "output_type": "execute_result"
    }
   ],
   "source": []
  },
  {
   "cell_type": "markdown",
   "id": "49913285",
   "metadata": {},
   "source": [
    "# Punto a\n",
    "\n",
    "* Generar el listado de clientes con transacciones en 5 o más barrios."
   ]
  },
  {
   "cell_type": "markdown",
   "id": "6107818a",
   "metadata": {},
   "source": [
    "# Punto b\n",
    "\n",
    "* ¿Cuáles son los 6 barrios donde la mayor cantidad de clientes únicos realizan transacciones en\n",
    "dispositivos tipo PAC? La respuesta debe incluir la cantidad de clientes únicos asociados a estos\n",
    "barrios.\n"
   ]
  },
  {
   "cell_type": "markdown",
   "id": "80ddf155",
   "metadata": {},
   "source": [
    "# Punto c\n",
    "\n",
    "Realizar un analisis exploratorio de los datos  y que conclusiones puede sacar de dicho analisis. "
   ]
  }
 ],
 "metadata": {
  "kernelspec": {
   "display_name": "Python 3 (ipykernel)",
   "language": "python",
   "name": "python3"
  },
  "language_info": {
   "codemirror_mode": {
    "name": "ipython",
    "version": 3
   },
   "file_extension": ".py",
   "mimetype": "text/x-python",
   "name": "python",
   "nbconvert_exporter": "python",
   "pygments_lexer": "ipython3",
   "version": "3.9.7"
  },
  "vscode": {
   "interpreter": {
    "hash": "c7dc04c5cb7182d9747320e4dab81082122b6410d56c6a5deb042ba20d92270c"
   }
  }
 },
 "nbformat": 4,
 "nbformat_minor": 5
}
